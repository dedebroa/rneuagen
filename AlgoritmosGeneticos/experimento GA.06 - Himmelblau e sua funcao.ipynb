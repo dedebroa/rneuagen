{
 "cells": [
  {
   "cell_type": "markdown",
   "id": "7228b0fa-14a2-4fe4-82f0-04e80fe8e55b",
   "metadata": {
    "tags": []
   },
   "source": [
    "## A FUNÇÃO DE HIMMELBLAU"
   ]
  },
  {
   "cell_type": "markdown",
   "id": "02e97ba2-05e0-44d3-a705-6e6c6ada7b98",
   "metadata": {},
   "source": [
    "<hr>"
   ]
  },
  {
   "cell_type": "markdown",
   "id": "660c69d3-801d-42e7-b42f-1dbb6866a4ba",
   "metadata": {},
   "source": [
    "## Introdução"
   ]
  },
  {
   "cell_type": "markdown",
   "id": "bd9360ef-5089-4717-a2f2-c0a358f09ccd",
   "metadata": {},
   "source": [
    "<div style=' text-align: justify; text-justify: inter-word;'>\n",
    "A função de Himmelblau é uma função matemática definida no espaço bidimensional (x, y) costumeiramente aplicada em contextos de otimização de problemas, visando analisar a performance dos algoritmos em uso.Ela é definida como uma função multi-modal, contínua, não-separável (não é uma função de duas variáveis que pode ser separada em duas funções de uma variável e não-convexa (ou seja, possui vários pontos mínimos, locais e globais) [1, 2, 3]. Sabe-se também que ela possui um máximo local (-0.270845, -0.923039) e quatro mínimos locais, todos com coordenadas distintas mas com f(x, y) = 0 [4].\n",
    "Por último, mas não menos importante, cabe mencionar que a fórmula dessa função é apresentada a seguir, seguida por sua representação de maneira gráfica na Imagem 01:\n",
    "$$\n",
    "f(x,y) = (x^2 +y -11)^2 + (x + y^2 - 7)^2,\n",
    "$$</div>"
   ]
  },
  {
   "cell_type": "markdown",
   "id": "8d297a56-edde-41a6-bb48-3d063ce4b0ad",
   "metadata": {},
   "source": [
    "<center><img src=\"himmelblau.png\"/></center>\n",
    "</p>\n",
    "\n",
    "\n",
    "<center> Imagem 01: Função de Himmelblau, visualização gráfica. Autor: desconhecido [5]. </center>"
   ]
  },
  {
   "cell_type": "markdown",
   "id": "da7ce7ff-d18e-4949-b7b2-fcb27a061635",
   "metadata": {},
   "source": [
    "## Objetivo"
   ]
  },
  {
   "cell_type": "markdown",
   "id": "aa82b448-5f9a-48bc-92a3-f968c9de0c82",
   "metadata": {},
   "source": [
    "<justify>Sabendo dos diferentes pontos que podem ser encontrados para essa função, o objetivo da presente atividade consiste em encontrar, com auxílio de algoritmos genéticos, o ponto **MÍNIMO GLOBAL** para a função. Importante, queremos a **cordenada** $(x, y)$ desse ponto.</justify>"
   ]
  },
  {
   "cell_type": "markdown",
   "id": "d1469293-fb3e-4aba-962f-49145acc6644",
   "metadata": {},
   "source": [
    "## Importações"
   ]
  },
  {
   "cell_type": "markdown",
   "id": "b4008c11-3097-47fc-8241-78718137cc9d",
   "metadata": {},
   "source": [
    "Todos os comandos de import devem estar dentro desta seção."
   ]
  },
  {
   "cell_type": "code",
   "execution_count": null,
   "id": "446f9c99-45cb-4cbf-87ec-c7dc372d2e90",
   "metadata": {},
   "outputs": [],
   "source": []
  },
  {
   "cell_type": "markdown",
   "id": "7370aeab-f77d-43c7-8f07-991544103f88",
   "metadata": {},
   "source": [
    "## Códigos e discussão"
   ]
  },
  {
   "cell_type": "code",
   "execution_count": null,
   "id": "9b489e4f-83bb-4c64-a5a8-b1bc5f270f6d",
   "metadata": {},
   "outputs": [],
   "source": [
    "# lembrete mais importante de todos: é imprescíndivel utilizar algoritmos genéticos aqui\n",
    "# com base nisso, é importante pensarmos:\n",
    "## quem são os indivíduos? suponho que seja o ponto de mínimo global\n",
    "## quais sã as possibilidades para os genes? os valores de x e y, que compõem a coordenada\n",
    "\n",
    "# DÚVIDA: será que posso calcular o ponto de maneira tradicional\n",
    "## e a partir disso uso AG para gerar possibilidades que se aproximem do resultado desejado\n",
    "### como fizemos no problema das senhas\n",
    "\n"
   ]
  },
  {
   "cell_type": "markdown",
   "id": "1eea61ad-5db5-4a6c-a0b3-5d0a2e3b1de4",
   "metadata": {},
   "source": []
  },
  {
   "cell_type": "markdown",
   "id": "9b4fd7d8-d21d-4e50-8c5d-8fb7a9d461c8",
   "metadata": {},
   "source": [
    "## Conclusão"
   ]
  },
  {
   "cell_type": "markdown",
   "id": "03ee2497-cd49-41e5-be4e-34d0e32b2ad9",
   "metadata": {},
   "source": []
  },
  {
   "cell_type": "markdown",
   "id": "5f7665f5-ef13-4aa4-8eb5-fab83e412c67",
   "metadata": {},
   "source": [
    "## Referências"
   ]
  },
  {
   "cell_type": "markdown",
   "id": "98388508-9364-49c5-879b-d5b7668ecfb9",
   "metadata": {},
   "source": [
    "[1] INDUSMIC. **Himmelblau Function**. Disponível em: <https://www.indusmic.com/post/himmelblau-function>. \n",
    "<br>[2] Mathematics. **Separable and non-separable functions**. Diponível em: <https://math.stackexchange.com/questions/1186673/separable-and-non-separable-function>. \n",
    "<br>[3] Learning Monkey. **Convex Non-Convex Functions and Contour for Neural Network**. Disponível em: <https://www.youtube.com/watch?v=qyqZ3VlkzvI>. \n",
    "<br>[4] WIKIPEDIA. **Himmelblau's function**. Disponível em: <https://en.wikipedia.org/wiki/Himmelblau%27s_function>. \n",
    "<br>[5] Imagem 01. Disponível em: <https://static.wixstatic.com/media/40af5e_2bff1fbea4d74421ab26296ae44593d0~mv2.png/v1/fill/w_440,h_452,al_c,q_85,usm_0.66_1.00_0.01,enc_auto/40af5e_2bff1fbea4d74421ab26296ae44593d0~mv2.png>.\n"
   ]
  },
  {
   "cell_type": "markdown",
   "id": "bd08f5e8-8296-48fe-bcd8-219196fe5cad",
   "metadata": {},
   "source": [
    "## Playground"
   ]
  },
  {
   "cell_type": "code",
   "execution_count": null,
   "id": "5fdb1aec-7485-475e-8ca1-a7d9f87ee71b",
   "metadata": {},
   "outputs": [],
   "source": []
  }
 ],
 "metadata": {
  "kernelspec": {
   "display_name": "ilumpy",
   "language": "python",
   "name": "ilumpy"
  },
  "language_info": {
   "codemirror_mode": {
    "name": "ipython",
    "version": 3
   },
   "file_extension": ".py",
   "mimetype": "text/x-python",
   "name": "python",
   "nbconvert_exporter": "python",
   "pygments_lexer": "ipython3",
   "version": "3.9.7"
  }
 },
 "nbformat": 4,
 "nbformat_minor": 5
}
