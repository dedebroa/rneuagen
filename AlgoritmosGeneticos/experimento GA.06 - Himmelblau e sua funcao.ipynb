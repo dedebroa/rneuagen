{
 "cells": [
  {
   "cell_type": "markdown",
   "id": "7228b0fa-14a2-4fe4-82f0-04e80fe8e55b",
   "metadata": {
    "tags": []
   },
   "source": [
    "## A FUNÇÃO DE HIMMELBLAU"
   ]
  },
  {
   "cell_type": "markdown",
   "id": "02e97ba2-05e0-44d3-a705-6e6c6ada7b98",
   "metadata": {},
   "source": [
    "<hr>"
   ]
  },
  {
   "cell_type": "markdown",
   "id": "45ac3f76-2da4-4cf3-b700-e4b08a04ba04",
   "metadata": {},
   "source": [
    "Intruções na lista:\n",
    "<br>**Objetivo**: Encontre a coordenada $(x,y)$ do mínimo global da função de Himmelblau abaixo.\n",
    "\n",
    "$$\n",
    "f(x,y) = (x^2 +y -11)^2 + (x + y^2 - 7)^2\n",
    "$$"
   ]
  },
  {
   "cell_type": "markdown",
   "id": "660c69d3-801d-42e7-b42f-1dbb6866a4ba",
   "metadata": {},
   "source": [
    "## Introdução"
   ]
  },
  {
   "cell_type": "markdown",
   "id": "bd9360ef-5089-4717-a2f2-c0a358f09ccd",
   "metadata": {},
   "source": [
    "Delete este texto e escreva uma breve introdução sobre seu experimento."
   ]
  },
  {
   "cell_type": "markdown",
   "id": "da7ce7ff-d18e-4949-b7b2-fcb27a061635",
   "metadata": {},
   "source": [
    "## Objetivo"
   ]
  },
  {
   "cell_type": "markdown",
   "id": "aa82b448-5f9a-48bc-92a3-f968c9de0c82",
   "metadata": {},
   "source": [
    "Delete este texto e escreva seu objetivo."
   ]
  },
  {
   "cell_type": "markdown",
   "id": "d1469293-fb3e-4aba-962f-49145acc6644",
   "metadata": {},
   "source": [
    "## Importações"
   ]
  },
  {
   "cell_type": "markdown",
   "id": "b4008c11-3097-47fc-8241-78718137cc9d",
   "metadata": {},
   "source": [
    "Todos os comandos de import devem estar dentro desta seção."
   ]
  },
  {
   "cell_type": "code",
   "execution_count": null,
   "id": "446f9c99-45cb-4cbf-87ec-c7dc372d2e90",
   "metadata": {},
   "outputs": [],
   "source": []
  },
  {
   "cell_type": "markdown",
   "id": "7370aeab-f77d-43c7-8f07-991544103f88",
   "metadata": {},
   "source": [
    "## Códigos e discussão"
   ]
  },
  {
   "cell_type": "code",
   "execution_count": null,
   "id": "9b489e4f-83bb-4c64-a5a8-b1bc5f270f6d",
   "metadata": {},
   "outputs": [],
   "source": []
  },
  {
   "cell_type": "markdown",
   "id": "1eea61ad-5db5-4a6c-a0b3-5d0a2e3b1de4",
   "metadata": {},
   "source": []
  },
  {
   "cell_type": "markdown",
   "id": "9b4fd7d8-d21d-4e50-8c5d-8fb7a9d461c8",
   "metadata": {},
   "source": [
    "## Conclusão"
   ]
  },
  {
   "cell_type": "markdown",
   "id": "03ee2497-cd49-41e5-be4e-34d0e32b2ad9",
   "metadata": {},
   "source": []
  },
  {
   "cell_type": "markdown",
   "id": "5f7665f5-ef13-4aa4-8eb5-fab83e412c67",
   "metadata": {},
   "source": [
    "## Referências"
   ]
  },
  {
   "cell_type": "markdown",
   "id": "98388508-9364-49c5-879b-d5b7668ecfb9",
   "metadata": {},
   "source": [
    "Delete este texto e inclua suas referências ordenadas numericamente. Se for referenciar no notebook, use o número entre colchetes (exemplo: para citar essa referência aqui escreva “[1]” sem as áspas).\n",
    "\n",
    "Cada item deve ser numerado. Siga o padrão apresentado.\n",
    "\n",
    "Caso não tenha nenhuma referência consultada, delete esta seção e o texto contido nela!"
   ]
  },
  {
   "cell_type": "markdown",
   "id": "bd08f5e8-8296-48fe-bcd8-219196fe5cad",
   "metadata": {},
   "source": [
    "## Playground"
   ]
  },
  {
   "cell_type": "code",
   "execution_count": null,
   "id": "5fdb1aec-7485-475e-8ca1-a7d9f87ee71b",
   "metadata": {},
   "outputs": [],
   "source": []
  }
 ],
 "metadata": {
  "kernelspec": {
   "display_name": "ilumpy",
   "language": "python",
   "name": "ilumpy"
  },
  "language_info": {
   "codemirror_mode": {
    "name": "ipython",
    "version": 3
   },
   "file_extension": ".py",
   "mimetype": "text/x-python",
   "name": "python",
   "nbconvert_exporter": "python",
   "pygments_lexer": "ipython3",
   "version": "3.9.7"
  }
 },
 "nbformat": 4,
 "nbformat_minor": 5
}
