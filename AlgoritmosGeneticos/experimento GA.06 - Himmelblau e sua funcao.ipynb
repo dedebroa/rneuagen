{
 "cells": [
  {
   "cell_type": "markdown",
   "id": "7228b0fa-14a2-4fe4-82f0-04e80fe8e55b",
   "metadata": {
    "tags": []
   },
   "source": [
    "## A FUNÇÃO DE HIMMELBLAU"
   ]
  },
  {
   "cell_type": "markdown",
   "id": "02e97ba2-05e0-44d3-a705-6e6c6ada7b98",
   "metadata": {},
   "source": [
    "<hr>"
   ]
  },
  {
   "cell_type": "markdown",
   "id": "660c69d3-801d-42e7-b42f-1dbb6866a4ba",
   "metadata": {},
   "source": [
    "## Introdução"
   ]
  },
  {
   "cell_type": "markdown",
   "id": "bd9360ef-5089-4717-a2f2-c0a358f09ccd",
   "metadata": {},
   "source": [
    "**CONHECENDO A FUNÇÃO DE HIMMELBLAU**\n",
    "\n",
    "<div style=' text-align: justify; text-justify: inter-word;'>\n",
    "A função de Himmelblau é uma função matemática definida no espaço bidimensional (x, y) costumeiramente aplicada em contextos de otimização de problemas, visando analisar a performance dos algoritmos em uso.Ela é definida como uma função multi-modal, contínua, não-separável (não é uma função de duas variáveis que pode ser separada em duas funções de uma variável e não-convexa (ou seja, possui vários pontos mínimos, locais e globais) [1, 2, 3]. Sabe-se também que ela possui um máximo local (-0.270845, -0.923039) e quatro mínimos locais, todos com coordenadas distintas mas com f(x, y) = 0 [4].\n",
    "Por último, mas não menos importante, cabe mencionar que a fórmula dessa função é apresentada a seguir, seguida por sua representação de maneira gráfica na Imagem 01:\n",
    "$$\n",
    "f(x,y) = (x^2 +y -11)^2 + (x + y^2 - 7)^2,\n",
    "$$</div>"
   ]
  },
  {
   "cell_type": "markdown",
   "id": "8d297a56-edde-41a6-bb48-3d063ce4b0ad",
   "metadata": {},
   "source": [
    "<center><img src=\"himmelblau.png\"/></center>\n",
    "</p>\n",
    "\n",
    "\n",
    "<center> Imagem 01: Função de Himmelblau, visualização gráfica. Autor: desconhecido [5]. </center>"
   ]
  },
  {
   "cell_type": "markdown",
   "id": "3dbb5bfd-b052-4aa7-8f6a-07f849485264",
   "metadata": {},
   "source": [
    "**SOBRE CALCULAR O MÍNIMO DA FUNÇÃO**\n",
    "\n",
    "<justify>Máximos e mínimos globais de uma função podem ser calculados com diferentes recursos, como gradiente e funções matemáticas mais simples.</justify>"
   ]
  },
  {
   "cell_type": "markdown",
   "id": "da7ce7ff-d18e-4949-b7b2-fcb27a061635",
   "metadata": {},
   "source": [
    "## Objetivo"
   ]
  },
  {
   "cell_type": "markdown",
   "id": "aa82b448-5f9a-48bc-92a3-f968c9de0c82",
   "metadata": {},
   "source": [
    "> <justify>Sabendo dos diferentes pontos que podem ser encontrados para essa função, o objetivo da presente atividade consiste em encontrar, com auxílio de algoritmos genéticos, o ponto **MÍNIMO GLOBAL** para a função. Importante, queremos a **cordenada** $(x, y)$ desse ponto.</justify>"
   ]
  },
  {
   "cell_type": "markdown",
   "id": "5dbf57a6-b56d-475c-9482-d301a724eb8b",
   "metadata": {},
   "source": [
    "> <hr>"
   ]
  },
  {
   "cell_type": "markdown",
   "id": "d1469293-fb3e-4aba-962f-49145acc6644",
   "metadata": {},
   "source": [
    "## Importações"
   ]
  },
  {
   "cell_type": "markdown",
   "id": "b4008c11-3097-47fc-8241-78718137cc9d",
   "metadata": {},
   "source": [
    "Todos os comandos de import devem estar dentro desta seção."
   ]
  },
  {
   "cell_type": "code",
   "execution_count": 4,
   "id": "446f9c99-45cb-4cbf-87ec-c7dc372d2e90",
   "metadata": {},
   "outputs": [],
   "source": [
    "import math\n",
    "import numpy as np"
   ]
  },
  {
   "cell_type": "markdown",
   "id": "54259435-a657-4946-9781-090e19c551b0",
   "metadata": {},
   "source": [
    "> <hr>"
   ]
  },
  {
   "cell_type": "markdown",
   "id": "c8df8758-977e-42ca-b90b-1fe3fa1ea1fe",
   "metadata": {},
   "source": [
    "**COMO O PROBLEMA TEM SIDO RESOLVIDO (SEM ALGORITMOS GENÉTICOS)?**\n",
    "<br> Como essa ainda não é a versão final do notebook, vou reunir algumas resoluções do problema aqui (que não usem algoritmos genéticos). Provavelmente não as usarei, mas considero interessante para ver como outras pessoas têm lidado com ele/olhado para ele:"
   ]
  },
  {
   "cell_type": "code",
   "execution_count": 5,
   "id": "7ef26030-4abd-43d3-aeee-9b46ec37fbc8",
   "metadata": {},
   "outputs": [],
   "source": [
    "# Autor: RIYA SHIVHARE\n",
    "# Link: https://www.indusmic.com/post/himmelblau-function\n",
    "\n",
    "def f(x,y): # definindo a função matematicamente\n",
    "       return (((x**2+y-11)**2) + (((x+y**2-7)**2)))\n",
    "\n",
    "X=np.linspace(-6,6)\n",
    "Y=np.linspace(-6,6)\n",
    "# 'linspace' cria um arranjo unidimensional de números uniformemente espaçados entre o limite estabelecido (igual nos dois casos)\n",
    "\n",
    "x,y=np.meshgrid(X,Y)\n",
    "F=f(x,y)\n",
    "# ´meshgrid' transforma em matriz \n",
    "    # meu deus do céu para que matriz aqui\n",
    "\n",
    "# retirei as partes que estavam plotando o gráfico, porque não é o que me interessa logo de cara"
   ]
  },
  {
   "cell_type": "markdown",
   "id": "7370aeab-f77d-43c7-8f07-991544103f88",
   "metadata": {},
   "source": [
    "## Códigos e discussão"
   ]
  },
  {
   "cell_type": "code",
   "execution_count": null,
   "id": "200daa14-f251-4eef-9a7a-25145a695f44",
   "metadata": {},
   "outputs": [],
   "source": [
    "# DÚVIDA: será que posso calcular o ponto de maneira tradicional\n",
    "## e a partir disso uso AG para gerar possibilidades que se aproximem do resultado desejado\n",
    "### como fizemos no problema das senhas"
   ]
  },
  {
   "cell_type": "markdown",
   "id": "1d30df51-af5d-43a3-91ea-a466aac84b56",
   "metadata": {},
   "source": [
    "<div style=' text-align: justify; text-justify: inter-word;'> \n",
    "    Darei início à discussão do presente experimento suscitando o eterno lembrete que insiste em se esconder nas reentrâncias do meu cérebro: os experimentos desenvolvidos dentro da aba de algoritmos genéticos precisam, necessariamente, ser resolvidos por algoritmos genéticos. Com base nisso, algumas perguntas são fundamentais: quem são os indivíduos? Quais são as possibilidades de genes? Se trata de um problema de maximização ou minimização?"
   ]
  },
  {
   "cell_type": "markdown",
   "id": "73c38201-f0b2-4425-b85b-6dfad1388f43",
   "metadata": {},
   "source": [
    "<div style=' text-align: justify; text-justify: inter-word;'> Como reflexão inicial, vou tentar já responder essas perguntas.\n",
    "\n",
    "> Inicialmente, acredito que os indivíduos são os pontos de mínimo global;\n",
    "    \n",
    "> Por sua vez, as possibilidades para os genes são os valores de x e y, que compõem a coordenada.\n",
    "    \n",
    "> Acredito que se trata de um problema de minimização, já que estamos em busca do ponto de mínimo global."
   ]
  },
  {
   "cell_type": "markdown",
   "id": "eb298590-0932-46e6-bbdd-39b01a489f6e",
   "metadata": {},
   "source": [
    "#### CRIANDO UMA LINHA DE RACIOCÍNIO:\n",
    "<div style=' text-align: justify; text-justify: inter-word;'> \n",
    "  <br> 1. Preciso definir os genes;\n",
    "  <br>  2. Preciso definir os indivíduos;\n",
    "  <br>  3. Preciso definir a população (não esquecer a população);\n",
    "  <br>  4. Preciso estruturar a seleção: a) Quais critérios vou utilizar?\n",
    "  <br>  5. Preciso estruturar o cruzamento: a) Quais critérios serão levados em conta?\n",
    "  <br>  6. Preciso estruturar a mutação: a) Quais critérios considerar?\n",
    "    \n",
    "<br>Observações: no final das contas, preciso que o indivíduo escolhido apresente a combinação mais inferior de coordenadas possível (precisa ser o ponto mais 'baixo' da função) = lembrar quais metodologias de seleção que já fizemos não foram feitas de acordo com um problema de minimização;\n"
   ]
  },
  {
   "cell_type": "code",
   "execution_count": 2,
   "id": "dc791fc2-ee25-4b8f-86e7-1e6ffb63723e",
   "metadata": {},
   "outputs": [],
   "source": [
    "# escreverei todas as funções aqui antes de passar para o documento 'funcoes.py'\n",
    "\n",
    "def himmelblau(x, y):\n",
    "    a = ((x)**2 + y - 11)**2\n",
    "    b = (x + (y)**2 - 7)**2\n",
    "    return a + b\n",
    "\n",
    "def gene\n",
    "\n",
    "def populacao_hmb\n",
    "\n",
    "def "
   ]
  },
  {
   "cell_type": "markdown",
   "id": "1eea61ad-5db5-4a6c-a0b3-5d0a2e3b1de4",
   "metadata": {},
   "source": [
    "> <hr>"
   ]
  },
  {
   "cell_type": "markdown",
   "id": "9b4fd7d8-d21d-4e50-8c5d-8fb7a9d461c8",
   "metadata": {
    "tags": []
   },
   "source": [
    "## Conclusão"
   ]
  },
  {
   "cell_type": "markdown",
   "id": "03ee2497-cd49-41e5-be4e-34d0e32b2ad9",
   "metadata": {},
   "source": []
  },
  {
   "cell_type": "markdown",
   "id": "6b052c26-93f4-4adf-9692-45859f7ac4f3",
   "metadata": {},
   "source": [
    "<hr>"
   ]
  },
  {
   "cell_type": "markdown",
   "id": "5f7665f5-ef13-4aa4-8eb5-fab83e412c67",
   "metadata": {},
   "source": [
    "## Referências"
   ]
  },
  {
   "cell_type": "markdown",
   "id": "98388508-9364-49c5-879b-d5b7668ecfb9",
   "metadata": {},
   "source": [
    "[1] INDUSMIC. **Himmelblau Function**. Disponível em: <https://www.indusmic.com/post/himmelblau-function>. \n",
    "<br>[2] Mathematics. **Separable and non-separable functions**. Diponível em: <https://math.stackexchange.com/questions/1186673/separable-and-non-separable-function>. \n",
    "<br>[3] Learning Monkey. **Convex Non-Convex Functions and Contour for Neural Network**. Disponível em: <https://www.youtube.com/watch?v=qyqZ3VlkzvI>. \n",
    "<br>[4] WIKIPEDIA. **Himmelblau's function**. Disponível em: <https://en.wikipedia.org/wiki/Himmelblau%27s_function>. \n",
    "<br>[5] Imagem 01. Disponível em: <https://static.wixstatic.com/media/40af5e_2bff1fbea4d74421ab26296ae44593d0~mv2.png/v1/fill/w_440,h_452,al_c,q_85,usm_0.66_1.00_0.01,enc_auto/40af5e_2bff1fbea4d74421ab26296ae44593d0~mv2.png>.\n"
   ]
  },
  {
   "cell_type": "markdown",
   "id": "bd08f5e8-8296-48fe-bcd8-219196fe5cad",
   "metadata": {},
   "source": [
    "## Playground"
   ]
  },
  {
   "cell_type": "code",
   "execution_count": null,
   "id": "5fdb1aec-7485-475e-8ca1-a7d9f87ee71b",
   "metadata": {},
   "outputs": [],
   "source": []
  }
 ],
 "metadata": {
  "kernelspec": {
   "display_name": "ilumpy",
   "language": "python",
   "name": "ilumpy"
  },
  "language_info": {
   "codemirror_mode": {
    "name": "ipython",
    "version": 3
   },
   "file_extension": ".py",
   "mimetype": "text/x-python",
   "name": "python",
   "nbconvert_exporter": "python",
   "pygments_lexer": "ipython3",
   "version": "3.9.7"
  }
 },
 "nbformat": 4,
 "nbformat_minor": 5
}
