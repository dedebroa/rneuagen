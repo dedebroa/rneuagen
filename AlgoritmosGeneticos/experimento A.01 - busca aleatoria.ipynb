{
 "cells": [
  {
   "cell_type": "markdown",
   "id": "72cb3b04-ae9c-41ce-9790-f9add9066d6a",
   "metadata": {
    "tags": []
   },
   "source": [
    "Busca aleatória\n",
    "===============\n",
    "\n"
   ]
  },
  {
   "cell_type": "markdown",
   "id": "4f3eae19-53e3-4af3-9d1e-7c6862d5925e",
   "metadata": {},
   "source": [
    "<hr>\n",
    "<center> ATENÇÃO! \n",
    "    <br>No dia 16/03, fizemos uma alteração no notebook, passando todas as nossas funções para o arquivo 'funcoes.py'. Sendo assim, eu poderia simplesmente apagar essa célula aqui, mas por questões de organização e aprendizagem, prefiro manter as anotações. Portanto, elas estarão em formato de texto no final do notebook na seção nomeada \"Playground\".</center>\n",
    "<hr>"
   ]
  },
  {
   "cell_type": "markdown",
   "id": "198c6501-12f0-4ed1-b68a-ecee26c74192",
   "metadata": {},
   "source": [
    "## Introdução\n",
    "\n"
   ]
  },
  {
   "cell_type": "markdown",
   "id": "998d095b-3424-4143-a78b-813127d498c4",
   "metadata": {},
   "source": [
    "Uma forma simples de se encontrar uma solução para um `problema de otimização` é realizando uma `busca aleatória`. A busca aleatória, como o próprio nome sugere, é um algoritmo onde um certo `espaço de busca` é definido de onde sorteamos `candidatos` de soluções para o problema.\n",
    "\n",
    "Diferentemente de outros algoritmos de otimização, a busca aleatória não requer que a `função objetivo` seja diferenciável nem contínua.\n",
    "\n",
    "Um algoritmo de busca aleatória segue os seguintes passos:\n",
    "\n",
    "1.  Um espaço de busca é definido\n",
    "\n",
    "2.  Um candidato $x$ dentro do espaço de busca é sorteado aleatoriamente\n",
    "\n",
    "3.  Calculamos o resultado da função objetivo para o candidato $x$\n",
    "\n",
    "4.  Se o critério de parada for atingido, encerrar o algoritmo e retornar ao usuário o candidato que teve melhor resultado durante a busca. Do contrário, retorne ao passo 2\n",
    "\n"
   ]
  },
  {
   "cell_type": "markdown",
   "id": "633a6d16-cc42-4faf-b586-645ec6be0d2f",
   "metadata": {},
   "source": [
    "## Reflexões\n",
    "\n"
   ]
  },
  {
   "cell_type": "markdown",
   "id": "9bb8abd3-b549-4252-9200-07bb394f16f1",
   "metadata": {},
   "source": [
    "Você diria que o algoritmo de busca aleatória é determinístico ou probabilístico?\n",
    "\n",
    "Em quais problemas de otimização você acredita que este algoritmo seja uma boa escolha?\n",
    "\n",
    "Em quais problemas de otimização você acredita que este algoritmo seja uma má escolha?\n",
    "\n"
   ]
  },
  {
   "cell_type": "markdown",
   "id": "7285d002-928a-4119-a55d-bf3621f3d4ec",
   "metadata": {},
   "source": [
    "## Objetivo\n",
    "\n"
   ]
  },
  {
   "cell_type": "markdown",
   "id": "621817fc-e76c-43fa-9179-43a6b5b0b32c",
   "metadata": {},
   "source": [
    "Encontrar uma solução para o problema das caixas binárias usando o algoritmo de busca aleatória. Considere 4 caixas.\n",
    "\n"
   ]
  },
  {
   "cell_type": "markdown",
   "id": "770d3056-ea19-4211-bace-96acf4248e64",
   "metadata": {},
   "source": [
    "## Descrição do problema\n",
    "\n"
   ]
  },
  {
   "cell_type": "markdown",
   "id": "ab5cda43-149e-464f-b017-0a9df4fa100d",
   "metadata": {},
   "source": [
    "O problema das caixas binárias é simples: nós temos um certo número de caixas e cada uma pode conter um valor do conjunto $\\{0, 1\\}$. O objetivo é encontrar uma combinação de caixas onde a soma dos valores contidos dentro delas é máximo.\n",
    "\n",
    "Como todo problema computacional, um dos desafios é &ldquo;traduzir&rdquo; o problema dado em estruturas computacionais.\n",
    "\n"
   ]
  },
  {
   "cell_type": "markdown",
   "id": "2c13340c-2818-420d-ae44-3367d852960e",
   "metadata": {},
   "source": [
    "<hr>"
   ]
  },
  {
   "cell_type": "markdown",
   "id": "d60377db-8f6c-4760-a0a2-c12b637f5466",
   "metadata": {},
   "source": [
    "## Importações\n",
    "\n"
   ]
  },
  {
   "cell_type": "code",
   "execution_count": 1,
   "id": "84390ea8-65b3-47d1-8155-d18fdd6f1eb7",
   "metadata": {},
   "outputs": [],
   "source": [
    "#import random\n",
    "#alteração dia 16/03! random já está dentro do arquivo funcoes.py\n",
    "\n",
    "from funcoes import individuo_cb, funcao_objetivo\n",
    "#alterações dia 16/03\n",
    "#importando todas as funções escritas no dia 09 que passamos para o documento funcoes.py"
   ]
  },
  {
   "cell_type": "markdown",
   "id": "280f7a33-66d5-4869-8fc9-fcb140e9825d",
   "metadata": {},
   "source": [
    "## Códigos e discussão\n",
    "\n"
   ]
  },
  {
   "cell_type": "code",
   "execution_count": 6,
   "id": "2da704d4-0f83-4d8e-9351-c5e82387084a",
   "metadata": {},
   "outputs": [],
   "source": [
    "# CÓDIGO DO PROF. DR. DANIEL CASSAR\n",
    "\n",
    "# constantes\n",
    "\n",
    "N = 8 # sorteios\n",
    "# aqui, essa constante funciona mais como um hiperparâmetro do que como um número inteiro\n",
    "\n",
    "NUM_GENES = 4 #  corresponde ao número de caixas"
   ]
  },
  {
   "cell_type": "code",
   "execution_count": 7,
   "id": "80828903-c739-4359-8c3c-300e5e889cff",
   "metadata": {},
   "outputs": [
    {
     "name": "stdout",
     "output_type": "stream",
     "text": [
      "[1, 1, 0, 1] 4\n",
      "[1, 0, 0, 1] 3\n",
      "[0, 0, 0, 1] 2\n",
      "[0, 0, 0, 1] 2\n",
      "[1, 0, 1, 1] 4\n",
      "[1, 1, 0, 0] 3\n",
      "[0, 0, 0, 1] 2\n",
      "[0, 0, 0, 1] 2\n"
     ]
    }
   ],
   "source": [
    "for n in range(N): # para cada sorteio, até o número total de sorteios\n",
    "    candidato = individuo_cb(NUM_GENES) # um indivíduo será formado pelo número de genes definido nas constantes\n",
    "    f_objetivo = funcao_objetivo(candidato) # calcula um valor para cada individuo\n",
    "    print(candidato, f_objetivo)"
   ]
  },
  {
   "cell_type": "markdown",
   "id": "dbcbe33f-3e46-4dba-bc8f-244897635645",
   "metadata": {},
   "source": [
    "<br>\n",
    "\n",
    "### **DISCUSSÃO**"
   ]
  },
  {
   "cell_type": "markdown",
   "id": "612ad135-3903-48fd-98e5-23378db85337",
   "metadata": {},
   "source": [
    "<div style=' text-align: justify; text-justify: inter-word;'>\n",
    "    Essa é a primeira atividade da disciplina de algoritmos genéticos. Embora ainda não tenhamos feito uso dessa ferramenta, aqui começaremos a compreender, paulatinamente, conceitos fundamentais para seu adequado desenvolvimento e uso. O problema se trata de uma caixa binária, em outras palavras, sabemos que, em casos como este, uma caixa inteira corresponde a um conjunto de caixas e cada uma delas possui um valor correspondente (pelas caixas serem binárias, esses valores só podem ser 0 ou 1). Contudo, o professor nos introduziu um desafio: a partir de agora, precisamos pensar nas caixas completas como 'indivíduos' e nos valores que as caixas assumem como 'genes'. Ou seja, os nossos indivíduos serão compostos por genes (assim como na Biologia) e cabe ao computador gerar tais indivíduos.\n",
    "    <br>Sendo assim, escreveu-se um código que gararia tais indivíduos. As constantes do experimento foram: 'N' que corresponde ao número de sorteios realizados, ou seja, quantos indivíduos seriam gerados (8, mas poderia variar caso quiséssemos fazer testes posteriores) e 'NUM_GENES', que especifica por quantos elementos um indivíduo é composto (4). Para cada sorteio se geraria um indivíduo e se calcularia o valor desse individuo, nomeado como 'funcao_objetivo' e que pode ser entendido como uma ferramenta que, nesse caso, somou os valores do genes de cada indivíduo mais um e esse valor permite comparar cada resultado de cada sorteio, buscando compreender qual delas é a melhor solução para o problema.\n",
    "    <br>O código, da forma que aqui está escrito, não garante que encontraríamos o melhor indivdíuo possível logo de primeira (que é aquele com funcao_objetivo com valor 5, pois número máximo da soma dos genes = 4 + o 1, definido na função. \n",
    "    \n",
    "</div>"
   ]
  },
  {
   "cell_type": "markdown",
   "id": "06768288-be20-430d-83b5-996b7cabe0a1",
   "metadata": {},
   "source": [
    "> <hr>"
   ]
  },
  {
   "cell_type": "markdown",
   "id": "dfc67b4a-9fcd-440d-80ff-5bb3e4c8c0bf",
   "metadata": {},
   "source": [
    "## Conclusão\n",
    "\n"
   ]
  },
  {
   "cell_type": "markdown",
   "id": "2b55a7bb-c3ce-4b16-93e9-34a65336b168",
   "metadata": {},
   "source": [
    "> **Reflexão**: Após desenvolver um código por partes, a fim de atender a todos os comandos do experimento, concluímos que o problema em questão é um problema probabilístico, isso porque nem todas as pessoas encontraram os mesmos resultados para o mesmo valor de N, ou seja, com o mesmo número de sorteios realizados. O resultado acabou dependendo da máquina, foi bem aleatório, então acredito que ele não seria interessante para problemas que exijam exatidão. Em contrapartida, para problemas nos quais apenas desejemos um  resultado, mas sem a exigência de um resultado específico ou máximo, por exemplo.\n",
    "\n",
    ">**Sobre o experimento**: se trata de um problema de caixas binárias. Logo, queremos obter indivíduos (que correspondem a listas) compostos por 4 genes, que podem assumir o valor de zero ou de um. Além disso, também solicitamos ao computador que gere um valor para cada um dos indivíduos, resultado esse correspondente a soma dos valores dos genes de cada um deles + 1. Queríamos que o nosso melhor indivíduo apresentasse o maior valor possível (5) para a função objetivo. Começamos com um número de sorteios igual a 8 e ele não foi o suficiente para encontrarmos o melhor indivíduo. Depois, tentei com outros valores, como 9, 10 e 16 e também não encontrei o indivíduo. Porém, tentando com 22 e 14, eu os encontrei. Ou seja, isso confirma a reflexão acima, já que valores específicos não eram suficientes para encontrar o melhor indivíduo, pareceu quase uma questão de 'sorte'."
   ]
  },
  {
   "cell_type": "markdown",
   "id": "f4900d44-a648-458f-9f6b-d7e999ebfca4",
   "metadata": {},
   "source": [
    "<hr>"
   ]
  },
  {
   "cell_type": "markdown",
   "id": "63f6937d-b892-4c53-915f-0a1fa55e9af3",
   "metadata": {},
   "source": [
    "## Playground\n",
    "\n"
   ]
  },
  {
   "cell_type": "markdown",
   "id": "67feaeb1-20a4-4157-872b-40111d9980c3",
   "metadata": {
    "tags": []
   },
   "source": [
    "<br>primeiramente, um lembrete: não são mais candidatos, são indivíduos; cada caixa agora é um gene\n",
    "<br>2: quando a função não existe, não podemos deixá-la em branco\n",
    "<br>lembrar de funções com strings\n",
    "<br>dica do dani: usar 'pass' nas funções quando ela ainda estiver vazia\n",
    "<br>usei enquanto escrevíamos na aula, mas tirei quando voltamos para completá-la\n",
    "\n",
    "<br>**CÓDIGO**\n",
    "<br>esse aqui é do professor Daniel\n",
    "\n",
    "def gene_cb():\n",
    "    '''Gera um gene válido para o problema das caixas binários \n",
    "    \n",
    "    Return:\n",
    "        Ou retorna zero ou retona um\n",
    "    '''\n",
    "    lista = [0, 1] # lá no início dissemos que os genes poderiam assumir dois valores\n",
    "    gene = random.choice(lista) # pedirei que a função escolha aleatóriamnte um valor para o gene dentro da lista\n",
    "    return gene # peço que ele retorne a escolha aleatória\n",
    "    # pass\n",
    "\n",
    "def individuo_cb(n):\n",
    "    '''Gera um indivíduo para o problema das caixas binárias (um indivíduo tem 4 genes)\n",
    "    \n",
    "    Argumentos:\n",
    "        n: número de genes do indivíduo (ou seja, número de caixas)\n",
    "        \n",
    "    Return:\n",
    "        Uma lista com n genes (caixas). Cada gene é um valor zero ou um.\n",
    "    '''\n",
    "    individuo = [] # importante lembrar: o indivíduo corresponde ao conjunto de 4 genes, ou seja, ele será uma lista desses 4 valores\n",
    "    for i in range(n):\n",
    "        gene = gene_cb()\n",
    "        individuo.append(gene)\n",
    "    return individuo\n",
    "    # pass\n",
    "    \n",
    "def funcao_objetivo(individuo):\n",
    "    '''Computa a função objetivo para o problema cb.\n",
    "    \n",
    "        Argumentos:\n",
    "            Individuo: lista contendo os genes das caixas binárias\n",
    "        \n",
    "        Return:\n",
    "            Um valor representando a soma dos genes do indivíduo\n",
    "    '''\n",
    "    return sum(individuo)\n",
    "    # pass"
   ]
  },
  {
   "cell_type": "markdown",
   "id": "404816a4-a7de-4c2d-b6b0-9153443548c8",
   "metadata": {},
   "source": [
    "### Anotações\n",
    "Estabelece-se critérios de parada\n",
    "<br> Função objetivo recebe um candidato e te oferece uma métrica\n",
    "<br> Traduzir um problema da vida real na estrutura de dados de Python que conhecemos\n",
    "<br> Espaço de busca define de onde iremos sortear um candidato, define em quantos podemos variar a função\n",
    "<br> Candidato válido pode ser usado no seu problema e o candidato inválido não pode\n",
    "<br> Não vamos mais chamar de candidatos e chamaremos de indivíduo\n",
    "<br> Nosso indivíduo \n",
    "<br> Sorteio de indivíduos dentro do espaço de busca, sorteio n vezes e depois checa com a função objetiva\n",
    "<br> Problema de maximização \n",
    "<br> Ao ler que um espaço de busca é definido, precisamos pensar nos laços de repetição e, portanto, FOR precisa vir à mente\n",
    "<br> Súplica para mim mesma: POR FAVOR, revê seu código antes de rodar!!! Cansei de errar porque escrevi uma letra diferente na palavra."
   ]
  }
 ],
 "metadata": {
  "kernelspec": {
   "display_name": "ilumpy",
   "language": "python",
   "name": "ilumpy"
  },
  "language_info": {
   "codemirror_mode": {
    "name": "ipython",
    "version": 3
   },
   "file_extension": ".py",
   "mimetype": "text/x-python",
   "name": "python",
   "nbconvert_exporter": "python",
   "pygments_lexer": "ipython3",
   "version": "3.9.7"
  }
 },
 "nbformat": 4,
 "nbformat_minor": 5
}
