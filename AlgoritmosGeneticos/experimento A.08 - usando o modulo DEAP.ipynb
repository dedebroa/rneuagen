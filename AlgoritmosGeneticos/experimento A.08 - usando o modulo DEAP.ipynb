{
 "cells": [
  {
   "cell_type": "markdown",
   "metadata": {},
   "source": [
    "Usando o módulo DEAP\n",
    "====================\n",
    "\n"
   ]
  },
  {
   "cell_type": "markdown",
   "metadata": {},
   "source": [
    "## Introdução e importações\n",
    "\n"
   ]
  },
  {
   "cell_type": "markdown",
   "metadata": {},
   "source": [
    "O módulo `DEAP` nos ajuda a construir algoritmos genéticos, fornecendo funções prontas para realizar diversas tarefas que nós estudamos durante o curso e muitas outras mais. Este módulo tem 3 submódulos que iremos utilizar:\n",
    "\n",
    "-   `base`: este é o submódulo de base. É usando ele que iremos criar nossa caixa de ferramentas (`toolbox`) e nossa classe para computar a *fitness* dos indivíduos.\n",
    "\n",
    "-   `tools`: este é o submódulo onde encontramos os operadores genéticos. Com as funções deste submódulo podemos criar indivíduos, populações, selecionar indivíduos, aplicar mutações e cruzamento.\n",
    "\n",
    "-   `creator`: este é o submódulo que utilizaremos para criar coisas.\n",
    "\n",
    "Para importar estes 3 submódulos basta rodar o código abaixo.\n",
    "\n"
   ]
  },
  {
   "cell_type": "code",
   "execution_count": 1,
   "metadata": {},
   "outputs": [],
   "source": [
    "from deap import base\n",
    "from deap import creator\n",
    "from deap import tools"
   ]
  },
  {
   "cell_type": "markdown",
   "metadata": {},
   "source": [
    "Vamos importar também o &ldquo;resolvedor&rdquo; de algoritmos genéticos do `DEAP`. Ficará mais claro isso ao longo deste notebook.\n",
    "\n"
   ]
  },
  {
   "cell_type": "code",
   "execution_count": 2,
   "metadata": {},
   "outputs": [],
   "source": [
    "from deap.algorithms import eaSimple # resolve algoritmos já prontos"
   ]
  },
  {
   "cell_type": "markdown",
   "metadata": {},
   "source": [
    "Agora vamos importar as funções e módulos que usaremos ao longo do notebook.\n",
    "\n"
   ]
  },
  {
   "cell_type": "code",
   "execution_count": 3,
   "metadata": {},
   "outputs": [],
   "source": [
    "import numpy as np\n",
    "from funcoes import gene_cb"
   ]
  },
  {
   "cell_type": "markdown",
   "metadata": {},
   "source": [
    "## Problema das caixas binárias usando `DEAP` e a função `eaSimple`\n",
    "\n"
   ]
  },
  {
   "cell_type": "markdown",
   "metadata": {},
   "source": [
    "Antes de iniciar o problema, vamos importar as funções necessárias e definir as constantes.\n",
    "\n"
   ]
  },
  {
   "cell_type": "code",
   "execution_count": 4,
   "metadata": {},
   "outputs": [],
   "source": [
    "# relacionadas ao problema a ser resolvido\n",
    "NUM_CAIXAS = 4\n",
    "\n",
    "# relacionadas à busca\n",
    "TAMANHO_POP = 6\n",
    "NUM_GERACOES = 100\n",
    "CHANCE_CRUZAMENTO = 0.5\n",
    "CHANCE_MUTACAO = 0.05\n",
    "CHANCE_MUTACAO_DE_CADA_GENE = 1 / NUM_CAIXAS # novidade! mutação pode ser a cada gene agora\n",
    "NUM_COMBATENTES_NO_TORNEIO = 3\n",
    "TAMANHO_HALL_DA_FAMA = 1"
   ]
  },
  {
   "cell_type": "markdown",
   "metadata": {},
   "source": [
    "Vamos resolver o problema das caixas binárias usando o `DEAP`. Antes de mais nada, precisamos definir que tipo de problema nós temos em mãos, se é de maximização ou minimização. Nós sabemos que este é um problema de <u>maximização</u>. Para passar essa informação para o `DEAP` nós precisamos usar o `creator` e criar uma classe que tem como base o `base.Fitness`. Vamos dar o nome de `Fitness_max` para essa classe para nos lembrarmos que é a fitness de um problema de maximização. Se atente ao fato de que os pesos (`weights`) devem ser `(1.0,)` para problemas de maximização ou `(-1.0,)` para problemas de minimização (e devem ser escritos exatamente desta forma, não pode mudar aqui).\n",
    "\n"
   ]
  },
  {
   "cell_type": "code",
   "execution_count": 5,
   "metadata": {},
   "outputs": [],
   "source": [
    "# Aqui, o nome `Fitness_max` fomos nós que demos, pode dar o nome que quiser\n",
    "# O restante deve se manter constante caso esteja em um problema de maximização\n",
    "creator.create(\"Fitness_max\", base.Fitness, weights=(1.0,)) # objeto que cria fitness\n",
    "\n",
    "# aqui que você define objetivos\n",
    "# você pode ter mais de um objetivo e eles podem ter pesos diferentes\n",
    "# é AQUI que você define se é umproblema de maximização ou minimização"
   ]
  },
  {
   "cell_type": "markdown",
   "metadata": {},
   "source": [
    "Agora, vamos definir a estrutura de dados do nosso indivíduo. Para isso usamos o código abaixo. Observe que o nome `Individuo` fomos nós que demos. O segundo argumento que usamos abaixo foi `list`, para indicar que nosso indivíduo será uma lista. Finalmente, o último argumento (chamado `fitness`) deve ser o `Fitness_max` que criamos na célula acima. Se tivéssemos dado outro nome para o `Fitness_max` acima, deveríamos usar o mesmo nome aqui.\n",
    "\n"
   ]
  },
  {
   "cell_type": "code",
   "execution_count": 6,
   "metadata": {},
   "outputs": [],
   "source": [
    "creator.create(\"Individuo\", list, fitness=creator.Fitness_max)\n",
    "\n",
    "# não criamos individuos, definimos individuos\n",
    "# o primeiro item é o nome, o segundo é a ferramenta que você usar para criar o que quer\n",
    "# o peso do indivíduo é o fitness\n",
    "# indivíduo é uma lista"
   ]
  },
  {
   "cell_type": "markdown",
   "metadata": {},
   "source": [
    "O próximo passo é criar a nossa caixa de ferramentas. A caixa de ferramenta, como o nome sugere, vai armazenar as ferramentas que usaremos para construir indivíduos, populações e operar geneticamente sobre eles. Para criar sua caixa de ferramentas faça o seguinte:\n",
    "\n"
   ]
  },
  {
   "cell_type": "code",
   "execution_count": 7,
   "metadata": {},
   "outputs": [],
   "source": [
    "toolbox = base.Toolbox()"
   ]
  },
  {
   "cell_type": "markdown",
   "metadata": {},
   "source": [
    "Afinal, o que é uma caixa de ferramentas sem ferramentas? Vamos adicionar ferramentas na nossa caixa! A estrutura para adicional uma ferramenta é sempre a mesma:\n",
    "\n",
    "1.  Usamos o método `register` da nossa caixa de ferramentas.\n",
    "2.  O primeiro argumento do método é o nome da ferramenta. Nós que escolhemos!\n",
    "3.  O segundo argumento do método é a função que será executada quando usarmos a nossa ferramenta.\n",
    "4.  Os demais argumentos do `register` são os argumentos que serão passados para a função do passo 3.\n",
    "\n",
    "Vamos ver um exemplo criando uma ferramenta que cria um indivíduo:\n",
    "\n"
   ]
  },
  {
   "cell_type": "code",
   "execution_count": 8,
   "metadata": {},
   "outputs": [],
   "source": [
    "toolbox.register(\n",
    "    \"individuo\", tools.initRepeat, creator.Individuo, gene_cb, NUM_CAIXAS\n",
    ")\n",
    "\n",
    "# initRepeat define uma coisa n vezes\n",
    "# no seu indivíduo você precisa de x genes e o valor deles\n",
    "# número de vezes de armazenamento corresponde ao número de caixas"
   ]
  },
  {
   "cell_type": "markdown",
   "metadata": {},
   "source": [
    "Indo pela ordem que comentamos acima, sabemos que o nome da nossa nova ferramenta é `individuo`. Quando essa ferramenta for usada, ela irá chamar a função `tools.initRepeat` com os seguintes argumentos: `creator.Individuo`, `gene_cb` e `NUM_CAIXAS`.\n",
    "\n",
    "A função `tools.initRepeat` serve para criar um objeto através da repetição do uso de uma função. Neste exemplo, estamos criando um objeto do tipo `creator.Individuo` (que definimos lá em cima como sendo uma lista com uma certa propriedade de fitness, lembra?) e para criar este objeto nós rodamos a função `gene_cb` um total de `NUM_CAIXAS` de vezes e armazenamos o resultado na lista. Veja que essa estratégia é a mesma que usamos na função `individuo_cb` que criamos no `funcoes.py`.\n",
    "\n",
    "Se mesmo com o parágrafo anterior ainda não ficou claro, veja a função `tools.initRepeat` sendo usada separadamente para ver como ela funciona.\n",
    "\n"
   ]
  },
  {
   "cell_type": "code",
   "execution_count": 9,
   "metadata": {},
   "outputs": [
    {
     "name": "stdout",
     "output_type": "stream",
     "text": [
      "[0, 0, 0, 1]\n"
     ]
    }
   ],
   "source": [
    "uma_caixa_binaria = tools.initRepeat(list, gene_cb, NUM_CAIXAS)\n",
    "print(uma_caixa_binaria)"
   ]
  },
  {
   "cell_type": "markdown",
   "metadata": {},
   "source": [
    "Vamos testar nossa ferramenta recém criada?\n",
    "\n"
   ]
  },
  {
   "cell_type": "code",
   "execution_count": 10,
   "metadata": {},
   "outputs": [
    {
     "name": "stdout",
     "output_type": "stream",
     "text": [
      "[0, 0, 0, 1]\n"
     ]
    }
   ],
   "source": [
    "um_individuo_qualquer = toolbox.individuo()\n",
    "print(um_individuo_qualquer)"
   ]
  },
  {
   "cell_type": "markdown",
   "metadata": {},
   "source": [
    "Agora veremos como criar uma ferramenta para criar populações:\n",
    "\n"
   ]
  },
  {
   "cell_type": "code",
   "execution_count": 11,
   "metadata": {},
   "outputs": [],
   "source": [
    "toolbox.register(\n",
    "    \"populacao\", tools.initRepeat, list, toolbox.individuo, TAMANHO_POP\n",
    ")\n",
    "\n",
    "# nossa população é composta por indivíduos\n",
    "# então, vamos pedir para ele registrar indivíduos\n",
    "# o número de individuos na população corresponde à constante 'tamanho_pop'\n",
    "# ou seja, o número de registros será o número definido na constante"
   ]
  },
  {
   "cell_type": "markdown",
   "metadata": {},
   "source": [
    "Veja que usamos novamente o `tools.initRepeat` aqui, onde iremos armazenar em uma lista os indivíduos gerados pela ferramenta `toolbox.individuo` que acabamos de criar logo acima. Vamos testar nossa nova ferramenta!\n",
    "\n"
   ]
  },
  {
   "cell_type": "code",
   "execution_count": 12,
   "metadata": {},
   "outputs": [
    {
     "name": "stdout",
     "output_type": "stream",
     "text": [
      "[[1, 0, 0, 1], [0, 1, 1, 1], [1, 1, 0, 1], [1, 1, 1, 0], [1, 1, 0, 0], [1, 1, 1, 0]]\n"
     ]
    }
   ],
   "source": [
    "populacao = toolbox.populacao()\n",
    "print(populacao)"
   ]
  },
  {
   "cell_type": "markdown",
   "metadata": {},
   "source": [
    "Nossa próxima tarefa é criar a ferramenta que computa o fitness. Para isso precisamos escrever uma função que compute o fitness de um indivíduo. Já fizemos isso! É a função `funcao_objetivo_cb` do nosso arquivo `funcoes.py`. No entanto, o `DEAP` tem uma característica muito peculiar que ele <u>requer</u> que a função objetivo retorne uma tupla, e não um número. Essa peculiaridade é do próprio `DEAP`, não temos muito o que fazer a não ser seguir o que ele manda aqui. Para reescrever a função que já tínhamos escrito para retornar uma tupla é muito fácil! Veja abaixo.\n",
    "\n"
   ]
  },
  {
   "cell_type": "code",
   "execution_count": 13,
   "metadata": {},
   "outputs": [],
   "source": [
    "def funcao_objetivo_cb(individuo):\n",
    "    \"\"\"Computa a função objetivo no problema das caixas binárias.\n",
    "\n",
    "    Args:\n",
    "      individiuo: lista contendo os genes das caixas binárias\n",
    "\n",
    "    Return:\n",
    "      Uma tupla com o valor representando a soma dos genes do individuo.\n",
    "    \"\"\"\n",
    "    return (sum(individuo), )\n",
    "\n",
    "# vírgula é sintaxe\n",
    "# vai retornar um tupla"
   ]
  },
  {
   "cell_type": "markdown",
   "metadata": {},
   "source": [
    "Vamos criar a ferramenta que computa o fitness. Aqui daremos o nome de `evaluate` para essa ferramenta pois é o nome que o `DEAP` espera, por isso não traduzimos.\n",
    "\n"
   ]
  },
  {
   "cell_type": "code",
   "execution_count": 14,
   "metadata": {},
   "outputs": [],
   "source": [
    "toolbox.register(\"evaluate\", funcao_objetivo_cb)\n",
    "\n",
    "# esse nome não foi escolhido por nós\n",
    "# esse nome NÃO pode mudar\n",
    "# o evaluate calcula fitness\n",
    "# NÃO funciona sem evaluate"
   ]
  },
  {
   "cell_type": "markdown",
   "metadata": {},
   "source": [
    "Faltam apenas os operadores de seleção, cruzamento e mutação! Para seleção, vamos usar a seleção por torneio! O `DEAP` já tem essa função implementada em `tools.selTournament`. Aqui daremos o nome de `select` para essa ferramenta pois é o nome que o `DEAP` espera, por isso não traduzimos.\n",
    "\n"
   ]
  },
  {
   "cell_type": "code",
   "execution_count": 15,
   "metadata": {},
   "outputs": [],
   "source": [
    "toolbox.register(\n",
    "    \"select\", tools.selTournament, tournsize=NUM_COMBATENTES_NO_TORNEIO\n",
    ")\n",
    "\n",
    "# já tem o torneio\n",
    "# NÃO pode mudar o nome 'select'"
   ]
  },
  {
   "cell_type": "markdown",
   "metadata": {},
   "source": [
    "Para cruzamento vamos utilizar o cruzamento de ponto simples. Novamente, o `DEAP` já tem essa função em `tools.cxOnePoint`. Aqui daremos o nome de `mate` para essa ferramenta pois é o nome que o `DEAP` espera, por isso não traduzimos.\n",
    "\n"
   ]
  },
  {
   "cell_type": "code",
   "execution_count": 16,
   "metadata": {
    "tags": []
   },
   "outputs": [],
   "source": [
    "toolbox.register(\"mate\", tools.cxOnePoint)\n",
    "#cross over\n",
    "# não pode mudar mate também"
   ]
  },
  {
   "cell_type": "markdown",
   "metadata": {},
   "source": [
    "Finalmente, para mutação vamos usar a função de flip bit. Essa função é mais &ldquo;inteligente&rdquo; do que a função de mutação que nós inventamos durante a disciplina. Se um gene for mutado e seu valor original era 0, ele passa a ter o valor de 1. Se um gene for mutado e seu valor original era 1, ele passa a ter o valor de 0. Isso melhora a convergência do problema quando comparado com a função de mutação que inventamos. Outro detalhe é que agora cada gene tem uma chance de mutar, ou seja, podemos ter zero, uma ou mais mutações por indivíduo! A chance de cada gene mutar é definida pelo parâmetro `indpb` abaixo. Aqui daremos o nome de `mutate` para essa ferramenta pois é o nome que o `DEAP` espera, por isso não traduzimos.\n",
    "\n"
   ]
  },
  {
   "cell_type": "code",
   "execution_count": 17,
   "metadata": {},
   "outputs": [],
   "source": [
    "toolbox.register(\"mutate\", tools.mutFlipBit, indpb=CHANCE_MUTACAO_DE_CADA_GENE)"
   ]
  },
  {
   "cell_type": "markdown",
   "metadata": {},
   "source": [
    "O `DEAP` nos permite criar facilmente um hall da fama do tamanho que quisermos.\n",
    "\n"
   ]
  },
  {
   "cell_type": "code",
   "execution_count": 18,
   "metadata": {},
   "outputs": [],
   "source": [
    "hall_da_fama = tools.HallOfFame(TAMANHO_HALL_DA_FAMA)"
   ]
  },
  {
   "cell_type": "markdown",
   "metadata": {},
   "source": [
    "E, para encerrar, temos também como acompanhar as estatísticas da nossa busca em tempo real! Para isso usamos o `tools.Statistics`. Veja um exemplo abaixo.\n",
    "\n"
   ]
  },
  {
   "cell_type": "code",
   "execution_count": 19,
   "metadata": {},
   "outputs": [],
   "source": [
    "# pedíamos estatísticas\n",
    "# me lembrou do que foi necessário na análise de performance\n",
    "\n",
    "estatisticas = tools.Statistics(lambda ind: ind.fitness.values)\n",
    "estatisticas.register(\"avg\", np.mean)\n",
    "estatisticas.register(\"std\", np.std)\n",
    "estatisticas.register(\"min\", np.min)\n",
    "estatisticas.register(\"max\", np.max)"
   ]
  },
  {
   "cell_type": "markdown",
   "metadata": {},
   "source": [
    "Pronto! Temos tudo que precisamos, podemos rodar nosso algoritmo genético usando o `eaSimple`.\n",
    "\n"
   ]
  },
  {
   "cell_type": "code",
   "execution_count": 20,
   "metadata": {},
   "outputs": [
    {
     "name": "stdout",
     "output_type": "stream",
     "text": [
      "gen\tnevals\tavg\tstd    \tmin\tmax\n",
      "0  \t6     \t2  \t0.57735\t1  \t3  \n",
      "1  \t6     \t2.5\t0.5    \t2  \t3  \n",
      "2  \t4     \t2.83333\t0.372678\t2  \t3  \n",
      "3  \t1     \t3.16667\t0.372678\t3  \t4  \n",
      "4  \t6     \t3.16667\t0.372678\t3  \t4  \n",
      "5  \t4     \t3.33333\t0.471405\t3  \t4  \n",
      "6  \t2     \t3.83333\t0.372678\t3  \t4  \n",
      "7  \t6     \t4      \t0       \t4  \t4  \n",
      "8  \t4     \t4      \t0       \t4  \t4  \n",
      "9  \t4     \t4      \t0       \t4  \t4  \n",
      "10 \t4     \t4      \t0       \t4  \t4  \n",
      "11 \t0     \t4      \t0       \t4  \t4  \n",
      "12 \t3     \t3.33333\t1.49071 \t0  \t4  \n",
      "13 \t4     \t4      \t0       \t4  \t4  \n",
      "14 \t2     \t4      \t0       \t4  \t4  \n",
      "15 \t2     \t4      \t0       \t4  \t4  \n",
      "16 \t2     \t4      \t0       \t4  \t4  \n",
      "17 \t2     \t4      \t0       \t4  \t4  \n",
      "18 \t0     \t4      \t0       \t4  \t4  \n",
      "19 \t2     \t4      \t0       \t4  \t4  \n",
      "20 \t4     \t3.66667\t0.745356\t2  \t4  \n",
      "21 \t4     \t4      \t0       \t4  \t4  \n",
      "22 \t2     \t4      \t0       \t4  \t4  \n",
      "23 \t3     \t3.66667\t0.745356\t2  \t4  \n",
      "24 \t2     \t4      \t0       \t4  \t4  \n",
      "25 \t0     \t4      \t0       \t4  \t4  \n",
      "26 \t2     \t4      \t0       \t4  \t4  \n",
      "27 \t2     \t4      \t0       \t4  \t4  \n",
      "28 \t6     \t4      \t0       \t4  \t4  \n",
      "29 \t4     \t4      \t0       \t4  \t4  \n",
      "30 \t2     \t4      \t0       \t4  \t4  \n",
      "31 \t4     \t4      \t0       \t4  \t4  \n",
      "32 \t6     \t4      \t0       \t4  \t4  \n",
      "33 \t3     \t3.5    \t1.11803 \t1  \t4  \n",
      "34 \t2     \t4      \t0       \t4  \t4  \n",
      "35 \t4     \t4      \t0       \t4  \t4  \n",
      "36 \t0     \t4      \t0       \t4  \t4  \n",
      "37 \t6     \t4      \t0       \t4  \t4  \n",
      "38 \t5     \t3.5    \t0.763763\t2  \t4  \n",
      "39 \t3     \t4      \t0       \t4  \t4  \n",
      "40 \t2     \t4      \t0       \t4  \t4  \n",
      "41 \t4     \t4      \t0       \t4  \t4  \n",
      "42 \t4     \t4      \t0       \t4  \t4  \n",
      "43 \t2     \t4      \t0       \t4  \t4  \n",
      "44 \t4     \t3.83333\t0.372678\t3  \t4  \n",
      "45 \t4     \t4      \t0       \t4  \t4  \n",
      "46 \t4     \t4      \t0       \t4  \t4  \n",
      "47 \t4     \t4      \t0       \t4  \t4  \n",
      "48 \t4     \t4      \t0       \t4  \t4  \n",
      "49 \t4     \t4      \t0       \t4  \t4  \n",
      "50 \t2     \t4      \t0       \t4  \t4  \n",
      "51 \t2     \t4      \t0       \t4  \t4  \n",
      "52 \t4     \t4      \t0       \t4  \t4  \n",
      "53 \t2     \t4      \t0       \t4  \t4  \n",
      "54 \t4     \t4      \t0       \t4  \t4  \n",
      "55 \t5     \t4      \t0       \t4  \t4  \n",
      "56 \t6     \t4      \t0       \t4  \t4  \n",
      "57 \t4     \t4      \t0       \t4  \t4  \n",
      "58 \t4     \t4      \t0       \t4  \t4  \n",
      "59 \t6     \t4      \t0       \t4  \t4  \n",
      "60 \t3     \t3.5    \t1.11803 \t1  \t4  \n",
      "61 \t2     \t4      \t0       \t4  \t4  \n",
      "62 \t4     \t4      \t0       \t4  \t4  \n",
      "63 \t2     \t4      \t0       \t4  \t4  \n",
      "64 \t4     \t4      \t0       \t4  \t4  \n",
      "65 \t2     \t4      \t0       \t4  \t4  \n",
      "66 \t2     \t4      \t0       \t4  \t4  \n",
      "67 \t2     \t4      \t0       \t4  \t4  \n",
      "68 \t6     \t4      \t0       \t4  \t4  \n",
      "69 \t2     \t4      \t0       \t4  \t4  \n",
      "70 \t4     \t4      \t0       \t4  \t4  \n",
      "71 \t2     \t4      \t0       \t4  \t4  \n",
      "72 \t2     \t4      \t0       \t4  \t4  \n",
      "73 \t1     \t4      \t0       \t4  \t4  \n",
      "74 \t2     \t4      \t0       \t4  \t4  \n",
      "75 \t6     \t3.66667\t0.745356\t2  \t4  \n",
      "76 \t0     \t4      \t0       \t4  \t4  \n",
      "77 \t5     \t3.83333\t0.372678\t3  \t4  \n",
      "78 \t4     \t4      \t0       \t4  \t4  \n",
      "79 \t6     \t4      \t0       \t4  \t4  \n",
      "80 \t2     \t4      \t0       \t4  \t4  \n",
      "81 \t2     \t4      \t0       \t4  \t4  \n",
      "82 \t4     \t4      \t0       \t4  \t4  \n",
      "83 \t3     \t4      \t0       \t4  \t4  \n",
      "84 \t4     \t4      \t0       \t4  \t4  \n",
      "85 \t4     \t4      \t0       \t4  \t4  \n",
      "86 \t4     \t3.83333\t0.372678\t3  \t4  \n",
      "87 \t6     \t4      \t0       \t4  \t4  \n",
      "88 \t2     \t4      \t0       \t4  \t4  \n",
      "89 \t4     \t4      \t0       \t4  \t4  \n",
      "90 \t3     \t3.83333\t0.372678\t3  \t4  \n",
      "91 \t2     \t4      \t0       \t4  \t4  \n",
      "92 \t2     \t4      \t0       \t4  \t4  \n",
      "93 \t4     \t4      \t0       \t4  \t4  \n",
      "94 \t3     \t4      \t0       \t4  \t4  \n",
      "95 \t4     \t3.5    \t0.763763\t2  \t4  \n",
      "96 \t3     \t3.83333\t0.372678\t3  \t4  \n",
      "97 \t4     \t4      \t0       \t4  \t4  \n",
      "98 \t0     \t4      \t0       \t4  \t4  \n",
      "99 \t2     \t4      \t0       \t4  \t4  \n",
      "100\t3     \t3.66667\t0.745356\t2  \t4  \n"
     ]
    }
   ],
   "source": [
    "populacao_inicial = toolbox.populacao()\n",
    "\n",
    "populacao_final, log = eaSimple(\n",
    "    populacao_inicial,\n",
    "    toolbox,\n",
    "    cxpb=CHANCE_CRUZAMENTO,\n",
    "    mutpb=CHANCE_MUTACAO,\n",
    "    ngen=NUM_GERACOES,\n",
    "    stats=estatisticas,\n",
    "    halloffame=hall_da_fama,\n",
    "    verbose=True,\n",
    ")\n",
    "\n",
    "# verbose revela que você quer prints\n",
    "# eaSimple vai encontrar a sua população usando o que você quer e coloca dentro do parênteses"
   ]
  },
  {
   "cell_type": "markdown",
   "metadata": {},
   "source": [
    "Podemos acessar o registro da nossa busca pela variável `log`.\n",
    "\n"
   ]
  },
  {
   "cell_type": "code",
   "execution_count": 21,
   "metadata": {},
   "outputs": [
    {
     "name": "stdout",
     "output_type": "stream",
     "text": [
      "gen\tnevals\tavg    \tstd     \tmin\tmax\n",
      "0  \t6     \t2      \t0.57735 \t1  \t3  \n",
      "1  \t6     \t2.5    \t0.5     \t2  \t3  \n",
      "2  \t4     \t2.83333\t0.372678\t2  \t3  \n",
      "3  \t1     \t3.16667\t0.372678\t3  \t4  \n",
      "4  \t6     \t3.16667\t0.372678\t3  \t4  \n",
      "5  \t4     \t3.33333\t0.471405\t3  \t4  \n",
      "6  \t2     \t3.83333\t0.372678\t3  \t4  \n",
      "7  \t6     \t4      \t0       \t4  \t4  \n",
      "8  \t4     \t4      \t0       \t4  \t4  \n",
      "9  \t4     \t4      \t0       \t4  \t4  \n",
      "10 \t4     \t4      \t0       \t4  \t4  \n",
      "11 \t0     \t4      \t0       \t4  \t4  \n",
      "12 \t3     \t3.33333\t1.49071 \t0  \t4  \n",
      "13 \t4     \t4      \t0       \t4  \t4  \n",
      "14 \t2     \t4      \t0       \t4  \t4  \n",
      "15 \t2     \t4      \t0       \t4  \t4  \n",
      "16 \t2     \t4      \t0       \t4  \t4  \n",
      "17 \t2     \t4      \t0       \t4  \t4  \n",
      "18 \t0     \t4      \t0       \t4  \t4  \n",
      "19 \t2     \t4      \t0       \t4  \t4  \n",
      "20 \t4     \t3.66667\t0.745356\t2  \t4  \n",
      "21 \t4     \t4      \t0       \t4  \t4  \n",
      "22 \t2     \t4      \t0       \t4  \t4  \n",
      "23 \t3     \t3.66667\t0.745356\t2  \t4  \n",
      "24 \t2     \t4      \t0       \t4  \t4  \n",
      "25 \t0     \t4      \t0       \t4  \t4  \n",
      "26 \t2     \t4      \t0       \t4  \t4  \n",
      "27 \t2     \t4      \t0       \t4  \t4  \n",
      "28 \t6     \t4      \t0       \t4  \t4  \n",
      "29 \t4     \t4      \t0       \t4  \t4  \n",
      "30 \t2     \t4      \t0       \t4  \t4  \n",
      "31 \t4     \t4      \t0       \t4  \t4  \n",
      "32 \t6     \t4      \t0       \t4  \t4  \n",
      "33 \t3     \t3.5    \t1.11803 \t1  \t4  \n",
      "34 \t2     \t4      \t0       \t4  \t4  \n",
      "35 \t4     \t4      \t0       \t4  \t4  \n",
      "36 \t0     \t4      \t0       \t4  \t4  \n",
      "37 \t6     \t4      \t0       \t4  \t4  \n",
      "38 \t5     \t3.5    \t0.763763\t2  \t4  \n",
      "39 \t3     \t4      \t0       \t4  \t4  \n",
      "40 \t2     \t4      \t0       \t4  \t4  \n",
      "41 \t4     \t4      \t0       \t4  \t4  \n",
      "42 \t4     \t4      \t0       \t4  \t4  \n",
      "43 \t2     \t4      \t0       \t4  \t4  \n",
      "44 \t4     \t3.83333\t0.372678\t3  \t4  \n",
      "45 \t4     \t4      \t0       \t4  \t4  \n",
      "46 \t4     \t4      \t0       \t4  \t4  \n",
      "47 \t4     \t4      \t0       \t4  \t4  \n",
      "48 \t4     \t4      \t0       \t4  \t4  \n",
      "49 \t4     \t4      \t0       \t4  \t4  \n",
      "50 \t2     \t4      \t0       \t4  \t4  \n",
      "51 \t2     \t4      \t0       \t4  \t4  \n",
      "52 \t4     \t4      \t0       \t4  \t4  \n",
      "53 \t2     \t4      \t0       \t4  \t4  \n",
      "54 \t4     \t4      \t0       \t4  \t4  \n",
      "55 \t5     \t4      \t0       \t4  \t4  \n",
      "56 \t6     \t4      \t0       \t4  \t4  \n",
      "57 \t4     \t4      \t0       \t4  \t4  \n",
      "58 \t4     \t4      \t0       \t4  \t4  \n",
      "59 \t6     \t4      \t0       \t4  \t4  \n",
      "60 \t3     \t3.5    \t1.11803 \t1  \t4  \n",
      "61 \t2     \t4      \t0       \t4  \t4  \n",
      "62 \t4     \t4      \t0       \t4  \t4  \n",
      "63 \t2     \t4      \t0       \t4  \t4  \n",
      "64 \t4     \t4      \t0       \t4  \t4  \n",
      "65 \t2     \t4      \t0       \t4  \t4  \n",
      "66 \t2     \t4      \t0       \t4  \t4  \n",
      "67 \t2     \t4      \t0       \t4  \t4  \n",
      "68 \t6     \t4      \t0       \t4  \t4  \n",
      "69 \t2     \t4      \t0       \t4  \t4  \n",
      "70 \t4     \t4      \t0       \t4  \t4  \n",
      "71 \t2     \t4      \t0       \t4  \t4  \n",
      "72 \t2     \t4      \t0       \t4  \t4  \n",
      "73 \t1     \t4      \t0       \t4  \t4  \n",
      "74 \t2     \t4      \t0       \t4  \t4  \n",
      "75 \t6     \t3.66667\t0.745356\t2  \t4  \n",
      "76 \t0     \t4      \t0       \t4  \t4  \n",
      "77 \t5     \t3.83333\t0.372678\t3  \t4  \n",
      "78 \t4     \t4      \t0       \t4  \t4  \n",
      "79 \t6     \t4      \t0       \t4  \t4  \n",
      "80 \t2     \t4      \t0       \t4  \t4  \n",
      "81 \t2     \t4      \t0       \t4  \t4  \n",
      "82 \t4     \t4      \t0       \t4  \t4  \n",
      "83 \t3     \t4      \t0       \t4  \t4  \n",
      "84 \t4     \t4      \t0       \t4  \t4  \n",
      "85 \t4     \t4      \t0       \t4  \t4  \n",
      "86 \t4     \t3.83333\t0.372678\t3  \t4  \n",
      "87 \t6     \t4      \t0       \t4  \t4  \n",
      "88 \t2     \t4      \t0       \t4  \t4  \n",
      "89 \t4     \t4      \t0       \t4  \t4  \n",
      "90 \t3     \t3.83333\t0.372678\t3  \t4  \n",
      "91 \t2     \t4      \t0       \t4  \t4  \n",
      "92 \t2     \t4      \t0       \t4  \t4  \n",
      "93 \t4     \t4      \t0       \t4  \t4  \n",
      "94 \t3     \t4      \t0       \t4  \t4  \n",
      "95 \t4     \t3.5    \t0.763763\t2  \t4  \n",
      "96 \t3     \t3.83333\t0.372678\t3  \t4  \n",
      "97 \t4     \t4      \t0       \t4  \t4  \n",
      "98 \t0     \t4      \t0       \t4  \t4  \n",
      "99 \t2     \t4      \t0       \t4  \t4  \n",
      "100\t3     \t3.66667\t0.745356\t2  \t4  \n"
     ]
    }
   ],
   "source": [
    "print(log)"
   ]
  },
  {
   "cell_type": "markdown",
   "metadata": {},
   "source": [
    "Podemos acessar o nosso hall da fama da seguinte maneira:\n",
    "\n"
   ]
  },
  {
   "cell_type": "code",
   "execution_count": 22,
   "metadata": {},
   "outputs": [
    {
     "name": "stdout",
     "output_type": "stream",
     "text": [
      "[[1, 1, 1, 1]]\n"
     ]
    }
   ],
   "source": [
    "print(hall_da_fama.items)"
   ]
  },
  {
   "cell_type": "markdown",
   "metadata": {},
   "source": [
    "<hr>"
   ]
  },
  {
   "cell_type": "markdown",
   "metadata": {},
   "source": [
    "## Anotações\n",
    "Esse mano já tem mutações embutidas;\n",
    "<br> Conseguimos trabalhar com a chance individual de um gene ser mutado;\n",
    "<br> Deap adora tuplas;\n",
    "<br> Se fosse um problema de minimização, você coloca -1 no peso da fitness;\n",
    "<br>Após rodar o notebook, ele rodou de novo (não reiniciar, mas indo célula por célula);\n",
    "<br> O deap não foi feito para resolver mais de um problema mais de uma vez, a dica é sempre REINICIAR;\n",
    "<br>Não controlamos o critério de parada com o eaSimple."
   ]
  }
 ],
 "metadata": {
  "kernelspec": {
   "display_name": "ilumpy",
   "language": "python",
   "name": "ilumpy"
  },
  "language_info": {
   "codemirror_mode": {
    "name": "ipython",
    "version": 3
   },
   "file_extension": ".py",
   "mimetype": "text/x-python",
   "name": "python",
   "nbconvert_exporter": "python",
   "pygments_lexer": "ipython3",
   "version": "3.9.7"
  },
  "org": null
 },
 "nbformat": 4,
 "nbformat_minor": 4
}
