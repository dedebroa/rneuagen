{
 "cells": [
  {
   "cell_type": "markdown",
   "id": "5f417e6e-64d8-49c3-afdf-195de5f178de",
   "metadata": {},
   "source": [
    "Busca em grade\n",
    "==============\n",
    "\n"
   ]
  },
  {
   "cell_type": "markdown",
   "id": "541a9d0a-d895-4d2c-a4d9-802bff435401",
   "metadata": {},
   "source": [
    "## Introdução\n",
    "\n"
   ]
  },
  {
   "cell_type": "markdown",
   "id": "aaeeb87c-1023-463b-a2f3-c799b4be7e49",
   "metadata": {},
   "source": [
    "Uma forma de se encontrar uma solução para um problema de otimização é realizando uma `busca em grade`. Uma busca em grade nada mais é do que testar exaustivamente todas as combinações possíveis entre um ou mais conjunto de parâmetros.\n",
    "\n",
    "Vamos supor que você queira testar dois parâmetros em um problema de otimização, $p$ e $q$. Os valores possíveis para $p$ e $q$ estão exibidos abaixo:\n",
    "\n",
    "$p = \\{0, 1, 2\\}$\n",
    "\n",
    "$q = \\{a, b, c\\}$\n",
    "\n",
    "Em uma busca em grade, nós iremos testar todas as combinações entre $p$ e $q$, sendo elas: $(0, a)$, $(0, b)$, $(0,c)$, $(1, a)$, $(1, b)$, $(1,c)$, $(2, a)$, $(2, b)$ e $(2,c)$.\n",
    "\n",
    "Um algoritmo de busca em grade segue os seguintes passos:\n",
    "\n",
    "1.  Definir quais são os parâmetros e quais são os valores possíveis para cada parâmetro\n",
    "\n",
    "2.  Computar e armazenar o resultado da função objetivo para todas as combinações possíveis dos parâmetros definidos no passo 1\n",
    "\n",
    "3.  Retornar ao usuário a combinação de parâmetros que teve o melhor resultado durante a busca.\n",
    "\n"
   ]
  },
  {
   "cell_type": "markdown",
   "id": "547eace0-b292-4ac5-a2ac-06036f796a1f",
   "metadata": {},
   "source": [
    "## Reflexões\n",
    "\n"
   ]
  },
  {
   "cell_type": "markdown",
   "id": "8c083cdd-e79a-4082-af1c-83bd31b697e6",
   "metadata": {},
   "source": [
    "Você diria que o algoritmo de busca em grade é determinístico ou probabilístico?\n",
    "\n",
    "Será que a busca em grade é capaz de encontrar mínimos (ou máximos) da função objetivo?\n",
    "\n",
    "O que você espera da performance do algoritmo de busca em grade? Como a performance varia com o número de parâmetros e o número de itens nos conjuntos de valores de cada parâmetro?\n",
    "\n"
   ]
  },
  {
   "cell_type": "markdown",
   "id": "8f61c5db-86b3-4c23-a1ff-b59819be24d1",
   "metadata": {},
   "source": [
    "## Objetivo\n",
    "\n"
   ]
  },
  {
   "cell_type": "markdown",
   "id": "2ecb23bd-6946-4e58-b0e4-a14a59731b37",
   "metadata": {},
   "source": [
    "Encontrar uma solução para o problema das caixas binárias usando o algoritmo de busca em grade. Considere 4 caixas.\n",
    "\n"
   ]
  },
  {
   "cell_type": "markdown",
   "id": "35762667-267b-41b3-862c-d02bc4628860",
   "metadata": {},
   "source": [
    "## Descrição do problema\n",
    "\n"
   ]
  },
  {
   "cell_type": "markdown",
   "id": "42817e3b-2f26-4c4d-9727-8a30706f7ddc",
   "metadata": {},
   "source": [
    "O problema das caixas binárias é simples: nós temos um certo número de caixas e cada uma pode conter um valor do conjunto $\\{0, 1\\}$. O objetivo é encontrar uma combinação de caixas onde a soma dos valores contidos dentro delas é máximo.\n",
    "\n"
   ]
  },
  {
   "cell_type": "markdown",
   "id": "a378643f-ba6e-42df-a58c-eaa3d8268ee1",
   "metadata": {},
   "source": [
    "## Importações\n",
    "\n"
   ]
  },
  {
   "cell_type": "code",
   "execution_count": 5,
   "id": "71a3b061-7752-4679-b626-baddf395100e",
   "metadata": {},
   "outputs": [],
   "source": [
    "from funcoes import funcao_objetivo\n",
    "# funcoes.py é um novo documento apresentado pelo professor\n",
    "# nele, conseguiremos reaproveitar as funções escritas em diferentes experimentos\n",
    "# IMPORTANTE: os arquivos precisam estar todos na mesma pasta (tive muitos problemas porque não estavam)\n",
    "# se não expecificassemos qual função importar, precisamos usar funcoes. ao chamar a função depois (coloca logo antes do nome dela)\n",
    "\n",
    "import itertools \n",
    "# itertools é uma nova biblioteca"
   ]
  },
  {
   "cell_type": "markdown",
   "id": "dbf1a9c0-944d-4c36-8269-680fd6ebf069",
   "metadata": {},
   "source": [
    "## Códigos e discussão\n",
    "\n"
   ]
  },
  {
   "cell_type": "code",
   "execution_count": 6,
   "id": "93d2d07c-fa83-427f-91cb-e4e4c2c6da69",
   "metadata": {},
   "outputs": [
    {
     "name": "stdout",
     "output_type": "stream",
     "text": [
      "[0, 0, 0, 0] 0\n",
      "[0, 0, 0, 1] 1\n",
      "[0, 0, 1, 0] 1\n",
      "[0, 0, 1, 1] 2\n",
      "[0, 1, 0, 0] 1\n",
      "[0, 1, 0, 1] 2\n",
      "[0, 1, 1, 0] 2\n",
      "[0, 1, 1, 1] 3\n",
      "[1, 0, 0, 0] 1\n",
      "[1, 0, 0, 1] 2\n",
      "[1, 0, 1, 0] 2\n",
      "[1, 0, 1, 1] 3\n",
      "[1, 1, 0, 0] 2\n",
      "[1, 1, 0, 1] 3\n",
      "[1, 1, 1, 0] 3\n",
      "[1, 1, 1, 1] 4\n"
     ]
    }
   ],
   "source": [
    "for gene_1 in [0, 1]:\n",
    "    for gene_2 in [0, 1]:\n",
    "        for gene_3 in [0, 1]:\n",
    "            for gene_4 in [0, 1]:\n",
    "# do gene 1 ao gene 4, estamos mostrando quais são os seus possíveis valores\n",
    "# o valor dos genes vão variar entre 0 e 1\n",
    "                individuo = [gene_1, gene_2, gene_3, gene_4]\n",
    "# o indivíduo corresponderá aos 4 valores de genes escolhidos e é uma tupla\n",
    "                fobj = funcao_objetivo(individuo)\n",
    "# aqui, a função é a mesma da que foi desenvolvida no experimento 1\n",
    "# por isso importamos a função do documento geral de funções\n",
    "# aqui estaremos computando a função objetivo\n",
    "                print(individuo, fobj)\n",
    "    # novamente vendo o indivíduo, os seus genes e o valor da função objetiva"
   ]
  },
  {
   "cell_type": "code",
   "execution_count": 3,
   "id": "2a3c2d92-7405-4873-924f-6106c4853449",
   "metadata": {},
   "outputs": [
    {
     "name": "stdout",
     "output_type": "stream",
     "text": [
      "(0, 0, 0, 0) 0\n",
      "(0, 0, 0, 1) 1\n",
      "(0, 0, 1, 0) 1\n",
      "(0, 0, 1, 1) 2\n",
      "(0, 1, 0, 0) 1\n",
      "(0, 1, 0, 1) 2\n",
      "(0, 1, 1, 0) 2\n",
      "(0, 1, 1, 1) 3\n",
      "(1, 0, 0, 0) 1\n",
      "(1, 0, 0, 1) 2\n",
      "(1, 0, 1, 0) 2\n",
      "(1, 0, 1, 1) 3\n",
      "(1, 1, 0, 0) 2\n",
      "(1, 1, 0, 1) 3\n",
      "(1, 1, 1, 0) 3\n",
      "(1, 1, 1, 1) 4\n"
     ]
    }
   ],
   "source": [
    "for individuo in itertools.product([0,1], repeat=4):\n",
    "    fobj = funcao_objetivo(individuo)\n",
    "    print(individuo, fobj)\n",
    "    \n",
    "# apesar de ser muito parecido com o que fizemos na célula anterior, aqui temos a biblioteca 'itertools'\n",
    "# ela é uma ferramente nova, mas que permite fazer algumas coisas mais básicas, porém úteis\n",
    "# em primeiro lugar, é possível perceber que a célula foi SUPER diminuida, resumimos o código\n",
    "# contudo, a necessidade de se repetir 4 vezes foi pontuada logo na primeira linha\n",
    "# então, mesmo não estando especificados os quatro genes, ainda foram testados todos os valores para ele\n",
    "# novamente, tivemos 16 resultados"
   ]
  },
  {
   "cell_type": "markdown",
   "id": "b8dad33c-74ce-4008-b820-729d909fdeff",
   "metadata": {},
   "source": [
    "## Conclusão\n",
    "\n"
   ]
  },
  {
   "cell_type": "markdown",
   "id": "3a4954d2-4754-45e1-91dc-1150123e1428",
   "metadata": {},
   "source": [
    "> Encontramos o valor máximo sem a necessidade de ficar variando parâmetros!!!! Diferentemente do que aconteceu no desafio anterior, consegui perceber que, dessa vez, o resultado máximo foi encontrado como se esperava exatamente com o número de sorteios previstos (16). Além disso, encontramos novamente o valor mínimo e os intermediários. Sendo assim e considerando que todos nós encontramos o mesmo resultado com o mesmo número de testes, afirmo que algoritmo é determinístico. Me parece que a busca em grade levará sempre em conta os valores dos parâmetros para entender quantas buscas são necessárias para ter o resultado esperado, ela fará todas elas, sem exceção."
   ]
  },
  {
   "cell_type": "markdown",
   "id": "1c184a38-55d1-4fcd-8f55-d8dac0d4247e",
   "metadata": {},
   "source": [
    "## Playground\n",
    "\n"
   ]
  },
  {
   "cell_type": "markdown",
   "id": "b846c943-5973-4b93-8ee3-dc795b24d23c",
   "metadata": {
    "tags": []
   },
   "source": [
    "### Anotações\n",
    "<br> Aqui, os resultados precisam ser iguais para todos os alunos\n",
    "<br> Código reutilizávei, arquivo de funções\n",
    "<br> Queria muito ressaltar a necessidade de ter o documentos localizados nos locais adequados para que as novas ferramentas introduzidas funcionem corretamente e, de fato, economizem meu tempo."
   ]
  }
 ],
 "metadata": {
  "kernelspec": {
   "display_name": "ilumpy",
   "language": "python",
   "name": "ilumpy"
  },
  "language_info": {
   "codemirror_mode": {
    "name": "ipython",
    "version": 3
   },
   "file_extension": ".py",
   "mimetype": "text/x-python",
   "name": "python",
   "nbconvert_exporter": "python",
   "pygments_lexer": "ipython3",
   "version": "3.9.7"
  }
 },
 "nbformat": 4,
 "nbformat_minor": 5
}
