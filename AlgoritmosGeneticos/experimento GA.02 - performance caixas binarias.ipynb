{
 "cells": [
  {
   "cell_type": "markdown",
   "id": "7228b0fa-14a2-4fe4-82f0-04e80fe8e55b",
   "metadata": {
    "tags": []
   },
   "source": [
    "## COMPARANDO AS PERFORMANCES"
   ]
  },
  {
   "cell_type": "markdown",
   "id": "02e97ba2-05e0-44d3-a705-6e6c6ada7b98",
   "metadata": {},
   "source": [
    "<hr>"
   ]
  },
  {
   "cell_type": "markdown",
   "id": "660c69d3-801d-42e7-b42f-1dbb6866a4ba",
   "metadata": {},
   "source": [
    "## Introdução"
   ]
  },
  {
   "cell_type": "markdown",
   "id": "bd9360ef-5089-4717-a2f2-c0a358f09ccd",
   "metadata": {},
   "source": [
    "<div style=' text-align: justify; text-justify: inter-word;'>\n",
    "  <br> Um mesmo problema de programação pode ser resolvido por diferentes ferramentas. Nesse sentido, é importante conhecer e entender essas ferramente, visto que isso possibilita compreender em quais contextos elas são mais adequadas e estáveis, a quais limitações elas respondem melhor, com qual delas você tem mais facilidade de trabalhar. Em contextos nos quais o código está relacionado com o um código utilizado por pesquisadores e empresas, é relevante estudar a performance dos algoritmos a fim de poder manter os sistemas estáveis e de entender quais mudanças seriam benéficas para melhorar as respostas dos programa [1].\n",
    "   <br>Uma forma de estudar algoritmos e compará-los entre si é a análise de desempenho. Com ela, conseguiremos visualizar aqui, por exemplo, a quantidade de tempo que cada algoritmo gasta para resolver o problema das caixas binárias.\n",
    "</div>"
   ]
  },
  {
   "cell_type": "markdown",
   "id": "37e714f7-e8a7-4fe4-8c2d-4042be426b2c",
   "metadata": {},
   "source": [
    "<div style=' text-align: justify; text-justify: inter-word;'>\n",
    "  <br> No primeiro semestre do curso de Bacharelado em Ciência e Tecnologia, os alunos tem contato com a disciplina de Lógica Computacional. Nela, vimos especificamente opções para se estudar a eficiência de algoritmos. Uma das opções de ferramenta para o estudo foi o módulo 'time', que permite verificar em quanto tempo o computador obtém um resultado e usaremos ela aqui. O Prof. Daniel a definiu da seguinte maneira: \n",
    "</div>"
   ]
  },
  {
   "cell_type": "markdown",
   "id": "dd02fcda-1917-4f7a-9f6e-32842f520330",
   "metadata": {},
   "source": [
    " > <center> \"Podemos medir o tempo que essa função demora para executar usando o módulo time\".</center>"
   ]
  },
  {
   "cell_type": "markdown",
   "id": "fc894d6b-f002-4106-86ac-21eb4b204fe4",
   "metadata": {},
   "source": [
    "<div style=' text-align: justify; text-justify: inter-word;'>\n",
    "Além do 'time', já também um outro método conhecido como 'timeit'. Ele também mede o tempo de execução de certo trecho de um código. Todavia, a diferença aqui é que ele roda o código um número definido de vezes e oferece o valor mínimo encontrado entre essas vezes. Para usá-lo, pode-se definir uma função [2], [3].\n",
    "</div>"
   ]
  },
  {
   "cell_type": "markdown",
   "id": "da7ce7ff-d18e-4949-b7b2-fcb27a061635",
   "metadata": {},
   "source": [
    "## Objetivo"
   ]
  },
  {
   "cell_type": "markdown",
   "id": "aa82b448-5f9a-48bc-92a3-f968c9de0c82",
   "metadata": {},
   "source": [
    "> <div style=' text-align: justify; text-justify: inter-word;'>\n",
    "   O objetivo do presente experimento consiste em comparar a atividade de três algoritmos distintos no contexto da resolução do problema das caixas binárias. Para tanto, com base nos resultados que obtivermos, buscaremos entender quais deles se destacam e em quais situações. \n",
    "</div>"
   ]
  },
  {
   "cell_type": "markdown",
   "id": "5dbf57a6-b56d-475c-9482-d301a724eb8b",
   "metadata": {},
   "source": [
    "<hr>"
   ]
  },
  {
   "cell_type": "markdown",
   "id": "d1469293-fb3e-4aba-962f-49145acc6644",
   "metadata": {},
   "source": [
    "## Importações"
   ]
  },
  {
   "cell_type": "code",
   "execution_count": 37,
   "id": "2db0d93d-6de9-4010-a7c0-e50f79ec3407",
   "metadata": {},
   "outputs": [],
   "source": [
    "import random\n",
    "import time # calcula o tempo que a função gasta \n",
    "import timeit # calcula o tempo também, mas com outra metodologia\n",
    "import numpy as np # análise de caráter estatístico\n",
    "\n",
    "# para busca aleatória\n",
    "from funcoes import individuo_cb, funcao_objetivo\n",
    "\n",
    "# para busca em grade\n",
    "import itertools \n",
    "from funcoes import funcao_objetivo\n",
    "\n",
    "# para algoritmo genético\n",
    "from funcoes import populacao_cb as cria_pop_ini \n",
    "from funcoes import selecao_roleta_maxima as roleta_max \n",
    "from funcoes import funcao_objetivo_populacao_cb as fobj_populacao_cb \n",
    "from funcoes import cruzamento_ponto_simples as f_cruzamento\n",
    "from funcoes import mutacao_cb as f_mutacao"
   ]
  },
  {
   "cell_type": "markdown",
   "id": "7370aeab-f77d-43c7-8f07-991544103f88",
   "metadata": {},
   "source": [
    "## Códigos e discussão"
   ]
  },
  {
   "cell_type": "markdown",
   "id": "e95c85ee-912d-4a19-8bd3-edc924e309ba",
   "metadata": {},
   "source": [
    "<hr> \n",
    "<center>Todos os códigos apresentados a seguir foram desenvolvidos pelo **Prof. Dr. Daniel Cassar**!</center>\n",
    "<hr>"
   ]
  },
  {
   "cell_type": "markdown",
   "id": "f80589d7-ecff-416a-807b-600164893117",
   "metadata": {},
   "source": [
    "> **BUSCA ALEATÓRIA**"
   ]
  },
  {
   "cell_type": "code",
   "execution_count": 2,
   "id": "0db8fca8-8447-47fa-b23f-c945eff80260",
   "metadata": {},
   "outputs": [
    {
     "name": "stdout",
     "output_type": "stream",
     "text": [
      "[0, 0, 1, 1, 0, 1, 0, 0, 0, 0, 1, 0, 0, 0, 0, 0] 5\n",
      "[1, 0, 0, 0, 0, 1, 1, 0, 0, 0, 0, 1, 0, 1, 0, 0] 6\n",
      "[0, 1, 1, 1, 0, 0, 0, 1, 1, 0, 0, 1, 1, 1, 1, 0] 10\n",
      "[1, 0, 1, 1, 1, 1, 1, 0, 1, 1, 0, 1, 0, 0, 0, 0] 10\n",
      "[0, 1, 1, 0, 0, 0, 1, 1, 1, 0, 1, 1, 0, 1, 1, 0] 10\n",
      "[1, 0, 1, 0, 0, 0, 1, 0, 0, 0, 1, 1, 0, 1, 1, 1] 9\n",
      "[0, 1, 1, 1, 0, 1, 0, 1, 0, 1, 1, 0, 1, 0, 0, 0] 9\n",
      "[1, 1, 1, 0, 1, 1, 1, 0, 1, 1, 1, 1, 0, 1, 0, 1] 13\n",
      "[1, 1, 1, 1, 1, 1, 1, 1, 0, 0, 1, 1, 1, 0, 0, 0] 12\n",
      "[0, 1, 0, 1, 1, 1, 0, 0, 1, 1, 0, 0, 0, 0, 0, 0] 7\n",
      "[0, 1, 0, 1, 1, 1, 1, 0, 0, 0, 0, 1, 0, 1, 0, 0] 8\n",
      "[1, 1, 0, 1, 0, 0, 1, 0, 0, 0, 0, 1, 0, 0, 1, 1] 8\n",
      "[1, 0, 0, 0, 1, 0, 1, 1, 0, 1, 1, 0, 1, 0, 0, 1] 9\n",
      "[0, 0, 0, 0, 0, 1, 1, 1, 1, 0, 0, 0, 0, 0, 1, 0] 6\n",
      "\n",
      "O tempo gasto pelo algoritmo de busca aleatória para a obtenção do resultado foi 0.008988599999999902 segundos.\n"
     ]
    }
   ],
   "source": [
    "# constantes\n",
    "N = 14 # número de sorteios\n",
    "N_GENES = 16\n",
    "\n",
    "iniciando = time.perf_counter()\n",
    "\n",
    "for n in range(N): \n",
    "    candidato = individuo_cb(N_GENES)\n",
    "    f_objetivo = funcao_objetivo(candidato)\n",
    "    print(candidato, f_objetivo)\n",
    "    \n",
    "finalizando = time.perf_counter()\n",
    "\n",
    "print()\n",
    "print('O tempo gasto pelo algoritmo de busca aleatória para a obtenção do resultado foi', finalizando - iniciando, 'segundos.')"
   ]
  },
  {
   "cell_type": "markdown",
   "id": "7a70f3dd-6b01-4094-a08d-7c6c57434701",
   "metadata": {},
   "source": [
    "> **BUSCA EM GRADE**"
   ]
  },
  {
   "cell_type": "code",
   "execution_count": 3,
   "id": "814a940c-133f-45c8-a4db-e2e5a769dfc1",
   "metadata": {
    "tags": []
   },
   "outputs": [
    {
     "name": "stdout",
     "output_type": "stream",
     "text": [
      "[0, 0, 0, 0] 1\n",
      "[0, 0, 0, 1] 2\n",
      "[0, 0, 1, 0] 2\n",
      "[0, 0, 1, 1] 3\n",
      "[0, 1, 0, 0] 2\n",
      "[0, 1, 0, 1] 3\n",
      "[0, 1, 1, 0] 3\n",
      "[0, 1, 1, 1] 4\n",
      "[1, 0, 0, 0] 2\n",
      "[1, 0, 0, 1] 3\n",
      "[1, 0, 1, 0] 3\n",
      "[1, 0, 1, 1] 4\n",
      "[1, 1, 0, 0] 3\n",
      "[1, 1, 0, 1] 4\n",
      "[1, 1, 1, 0] 4\n",
      "[1, 1, 1, 1] 5\n",
      "\n",
      "O tempo gasto pela primeira opção de busca em grade para a obtenção do resultado foi 0.0019288999999997891 segundos.\n"
     ]
    }
   ],
   "source": [
    "# primeiro jeito\n",
    "inicio = time.perf_counter()\n",
    "\n",
    "for gene_1 in [0, 1]:\n",
    "    for gene_2 in [0, 1]:\n",
    "        for gene_3 in [0, 1]:\n",
    "            for gene_4 in [0, 1]:\n",
    "                individuo = [gene_1, gene_2, gene_3, gene_4]\n",
    "                fobj = funcao_objetivo(individuo)\n",
    "                print(individuo, fobj)\n",
    "\n",
    "fim = time.perf_counter()\n",
    "\n",
    "print()\n",
    "print('O tempo gasto pela primeira opção de busca em grade para a obtenção do resultado foi', fim - inicio, 'segundos.')"
   ]
  },
  {
   "cell_type": "code",
   "execution_count": 4,
   "id": "1e8d7944-b389-4ed0-a05e-b340ac6df717",
   "metadata": {},
   "outputs": [
    {
     "name": "stdout",
     "output_type": "stream",
     "text": [
      "(0, 0, 0, 0) 1\n",
      "(0, 0, 0, 1) 2\n",
      "(0, 0, 1, 0) 2\n",
      "(0, 0, 1, 1) 3\n",
      "(0, 1, 0, 0) 2\n",
      "(0, 1, 0, 1) 3\n",
      "(0, 1, 1, 0) 3\n",
      "(0, 1, 1, 1) 4\n",
      "(1, 0, 0, 0) 2\n",
      "(1, 0, 0, 1) 3\n",
      "(1, 0, 1, 0) 3\n",
      "(1, 0, 1, 1) 4\n",
      "(1, 1, 0, 0) 3\n",
      "(1, 1, 0, 1) 4\n",
      "(1, 1, 1, 0) 4\n",
      "(1, 1, 1, 1) 5\n",
      "\n",
      "O tempo gasto pela segunda opção de busca em grade para a obtenção do resultado foi 0.0010298000000004137 segundos.\n"
     ]
    }
   ],
   "source": [
    "# segundo jeito\n",
    "# esse aqui vai ser mais fácil considerando a mudança de variáveis\n",
    "inicial = time.perf_counter()\n",
    "\n",
    "for individuo in itertools.product([0,1], repeat=4):\n",
    "    fobj = funcao_objetivo(individuo)\n",
    "    print(individuo, fobj)\n",
    "    \n",
    "final = time.perf_counter()\n",
    "\n",
    "print()\n",
    "print('O tempo gasto pela segunda opção de busca em grade para a obtenção do resultado foi', final - inicial, 'segundos.')"
   ]
  },
  {
   "cell_type": "markdown",
   "id": "bb4350d9-5c36-460c-ab51-f291a72a6e55",
   "metadata": {},
   "source": [
    "> **ALGORITMO GENÉTICO**"
   ]
  },
  {
   "cell_type": "code",
   "execution_count": 5,
   "id": "d56e67db-5bba-4da9-98ba-7e3b38fb22b3",
   "metadata": {},
   "outputs": [
    {
     "name": "stdout",
     "output_type": "stream",
     "text": [
      "População Inicial:\n",
      "[[1, 0, 1, 0, 0, 0, 0, 1, 1, 1, 0, 1, 1, 1, 0, 1], [0, 1, 0, 1, 1, 0, 0, 0, 0, 1, 0, 0, 1, 0, 0, 0], [0, 0, 0, 0, 0, 1, 0, 1, 0, 1, 1, 0, 0, 1, 1, 1], [1, 1, 0, 1, 1, 0, 0, 1, 1, 1, 0, 0, 0, 1, 0, 1], [1, 1, 0, 1, 0, 0, 0, 0, 0, 0, 1, 1, 0, 1, 0, 0], [1, 0, 0, 1, 0, 0, 1, 1, 1, 1, 1, 1, 1, 0, 1, 0]]\n",
      "\n",
      "[1, 0, 1, 0, 0, 0, 0, 1, 1, 1, 0, 1, 1, 1, 0, 1]\n",
      "[1, 0, 1, 0, 0, 0, 0, 1, 1, 1, 0, 1, 1, 1, 0, 1]\n",
      "\n",
      "\n",
      "[1, 0, 1, 1, 0, 0, 0, 1, 1, 1, 0, 1, 1, 1, 0, 1]\n",
      "[1, 0, 1, 1, 0, 0, 0, 1, 1, 1, 0, 1, 1, 1, 0, 1]\n",
      "\n",
      "\n",
      "[1, 0, 0, 1, 0, 0, 0, 1, 1, 1, 0, 1, 1, 1, 0, 1]\n",
      "[1, 0, 0, 1, 0, 0, 0, 1, 1, 1, 0, 1, 1, 1, 0, 1]\n",
      "\n",
      "\n",
      "[1, 0, 0, 1, 0, 0, 0, 1, 1, 1, 0, 1, 1, 1, 0, 1]\n",
      "[1, 0, 0, 1, 0, 0, 0, 1, 1, 1, 0, 1, 1, 1, 0, 1]\n",
      "\n",
      "\n",
      "[1, 0, 0, 1, 0, 0, 0, 1, 1, 1, 0, 1, 1, 1, 0, 1]\n",
      "[1, 0, 0, 1, 0, 0, 0, 1, 1, 1, 0, 1, 0, 1, 0, 1]\n",
      "\n",
      "\n",
      "[1, 0, 0, 1, 0, 0, 0, 1, 1, 1, 0, 1, 1, 1, 0, 1]\n",
      "[1, 0, 0, 1, 0, 0, 0, 1, 1, 1, 0, 1, 1, 0, 0, 1]\n",
      "\n",
      "\n",
      "[1, 0, 0, 1, 0, 0, 0, 1, 1, 1, 0, 1, 1, 1, 0, 1]\n",
      "[1, 0, 0, 1, 0, 0, 0, 1, 1, 1, 0, 0, 1, 1, 0, 1]\n",
      "\n",
      "\n",
      "[1, 0, 0, 1, 0, 0, 0, 1, 1, 1, 0, 1, 1, 1, 0, 1]\n",
      "[1, 0, 0, 1, 0, 0, 0, 1, 1, 1, 0, 1, 1, 1, 0, 1]\n",
      "\n",
      "\n",
      "[1, 0, 0, 1, 0, 0, 0, 1, 1, 1, 0, 1, 1, 1, 0, 1]\n",
      "[1, 0, 0, 1, 0, 0, 0, 1, 1, 1, 0, 1, 1, 1, 0, 1]\n",
      "\n",
      "\n",
      "[1, 0, 0, 1, 0, 0, 0, 1, 1, 1, 0, 1, 1, 1, 0, 1]\n",
      "[1, 0, 0, 1, 0, 0, 0, 1, 1, 1, 0, 1, 1, 1, 0, 1]\n",
      "\n",
      "\n",
      "[1, 0, 0, 1, 0, 0, 0, 1, 1, 1, 0, 1, 1, 1, 0, 1]\n",
      "[1, 0, 0, 1, 0, 0, 0, 1, 1, 1, 0, 0, 1, 1, 0, 1]\n",
      "\n",
      "\n",
      "População Final:\n",
      "[[1, 0, 0, 1, 0, 0, 0, 1, 1, 1, 0, 1, 1, 1, 0, 1], [1, 0, 0, 1, 0, 0, 0, 1, 1, 1, 0, 1, 1, 1, 0, 1], [1, 0, 0, 1, 0, 0, 0, 1, 1, 1, 0, 1, 1, 1, 0, 1], [1, 0, 0, 1, 0, 0, 0, 1, 1, 1, 0, 0, 1, 1, 0, 1], [1, 0, 0, 1, 0, 0, 0, 1, 1, 1, 0, 0, 1, 1, 0, 1], [1, 0, 0, 1, 0, 0, 0, 1, 1, 1, 0, 1, 1, 1, 0, 1]]\n",
      "\n",
      "O tempo gasto pela função para a obtenção do resultado foi 0.003619099999999875 segundos.\n"
     ]
    }
   ],
   "source": [
    "#constantes\n",
    "TAMANHO_POP = 6\n",
    "NUME_GENES = 16\n",
    "NUME_GERACOES = 57\n",
    "CHANCE_CRUZAMENTO = 0.5 \n",
    "CHANCE_MUTACAO = 0.05\n",
    "\n",
    "inicioo = time.perf_counter() #aplicando o método para a contagem do tempo\n",
    "\n",
    "populacao = cria_pop_ini(TAMANHO_POP, NUME_GENES) \n",
    "print(\"População Inicial:\")\n",
    "print(populacao)\n",
    "\n",
    "# tendo a população inicial, agora faremos a seleção e o cruzamento\n",
    "for n in range(NUME_GERACOES):\n",
    "    fitness = fobj_populacao_cb(populacao) # seleção dos melhores candidatos de acordo com fitness\n",
    "    populacao = roleta_max(populacao, fitness) # selecnionando de acordo com os melhores e a proporção na roleta\n",
    "    pais = populacao[0::2] # corte da população: do elemento 0 até o final, com salto de 2 em dois\n",
    "    maes = populacao[1::2] # corte da população: do elemento 1 até o final, com intervalo de 2 em 2 \n",
    "# lembrando que população é uma lista e listas podem ser cortadas\n",
    "    contador = 0 \n",
    "    \n",
    "    for pai, mae in zip(pais, maes):\n",
    "        if random.random() <= CHANCE_CRUZAMENTO: \n",
    "            #vai ter cruzamento\n",
    "            filho1, filho2 = f_cruzamento(pai, mae)\n",
    "            populacao[contador] = filho1\n",
    "            populacao[contador + 1] = filho2\n",
    "            \n",
    "        contador = contador + 2\n",
    "         \n",
    "    for n in range(len(populacao)):\n",
    "        if random.random() <= CHANCE_MUTACAO: \n",
    "            individuo = populacao[n]\n",
    "            print()\n",
    "            print(individuo)\n",
    "            populacao[n] = f_mutacao(individuo)\n",
    "            print(populacao[n])\n",
    "            print()\n",
    "       \n",
    "    \n",
    "print()\n",
    "print(\"População Final:\")\n",
    "print(populacao)\n",
    "\n",
    "finall = time.perf_counter()\n",
    "\n",
    "print()\n",
    "print('O tempo gasto pela função para a obtenção do resultado foi', finall - inicioo, 'segundos.')"
   ]
  },
  {
   "cell_type": "markdown",
   "id": "68311832-8ff0-4eed-8e08-ffbf3010bdaf",
   "metadata": {},
   "source": [
    "> **USANDO O TIMEIT AGORA**"
   ]
  },
  {
   "cell_type": "code",
   "execution_count": 6,
   "id": "3be65ea6-6069-48d0-9a3b-9edc95cf8e33",
   "metadata": {},
   "outputs": [
    {
     "name": "stdout",
     "output_type": "stream",
     "text": [
      "0.046880900000000114 segundos para achar o resultado da busca aleatória\n"
     ]
    }
   ],
   "source": [
    "# BUSCA ALEATÓRIA\n",
    "N = 14 # número de sorteios\n",
    "NU_GENES = 4\n",
    "\n",
    "# criando a função para executar o timeit\n",
    "def busca_aleatoria():\n",
    "    for n in range(N): \n",
    "        candidato = individuo_cb(NU_GENES)\n",
    "        f_objetivo = funcao_objetivo(candidato)\n",
    "        #print(candidato, f_objetivo) #rodar isso travou o pc\n",
    "    \n",
    "tempo_do_codigo = timeit.timeit(busca_aleatoria, number = 1000) # sendo number o número de excecuções\n",
    "                                                                # o site mandou 10mil, mas travou o kernel, fazer com 10x menos então\n",
    "                                                                \n",
    "print(tempo_do_codigo, 'segundos para achar o resultado da busca aleatória')   "
   ]
  },
  {
   "cell_type": "code",
   "execution_count": 23,
   "id": "946edcca-4898-4cfa-9338-8efa75b6c626",
   "metadata": {},
   "outputs": [
    {
     "name": "stdout",
     "output_type": "stream",
     "text": [
      "0.004189900000028501 segundos para achar o resultado da busca aleatória\n"
     ]
    }
   ],
   "source": [
    "# BUSCA EM GRADE\n",
    "# sem constantes\n",
    "\n",
    "def busca_em_grade():\n",
    "    for gene_1 in [0, 1]:\n",
    "        for gene_2 in [0, 1]:\n",
    "            for gene_3 in [0, 1]:\n",
    "                for gene_4 in [0, 1]:\n",
    "                    individuo = [gene_1, gene_2, gene_3, gene_4] # precisa reescrever esse código p cada variação\n",
    "                    fobj = funcao_objetivo(individuo)\n",
    "        #print(individuo, fobj)\n",
    "                                                                    \n",
    "ttempo_codigo = timeit.timeit(busca_em_grade, number = 1000) # sendo number o número de excecuções                                                                \n",
    "print(ttempo_codigo, 'segundos para achar o resultado da busca aleatória')                                                "
   ]
  },
  {
   "cell_type": "code",
   "execution_count": 17,
   "id": "d765016e-a695-4b15-b887-730333c945de",
   "metadata": {},
   "outputs": [
    {
     "name": "stdout",
     "output_type": "stream",
     "text": [
      "0.007875000000012733 segundos para achar o resultado da busca aleatória\n"
     ]
    }
   ],
   "source": [
    "# BUSCA EM GRADE\n",
    "# sem constantes e com itertools\n",
    "\n",
    "def busca_grade_iter():\n",
    "    for individuo in itertools.product([0,1], repeat=4):\n",
    "        fobj = funcao_objetivo(individuo)\n",
    "        #print(individuo, fobj)\n",
    "    \n",
    "t_codigo = timeit.timeit(busca_grade_iter, number = 1000) # sendo number o número de excecuções                                                                \n",
    "print(t_codigo, 'segundos para achar o resultado da busca aleatória')  "
   ]
  },
  {
   "cell_type": "code",
   "execution_count": 10,
   "id": "d268ccdd-ac63-43d3-b36e-fe76fbf40deb",
   "metadata": {},
   "outputs": [
    {
     "name": "stdout",
     "output_type": "stream",
     "text": [
      "0.27878370000007635 segundos para achar o resultado da busca por algoritmo genético\n"
     ]
    }
   ],
   "source": [
    "# ALGROTIMO GENÉTICO\n",
    "# prints comentados apenas para evitar que o computador morra\n",
    "TAMANHO_POP = 6\n",
    "NUMERO_GENES = 2\n",
    "NUMERO_GERACOES = 57\n",
    "CHANCE_CRUZAMENTO = 0.5 \n",
    "CHANCE_MUTACAO = 0.05\n",
    "\n",
    "\n",
    "def busca_alg_genetico():\n",
    "    populacao = cria_pop_ini(TAMANHO_POP, NUMERO_GENES) \n",
    "    #print(\"População Inicial:\")\n",
    "    #print(populacao)\n",
    "\n",
    "    for n in range(NUMERO_GERACOES):\n",
    "        fitness = fobj_populacao_cb(populacao) \n",
    "        populacao = roleta_max(populacao, fitness) \n",
    "        pais = populacao[0::2] \n",
    "        maes = populacao[1::2] \n",
    "        contador = 0 \n",
    "    \n",
    "    for pai, mae in zip(pais, maes):\n",
    "        if random.random() <= CHANCE_CRUZAMENTO: \n",
    "            filho1, filho2 = f_cruzamento(pai, mae)\n",
    "            populacao[contador] = filho1\n",
    "            populacao[contador + 1] = filho2\n",
    "            \n",
    "        contador = contador + 2\n",
    "         \n",
    "    for n in range(len(populacao)):\n",
    "        if random.random() <= CHANCE_MUTACAO: \n",
    "            individuo = populacao[n]\n",
    "            #print()\n",
    "            #print(individuo)\n",
    "            populacao[n] = f_mutacao(individuo)\n",
    "            #print(populacao[n])\n",
    "            #print()\n",
    "            \n",
    "tempo_codigo = timeit.timeit(busca_alg_genetico, number = 1000)\n",
    "print(tempo_codigo, 'segundos para achar o resultado da busca por algoritmo genético')  "
   ]
  },
  {
   "cell_type": "markdown",
   "id": "d50892c0-2d19-4f13-8134-90d9107a9a47",
   "metadata": {},
   "source": [
    "<br>\n",
    "\n",
    "> **COMPARANDO OS DESEMPENHOS**"
   ]
  },
  {
   "cell_type": "markdown",
   "id": "9b03d774-9b75-4224-8767-52979e38cd51",
   "metadata": {},
   "source": [
    "**Análise considerando o TEMPO de execução + MUDANÇAS de variáveis**\n",
    "<div style=' text-align: justify; text-justify: inter-word;'>\n",
    "    \n",
    "Para conseguir realizar a análise de performance dos algoritmos de maneira mais robusta, vou não somente **alterar as variáveis, como também alterarei os métodos** e discutirei os resultados para cada um. Sendo assim, vamos começar com o método 'time' acompanhado por mudanças no número de caixas ou, melhor, número de genes. Serão cinco mudanças para cada algoritmo.\n",
    "<br> Lembrando que os valores de tempo serão alterados conforme eu rodar o código novamente. Nesse sentido, os valores na tabela não são fixos, mas são representativos dos momentos em que eu fazia os testes.\n",
    "</div>\n"
   ]
  },
  {
   "cell_type": "markdown",
   "id": "c3ade9ce-9c0c-4e7e-881b-36b82e7d6c99",
   "metadata": {},
   "source": [
    "> Resultados para o algoritmo de BUSCA ALEATÓRIA\n",
    "\n",
    "| N° caixas | Resultado por TIME (s) | Resultado por TIMEIT (s) |   |   |\n",
    "|-----------|--------------------|----------------------|---|---|\n",
    "|     1     |0.0007055000000000256                   |0.029373200000009092  |   |   |\n",
    "|     4     |0.0005522999999989509                   |0.08292669999991631   |   |   |\n",
    "|     8     |0.007191799999418436                    |0.14952549999998155   |   |   |\n",
    "|     12    |0.4781016999999679                      |0.21802279999997154   |   |   |\n",
    "|     16    |0.00047779999999875145                  |0.2813638999998602    |   |   |\n",
    "\n",
    "<br> **Breve Análise:**\n",
    "- Para a maioria dos aumentos, o valor encontrado para o tempo que a função gastou também aumentou. Contudo, nos casos de 4 caixas e 16 caixas, o valor foi inferior, sendo o de 16 caixas o menor de todos."
   ]
  },
  {
   "cell_type": "markdown",
   "id": "bcbbf9e3-3222-42d5-a94e-7da9d5762fc8",
   "metadata": {},
   "source": [
    "> <hr>"
   ]
  },
  {
   "cell_type": "markdown",
   "id": "8f7b1c3c-652c-430c-abda-39cfb4efef55",
   "metadata": {},
   "source": [
    "> Resultados para o algoritmo de BUSCA EM GRADE \n",
    "\n",
    "| N° caixas | Resultado por TIME (s) | Resultado por TIMEIT (s) |   |   |\n",
    "|-----------|--------------------|----------------------|---|---|\n",
    "|     1     |0.00026270000012118544                  |0.00047270000004573376|   |   |\n",
    "|     4     |0.0021954999997433333                   |0.006902999999965687  |   |   |\n",
    "|     8     |0.056430900000123074                    |0.12039559999993799   |   |   |\n",
    "|     12    |1.3619361000000936                      |1.4276856000001317    |   |   |\n",
    "|     16    |19.028413                       |23.895921000000044    |   |   |\n",
    "\n",
    "<br> Uau, 19 segundos me surpreendeu. Achei que o com itertools fosse demorar mais, mas aparentemente ele não é uma ferramenta que agiliza somente o processo de escrever o código, mas facilita a própria operação do computador também.\n",
    "<br>**Breve Análise:**\n",
    "- Conforme aumentado o número de caixas, o tempo necessário para obter uma resposta também aumentou."
   ]
  },
  {
   "cell_type": "markdown",
   "id": "415708b6-9dff-40a9-97e1-36be97e8a356",
   "metadata": {},
   "source": [
    "> ESTATÍSTICA:\n",
    "<br> Por ser um método determinístico, também é necessário fazer uma análise de cunho mais estatística dos valores de tempo obtidos, a fim do nosso trabalho aqui ser satisfatório. Vejamos ela a seguir:"
   ]
  },
  {
   "cell_type": "code",
   "execution_count": 46,
   "id": "cf0ac396-30b2-4a94-9180-83f30d672a99",
   "metadata": {},
   "outputs": [
    {
     "name": "stdout",
     "output_type": "stream",
     "text": [
      "A média do tempo de execução, usando o método time, para a busca em grade foi de 4.089847640000016 segundos\n",
      "O desvio padrão dos valores referentes ao tempo de execução da busca em grade, usando o método time, é de 7.487379942045018 segundos\n"
     ]
    }
   ],
   "source": [
    "time_bg = np.array([0.00026270000012118544, 0.0021954999997433333, 0.056430900000123074, 1.3619361000000936, 19.028413])\n",
    "timeit_bg = np.array([0.00047270000004573376, 0.006902999999965687, 0.12039559999993799, 1.4276856000001317, 23.895921000000044])\n",
    "\n",
    "\n",
    "print('A média do tempo de execução, usando o método time, para a busca em grade foi de', time_bg.mean(), 'segundos') # média\n",
    "print('O desvio padrão dos valores referentes ao tempo de execução da busca em grade, usando o método time, é de', time_bg.std(), 'segundos') # desvio padrão"
   ]
  },
  {
   "cell_type": "markdown",
   "id": "8b657aac-d294-48a4-8e88-cc51fcce22a4",
   "metadata": {},
   "source": [
    "> <hr>"
   ]
  },
  {
   "cell_type": "markdown",
   "id": "8d5f72b2-920f-4f1e-ae42-874681d8ab25",
   "metadata": {},
   "source": [
    "> Resultados para o algoritmo de BUSCA EM GRADE COM ITERTOOLS\n",
    "\n",
    "| N° caixas | Resultado por TIME (s) | Resultado por TIMEIT (s) |   |   |\n",
    "|-----------|--------------------|----------------------|---|---|\n",
    "|     1     |0.0002946999999835498                   |0.0007316999999602558 |   |   |\n",
    "|     4     |0.00033270000005813927                  |0.003851299999951152  |   |   |\n",
    "|     8     |0.0100524000000064                      |0.09150750000003427   |   |   |\n",
    "|     12    |0.0008847999997669831                   |1.1771742999999333    |   |   |\n",
    "|     16    |5.9184338000000025                      |19.505490999999893    |   |   |\n",
    "\n",
    "<br> O computador gastou demorou tanto para me dar os resultados aqui que eu fiquei com medo de estar fazendo algo errado.\n",
    "<br> Conversando com outras pessoas que também tentaram fazer esse exercício, eu entendi que talvez tenha dado 'mais trabalho' por conta de ter escolhido  o método de busca em grade que envolve 'itertools'.\n",
    "<br>**Breve Análise:**\n",
    "- Aqui, observamos novamente a tendência de aumento do tempo gasto conforme o aumento do número das caixas. Há, porém, uma exceção: o processo para 12 caixas gastou menos tempo."
   ]
  },
  {
   "cell_type": "markdown",
   "id": "b5a90612-be08-437b-bc79-386eb41a09f4",
   "metadata": {},
   "source": [
    "> ESTATÍSTICA:\n",
    "<br> Por ser um método determinístico, também é necessário fazer uma análise de cunho mais estatística dos valores de tempo obtidos em grade aletória fazendo o uso de itertools, a fim do nosso trabalho aqui ser satisfatório. Vejamos ela a seguir:"
   ]
  },
  {
   "cell_type": "code",
   "execution_count": 47,
   "id": "9784be3e-2080-4850-afa6-8267f8096d25",
   "metadata": {},
   "outputs": [
    {
     "name": "stdout",
     "output_type": "stream",
     "text": [
      "A média do tempo de execução, usando o método time, para a busca em grade foi de 1.1859996799999635 segundos\n",
      "O desvio padrão dos valores referentes ao tempo de execução da busca em grade, usando o método time, é de 2.3662199589783097 segundos\n"
     ]
    }
   ],
   "source": [
    "time_bg_iter = np.array([0.0002946999999835498, 0.00033270000005813927, 0.0100524000000064, 0.0008847999997669831, 5.9184338000000025])\n",
    "timeit_bg_iter = np.array([0.0007316999999602558, 0.003851299999951152, 0.09150750000003427, 1.1771742999999333, 19.505490999999893])\n",
    "\n",
    "print('A média do tempo de execução, usando o método time, para a busca em grade foi de', time_bg_iter.mean(), 'segundos') # média\n",
    "print('O desvio padrão dos valores referentes ao tempo de execução da busca em grade, usando o método time, é de', time_bg_iter.std(), 'segundos') # desvio padrão"
   ]
  },
  {
   "cell_type": "markdown",
   "id": "22288d8e-5e39-463d-a526-15354152fd54",
   "metadata": {},
   "source": [
    "> <hr>"
   ]
  },
  {
   "cell_type": "markdown",
   "id": "1db381e7-b64b-4bea-9cef-6ede4a2c803a",
   "metadata": {},
   "source": [
    "> Resultados para o ALGORITMO GENÉTICO\n",
    "\n",
    "| N° caixas | Resultado por TIME (s) | Resultado por TIMEIT (s) |   |   |\n",
    "|-----------|--------------------|----------------------|---|---|\n",
    "|     1     |                    -                   |       -              |   |   |\n",
    "|     2     |0.0033855000000002633                   |0.5252547999999706    |   |   |\n",
    "|     4     |0.005741600000021663                    |0.6082541000000106    |   |   |\n",
    "|     8     |0.004684899999972458                    |0.6014586000000008    |   |   |\n",
    "|     12    |0.0037179999999921165                   |0.42532620000000065   |   |   |\n",
    "|     16    |0.0034704999999917163                   |0.49665509999999813   |   |   |\n",
    "\n",
    "<br>Importante observar: não consegui fazer com uma caixa porque o indivíduo precisa ter mais de um gene para poder dividí-los entre o filho 1 e o filho 2. Testei com o número de genes igual 2, por exemplo, e funcionou.\n",
    "<br>O número de caixas =2 não entrará na comparação, apenas queria saber quanto daria para um número menor que 4.\n",
    "<br>**Breve Análise:**\n",
    "<br>Apesar de ter sim sofrido alterações na performance, essas mudanças foram irrisórias quando comparadas ao demais algoritmos. Entre si, as alterações de tempo também não foram muito significativas apesar das alterações do número de caixas, aqui, genes.\n",
    "<br>Os dois valores para o maior número de caixas foram os mais inferiores (em timeit) e acredito que isso se deu porque eu rodei o código para eles assim que liguei o comportador, então o Kernel já não estava mais tão sobrecarregado. Vou até fazer um teste para ver se os outros diminuem. Para n =2, por exemplo, o resultado foi 0.27878370000007635. Contudo, como ele foi mudando a cada vez que o código rodar, não vou alterar a planilha."
   ]
  },
  {
   "cell_type": "markdown",
   "id": "1eea61ad-5db5-4a6c-a0b3-5d0a2e3b1de4",
   "metadata": {},
   "source": [
    "<hr>"
   ]
  },
  {
   "cell_type": "markdown",
   "id": "9b4fd7d8-d21d-4e50-8c5d-8fb7a9d461c8",
   "metadata": {
    "tags": []
   },
   "source": [
    "## Conclusão"
   ]
  },
  {
   "cell_type": "markdown",
   "id": "03ee2497-cd49-41e5-be4e-34d0e32b2ad9",
   "metadata": {},
   "source": [
    "1. Como um todo, tanto para o método de 'time' quanto para 'timeit', o algoritmo genético apresentou maior estabilidade. O tempo gasto por ele para a obtenção de um resultado foi pequeno em todos os casos e a variação entre eles, apesar do aumento do número das caixas, também não foi gritante. Sendo assim, comparando as performances, a melhor metodologia utilizada é, comprovadamente, o algpritmo genético O que representa o fato de esse recurso ser vantajoso para a resolução de alguns problemas, já que é inclusive mais rápido.\n",
    "2. Quanto à análise estatística dos métodos determinísticos (busca em grade sem e com itertools), foi possível perceber que a mais vantajosa, tanto nas análises de velocidade quanto no quesito média e desvio padrão, é a busca em grade com itertools."
   ]
  },
  {
   "cell_type": "markdown",
   "id": "e8776a7b-84b9-4784-b646-488b08b93554",
   "metadata": {},
   "source": [
    "<HR>"
   ]
  },
  {
   "cell_type": "markdown",
   "id": "5f7665f5-ef13-4aa4-8eb5-fab83e412c67",
   "metadata": {},
   "source": [
    "## Referências"
   ]
  },
  {
   "cell_type": "markdown",
   "id": "98388508-9364-49c5-879b-d5b7668ecfb9",
   "metadata": {},
   "source": [
    "[1] SILVESTRE, Iago. **Estudo de Performance de Algoritmos de Controle em Sistema Embarcado**. UFSC, 2020. Disponível em: <https://repositorio.ufsc.br/bitstream/handle/123456789/204775/PFC_Iago_de_Oliveira_Silvestre___modelo_BU_11marc.pdf?sequence=1&isAllowed=y>. \n",
    "<br>[2] CAMPBELL, Steve. **Python Timeit() with Examples**. Disponível em: <https://www.guru99.com/timeit-python-examples.html>. \n",
    "<br>[3] SIMPLILEARN. **Python timeit()**. 2023. Disponível em: <https://www.simplilearn.com/tutorials/python-tutorial/python-timeit>. "
   ]
  },
  {
   "cell_type": "markdown",
   "id": "fc80a248-86bf-4c27-a398-f9898fce9f84",
   "metadata": {},
   "source": [
    "<hr>"
   ]
  },
  {
   "cell_type": "markdown",
   "id": "bd08f5e8-8296-48fe-bcd8-219196fe5cad",
   "metadata": {},
   "source": [
    "## Playground"
   ]
  },
  {
   "cell_type": "markdown",
   "id": "6433a5f1-c54a-4af8-a132-0b4eb426671b",
   "metadata": {
    "tags": []
   },
   "source": [
    "# primeiro jeito\n",
    "inicio = time.perf_counter()\n",
    "\n",
    "for gene_1 in [0, 1]:\n",
    "    for gene_2 in [0, 1]:\n",
    "        for gene_3 in [0, 1]:\n",
    "            for gene_4 in [0, 1]:\n",
    "                for gene_5 in [0, 1]:\n",
    "                    for gene_6 in [0, 1]:\n",
    "                        for gene_7 in [0, 1]:\n",
    "                            for gene_8 in [0, 1]:\n",
    "                                for gene_9 in [0, 1]:\n",
    "                                    for gene_10 in [0, 1]:\n",
    "                                        for gene_11 in [0, 1]:\n",
    "                                            for gene_12 in [0, 1]:\n",
    "                                                for gene_13 in [0, 1]:\n",
    "                                                    for gene_14 in [0, 1]:\n",
    "                                                        for gene_15 in [0, 1]:\n",
    "                                                            for gene_16 in [0, 1]:\n",
    "                                                                individuo = [gene_1, gene_2, gene_3, gene_4, gene_5, gene_6, gene_7, gene_8, gene_9, gene_10, gene_11, gene_12, gene_13, gene_14, gene_15, gene_16]\n",
    "                                                                fobj = funcao_objetivo(individuo)\n",
    "                                                                print(individuo, fobj)\n",
    "\n",
    "fim = time.perf_counter()\n",
    "\n",
    "print()\n",
    "print('O tempo gasto pela primeira opção de busca em grade para a obtenção do resultado foi', fim - inicio, 'segundos.')"
   ]
  }
 ],
 "metadata": {
  "kernelspec": {
   "display_name": "ilumpy",
   "language": "python",
   "name": "ilumpy"
  },
  "language_info": {
   "codemirror_mode": {
    "name": "ipython",
    "version": 3
   },
   "file_extension": ".py",
   "mimetype": "text/x-python",
   "name": "python",
   "nbconvert_exporter": "python",
   "pygments_lexer": "ipython3",
   "version": "3.9.7"
  }
 },
 "nbformat": 4,
 "nbformat_minor": 5
}
