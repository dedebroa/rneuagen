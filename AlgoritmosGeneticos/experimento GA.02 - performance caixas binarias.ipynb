{
 "cells": [
  {
   "cell_type": "markdown",
   "id": "7228b0fa-14a2-4fe4-82f0-04e80fe8e55b",
   "metadata": {
    "tags": []
   },
   "source": [
    "## COMPARANDO AS PERFORMANCES"
   ]
  },
  {
   "cell_type": "markdown",
   "id": "02e97ba2-05e0-44d3-a705-6e6c6ada7b98",
   "metadata": {},
   "source": [
    "<hr>"
   ]
  },
  {
   "cell_type": "markdown",
   "id": "61284144-490f-4379-b18d-34382e662f15",
   "metadata": {},
   "source": [
    "não adianta resolver esse problema para apenas um valor de  𝑛 caixas, mas sim buscar uma tendência resolvendo esse problema para alguns valores de  𝑛 diferentes\n",
    "\n",
    "Dica 2: Lembre-se de que o único algoritmo determinístico dos três sendo estudados é o de busca em grade. Sendo assim, é esperado que um cientista entenda que **situações não-determinísticas demandam o uso de estatística para quantificar um valor médio de performance e seu desvio**. Novamente, fique atento pois essa dica não será mais dada a partir de agora."
   ]
  },
  {
   "cell_type": "markdown",
   "id": "660c69d3-801d-42e7-b42f-1dbb6866a4ba",
   "metadata": {},
   "source": [
    "## Introdução"
   ]
  },
  {
   "cell_type": "markdown",
   "id": "bd9360ef-5089-4717-a2f2-c0a358f09ccd",
   "metadata": {},
   "source": [
    "<div style=' text-align: justify; text-justify: inter-word;'>\n",
    "  <br> Um mesmo problema de programação pode ser resolvido por diferentes ferramentas. Nesse sentido, é importante conhecer e entender essas ferramente, visto que isso possibilita compreender em quais contextos elas são mais adequadas e estáveis, a quais limitações elas respondem melhor, com qual delas você tem mais facilidade de trabalhar. Em contextos nos quais o código está relacionado com o um código utilizado por pesquisadores e empresas, é relevante estudar a performance dos algoritmos a fim de poder manter os sistemas estáveis e de entender quais mudanças seriam benéficas para melhorar as respostas dos programa [1].\n",
    "   <br>Uma forma de estudar algoritmos e compará-los entre si é a análise de desempenho. Com ela, conseguiremos visualizar aqui, por exemplo, a quantidade de tempo que cada algoritmo gasta para resolver o problema das caixas binárias.\n",
    "</div>"
   ]
  },
  {
   "cell_type": "markdown",
   "id": "37e714f7-e8a7-4fe4-8c2d-4042be426b2c",
   "metadata": {},
   "source": [
    "<div style=' text-align: justify; text-justify: inter-word;'>\n",
    "  <br> No primeiro semestre do curso de Bacharelado em Ciência e Tecnologia, os alunos tem contato com a disciplina de Lógica Computacional. Nela, vimos especificamente opções para se estudar a eficiência de algoritmos. Uma das opções de ferramenta para o estudo foi o módulo 'time', que permite verificar em quanto tempo o computador obtém um resultado e usaremos ela aqui. O Prof. Daniel a definiu da seguinte maneira: \n",
    "</div>"
   ]
  },
  {
   "cell_type": "markdown",
   "id": "dd02fcda-1917-4f7a-9f6e-32842f520330",
   "metadata": {},
   "source": [
    " > <center> \"Podemos medir o tempo que essa função demora para executar usando o módulo time\".</center>"
   ]
  },
  {
   "cell_type": "markdown",
   "id": "da7ce7ff-d18e-4949-b7b2-fcb27a061635",
   "metadata": {},
   "source": [
    "## Objetivo"
   ]
  },
  {
   "cell_type": "markdown",
   "id": "aa82b448-5f9a-48bc-92a3-f968c9de0c82",
   "metadata": {},
   "source": [
    "> <div style=' text-align: justify; text-justify: inter-word;'>\n",
    "   O objetivo do presente experimento consiste em comparar a atividade de três algoritmos distintos no contexto da resolução do problema das caixas binárias. Para tanto, com base nos resultados que obtivermos, buscaremos entender quais deles se destacam e em quais situações. \n",
    "</div>"
   ]
  },
  {
   "cell_type": "markdown",
   "id": "5dbf57a6-b56d-475c-9482-d301a724eb8b",
   "metadata": {},
   "source": [
    "<hr>"
   ]
  },
  {
   "cell_type": "markdown",
   "id": "d1469293-fb3e-4aba-962f-49145acc6644",
   "metadata": {},
   "source": [
    "## Importações"
   ]
  },
  {
   "cell_type": "code",
   "execution_count": 1,
   "id": "2db0d93d-6de9-4010-a7c0-e50f79ec3407",
   "metadata": {},
   "outputs": [],
   "source": [
    "import random\n",
    "import time # calcula o tempo que a função gasta \n",
    "import timeit\n",
    "\n",
    "# para busca aleatória\n",
    "from funcoes import individuo_cb, funcao_objetivo\n",
    "\n",
    "# para busca em grade\n",
    "import itertools \n",
    "from funcoes import funcao_objetivo\n",
    "\n",
    "# para algoritmo genético\n",
    "from funcoes import populacao_cb as cria_pop_ini \n",
    "from funcoes import selecao_roleta_maxima as roleta_max \n",
    "from funcoes import funcao_objetivo_populacao_cb as fobj_populacao_cb \n",
    "from funcoes import cruzamento_ponto_simples as f_cruzamento\n",
    "from funcoes import mutacao_cb as f_mutacao"
   ]
  },
  {
   "cell_type": "markdown",
   "id": "7370aeab-f77d-43c7-8f07-991544103f88",
   "metadata": {},
   "source": [
    "## Códigos e discussão"
   ]
  },
  {
   "cell_type": "markdown",
   "id": "e95c85ee-912d-4a19-8bd3-edc924e309ba",
   "metadata": {},
   "source": [
    "<hr> \n",
    "<center>Todos os códigos apresentados a seguir foram desenvolvidos pelo **Prof. Dr. Daniel Cassar**!</center>\n",
    "<hr>"
   ]
  },
  {
   "cell_type": "markdown",
   "id": "f80589d7-ecff-416a-807b-600164893117",
   "metadata": {},
   "source": [
    "> **BUSCA ALEATÓRIA**"
   ]
  },
  {
   "cell_type": "code",
   "execution_count": 6,
   "id": "0db8fca8-8447-47fa-b23f-c945eff80260",
   "metadata": {},
   "outputs": [
    {
     "name": "stdout",
     "output_type": "stream",
     "text": [
      "[0, 0, 0, 1, 1, 0, 0, 0, 1, 1, 0, 0, 1, 1, 1, 1] 9\n",
      "[0, 1, 0, 0, 1, 0, 0, 1, 1, 0, 0, 0, 0, 0, 1, 0] 6\n",
      "[0, 1, 1, 1, 1, 1, 1, 1, 1, 1, 1, 0, 0, 1, 1, 1] 14\n",
      "[1, 1, 0, 1, 1, 0, 0, 1, 1, 0, 0, 1, 0, 1, 1, 1] 11\n",
      "[1, 1, 1, 1, 1, 0, 1, 1, 0, 1, 0, 0, 0, 1, 0, 1] 11\n",
      "[0, 0, 0, 1, 0, 1, 1, 1, 1, 0, 0, 0, 0, 1, 1, 1] 9\n",
      "[1, 0, 1, 0, 0, 1, 0, 0, 1, 0, 0, 0, 0, 0, 0, 0] 5\n",
      "[0, 1, 0, 1, 1, 0, 1, 0, 0, 0, 1, 1, 0, 1, 0, 1] 9\n",
      "[0, 0, 1, 0, 0, 1, 0, 1, 1, 1, 1, 1, 0, 1, 0, 0] 9\n",
      "[1, 1, 1, 1, 0, 1, 0, 0, 0, 1, 1, 0, 0, 1, 0, 1] 10\n",
      "[1, 1, 1, 1, 0, 1, 1, 1, 1, 0, 0, 1, 1, 1, 1, 0] 13\n",
      "[1, 1, 1, 1, 0, 1, 1, 1, 0, 0, 1, 0, 1, 0, 0, 1] 11\n",
      "[0, 0, 1, 0, 1, 1, 0, 0, 1, 1, 0, 1, 0, 0, 0, 0] 7\n",
      "[0, 0, 0, 0, 1, 0, 1, 1, 0, 0, 0, 0, 1, 1, 1, 1] 8\n",
      "\n",
      "O tempo gasto pelo algoritmo de busca aleatória para a obtenção do resultado foi 0.00047779999999875145 segundos.\n"
     ]
    }
   ],
   "source": [
    "# constantes\n",
    "N = 14 # número de sorteios\n",
    "NUM_GENES = 16\n",
    "\n",
    "iniciando = time.perf_counter()\n",
    "\n",
    "for n in range(N): \n",
    "    candidato = individuo_cb(NUM_GENES)\n",
    "    f_objetivo = funcao_objetivo(candidato)\n",
    "    print(candidato, f_objetivo)\n",
    "    \n",
    "finalizando = time.perf_counter()\n",
    "\n",
    "print()\n",
    "print('O tempo gasto pelo algoritmo de busca aleatória para a obtenção do resultado foi', finalizando - iniciando, 'segundos.')"
   ]
  },
  {
   "cell_type": "markdown",
   "id": "7a70f3dd-6b01-4094-a08d-7c6c57434701",
   "metadata": {},
   "source": [
    "> **BUSCA EM GRADE**"
   ]
  },
  {
   "cell_type": "code",
   "execution_count": 21,
   "id": "814a940c-133f-45c8-a4db-e2e5a769dfc1",
   "metadata": {
    "tags": []
   },
   "outputs": [
    {
     "name": "stdout",
     "output_type": "stream",
     "text": [
      "[0, 0, 0, 0] 1\n",
      "[0, 0, 0, 1] 2\n",
      "[0, 0, 1, 0] 2\n",
      "[0, 0, 1, 1] 3\n",
      "[0, 1, 0, 0] 2\n",
      "[0, 1, 0, 1] 3\n",
      "[0, 1, 1, 0] 3\n",
      "[0, 1, 1, 1] 4\n",
      "[1, 0, 0, 0] 2\n",
      "[1, 0, 0, 1] 3\n",
      "[1, 0, 1, 0] 3\n",
      "[1, 0, 1, 1] 4\n",
      "[1, 1, 0, 0] 3\n",
      "[1, 1, 0, 1] 4\n",
      "[1, 1, 1, 0] 4\n",
      "[1, 1, 1, 1] 5\n",
      "\n",
      "O tempo gasto pela primeira opção de busca em grade para a obtenção do resultado foi 0.0069935000001351 segundos.\n"
     ]
    }
   ],
   "source": [
    "# primeiro jeito\n",
    "inicio = time.perf_counter()\n",
    "\n",
    "for gene_1 in [0, 1]:\n",
    "    for gene_2 in [0, 1]:\n",
    "        for gene_3 in [0, 1]:\n",
    "            for gene_4 in [0, 1]:\n",
    "                individuo = [gene_1, gene_2, gene_3, gene_4]\n",
    "                fobj = funcao_objetivo(individuo)\n",
    "                print(individuo, fobj)\n",
    "\n",
    "fim = time.perf_counter()\n",
    "\n",
    "print()\n",
    "print('O tempo gasto pela primeira opção de busca em grade para a obtenção do resultado foi', fim - inicio, 'segundos.')"
   ]
  },
  {
   "cell_type": "code",
   "execution_count": 11,
   "id": "1e8d7944-b389-4ed0-a05e-b340ac6df717",
   "metadata": {},
   "outputs": [
    {
     "name": "stdout",
     "output_type": "stream",
     "text": [
      "(0, 0, 0, 0) 1\n",
      "(0, 0, 0, 1) 2\n",
      "(0, 0, 1, 0) 2\n",
      "(0, 0, 1, 1) 3\n",
      "(0, 1, 0, 0) 2\n",
      "(0, 1, 0, 1) 3\n",
      "(0, 1, 1, 0) 3\n",
      "(0, 1, 1, 1) 4\n",
      "(1, 0, 0, 0) 2\n",
      "(1, 0, 0, 1) 3\n",
      "(1, 0, 1, 0) 3\n",
      "(1, 0, 1, 1) 4\n",
      "(1, 1, 0, 0) 3\n",
      "(1, 1, 0, 1) 4\n",
      "(1, 1, 1, 0) 4\n",
      "(1, 1, 1, 1) 5\n",
      "\n",
      "O tempo gasto pela segunda opção de busca em grade para a obtenção do resultado foi 0.00033270000005813927 segundos.\n"
     ]
    }
   ],
   "source": [
    "# segundo jeito\n",
    "# esse aqui vai ser mais fácil considerando a mudança de variáveis\n",
    "inicial = time.perf_counter()\n",
    "\n",
    "for individuo in itertools.product([0,1], repeat=4):\n",
    "    fobj = funcao_objetivo(individuo)\n",
    "    print(individuo, fobj)\n",
    "    \n",
    "final = time.perf_counter()\n",
    "\n",
    "print()\n",
    "print('O tempo gasto pela segunda opção de busca em grade para a obtenção do resultado foi', final - inicial, 'segundos.')"
   ]
  },
  {
   "cell_type": "markdown",
   "id": "bb4350d9-5c36-460c-ab51-f291a72a6e55",
   "metadata": {},
   "source": [
    "> **ALGORITMO GENÉTICO**"
   ]
  },
  {
   "cell_type": "code",
   "execution_count": 5,
   "id": "d56e67db-5bba-4da9-98ba-7e3b38fb22b3",
   "metadata": {},
   "outputs": [
    {
     "name": "stdout",
     "output_type": "stream",
     "text": [
      "População Inicial:\n",
      "[[1, 0, 0, 1], [1, 0, 1, 1], [1, 1, 0, 1], [1, 1, 1, 1], [0, 1, 0, 0], [1, 1, 0, 0]]\n",
      "\n",
      "[1, 1, 0, 1]\n",
      "[1, 1, 0, 1]\n",
      "\n",
      "\n",
      "[1, 1, 1, 1]\n",
      "[1, 1, 1, 1]\n",
      "\n",
      "\n",
      "[1, 1, 0, 1]\n",
      "[1, 1, 0, 1]\n",
      "\n",
      "\n",
      "[1, 1, 0, 1]\n",
      "[1, 1, 0, 1]\n",
      "\n",
      "\n",
      "[1, 1, 0, 1]\n",
      "[1, 1, 1, 1]\n",
      "\n",
      "\n",
      "[1, 1, 1, 1]\n",
      "[1, 0, 1, 1]\n",
      "\n",
      "\n",
      "[1, 1, 1, 1]\n",
      "[0, 1, 1, 1]\n",
      "\n",
      "\n",
      "[1, 1, 1, 1]\n",
      "[1, 1, 1, 1]\n",
      "\n",
      "\n",
      "[1, 1, 1, 1]\n",
      "[1, 1, 0, 1]\n",
      "\n",
      "\n",
      "[1, 1, 1, 1]\n",
      "[0, 1, 1, 1]\n",
      "\n",
      "\n",
      "[1, 1, 1, 1]\n",
      "[1, 1, 0, 1]\n",
      "\n",
      "\n",
      "[1, 1, 1, 1]\n",
      "[1, 1, 1, 0]\n",
      "\n",
      "\n",
      "População Final:\n",
      "[[1, 1, 1, 0], [1, 1, 1, 0], [1, 1, 1, 1], [1, 1, 1, 1], [1, 1, 1, 1], [1, 1, 1, 1]]\n",
      "\n",
      "O tempo gasto pela função para a obtenção do resultado foi 0.003240400000000143 segundos.\n"
     ]
    }
   ],
   "source": [
    "#constantes\n",
    "TAMANHO_POP = 6\n",
    "NUM_GENES = 4\n",
    "NUM_GERACOES = 57\n",
    "CHANCE_CRUZAMENTO = 0.5 \n",
    "CHANCE_MUTACAO = 0.05\n",
    "\n",
    "inicioo = time.perf_counter() #aplicando o método para a contagem do tempo\n",
    "\n",
    "populacao = cria_pop_ini(TAMANHO_POP, NUM_GENES) \n",
    "print(\"População Inicial:\")\n",
    "print(populacao)\n",
    "\n",
    "# tendo a população inicial, agora faremos a seleção e o cruzamento\n",
    "for n in range(NUM_GERACOES):\n",
    "    fitness = fobj_populacao_cb(populacao) # seleção dos melhores candidatos de acordo com fitness\n",
    "    populacao = roleta_max(populacao, fitness) # selecnionando de acordo com os melhores e a proporção na roleta\n",
    "    pais = populacao[0::2] # corte da população: do elemento 0 até o final, com salto de 2 em dois\n",
    "    maes = populacao[1::2] # corte da população: do elemento 1 até o final, com intervalo de 2 em 2 \n",
    "# lembrando que população é uma lista e listas podem ser cortadas\n",
    "    contador = 0 \n",
    "    \n",
    "    for pai, mae in zip(pais, maes):\n",
    "        if random.random() <= CHANCE_CRUZAMENTO: \n",
    "            #vai ter cruzamento\n",
    "            filho1, filho2 = f_cruzamento(pai, mae)\n",
    "            populacao[contador] = filho1\n",
    "            populacao[contador + 1] = filho2\n",
    "            \n",
    "        contador = contador + 2\n",
    "         \n",
    "    for n in range(len(populacao)):\n",
    "        if random.random() <= CHANCE_MUTACAO: \n",
    "            individuo = populacao[n]\n",
    "            print()\n",
    "            print(individuo)\n",
    "            populacao[n] = f_mutacao(individuo)\n",
    "            print(populacao[n])\n",
    "            print()\n",
    "       \n",
    "    \n",
    "print()\n",
    "print(\"População Final:\")\n",
    "print(populacao)\n",
    "\n",
    "finall = time.perf_counter()\n",
    "\n",
    "print()\n",
    "print('O tempo gasto pela função para a obtenção do resultado foi', finall - inicioo, 'segundos.')"
   ]
  },
  {
   "cell_type": "markdown",
   "id": "d50892c0-2d19-4f13-8134-90d9107a9a47",
   "metadata": {},
   "source": [
    "<br>\n",
    "\n",
    "> **COMPARANDO OS DESEMPENHOS**"
   ]
  },
  {
   "cell_type": "markdown",
   "id": "9b03d774-9b75-4224-8767-52979e38cd51",
   "metadata": {},
   "source": [
    "**Análise considerando o TEMPO de execução + MUDANÇAS de variáveis**\n",
    "<div style=' text-align: justify; text-justify: inter-word;'>\n",
    "    \n",
    "Para conseguir realizar a análise de performance dos algoritmos de maneira mais robusta, vou não somente **alterar as variáveis, como também alterarei os métodos** e discutirei os resultados para cada um. Sendo assim, vamos começar com o método 'time' acompanhado por mudanças no número de caixas ou, melhor, número de genes. Serão cinco mudanças para cada algoritmo.\n",
    "<br> Lembrando que os valores de tempo serão alterados conforme eu rodar o código novamente. Nesse sentido, os valores na tabela não são fixos, mas são representativos dos momentos em que eu fazia os testes.\n",
    "</div>\n"
   ]
  },
  {
   "cell_type": "markdown",
   "id": "c3ade9ce-9c0c-4e7e-881b-36b82e7d6c99",
   "metadata": {},
   "source": [
    "> Resultados para o algoritmo de BUSCA ALEATÓRIA\n",
    "\n",
    "| N° caixas | Resultado por TIME (s) | Resultado por TIMEIT (s) |   |   |\n",
    "|-----------|--------------------|----------------------|---|---|\n",
    "|     1     |0.0007055000000000256                   |                      |   |   |\n",
    "|     4     |0.0005522999999989509                   |                      |   |   |\n",
    "|     8     |0.007191799999418436                    |                      |   |   |\n",
    "|     12    |0.4781016999999679                      |                      |   |   |\n",
    "|     16    |0.00047779999999875145                  |                      |   |   |\n",
    "\n",
    "<br> Breve Análise:\n",
    "- Para a maioria dos aumentos, o valor encontrado para o tempo que a função gastou também aumentou. Contudo, nos casos de 4 caixas e 16 caixas, o valor foi inferior, sendo o de 16 caixas o menor de todos."
   ]
  },
  {
   "cell_type": "markdown",
   "id": "8f7b1c3c-652c-430c-abda-39cfb4efef55",
   "metadata": {},
   "source": [
    "> Resultados para o algoritmo de BUSCA EM GRADE \n",
    "\n",
    "| N° caixas | Resultado por TIME (s) | Resultado por TIMEIT (s) |   |   |\n",
    "|-----------|--------------------|----------------------|---|---|\n",
    "|     1     |0.00026270000012118544                  |                      |   |   |\n",
    "|     4     |0.0021954999997433333                   |                      |   |   |\n",
    "|     8     |0.056430900000123074                    |                      |   |   |\n",
    "|     12    |1.3619361000000936                      |                      |   |   |\n",
    "|     16    |19.028413 segundos                      |                      |   |   |\n",
    "\n",
    "<br> Uau, 19 segundos me surpreendeu. Achei que o com itertools fosse demorar mais, mas aparentemente ele não é uma ferramenta que agiliza somente o processo de escrever o código, mas facilita a própria operação do computador também.\n",
    "<br>Breve Análise:\n",
    "- Conforme aumentado o número de caixas, o tempo necessário para obter uma resposta também aumentou."
   ]
  },
  {
   "cell_type": "markdown",
   "id": "8d5f72b2-920f-4f1e-ae42-874681d8ab25",
   "metadata": {},
   "source": [
    "> Resultados para o algoritmo de BUSCA EM GRADE COM ITERTOOLS\n",
    "\n",
    "| N° caixas | Resultado por TIME (s) | Resultado por TIMEIT (s) |   |   |\n",
    "|-----------|--------------------|----------------------|---|---|\n",
    "|     1     |0.0002946999999835498                   |                      |   |   |\n",
    "|     4     |0.00033270000005813927                  |                      |   |   |\n",
    "|     8     |0.0100524000000064                      |                      |   |   |\n",
    "|     12    |0.0008847999997669831                   |                      |   |   |\n",
    "|     16    |5.9184338000000025                      |                      |   |   |\n",
    "\n",
    "<br> O computador gastou demorou tanto para me dar os resultados aqui que eu fiquei com medo de estar fazendo algo errado.\n",
    "<br> Conversando com outras pessoas que também tentaram fazer esse exercício, eu entendi que talvez tenha dado 'mais trabalho' por conta de ter escolhido  o método de busca em grade que envolve 'itertools'.\n",
    "<br>Breve Análise:\n",
    "- Aqui, observamos novamente a tendência de aumento do tempo gasto conforme o aumento do número das caixas. Há, porém, uma exceção: o processo para 12 caixas gastou menos tempo."
   ]
  },
  {
   "cell_type": "markdown",
   "id": "1db381e7-b64b-4bea-9cef-6ede4a2c803a",
   "metadata": {},
   "source": [
    "> Resultados para o algoritmo de ALGORITMO GENÉTICO\n",
    "\n",
    "| N° caixas | Resultado por TIME (s) | Resultado por TIMEIT (s) |   |   |\n",
    "|-----------|--------------------|----------------------|---|---|\n",
    "|     1     |0.0007055000000000256                   |                      |   |   |\n",
    "|     4     |0.0005522999999989509                   |                      |   |   |\n",
    "|     8     |0.007191799999418436                    |                      |   |   |\n",
    "|     12    |0.0008847999997669831                   |                      |   |   |\n",
    "|     16    |0.00047779999999875145                  |                      |   |   |\n"
   ]
  },
  {
   "cell_type": "markdown",
   "id": "1eea61ad-5db5-4a6c-a0b3-5d0a2e3b1de4",
   "metadata": {},
   "source": [
    "<hr>"
   ]
  },
  {
   "cell_type": "markdown",
   "id": "9b4fd7d8-d21d-4e50-8c5d-8fb7a9d461c8",
   "metadata": {
    "tags": []
   },
   "source": [
    "## Conclusão"
   ]
  },
  {
   "cell_type": "markdown",
   "id": "03ee2497-cd49-41e5-be4e-34d0e32b2ad9",
   "metadata": {},
   "source": []
  },
  {
   "cell_type": "markdown",
   "id": "e8776a7b-84b9-4784-b646-488b08b93554",
   "metadata": {},
   "source": [
    "<HR>"
   ]
  },
  {
   "cell_type": "markdown",
   "id": "5f7665f5-ef13-4aa4-8eb5-fab83e412c67",
   "metadata": {},
   "source": [
    "## Referências"
   ]
  },
  {
   "cell_type": "markdown",
   "id": "98388508-9364-49c5-879b-d5b7668ecfb9",
   "metadata": {},
   "source": [
    "[1] SILVESTRE, Iago. **Estudo de Performance de Algoritmos de Controle em Sistema Embarcado**. UFSC, 2020. Disponível em: <https://repositorio.ufsc.br/bitstream/handle/123456789/204775/PFC_Iago_de_Oliveira_Silvestre___modelo_BU_11marc.pdf?sequence=1&isAllowed=y>. \n"
   ]
  },
  {
   "cell_type": "markdown",
   "id": "fc80a248-86bf-4c27-a398-f9898fce9f84",
   "metadata": {},
   "source": [
    "<hr>"
   ]
  },
  {
   "cell_type": "markdown",
   "id": "bd08f5e8-8296-48fe-bcd8-219196fe5cad",
   "metadata": {},
   "source": [
    "## Playground"
   ]
  },
  {
   "cell_type": "markdown",
   "id": "6433a5f1-c54a-4af8-a132-0b4eb426671b",
   "metadata": {
    "tags": []
   },
   "source": [
    "# primeiro jeito\n",
    "inicio = time.perf_counter()\n",
    "\n",
    "for gene_1 in [0, 1]:\n",
    "    for gene_2 in [0, 1]:\n",
    "        for gene_3 in [0, 1]:\n",
    "            for gene_4 in [0, 1]:\n",
    "                for gene_5 in [0, 1]:\n",
    "                    for gene_6 in [0, 1]:\n",
    "                        for gene_7 in [0, 1]:\n",
    "                            for gene_8 in [0, 1]:\n",
    "                                for gene_9 in [0, 1]:\n",
    "                                    for gene_10 in [0, 1]:\n",
    "                                        for gene_11 in [0, 1]:\n",
    "                                            for gene_12 in [0, 1]:\n",
    "                                                for gene_13 in [0, 1]:\n",
    "                                                    for gene_14 in [0, 1]:\n",
    "                                                        for gene_15 in [0, 1]:\n",
    "                                                            for gene_16 in [0, 1]:\n",
    "                                                                individuo = [gene_1, gene_2, gene_3, gene_4, gene_5, gene_6, gene_7, gene_8, gene_9, gene_10, gene_11, gene_12, gene_13, gene_14, gene_15, gene_16]\n",
    "                                                                fobj = funcao_objetivo(individuo)\n",
    "                                                                print(individuo, fobj)\n",
    "\n",
    "fim = time.perf_counter()\n",
    "\n",
    "print()\n",
    "print('O tempo gasto pela primeira opção de busca em grade para a obtenção do resultado foi', fim - inicio, 'segundos.')"
   ]
  }
 ],
 "metadata": {
  "kernelspec": {
   "display_name": "ilumpy",
   "language": "python",
   "name": "ilumpy"
  },
  "language_info": {
   "codemirror_mode": {
    "name": "ipython",
    "version": 3
   },
   "file_extension": ".py",
   "mimetype": "text/x-python",
   "name": "python",
   "nbconvert_exporter": "python",
   "pygments_lexer": "ipython3",
   "version": "3.9.7"
  }
 },
 "nbformat": 4,
 "nbformat_minor": 5
}
