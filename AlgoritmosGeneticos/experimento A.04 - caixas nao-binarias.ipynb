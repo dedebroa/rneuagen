{
 "cells": [
  {
   "cell_type": "markdown",
   "metadata": {},
   "source": [
    "Problema das caixas não-binárias\n",
    "================================\n",
    "\n"
   ]
  },
  {
   "cell_type": "markdown",
   "metadata": {},
   "source": [
    "## Objetivo\n",
    "\n"
   ]
  },
  {
   "cell_type": "markdown",
   "metadata": {},
   "source": [
    "Encontrar uma solução para o problema das caixas não-binárias usando um algoritmo genético. Considere 4 caixas. Considere que cada caixa pode ter um valor inteiro dentro do conjunto [0, 100].\n",
    "\n"
   ]
  },
  {
   "cell_type": "markdown",
   "metadata": {},
   "source": [
    "## Descrição do problema\n",
    "\n"
   ]
  },
  {
   "cell_type": "markdown",
   "metadata": {},
   "source": [
    "O problema das caixas não-binárias é simples: nós temos um certo número de caixas e cada uma pode conter um número inteiro. O objetivo é encontrar uma combinação de caixas onde a soma dos valores contidos dentro delas é máximo.\n",
    "\n"
   ]
  },
  {
   "cell_type": "markdown",
   "metadata": {},
   "source": [
    "<hr>"
   ]
  },
  {
   "cell_type": "markdown",
   "metadata": {},
   "source": [
    "## Importações\n",
    "\n"
   ]
  },
  {
   "cell_type": "code",
   "execution_count": 1,
   "metadata": {},
   "outputs": [],
   "source": [
    "import random\n",
    "from funcoes import populacao_cnb \n",
    "from funcoes import funcao_objetivo_pop_cnb as funcao_objetivo_pop\n",
    "from funcoes import selecao_roleta_maxima as funcao_selecao\n",
    "from funcoes import cruzamento_ponto_simples as funcao_cruzamento\n",
    "from funcoes import mutacao_cnb "
   ]
  },
  {
   "cell_type": "markdown",
   "metadata": {},
   "source": [
    "## Códigos e discussão\n",
    "\n"
   ]
  },
  {
   "cell_type": "markdown",
   "metadata": {},
   "source": [
    "<div style=' text-align: justify; text-justify: inter-word;'>\n",
    "Nos notebooks das aulas anteriores pode-se observar o problema das caixas binárias (especificamente, somente na aula do experimento 03 introduzimos o recurso dos algoritmos genéticos) e, em relação ao experimento 04, a maior diferença se encontra no ponto de que estamos lidando com caixas não binárias. Ou seja, agora, elas podem assumir qualquer valor entre 0 e 100 e essa diferença é gritante. Nesse sentido, começamos a aula tentando entender, conjuntamente, quais funções precisariam ser alteradas, mesmo que algumas ainda pudessem ser reutilizadas. Decidimos que elas eram: as funções que definem indivíduo, população, objetivo, fitness - objetivo, mutação. Após criadas novas funções, utilizamos o mesmo código da última prática. Contudo, eu precisei fazer algumas alterações, já que os nomes de funções e variáveis nos códigos costumam apresentar algumas diferenças em relação aos utilizados pelo professor.\n",
    "    <br> Trabalhamos com algoritmos genéticos e com um problema de caixas não binárias, então, é sempre pertinente ressalta que, caso alguém se depare com a notação 'caixa' ela corresponde a 'gene' e um indivíduo corresponde a um conjunto de genes/caixas.\n",
    "</div>"
   ]
  },
  {
   "cell_type": "code",
   "execution_count": 1,
   "metadata": {},
   "outputs": [],
   "source": [
    "## CÓDIGO DO JOÃO & PROF. DANIEL EXP. A.03\n",
    "\n",
    "\n",
    "# funções que vamos mudar (6 novas):\n",
    "## gene \n",
    "## individuo\n",
    "## população\n",
    "## objetivo\n",
    "## fitness - objetivo\n",
    "## mutação\n",
    "\n",
    "#constantes\n",
    "#constantes #podem ser alteradas p/ maior eficiência\n",
    "TAMANHO_POP = 20\n",
    "NUM_GERACOES = 3\n",
    "CHANCE_CRUZAMENTO = 0.5 \n",
    "CHANCE_MUTACAO = 0.01\n",
    "\n",
    "# essas constantes aqui não podem ser alteradas\n",
    "VALOR_MAX_CAIXA = 100\n",
    "NUM_GENES = 4"
   ]
  },
  {
   "cell_type": "markdown",
   "metadata": {},
   "source": [
    "<div style=' text-align: justify; text-justify: inter-word;'>\n",
    "    Trabalhamos, mais uma vez, com um problema de maximização. Queremos que nossas caixas assumam os valores totais maiores possíveis (problema de maximização). Em outras palavras, a soma do valor dos genes precisa ser o maior número que conseguirmos. Como definimos nas constantes que o valor máimo da caixa (constante VALOR_MAX_CAIXA) é 100 e sabendo que temos 4 caixas (NUM_GENES) em cada indivíduo, o valor máximo que eles podem assumir é 400. Por alguma razão, quando eu li a atividade pela primeira vez, achei que queríamos encontrar o valor da soma total de todos os números entre 0 e 101. Para isso, nosso indivíduo precisaria ter 100 genes/caixas e não é o caso aqui. Aqui só temos 4, portanto, chegamos somente até 400."
   ]
  },
  {
   "cell_type": "code",
   "execution_count": 16,
   "metadata": {},
   "outputs": [],
   "source": [
    "# vamos precisar de duas funções locais aqui dentro do notebook\n",
    "# essas funções são chamadas de locais porque só são aplicadas dentro do contexto no qual foram criadas\n",
    "\n",
    "def cria_populacao_inicial(tamanho, n_genes):\n",
    "    return populacao_cnb(tamanho, n_genes, VALOR_MAX_CAIXA)\n",
    "\n",
    "def funcao_mutacao(individuo):\n",
    "    return mutacao_cnb(individuo, VALOR_MAX_CAIXA)"
   ]
  },
  {
   "cell_type": "markdown",
   "metadata": {},
   "source": [
    "Lembretes:\n",
    "- um algoritmo genético funciona em etapas: seleção, cruzamento e mutação;\n",
    "- seleção é a etapa na qual os melhores (ou a maioria deles) dos indivíduos é escolhida para originar a próxima geração;\n",
    "- seleção já é sobre a escolha dos indivíduos (pais) que doarão os genes que compõem os novos indivíduos (filhos);\n",
    "- mutação é o único no momento no qual se cria mudanças nos genes."
   ]
  },
  {
   "cell_type": "code",
   "execution_count": 17,
   "metadata": {
    "tags": []
   },
   "outputs": [
    {
     "name": "stdout",
     "output_type": "stream",
     "text": [
      "População Inicial:\n",
      "[[93, 1, 66, 76], [95, 64, 18, 21], [93, 0, 99, 87], [21, 46, 61, 3], [44, 11, 59, 82], [8, 19, 69, 1], [96, 73, 6, 59], [100, 19, 54, 20], [100, 88, 59, 22], [73, 28, 92, 40], [3, 51, 39, 97], [11, 97, 26, 91], [82, 60, 16, 80], [59, 91, 93, 67], [27, 7, 44, 67], [25, 34, 54, 80], [52, 89, 21, 63], [1, 82, 2, 48], [86, 15, 17, 53], [62, 57, 78, 16]]\n",
      "\n",
      "[11, 97, 26, 91]\n",
      "[11, 97, 36, 91]\n",
      "\n",
      "\n",
      "População Final:\n",
      "[[95, 64, 92, 22], [100, 88, 92, 40], [11, 97, 92, 40], [11, 97, 36, 91], [11, 97, 36, 91], [95, 15, 17, 53], [27, 7, 44, 67], [11, 97, 36, 91], [11, 97, 54, 59], [86, 19, 92, 40], [100, 64, 18, 21], [100, 88, 59, 87], [95, 64, 92, 22], [86, 19, 54, 59], [27, 7, 44, 67], [95, 15, 17, 53], [100, 64, 59, 87], [95, 88, 59, 87], [59, 0, 99, 40], [93, 91, 93, 67]]\n"
     ]
    }
   ],
   "source": [
    "# definidas as constantes, vamos em busca da primeira população a sofrer seleção\n",
    "populacao = cria_populacao_inicial(TAMANHO_POP, NUM_GENES) #aplicação da população local\n",
    "print(\"População Inicial:\") #imprime a população incial\n",
    "print(populacao)\n",
    "\n",
    "# tendo a população inicial, agora faremos a seleção e o cruzamento\n",
    "for n in range(NUM_GERACOES):\n",
    "    fitness = funcao_objetivo_pop(populacao) # seleção dos melhores candidatos de acordo com fitness\n",
    "    populacao = funcao_selecao(populacao, fitness) # selecnionando de acordo com os melhores e a proporção na roleta\n",
    "    pais = populacao[0::2] # corte da população: do elemento 0 até o final, com salto de 2 em dois\n",
    "    maes = populacao[1::2] # corte da população: do elemento 1 até o final, com intervalo de 2 em 2 \n",
    "# lembrando que população é uma lista e listas podem ser cortadas\n",
    "    contador = 0 \n",
    "    \n",
    "    for pai, mae in zip(pais, maes):# o zip para de funcionar quando ela chega no último elemento comum da quant. de itens da lista\n",
    "        if random.random() <= CHANCE_CRUZAMENTO: \n",
    "            #vai ter cruzamento\n",
    "            filho1, filho2 = funcao_cruzamento(pai, mae)\n",
    "            # o problema é que precisamos saber a posição desses indivíduos na população\n",
    "            populacao[contador] = filho1\n",
    "            populacao[contador + 1] = filho2\n",
    "            \n",
    "        contador = contador + 2\n",
    "         \n",
    "    for n in range(len(populacao)):\n",
    "        if random.random() <= CHANCE_MUTACAO: # se ficar só aqui, não se aplica a mutação na população de fato\n",
    "            individuo = populacao[n]\n",
    "            print()\n",
    "            print(individuo)\n",
    "            populacao[n] = funcao_mutacao(individuo) #aplicação da função local\n",
    "            print(populacao[n])\n",
    "            print()\n",
    "       \n",
    "        \n",
    "print()\n",
    "print(\"População Final:\")\n",
    "print(populacao)"
   ]
  },
  {
   "cell_type": "markdown",
   "metadata": {},
   "source": [
    "<div style=' text-align: justify; text-justify: inter-word;'>\n",
    "    Por fim, encontramos "
   ]
  },
  {
   "cell_type": "markdown",
   "metadata": {},
   "source": [
    "> <hr>"
   ]
  },
  {
   "cell_type": "markdown",
   "metadata": {},
   "source": [
    "## Conclusão\n",
    "\n"
   ]
  },
  {
   "cell_type": "markdown",
   "metadata": {},
   "source": [
    "> Antes de falar qualquer coisa sobre o código, gostaria de falar sobre a dinâmica dessa aula. Infelizmente, nosso professor responsável, Daniel Cassar, precisou se ausentar por questões de saúde. Por conta disso, nosso colega de sala assumiu a direção da aula e nos ajudou. Por conta disso, gostaria de reservar um espaço nesse notebook para agradecer o João pela aula, pela atenção e pela boa vontade. Ele foi um ótimo professor, conseguiu deixar todo mundo à vontade e desmonstrou bastante preocupação com entendermos o que estava sendo feito. Espero que nós tenhamos o recebido bem e espero que ele tenha se sentido valorizado. Queria também desejar melhoras para o professor Daniel agradecer por ele ter dado oportunidade para um de nossos amigos exercer um papel diferente em sala de aula, foi muito interessante.</justify>\n",
    "\n",
    "> <justify> Dito isso, o que eu realmente gostaria de trazer aqui são as conclusões obtidas a partir de uma discussão que Danielle, Pedro Zani e Artur estabelecemos. A Danielle estava tendo alguns erros no código e nós nos juntamos para corrigí-lo. Quando ele finalmente rodou sem problemas, notamos que os resultados na população final estavam extremamente parecidos: todos os indivíduos da população apresentavam os mesmos genes, com exceção de um. Isso nos deixou bastante confusas porque estávamos pensando somente no fato de que ocorria mutação, então estávamos esperando grande variedade. Durante algum tempo, achamos que o código estava incorreto, procuramos erros no documento de funções e no notebook do experimento, porém, nada aaprentava estar incorreto, principalmente quando comparados ao código do Prof. Daniel e do João. Depois de tentarmos fazer mais algumas alterações, chamamos o Zanineli e o Artur. O resultados do Pedro estavam mais variados, enquanto os do Artur apresentavam a mesma tendência que os nossos. Como era algo que estava se repetindo muito e aparentemente não era erro de sintaxe, coemçamos a discutir e pensamos em começar a alterar as constantes previamente definidas, como também havia sido sugerido pelo professor. Nossas populações mais variadas foram encontradas quando aumentamos o tamanho da nossa população, diminuímos o número de gerações e a chance de mutação.</justify>\n",
    "\n",
    "> O que entendemos a partir disso foi que se contassemos com um número de gerações muito grande (passamos de 1000 para 6, por exemplo) com uma população muito pequena (antes era 6 e temrinamos com 20), apesar da presença da mutação, a tendência é que os melhores indivíduos continuassem sendo escolhidos repetidamente. E com um número exorbitante de de gerações, os mesmos genes estariam sendo transmitidos e as mutações não teriam peso tão grande já que elas acontecem em apenas um genes por vez, em uma taxa que para o grupo em questão parecia pequena. Ao diminuir as gerações e aumentar o grupo de pessoas, mesmo com uma chance de mutação pequena, nós aumentamos a possibilidade de genitores a serem escolhidos e reduzimos a quantidade de vezes nas quais eles foram escolhidos, dessas forma, encontramos maior variedade entre os indivíduos da população final.\n",
    "    \n",
    "</div>"
   ]
  },
  {
   "cell_type": "markdown",
   "metadata": {},
   "source": [
    "<hr>"
   ]
  },
  {
   "cell_type": "markdown",
   "metadata": {},
   "source": [
    "## Playground\n",
    "\n"
   ]
  },
  {
   "cell_type": "markdown",
   "metadata": {},
   "source": [
    "<br> CÓDIGO DO DANIEL do github\n",
    "\n",
    "<br> CONSTANTES\n",
    "\n",
    "<br>relacionadas à busca #podem ser alteradas p/ maior eficiência\n",
    "TAMANHO_POP = 5\n",
    "NUM_GERACOES = 200\n",
    "CHANCE_CRUZAMENTO = 0.5\n",
    "CHANCE_MUTACAO = 0.05\n",
    "\n",
    "<br> relacionadas ao problema a ser resulvido #não podem ser alteradas, vão afetar a resolução\n",
    "NUM_GENES = 4\n",
    "VALOR_MAX_CAIXA = 100\n",
    "\n",
    "<br>funções locais\n",
    "# funções criadas com valores padrão para alguns argumentos\n",
    "\n",
    "def cria_populacao_inicial(tamanho, n_genes):\n",
    "    return populacao_cnb(tamanho, n_genes, VALOR_MAX_CAIXA)\n",
    "\n",
    "def funcao_mutacao(individuo):\n",
    "    return mutacao_cnb(individuo, VALOR_MAX_CAIXA)\n",
    "\n",
    "populacao = cria_populacao_inicial(TAMANHO_POP, NUM_GENES)\n",
    "\n",
    "print(\"População inicial:\")\n",
    "print(populacao)\n",
    "\n",
    "for n in range(NUM_GERACOES):    \n",
    "    \n",
    "    # Seleção\n",
    "    fitness = funcao_objetivo_pop(populacao)\n",
    "    populacao = funcao_selecao(populacao, fitness)\n",
    "    \n",
    "    # Cruzamento\n",
    "    pais = populacao[0::2]\n",
    "    maes = populacao[1::2]\n",
    "    \n",
    "    contador = 0\n",
    "    \n",
    "    for pai, mae in zip(pais, maes):\n",
    "        if random.random() <= CHANCE_CRUZAMENTO:\n",
    "            filho1, filho2 = funcao_cruzamento(pai, mae)\n",
    "            populacao[contador] = filho1\n",
    "            populacao[contador + 1] = filho2\n",
    "        \n",
    "        contador = contador + 2   \n",
    "        \n",
    "    # Mutação\n",
    "    for n in range(len(populacao)):\n",
    "        if random.random() <= CHANCE_MUTACAO:\n",
    "            individuo = populacao[n]\n",
    "            populacao[n] = funcao_mutacao(individuo)            \n",
    "\n",
    "print()\n",
    "print(\"População final:\")\n",
    "print(populacao)\n",
    "\n",
    "<br> seleção e cruzamente permanecem iguais\n",
    "<br> vamos alterar o operador de mutação"
   ]
  }
 ],
 "metadata": {
  "kernelspec": {
   "display_name": "ilumpy",
   "language": "python",
   "name": "ilumpy"
  },
  "language_info": {
   "codemirror_mode": {
    "name": "ipython",
    "version": 3
   },
   "file_extension": ".py",
   "mimetype": "text/x-python",
   "name": "python",
   "nbconvert_exporter": "python",
   "pygments_lexer": "ipython3",
   "version": "3.9.7"
  },
  "org": null
 },
 "nbformat": 4,
 "nbformat_minor": 4
}
