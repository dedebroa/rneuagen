{
 "cells": [
  {
   "cell_type": "markdown",
   "metadata": {},
   "source": [
    "Algoritmo genético\n",
    "==================\n",
    "\n"
   ]
  },
  {
   "cell_type": "markdown",
   "metadata": {},
   "source": [
    "## Introdução\n",
    "\n"
   ]
  },
  {
   "cell_type": "markdown",
   "metadata": {},
   "source": [
    "`Algoritmos genéticos` são algoritmos inspirados na teoria da evolução de Darwin e são ferramentas poderosas para resolver problemas de otimização. De maneira simples, a estratégia consiste em gerar uma população inicial aleatória e através de seleção, cruzamento e mutação sucessivas, gerar populações seguintes. Se feito de maneira correta, as populações seguintes tendem a ser melhores candidatos para a solução do problema do que as populações anteriores.\n",
    "\n",
    "Um algoritmo genético pode parecer um tanto complexo, porém é possível dividi-lo em partes relativamente simples:\n",
    "\n",
    "1.  Criação da população inicial (aleatória)\n",
    "\n",
    "2.  Cálculo da função objetivo para todos os membros da população inicial e atualização do hall da fama\n",
    "\n",
    "3.  Seleção dos indivíduos (quais seguem pra próxima geração)\n",
    "\n",
    "4.  Cruzamento dos indivíduos selecionados (troca de material genético)\n",
    "\n",
    "5.  Mutação dos indivíduos da população recém-criada (possibilidade de trazer informação nova ao sistema)\n",
    "\n",
    "6.  Cálculo da função objetivo para todos os membros da população recém-criada e atualização do hall da fama\n",
    "\n",
    "7.  Checar os critérios de parada. Caso os critérios não tenham sido atendidos, retornar ao passo 3\n",
    "\n",
    "8.  Retornar para o usuário o hall da fama\n",
    "\n"
   ]
  },
  {
   "cell_type": "markdown",
   "metadata": {},
   "source": [
    "## Glossário\n",
    "\n"
   ]
  },
  {
   "cell_type": "markdown",
   "metadata": {},
   "source": [
    "-   `Indivíduo`: um candidato para a solução do problema\n",
    "\n",
    "-   `População`: um conjunto de candidatos para a solução do problema\n",
    "\n",
    "-   `Gene`: um parâmetro que pertence a um indivíduo\n",
    "\n",
    "-   `Cromossomo` ou `genótipo`: um conjunto de genes\n",
    "\n",
    "-   `Geração`: cada população em uma busca genética faz parte de uma geração. A primeira geração é geralmente formada por indivíduos aleatórios (sorteados dentro do espaço de busca). As gerações seguintes são formadas por seleção, cruzamento e mutação da geração anterior. Um dos critérios de parada possíveis para um algoritmo genético é o número máximo de gerações\n",
    "\n",
    "-   `Função de aptidão` ou `função objetivo` ou `função fitness`: uma função que recebe um indivíduo e retorna o seu valor de aptidão. Em um problema de otimização, nós buscamos encontrar soluções que minimizam ou maximizam o valor de aptidão\n",
    "\n",
    "-   `Seleção`: processo onde utilizamos o valor de aptidão dos indivíduos para selecionar quais irão passar seus genes para a geração seguinte\n",
    "\n",
    "-   `Cruzamento`: processo onde o material genético de indivíduos selecionados é misturado\n",
    "\n",
    "-   `Mutação`: processo onde os genes dos indivíduos selecionados têm uma chance de alterar seu valor. A mutação é o único processo capaz de introduzir informação nova ao pool genético após o sorteio aleatório da primeira geração\n",
    "\n",
    "-   `Hall da fama`: conjunto dos $n$ indivíduos que obtiveram os melhores valores de aptidão durante o processo de busca\n",
    "\n"
   ]
  },
  {
   "cell_type": "markdown",
   "metadata": {},
   "source": [
    "## Reflexões\n",
    "\n"
   ]
  },
  {
   "cell_type": "markdown",
   "metadata": {},
   "source": [
    "Você diria que o algoritmo genético é determinístico ou probabilístico?\n",
    "\n",
    "Será que um algoritmo genético é capaz de encontrar mínimos (ou máximos) da função objetivo?\n",
    "\n",
    "O que será que acontece quando não realizamos a etapa de mutação do algoritmo genético?\n",
    "\n",
    "O que será que acontece quando usamos uma chance de mutação muito alta?\n",
    "\n"
   ]
  },
  {
   "cell_type": "markdown",
   "metadata": {},
   "source": [
    "## Objetivo\n",
    "\n"
   ]
  },
  {
   "cell_type": "markdown",
   "metadata": {},
   "source": [
    "Encontrar uma solução para o problema das caixas binárias usando o algoritmo genético. Considere 4 caixas.\n",
    "\n"
   ]
  },
  {
   "cell_type": "markdown",
   "metadata": {},
   "source": [
    "## Descrição do problema\n",
    "\n"
   ]
  },
  {
   "cell_type": "markdown",
   "metadata": {},
   "source": [
    "O problema das caixas binárias é simples: nós temos um certo número de caixas e cada uma pode conter um valor do conjunto $\\{0, 1\\}$. O objetivo é encontrar uma combinação de caixas onde a soma dos valores contidos dentro delas é máximo.\n",
    "\n"
   ]
  },
  {
   "cell_type": "markdown",
   "metadata": {},
   "source": [
    "## Importações\n",
    "\n"
   ]
  },
  {
   "cell_type": "code",
   "execution_count": 3,
   "metadata": {},
   "outputs": [],
   "source": [
    "# primeira coisa a ser feita!\n",
    "# código não roda se você precisar de algo externo mas não tiver importado\n",
    "\n",
    "#from funcoes import gene_cb\n",
    "\n",
    "from funcoes import populacao_cb as cria_pop_ini \n",
    "#estamos chamando X função, mas aqui ela chamará Y\n",
    "#a renomeação acontece na hora de importar, então aqui dentro precisamos chamar \"cria_pop_ini\"\n",
    "from funcoes import selecao_roleta_maxima as roleta_max # função da roleta\n",
    "from funcoes import funcao_objetivo_populacao_cb as fobj_populacao_cb # função objetivo \n",
    "\n",
    "# nomes no notebook são mais genéricas\n",
    "# nomes no arquivo são mais descritivos (lá, quanto mais descritivos, melhor)"
   ]
  },
  {
   "cell_type": "markdown",
   "metadata": {},
   "source": [
    "## Códigos e discussão\n",
    "\n"
   ]
  },
  {
   "cell_type": "code",
   "execution_count": 4,
   "metadata": {},
   "outputs": [],
   "source": [
    "# lembrar das funções com strings\n",
    "# essa proposta me lembra das atividades da aula passada\n",
    "# dica de ouro do Dani: antes, descrever o que o código precisa fazer e, depois, traduzir computacionalmente \n",
    "# sendo assim, vamos lá:\n",
    "\n",
    "# queremos um resultado que nos ofereça o MÁXIMO possível \n",
    "# o resultado é dado pela combinação dos valores das caixas\n",
    "# novamente, trabalharemos com caixas binárias\n",
    "\n",
    "# temos 4 Caixas (ou 4 Genes)\n",
    "# um conjunto de 4 caixas compõe um indivíduo/candidato\n",
    "NUM_CG = 4\n",
    "\n",
    "# cada uma dessas caixas pode assumir dois valores: ou zero ou 1\n",
    "# precisaremos de uma função que retorne o valor desses genes\n",
    "# já fizemos uma no experimento 1!\n",
    "# já importei também"
   ]
  },
  {
   "cell_type": "markdown",
   "metadata": {},
   "source": [
    "## Conclusão\n",
    "#### Questões para reflexão\n",
    "> O Algoritmo Genético é probabilísitco. Digo isso já com antecedência porque estava na leitura recomendada pelo professor (probabilistic behavior), mas, depois da realização dos experimentos, virei aqui para justificar com o exemplo prático. \n",
    "\n",
    "> Além disso, ele também é sim capaz de encontrar os valores máximos de uma função objetivo. É justamente isso que ele busca fazer ao dar origem a diferentes gerações: ele quer o melhor valor possível. Caso o problema queira encontrar o valor mínimo, é necessário então multiplicar os valores encontrados para a função objetivo de cada um dos indivíduos por menos 1. Ou seja, ele também consegue enconrar os mínimos.\n",
    "\n",
    "> A etapa de mutação (o último operador do ciclo) permite que Se não realizamos a mutação, corre-se o risco de que as gerações seguintes fiquem estagnadas em um mesmo valor 'ótimo' (o fitness). Isso é um problema porque o objetivo de testar diferentes gerações é justamente maximizar os resultados com diversidade de indivíduos.\n",
    "\n",
    "> Contudo, se a chance de acontecer mutação for muito alta e mutações demais acontecerem, é perigoso que um bom indivíduo seja alterado e, consequentemente, sua performance acaba sendo influenciada negativamente. Além disso, o algoritmo acaba adquirindo também um caráter de aleatoriedade.\n",
    "\n",
    "#### Sobre o experimento"
   ]
  },
  {
   "cell_type": "markdown",
   "metadata": {},
   "source": [
    "<hr>"
   ]
  },
  {
   "cell_type": "markdown",
   "metadata": {},
   "source": [
    "## Playground\n",
    "\n"
   ]
  },
  {
   "cell_type": "markdown",
   "metadata": {},
   "source": [
    "- the art of solving problems using genetic algorithms: \"Genetic algorithms provide us with a powerful and versatile tool that can be used to solve a wide array of problems and tasks.\""
   ]
  },
  {
   "cell_type": "markdown",
   "metadata": {},
   "source": [
    "#### Anotações\n",
    "Não conseguimos definir o que é bom ou ruim antes de rodar o código\n",
    "<br>Mas conseguimos limitar quantas vezes uma coisa vai acontecer (tipo quantas vezes vai acontecer mutação)\n",
    "<br>Aleatoriedade está no coração dos algoritmos genéticos (pergunta da Dani!!!! coisa mais linda)\n",
    "<br>Lembrar de definir os critérios de parada\n",
    "<br>Gostaria que ficasse claro que AG são muito muito versáteis: cabe explorar a criatividade e criar situações, mesmo que na genética \n",
    "<br>Se o valor usado em for não for importante no código, você não coloca uma letra, você coloca '_' e isso indica para o usuário que não é uma informação importante\n",
    "<br>Focar em cada função, desenvolvê-las e depois se preocupar com os elementos externos"
   ]
  },
  {
   "cell_type": "code",
   "execution_count": null,
   "metadata": {},
   "outputs": [],
   "source": [
    "# Código Dani\n",
    "# funções swrão escritas diretamente no funcao.py\n",
    "# só operadores de seleção \n",
    "\n",
    "#constantes\n",
    "TAMANHO_POP = 5\n",
    "NUM_GENES = 4\n",
    "NUM_GERACOES = 57\n",
    "\n",
    "populacao = cria_pop_ini(TAMANHO_POP, NUM_GENES)\n",
    "print(populacao)\n",
    "\n",
    "for n in range(NUM_GERACOES):\n",
    "    fitness = fobj_populacao_cb(populacao)\n",
    "    populacao = funcao_selecao(populacao, fitness)\n",
    "    \n",
    "print(populacao)\n",
    "    "
   ]
  }
 ],
 "metadata": {
  "kernelspec": {
   "display_name": "ilumpy",
   "language": "python",
   "name": "ilumpy"
  },
  "language_info": {
   "codemirror_mode": {
    "name": "ipython",
    "version": 3
   },
   "file_extension": ".py",
   "mimetype": "text/x-python",
   "name": "python",
   "nbconvert_exporter": "python",
   "pygments_lexer": "ipython3",
   "version": "3.9.7"
  },
  "org": null
 },
 "nbformat": 4,
 "nbformat_minor": 4
}
