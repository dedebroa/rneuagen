{
 "cells": [
  {
   "cell_type": "markdown",
   "metadata": {},
   "source": [
    "Algoritmo genético\n",
    "==================\n",
    "\n"
   ]
  },
  {
   "cell_type": "markdown",
   "metadata": {},
   "source": [
    "<hr>"
   ]
  },
  {
   "cell_type": "markdown",
   "metadata": {},
   "source": [
    "## Introdução\n",
    "\n"
   ]
  },
  {
   "cell_type": "markdown",
   "metadata": {},
   "source": [
    "`Algoritmos genéticos` são algoritmos inspirados na teoria da evolução de Darwin e são ferramentas poderosas para resolver problemas de otimização. De maneira simples, a estratégia consiste em gerar uma população inicial aleatória e através de seleção, cruzamento e mutação sucessivas, gerar populações seguintes. Se feito de maneira correta, as populações seguintes tendem a ser melhores candidatos para a solução do problema do que as populações anteriores.\n",
    "\n",
    "Um algoritmo genético pode parecer um tanto complexo, porém é possível dividi-lo em partes relativamente simples:\n",
    "\n",
    "1.  Criação da população inicial (aleatória)\n",
    "\n",
    "2.  Cálculo da função objetivo para todos os membros da população inicial e atualização do hall da fama\n",
    "\n",
    "3.  Seleção dos indivíduos (quais seguem pra próxima geração)\n",
    "\n",
    "4.  Cruzamento dos indivíduos selecionados (troca de material genético)\n",
    "\n",
    "5.  Mutação dos indivíduos da população recém-criada (possibilidade de trazer informação nova ao sistema)\n",
    "\n",
    "6.  Cálculo da função objetivo para todos os membros da população recém-criada e atualização do hall da fama\n",
    "\n",
    "7.  Checar os critérios de parada. Caso os critérios não tenham sido atendidos, retornar ao passo 3\n",
    "\n",
    "8.  Retornar para o usuário o hall da fama\n",
    "\n"
   ]
  },
  {
   "cell_type": "markdown",
   "metadata": {},
   "source": [
    "## Glossário\n",
    "\n"
   ]
  },
  {
   "cell_type": "markdown",
   "metadata": {},
   "source": [
    "-   `Indivíduo`: um candidato para a solução do problema\n",
    "\n",
    "-   `População`: um conjunto de candidatos para a solução do problema\n",
    "\n",
    "-   `Gene`: um parâmetro que pertence a um indivíduo\n",
    "\n",
    "-   `Cromossomo` ou `genótipo`: um conjunto de genes\n",
    "\n",
    "-   `Geração`: cada população em uma busca genética faz parte de uma geração. A primeira geração é geralmente formada por indivíduos aleatórios (sorteados dentro do espaço de busca). As gerações seguintes são formadas por seleção, cruzamento e mutação da geração anterior. Um dos critérios de parada possíveis para um algoritmo genético é o número máximo de gerações\n",
    "\n",
    "-   `Função de aptidão` ou `função objetivo` ou `função fitness`: uma função que recebe um indivíduo e retorna o seu valor de aptidão. Em um problema de otimização, nós buscamos encontrar soluções que minimizam ou maximizam o valor de aptidão\n",
    "\n",
    "-   `Seleção`: processo onde utilizamos o valor de aptidão dos indivíduos para selecionar quais irão passar seus genes para a geração seguinte\n",
    "\n",
    "-   `Cruzamento`: processo onde o material genético de indivíduos selecionados é misturado\n",
    "\n",
    "-   `Mutação`: processo onde os genes dos indivíduos selecionados têm uma chance de alterar seu valor. A mutação é o único processo capaz de introduzir informação nova ao pool genético após o sorteio aleatório da primeira geração\n",
    "\n",
    "-   `Hall da fama`: conjunto dos $n$ indivíduos que obtiveram os melhores valores de aptidão durante o processo de busca\n",
    "\n"
   ]
  },
  {
   "cell_type": "markdown",
   "metadata": {},
   "source": [
    "## Reflexões\n",
    "\n"
   ]
  },
  {
   "cell_type": "markdown",
   "metadata": {},
   "source": [
    "Você diria que o algoritmo genético é determinístico ou probabilístico?\n",
    "\n",
    "Será que um algoritmo genético é capaz de encontrar mínimos (ou máximos) da função objetivo?\n",
    "\n",
    "O que será que acontece quando não realizamos a etapa de mutação do algoritmo genético?\n",
    "\n",
    "O que será que acontece quando usamos uma chance de mutação muito alta?\n",
    "\n"
   ]
  },
  {
   "cell_type": "markdown",
   "metadata": {},
   "source": [
    "## Objetivo\n",
    "\n"
   ]
  },
  {
   "cell_type": "markdown",
   "metadata": {},
   "source": [
    "Encontrar uma solução para o problema das caixas binárias usando o algoritmo genético. Considere 4 caixas.\n",
    "\n"
   ]
  },
  {
   "cell_type": "markdown",
   "metadata": {},
   "source": [
    "## Descrição do problema\n",
    "\n"
   ]
  },
  {
   "cell_type": "markdown",
   "metadata": {},
   "source": [
    "O problema das caixas binárias é simples: nós temos um certo número de caixas e cada uma pode conter um valor do conjunto $\\{0, 1\\}$. O objetivo é encontrar uma combinação de caixas onde a soma dos valores contidos dentro delas é máximo.\n",
    "\n"
   ]
  },
  {
   "cell_type": "markdown",
   "metadata": {},
   "source": [
    "<hr>"
   ]
  },
  {
   "cell_type": "markdown",
   "metadata": {},
   "source": [
    "## Importações\n",
    "\n"
   ]
  },
  {
   "cell_type": "code",
   "execution_count": 1,
   "metadata": {
    "tags": []
   },
   "outputs": [],
   "source": [
    "# primeira coisa a ser feita!\n",
    "# código não roda se você precisar de algo externo mas não tiver importado\n",
    "\n",
    "#from funcoes import gene_cb\n",
    "\n",
    "from funcoes import populacao_cb as cria_pop_ini \n",
    "#estamos chamando X função, mas aqui ela chamará Y\n",
    "#a renomeação acontece na hora de importar, então aqui dentro precisamos chamar \"cria_pop_ini\"\n",
    "from funcoes import selecao_roleta_maxima as roleta_max # função da roleta\n",
    "from funcoes import funcao_objetivo_populacao_cb as fobj_populacao_cb # função objetivo \n",
    "\n",
    "# nomes no notebook são mais genéricas\n",
    "# nomes no arquivo são mais descritivos (lá, quanto mais descritivos, melhor)\n",
    "\n",
    "import random # já está nas funções de seleção, mas agora são as funções de cruzamento\n",
    "\n",
    "from funcoes import cruzamento_ponto_simples as f_cruzamento\n",
    "\n",
    "from funcoes import mutacao_cb as f_mutacao"
   ]
  },
  {
   "cell_type": "markdown",
   "metadata": {
    "tags": []
   },
   "source": [
    "## Códigos e Discussão\n",
    "\n"
   ]
  },
  {
   "cell_type": "markdown",
   "metadata": {},
   "source": [
    "<br>\n",
    "\n",
    "<div style=' text-align: justify; text-justify: inter-word;'>\n",
    "    Nesse experimento, estamos, enfim, conhecendo os algoritmos genéticos e iremos resolver o mesmo problema já visto anteriormente: caixas binárias. Então, a informação mais relevante que precisamos ter acesso logo de início para entender a progressão do código é entender que um algoritmo genético funciona em etapas, sendo elas: seleção, cruzamneto, mutação, criação de uma nova geração. A seleção é a etapa na qual os melhores (ou a maioria deles) dos indivíduos é escolhida para originar a próxima geração, seleção é sobre escolher quais indivíduos serão cruzados para formar uma nova geração. Posteriormente, a mutação acontece sobre os indivíduo resultantes do cruzamento. Diferentes metodologias podem ser utilizadas para cada uma dessas etapas, a escolha depende do seu tipo de problema e do seu tipo de dados.\n",
    "</div>"
   ]
  },
  {
   "cell_type": "code",
   "execution_count": 1,
   "metadata": {},
   "outputs": [],
   "source": [
    "# Código Prof. Dr. Daniel Cassar\n",
    "# funções serão escritas diretamente no funcao.py\n",
    "# só operadores de seleção para começar\n",
    "\n",
    "#constantes\n",
    "TAMANHO_POP = 6\n",
    "NUM_GENES = 4\n",
    "NUM_GERACOES = 57\n",
    "CHANCE_CRUZAMENTO = 0.5 \n",
    "CHANCE_MUTACAO = 0.05\n",
    "# valor baixo, mas não tão baixo, as repostas das reflexões (disponíveis na conclusão) justificam bem essa escolha\n",
    "\n",
    "# dica de ouro do Dani: antes, descrever o que o código precisa fazer e, depois, traduzir computacionalmente "
   ]
  },
  {
   "cell_type": "markdown",
   "metadata": {},
   "source": [
    "<div style=' text-align: justify; text-justify: inter-word;'>\n",
    "    As constantes são definidas logo no início do problema. As constantes relacionadas com chance (CHANCE_CRUZAMENTO, CHANCE_MUTACAO) são importantes pois nos contam que condições reais podem ser consideradas na manipulação dos algoritmos genéticos, evidenciando a flexibilidade deles (variações podem ser levadas em conta). Dessa forma, a existência dessas duas constantes nos mostram que nem todos os indivíduos de uma população cruzarão e que nem todos os indivíduos gerados sofrerão mutação."
   ]
  },
  {
   "cell_type": "code",
   "execution_count": 3,
   "metadata": {},
   "outputs": [
    {
     "name": "stdout",
     "output_type": "stream",
     "text": [
      "População Inicial:\n",
      "[[0, 1, 0, 1], [1, 0, 1, 1], [0, 1, 0, 1], [1, 0, 1, 1], [1, 1, 1, 1], [0, 0, 0, 1]]\n",
      "\n",
      "[0, 1, 0, 1]\n",
      "[0, 1, 0, 1]\n",
      "\n",
      "\n",
      "[0, 1, 0, 1]\n",
      "[1, 1, 0, 1]\n",
      "\n",
      "\n",
      "[1, 1, 1, 1]\n",
      "[1, 1, 0, 1]\n",
      "\n",
      "\n",
      "[1, 1, 0, 1]\n",
      "[1, 1, 1, 1]\n",
      "\n",
      "\n",
      "[1, 1, 1, 1]\n",
      "[0, 1, 1, 1]\n",
      "\n",
      "\n",
      "[1, 1, 1, 1]\n",
      "[1, 1, 1, 1]\n",
      "\n",
      "\n",
      "[1, 1, 1, 1]\n",
      "[0, 1, 1, 1]\n",
      "\n",
      "\n",
      "[1, 1, 1, 1]\n",
      "[1, 1, 0, 1]\n",
      "\n",
      "\n",
      "[1, 1, 0, 1]\n",
      "[1, 1, 0, 0]\n",
      "\n",
      "\n",
      "[1, 1, 1, 1]\n",
      "[1, 1, 1, 1]\n",
      "\n",
      "\n",
      "[1, 1, 1, 1]\n",
      "[1, 1, 1, 1]\n",
      "\n",
      "\n",
      "[1, 1, 1, 1]\n",
      "[1, 1, 1, 1]\n",
      "\n",
      "\n",
      "[1, 1, 1, 1]\n",
      "[0, 1, 1, 1]\n",
      "\n",
      "\n",
      "[1, 1, 1, 1]\n",
      "[1, 1, 1, 0]\n",
      "\n",
      "\n",
      "[1, 1, 1, 1]\n",
      "[0, 1, 1, 1]\n",
      "\n",
      "\n",
      "[1, 1, 1, 1]\n",
      "[1, 1, 0, 1]\n",
      "\n",
      "\n",
      "[1, 1, 1, 1]\n",
      "[1, 1, 0, 1]\n",
      "\n",
      "\n",
      "População Final:\n",
      "[[1, 1, 1, 1], [1, 1, 1, 1], [1, 1, 1, 1], [1, 1, 1, 1], [1, 1, 1, 1], [1, 1, 0, 1]]\n"
     ]
    }
   ],
   "source": [
    "# definidas as constantes, vamos em busca da população a ser selecionada\n",
    "populacao = cria_pop_ini(TAMANHO_POP, NUM_GENES) # função importada com seus parâmetros\n",
    "print(\"População Inicial:\")\n",
    "print(populacao)\n",
    "\n",
    "# tendo a população inicial, agora faremos a seleção e o cruzamento\n",
    "for n in range(NUM_GERACOES):\n",
    "    fitness = fobj_populacao_cb(populacao) # seleção dos melhores candidatos de acordo com fitness calculado para a população\n",
    "    populacao = roleta_max(populacao, fitness) # selecionando de acordo com os melhores e a proporção na roleta\n",
    "    pais = populacao[0::2] # corte da população: do elemento 0 até o final, com salto de 2 em dois\n",
    "    maes = populacao[1::2] # corte da população: do elemento 1 até o final, com intervalo de 2 em 2 \n",
    "# lembrando que população é uma lista e listas podem ser cortadas\n",
    "    contador = 0 \n",
    "    \n",
    "    for pai, mae in zip(pais, maes):# o zip para de funcionar quando ela chega no último elemento comum da quant. de itens da lista\n",
    "        if random.random() <= CHANCE_CRUZAMENTO: \n",
    "            #vai ter cruzamento\n",
    "            filho1, filho2 = f_cruzamento(pai, mae)\n",
    "            # o problema é que precisamos saber a posição desses indivíduos na população\n",
    "            populacao[contador] = filho1\n",
    "            populacao[contador + 1] = filho2\n",
    "            \n",
    "        contador = contador + 2\n",
    "         \n",
    "    for n in range(len(populacao)):\n",
    "        if random.random() <= CHANCE_MUTACAO: # se ficar só aqui, não se aplica a mutação na população de fato\n",
    "            individuo = populacao[n]\n",
    "            print()\n",
    "            print(individuo) # print o individuo a ser mutado\n",
    "            populacao[n] = f_mutacao(individuo)\n",
    "            print(populacao[n]) # print o individuo mutado\n",
    "            print()\n",
    "       \n",
    "        \n",
    "print()\n",
    "print(\"População Final:\")\n",
    "print(populacao)"
   ]
  },
  {
   "cell_type": "markdown",
   "metadata": {},
   "source": [
    "<br>"
   ]
  },
  {
   "cell_type": "markdown",
   "metadata": {},
   "source": [
    "### DISCUSSÃO\n",
    "\n",
    "<div style=' text-align: justify; text-justify: inter-word;'>\n",
    "    A população inicial é criada logo no início, sem passar por qualquer processo de seleção, cruzamento e mutação. Ela é criada com base em um função que reebeu como argumento o número total de indivíduos que uma população pode ter e o número de genes que cada indivíduo que compõe a população deve receber. Depois disso, a partir dessa população inicial seleciona-se os indivíduos que serão cruzados para formar a próxima geração. Eles são selecionados de acordo com os valores de fitness (valores específicos de cada um, calculados para cada indivíduo da população) de acordo com a função 'funcao_objetivo_populacao_cb'. A seleção é feita pelo método da roleta, considerando os indivíduos da população e os seus fitness calculados (pesos), sendo que a roleta funciona de maneira randômica. Os indivíduos selecionados são separados de maneira alternada em duas listas, compondo os pais e as mães. Depois disso, os indivíduos selecionados são cruzados de acordo com a constante 'chance_cruzamento' e a função  'f_cruzamento'. Os indivíduos cruzados passam pela mutação, mas só serão mutados aqueles que apresentarem valor aleatório inferior ao valor definido pela constante 'chance_mutacao'.\n",
    "    <br>Gostaria de destacar a característica dessa ferramenta que eu achei mais útil: flexibilidade. Adorei que podemos considerar aspectos da vida real e como considerá-los faz diferença no código, como nos momentos em que colocamos as chances de reprodução e de mutação, afinal, de fato nem todo indivíduo de uma espécie se reproduz e nem toda multiplicação de DNA envolve mutações. Me parece até que essas interpretações poderiam ser ampliadas considerando inclusive fatores sócio-culturais, algo que não se apresentou tão fortemente no início de outras disciplinas. No caso de uma aplicação real, para alguma pesquisa na saúde, observações do tipo seriam essenciais para se ter uma amostra mais representativa, por exemplo. \n",
    "    <br> Como resultado, podemos observar a população inicial de indivíduos novamente para o problema das caixas binárias. Observa-se também, individualmente, cada um dos indivíduos e se eles sofrem ou não a mutação. Por fim, vemos a população final.\n",
    "    \n",
    "    \n",
    "</div>"
   ]
  },
  {
   "cell_type": "markdown",
   "metadata": {},
   "source": [
    "<hr>"
   ]
  },
  {
   "cell_type": "markdown",
   "metadata": {},
   "source": [
    "## Conclusão\n",
    "#### Questões para reflexão\n",
    "> O Algoritmo Genético apresenta um \"probabilistic behavior\". Digo isso já com antecedência porque estava na leitura recomendada pelo professor. Além disso, teve a pergunta da aluna Danielle, sobre algortimos genéticos parecerem bem mais também sobre a questão da aleatoriedade e agora sabemos que ela é fundamental para o próprio conceito de Algoritmos Genéticos.\n",
    "\n",
    "> Além disso, ele também é sim capaz de encontrar os valores máximos de uma função objetivo. É justamente isso que ele busca fazer ao dar origem a diferentes gerações: ele quer o melhor valor possível. Caso o problema queira encontrar o valor mínimo, é necessário então multiplicar os valores encontrados para a função objetivo de cada um dos indivíduos por menos 1. Ou seja, ele também consegue enconrar os mínimos.\n",
    "\n",
    "> A etapa de mutação (o último operador do ciclo) permite que se não realizamos a mutação, corre-se o risco de que as gerações seguintes fiquem estagnadas em um mesmo valor 'ótimo' (o fitness). Isso é um problema porque o objetivo de testar diferentes gerações é justamente maximizar os resultados com diversidade de indivíduos.\n",
    "\n",
    "> Contudo, se a chance de acontecer mutação for muito alta e mutações demais acontecerem, é perigoso que um bom indivíduo seja alterado e, consequentemente, sua performance acaba sendo influenciada negativamente. Além disso, o algoritmo acaba adquirindo também um caráter de aleatoriedade.\n",
    "\n",
    "#### Sobre o experimento\n",
    "> O experimento de número três foi muito importante para exemplificar de maneira prática os diferentes conceitos explorados na leitura prévia. Ao ler a parte mais teórica, fiquei bem curiosa para ver como seria a aplicação e, então, a aula foi muito interessante. Fiquei positivamente surpresa com como a escrita em linguagem computacional (pelo menos por enquanto) não é tão complexa quanto eu imaginava que seria. Por meio da atividade, consolidou-se a ideia de que os algoritmos genéticos funcionam por etapas e todas elas são fundamentais para alcançar o resultado mais satisfatório. O que o programa me entegou, desde que escrevi a primeira etapa (seleção) até a última (mutação) mudou bastante, principalmente em questão de tamanho, já que tinhamos mais informação no final. É interessante ver também, no print, quantos indivíduos sofreram mutações e quais foram elas, reforçando que nem sempre mutações acontecem principalmente quando um indivíduo já apresenta um fitness maximizado. "
   ]
  },
  {
   "cell_type": "markdown",
   "metadata": {},
   "source": [
    "<hr>"
   ]
  },
  {
   "cell_type": "markdown",
   "metadata": {},
   "source": [
    "## Playground\n",
    "\n"
   ]
  },
  {
   "cell_type": "markdown",
   "metadata": {},
   "source": [
    "- the art of solving problems using genetic algorithms: \"Genetic algorithms provide us with a powerful and versatile tool that can be used to solve a wide array of problems and tasks.\""
   ]
  },
  {
   "cell_type": "code",
   "execution_count": 2,
   "metadata": {},
   "outputs": [],
   "source": [
    "# lembrar das funções com strings\n",
    "# essa proposta me lembra das atividades da aula passada"
   ]
  },
  {
   "cell_type": "markdown",
   "metadata": {},
   "source": [
    "#### Anotações\n",
    "Lembrar de fazer funções com strings\n",
    "<br>Essa proposta me lembra das atividades da aula passada, e é isso mesmo, mas aqui resolvemos a questão utilizando algoritmos genéticos\n",
    "<br>Não conseguimos definir o que é bom ou ruim antes de rodar o código\n",
    "<br>Mas conseguimos limitar quantas vezes uma coisa vai acontecer (tipo quantas vezes vai acontecer mutação)\n",
    "<br>Aleatoriedade está no coração dos algoritmos genéticos (pergunta da Dani!!!! coisa mais linda)\n",
    "<br>Lembrar de definir os critérios de parada\n",
    "<br>Gostaria que ficasse claro que AG são muito muito versáteis: cabe explorar a criatividade e criar situações, mesmo que na genética \n",
    "<br>Se o valor usado em for não for importante no código, você não coloca uma letra, você coloca '_' e isso indica para o usuário que não é uma informação importante\n",
    "<br>Focar em cada função, desenvolvê-las e depois se preocupar com os elementos externos"
   ]
  }
 ],
 "metadata": {
  "kernelspec": {
   "display_name": "ilumpy",
   "language": "python",
   "name": "ilumpy"
  },
  "language_info": {
   "codemirror_mode": {
    "name": "ipython",
    "version": 3
   },
   "file_extension": ".py",
   "mimetype": "text/x-python",
   "name": "python",
   "nbconvert_exporter": "python",
   "pygments_lexer": "ipython3",
   "version": "3.9.7"
  },
  "org": null
 },
 "nbformat": 4,
 "nbformat_minor": 4
}
