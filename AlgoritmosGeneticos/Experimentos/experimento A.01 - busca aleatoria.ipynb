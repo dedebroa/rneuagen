{
 "cells": [
  {
   "cell_type": "markdown",
   "metadata": {},
   "source": [
    "Busca aleatória\n",
    "===============\n",
    "\n"
   ]
  },
  {
   "cell_type": "markdown",
   "metadata": {},
   "source": [
    "## Introdução\n",
    "\n"
   ]
  },
  {
   "cell_type": "markdown",
   "metadata": {},
   "source": [
    "Uma forma simples de se encontrar uma solução para um `problema de otimização` é realizando uma `busca aleatória`. A busca aleatória, como o próprio nome sugere, é um algoritmo onde um certo `espaço de busca` é definido de onde sorteamos `candidatos` de soluções para o problema.\n",
    "\n",
    "Diferentemente de outros algoritmos de otimização, a busca aleatória não requer que a `função objetivo` seja diferenciável nem contínua.\n",
    "\n",
    "Um algoritmo de busca aleatória segue os seguintes passos:\n",
    "\n",
    "1.  Um espaço de busca é definido\n",
    "\n",
    "2.  Um candidato $x$ dentro do espaço de busca é sorteado aleatoriamente\n",
    "\n",
    "3.  Calculamos o resultado da função objetivo para o candidato $x$\n",
    "\n",
    "4.  Se o critério de parada for atingido, encerrar o algoritmo e retornar ao usuário o candidato que teve melhor resultado durante a busca. Do contrário, retorne ao passo 2\n",
    "\n"
   ]
  },
  {
   "cell_type": "markdown",
   "metadata": {},
   "source": [
    "## Reflexões\n",
    "\n"
   ]
  },
  {
   "cell_type": "markdown",
   "metadata": {},
   "source": [
    "Você diria que o algoritmo de busca aleatória é determinístico ou probabilístico?\n",
    "\n",
    "Em quais problemas de otimização você acredita que este algoritmo seja uma boa escolha?\n",
    "\n",
    "Em quais problemas de otimização você acredita que este algoritmo seja uma má escolha?\n",
    "\n"
   ]
  },
  {
   "cell_type": "markdown",
   "metadata": {},
   "source": [
    "## Objetivo\n",
    "\n"
   ]
  },
  {
   "cell_type": "markdown",
   "metadata": {},
   "source": [
    "Encontrar uma solução para o problema das caixas binárias usando o algoritmo de busca aleatória. Considere 4 caixas.\n",
    "\n"
   ]
  },
  {
   "cell_type": "markdown",
   "metadata": {},
   "source": [
    "## Descrição do problema\n",
    "\n"
   ]
  },
  {
   "cell_type": "markdown",
   "metadata": {},
   "source": [
    "O problema das caixas binárias é simples: nós temos um certo número de caixas e cada uma pode conter um valor do conjunto $\\{0, 1\\}$. O objetivo é encontrar uma combinação de caixas onde a soma dos valores contidos dentro delas é máximo.\n",
    "\n",
    "Como todo problema computacional, um dos desafios é &ldquo;traduzir&rdquo; o problema dado em estruturas computacionais.\n",
    "\n"
   ]
  },
  {
   "cell_type": "markdown",
   "metadata": {},
   "source": [
    "## Importações\n",
    "\n"
   ]
  },
  {
   "cell_type": "code",
   "execution_count": 1,
   "metadata": {},
   "outputs": [],
   "source": [
    "import random \n",
    "# importante! faremos sorteios aleatório; precisamos que o gene assuma 0 ou 1 de maneira aleatória"
   ]
  },
  {
   "cell_type": "markdown",
   "metadata": {},
   "source": [
    "## Códigos e discussão\n",
    "\n"
   ]
  },
  {
   "cell_type": "code",
   "execution_count": 13,
   "metadata": {},
   "outputs": [],
   "source": [
    "# primeiramente, um lembrete: não são mais candidatos, são indivíduos; cada caixa agora é um gene\n",
    "# 2: quando a função não existe, não podemos deixá-la em branco\n",
    "# lembrar de funções com strings\n",
    "\n",
    "# dica do dani: usar 'pass' nas funções quando ela ainda estiver vazia\n",
    "# usei enquanto escrevíamos na aula, mas tirei quando voltamos para completá-la\n",
    "\n",
    "### Código\n",
    "#### esse aqui é do professor\n",
    "\n",
    "def gene_cb():\n",
    "    '''Gera um gene válido para o problema das caixas binários \n",
    "    \n",
    "    Return:\n",
    "        Ou retorna zero ou retona um\n",
    "    '''\n",
    "    lista = [0, 1] # lá no início dissemos que os genes poderiam assumir dois valores\n",
    "    gene = random.choice(lista) # pedirei que a função escolha aleatóriamnte um valor para o gene dentro da lista\n",
    "    return gene # peço que ele retorne a escolha aleatória\n",
    "    # pass\n",
    "\n",
    "def individuo_cb(n):\n",
    "    '''Gera um indivíduo para o problema das caixas binárias (um indivíduo tem 4 genes)\n",
    "    \n",
    "    Argumentos:\n",
    "        n: número de genes do indivíduo (ou seja, número de caixas)\n",
    "        \n",
    "    Return:\n",
    "        Uma lista com n genes (caixas). Cada gene é um valor zero ou um.\n",
    "    '''\n",
    "    individuo = [] # importante lembrar: o indivíduo corresponde ao conjunto de 4 genes, ou seja, ele será uma lista desses 4 valores\n",
    "    for i in range(n):\n",
    "        gene = gene_cb()\n",
    "        individuo.append(gene)\n",
    "    return individuo\n",
    "    # pass\n",
    "    \n",
    "def funcao_objetivo(individuo):\n",
    "    '''Computa a função objetivo para o problema cb.\n",
    "    \n",
    "        Argumentos:\n",
    "            Individuo: lista contendo os genes das caixas binárias\n",
    "        \n",
    "        Return:\n",
    "            Um valor representando a soma dos genes do indivíduo\n",
    "    '''\n",
    "    return sum(individuo)\n",
    "    # pass"
   ]
  },
  {
   "cell_type": "code",
   "execution_count": 21,
   "metadata": {},
   "outputs": [
    {
     "name": "stdout",
     "output_type": "stream",
     "text": [
      "[1, 0, 0, 1] 2\n",
      "[1, 0, 1, 0] 2\n",
      "[0, 0, 0, 1] 1\n",
      "[1, 1, 1, 1] 4\n",
      "[0, 1, 1, 1] 3\n",
      "[0, 1, 1, 1] 3\n",
      "[0, 1, 1, 0] 2\n",
      "[0, 0, 0, 1] 1\n",
      "[0, 0, 1, 0] 1\n",
      "[1, 0, 0, 0] 1\n",
      "[0, 1, 0, 0] 1\n",
      "[1, 0, 1, 0] 2\n",
      "[1, 1, 1, 1] 4\n",
      "[1, 0, 0, 1] 2\n"
     ]
    }
   ],
   "source": [
    "# constantes\n",
    "\n",
    "N = 14 # sorteios\n",
    "# aqui é mais um hiperparâmetro, uma constante do que um valor inteiro\n",
    "# antes era 8, não deu certo, vou tentar com outros valores então (não deu certo pq eu não consegui o valor máximo)\n",
    "# não foram: 9, 10, 16\n",
    "# foi: 22, 14\n",
    "\n",
    "NUM_GENES = 4\n",
    "# lembrete novamente: corresponde ao número de caixas\n",
    "\n",
    "#dicionario = ()\n",
    "\n",
    "for n in range(N): \n",
    "    candidato = individuo_cb(NUM_GENES)\n",
    "    f_objetivo = funcao_objetivo(candidato)\n",
    "    print(candidato, f_objetivo)"
   ]
  },
  {
   "cell_type": "markdown",
   "metadata": {},
   "source": [
    "## Conclusão\n",
    "\n"
   ]
  },
  {
   "cell_type": "markdown",
   "metadata": {},
   "source": [
    "> Concluímos que o problema em questão é um problema probabilístico, isso porque nem todas as pessoas encontraram os mesmos resultados para o mesmo valor de N, ou seja, com o mesmo número de sorteios realizados. O resultado acabou dependendo da máquina, foi bem aleatório, então acredito que ele não seria interessante para problemas que exijam exatidão. Em contrapartida, para problemas nos quais apenas desejemos um  resultado, mas sem a exigência de um resultado específico ou máximo, por exemplo."
   ]
  },
  {
   "cell_type": "markdown",
   "metadata": {},
   "source": [
    "<hr>"
   ]
  },
  {
   "cell_type": "markdown",
   "metadata": {},
   "source": [
    "## Playground\n",
    "\n"
   ]
  },
  {
   "cell_type": "markdown",
   "metadata": {},
   "source": [
    "### Anotações\n",
    "Estabelece-se critérios de parada\n",
    "<br> Função objetivo recebe um candidato e te oferece uma métrica\n",
    "<br> Traduzir um problema da vida real na estrutura de dados de Python que conhecemos\n",
    "<br> Espaço de busca define de onde iremos sortear um candidato, define em quantos podemos variar a função\n",
    "<br> Candidato válido pode ser usado no seu problema e o candidato inválido não pode\n",
    "<br> Não vamos mais chamar de candidatos e chamaremos de indivíduo\n",
    "<br> Nosso indivíduo \n",
    "<br> Sorteio de indivíduos dentro do espaço de busca, sorteio n vezes e depois checa com a função objetiva\n",
    "<br> Problema de maximização \n",
    "<br> Ao ler que um espaço de busca é definido, precisamos pensar nos laços de repetição e, portanto, FOR precisa vir à mente\n",
    "<br> Súplica para mim mesma: POR FAVOR, revê seu código antes de rodar!!! Cansei de errar porque escrevi uma letra diferente na palavra."
   ]
  },
  {
   "cell_type": "code",
   "execution_count": null,
   "metadata": {},
   "outputs": [],
   "source": []
  }
 ],
 "metadata": {
  "kernelspec": {
   "display_name": "ilumpy",
   "language": "python",
   "name": "ilumpy"
  },
  "language_info": {
   "codemirror_mode": {
    "name": "ipython",
    "version": 3
   },
   "file_extension": ".py",
   "mimetype": "text/x-python",
   "name": "python",
   "nbconvert_exporter": "python",
   "pygments_lexer": "ipython3",
   "version": "3.9.7"
  },
  "org": null
 },
 "nbformat": 4,
 "nbformat_minor": 4
}
