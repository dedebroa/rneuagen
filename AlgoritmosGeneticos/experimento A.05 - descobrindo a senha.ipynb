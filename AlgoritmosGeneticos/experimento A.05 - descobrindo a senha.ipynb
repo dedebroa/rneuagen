{
 "cells": [
  {
   "cell_type": "markdown",
   "metadata": {},
   "source": [
    "Descobrindo a senha\n",
    "===================\n",
    "\n"
   ]
  },
  {
   "cell_type": "markdown",
   "metadata": {},
   "source": [
    "<hr>"
   ]
  },
  {
   "cell_type": "markdown",
   "metadata": {},
   "source": [
    "## Objetivo\n",
    "\n"
   ]
  },
  {
   "cell_type": "markdown",
   "metadata": {},
   "source": [
    "Usar um algoritmo genético para descobrir uma senha.\n",
    "\n"
   ]
  },
  {
   "cell_type": "markdown",
   "metadata": {},
   "source": [
    "## Descrição do problema\n",
    "\n"
   ]
  },
  {
   "cell_type": "markdown",
   "metadata": {},
   "source": [
    "Neste problema, a função objetivo deve saber a senha correta e quantificar de alguma maneira o quão perto ou longe os palpites estão da solução (veja que isso é algo que não temos no mundo real. Nenhum site irá te dizer se você está acertando ou errando seu palpite). O critério de parada deste problema é quando a senha for descoberta.\n",
    "\n"
   ]
  },
  {
   "cell_type": "markdown",
   "metadata": {},
   "source": [
    "> <hr>"
   ]
  },
  {
   "cell_type": "markdown",
   "metadata": {},
   "source": [
    "## Importações\n",
    "\n"
   ]
  },
  {
   "cell_type": "code",
   "execution_count": 1,
   "metadata": {},
   "outputs": [],
   "source": [
    "from funcoes import populacao_inicial_senha\n",
    "from funcoes import funcao_objetivo_pop_senha\n",
    "from funcoes import selecao_torneio_min\n",
    "from funcoes import cruzamento_ponto_simples as funcao_cruzamento\n",
    "from funcoes import mutacao_senha\n",
    "# 'funcoes' é um arquivo com o objetivo de reunir as funções que podem ser reutilizadas em outros trabalhos\n",
    "import random"
   ]
  },
  {
   "cell_type": "markdown",
   "metadata": {},
   "source": [
    "## Códigos e discussão\n",
    "\n"
   ]
  },
  {
   "cell_type": "markdown",
   "metadata": {},
   "source": [
    "<div style=' text-align: justify; text-justify: inter-word;'>\n",
    "    Esse problema pode parecer mais difícil do que os anteriores, já que não estamos mais falando de poucas opções de número ou de número em geral, mas sim de letras. Contudo, ainda assim devemos pensar em indivíduos compostos por genes, sendo que esses genes agora corresponderão às letras que formarão as senhas.\n",
    "    <br>O objetivo desse problema é encontrar uma senha textual. Não se trata mais de um problema de maximização envolvendo caixas binárias, não binárias e números. Queremos um indivíduo cujo genes corresponderão a letras e queremos diminuir a distância dessas letras em relação às letras que compõem a senha buscada. Em outras palavras, queríamos encontrar a senha sugerida com menor distância (0) em relação a senha dada, caracterizando, então, um problema de minimização. Apesar disso, entendo que fazer essa afirmação poderia até mesmo me confundir, caso eu pensasse que toda a estrutura do trabalho mudou. O problema é diferente, mas é preciso recordar que ainda se trata de algoritmos genéticos, como já pontuei também no parágrafo anterior."
   ]
  },
  {
   "cell_type": "code",
   "execution_count": null,
   "metadata": {},
   "outputs": [],
   "source": [
    "#### código do Professor Daniel, responsável pela disciplina \n",
    "\n",
    "### CONSTANTES\n",
    "\n",
    "# relacionadas à busca ## podem ser alteradas\n",
    "TAMANHO_POP = 50\n",
    "#NUM_GERACOES = 2000 # nem precisa mais ser uma constante, pq não serve mais como critério de parada\n",
    "CHANCE_CRUZAMENTO = 0.5\n",
    "CHANCE_MUTACAO = 0.05\n",
    "NUM_COMBATENTES_NO_TORNEIO = 3\n",
    "\n",
    "# relacionadas ao problema a ser resulvido ## não podem ser alteradas\n",
    "SENHA = \"correcthorsebatterystaple\" \n",
    "# vamos estudar, letra a letra, a distância entre as letras da senha sugerida e da real\n",
    "# se mudarmos a senha real, a senha na qual queremos chegar, não vai dar certo\n",
    "# não vamos conseguir minimizar nada, já que nossa repsosta final tá sempre mudando\n",
    "\n",
    "LETRAS_POSSIVEIS = \"abcdefghijklmnopqrstuvwxyz\"\n",
    "# em suma, todas as letras do alfabeto são possíveis\n",
    "\n",
    "NUM_GENES = len(SENHA)\n",
    "# o número genes possíveis corresponde ao número de caracteres da senha"
   ]
  },
  {
   "cell_type": "code",
   "execution_count": 7,
   "metadata": {},
   "outputs": [
    {
     "name": "stdout",
     "output_type": "stream",
     "text": [
      "Progresso da melhor senha já vista:\n",
      "fquaecieitvizewegbjputotj - fitness: 170\n",
      "dkphodwsnshbecgaukwqiaced - fitness: 154\n",
      "msrupqxkrjaffdullskzdcvmc - fitness: 151\n",
      "dkphodwsnshbecgaukwqiavmc - fitness: 142\n",
      "dkphoftkushbecgaukwqiavmc - fitness: 138\n",
      "dkphodwsnshdfdullkwqiaced - fitness: 122\n",
      "dkphodwsnshdfdullswqiaced - fitness: 116\n",
      "dkphoftkushbecullkwqiavmc - fitness: 106\n",
      "dkptoftkushdfdullswqiaced - fitness: 104\n",
      "dkphoftkushdfduwlswqiavmc - fitness: 95\n",
      "dkptoftkushdfduwlswqiavmc - fitness: 87\n",
      "dkptoftkushdfduwlswqiavme - fitness: 85\n",
      "dkptoftkusldfduwlswqiavmd - fitness: 82\n",
      "dkpteftkushdfduwlswqiavme - fitness: 75\n",
      "dkpteftkusldfduwlswqiavme - fitness: 71\n",
      "dkpteftkusndfduwlswqiavme - fitness: 69\n",
      "dkpteftkusndfduwjswqiavme - fitness: 67\n",
      "dppteftkusndfduwjswqiavme - fitness: 64\n",
      "dprteftkusndfduwjswqiavme - fitness: 62\n",
      "dprteftkusnefduwjswqiavme - fitness: 61\n",
      "dprteftkusnefduwjswqtavme - fitness: 50\n",
      "dprteftkusndfduweswqtavme - fitness: 46\n",
      "dprteftkpsnefduwjswqtavme - fitness: 45\n",
      "dprseftkusnefduweswqtavme - fitness: 44\n",
      "dprseftkustefduweswqtavme - fitness: 40\n",
      "dprtedtkussefduweswqtavme - fitness: 38\n",
      "dprteftkpstefduweswqtavme - fitness: 36\n",
      "dprteftkpstebduweswqtavme - fitness: 32\n",
      "dprtecthpstefduweswqtavme - fitness: 30\n",
      "dprteethpstefduweswqtanme - fitness: 28\n",
      "dprtecthpstefduweswqtanme - fitness: 26\n",
      "dprtecthpstefdtweswqtanme - fitness: 25\n",
      "dprtecthpstefdtteswqtanme - fitness: 22\n",
      "dprtecthpstefdtterwqtanme - fitness: 21\n",
      "dprtecthpsteadtterwqtanme - fitness: 18\n",
      "dprtecthpsteaatterwqtanme - fitness: 15\n",
      "dprtecthpsteaatterxqtanme - fitness: 14\n",
      "dprtecthprteaatterxqtanme - fitness: 13\n",
      "dortecthpsteaatterxqtaqme - fitness: 12\n",
      "dortecthprteaatterxqtaqme - fitness: 11\n",
      "dortecthosteaatterxttaqme - fitness: 10\n",
      "dorpecthorteaatterxttaqme - fitness: 9\n",
      "dorrecthosteaatterxttaqme - fitness: 8\n",
      "dorrecthorteaatterxttaqle - fitness: 6\n",
      "dorrecthorseaatterxttaqle - fitness: 5\n",
      "correcthorseaatterxttaqle - fitness: 4\n",
      "correcthorseaatterxttaple - fitness: 3\n",
      "correcthorseaatterxstaple - fitness: 2\n",
      "correcthorseaatterystaple - fitness: 1\n",
      "correcthorsebatterystaple - fitness: 0\n",
      "\n",
      "Melhor palpite da senha encontrado:\n",
      "correcthorsebatterystaple\n",
      "\n",
      "\n"
     ]
    }
   ],
   "source": [
    "# funções locais\n",
    "# feitas somente para esse problema, por isso senha e letras entram como argumentos\n",
    "# temos funções parciais aqui, caracterizadas por chamar outras funções \n",
    "\n",
    "def cria_populacao_inicial(tamanho, tamanho_senha): \n",
    "    return populacao_inicial_senha(tamanho, tamanho_senha, LETRAS_POSSIVEIS)\n",
    "\n",
    "def funcao_objetivo_pop(populacao):\n",
    "    return funcao_objetivo_pop_senha(populacao, SENHA)\n",
    "\n",
    "def funcao_selecao(populacao, fitness):\n",
    "    return selecao_torneio_min(populacao, fitness, NUM_COMBATENTES_NO_TORNEIO)\n",
    "\n",
    "def funcao_mutacao(individuo):\n",
    "    return mutacao_senha(individuo, LETRAS_POSSIVEIS)\n",
    "\n",
    "# iniciando o problema\n",
    "populacao = cria_populacao_inicial(TAMANHO_POP, NUM_GENES) \n",
    "# população é criada de acordo com o número de indivíduos definido no início do problema (TAM_POP)\n",
    "# o segundo critério para criá-la é o número de genes que compõem um indivíduo\n",
    "\n",
    "melhor_fitness_ja_visto = float(\"inf\")  # 'inf' = infinito em python\n",
    "\n",
    "print(\"Progresso da melhor senha já vista:\")\n",
    "\n",
    "#for n in range(NUM_GERACOES):  \n",
    "    # isso tá errado, por isso estou deixando comentado\n",
    "    # nosso critério de parada agora passa a ser quando a senha correta foi encontrada, não é mais o n° de gerações\n",
    "\n",
    "while melhor_fitness_ja_visto != 0: # distância é zero quando descobrimos a senha\n",
    "    \n",
    "    # Seleção\n",
    "    fitness = funcao_objetivo_pop(populacao)\n",
    "    populacao = funcao_selecao(populacao, fitness)\n",
    "    \n",
    "    # Cruzamento\n",
    "    # divide-se a população em dois grupos: pais e mães\n",
    "    # para separar os indivíduos, indicamos que a escolha deve ser feita de maneira intercalada\n",
    "    pais = populacao[0::2] # a partir do primeiro elemento da população, pega-se um e pula outro\n",
    "    maes = populacao[1::2] # a partir do segundo elemento da população, pega-se um e pula outro\n",
    "    \n",
    "    contador = 0\n",
    "    \n",
    "    for pai, mae in zip(pais, maes): # zip é uma função interna que permite trabalhar com elementos de 'pais' e 'maes' ao mesmo tempo\n",
    "        if random.random() <= CHANCE_CRUZAMENTO:\n",
    "            filho1, filho2 = funcao_cruzamento(pai, mae) # o cruzamento de um pai e uma mãe origina dois filhos \n",
    "            populacao[contador] = filho1\n",
    "            populacao[contador + 1] = filho2\n",
    "        \n",
    "        contador = contador + 2   \n",
    "        \n",
    "    # Mutação\n",
    "    for n in range(len(populacao)):\n",
    "        if random.random() <= CHANCE_MUTACAO:\n",
    "            individuo = populacao[n]\n",
    "            populacao[n] = funcao_mutacao(individuo)   \n",
    "    # mutação vai acontecer em um individuo escolhido aleatoriamente na população\n",
    "    # mas mutação só vai acontecer para valores inferiores ou iguais à chance de mutação\n",
    "            \n",
    "    # melhor individuo já visto até agora\n",
    "    fitness = funcao_objetivo_pop(populacao)\n",
    "    menor_fitness = min(fitness) # trata-se de um problema de minimização, portanto, o melhor fitness é o menor\n",
    "    if menor_fitness < melhor_fitness_ja_visto:        \n",
    "        posicao = fitness.index(menor_fitness)\n",
    "        melhor_individuo_ja_visto = populacao[posicao] # melhor indivíduo já visto seria um hall da fama modificado, já que se quer 1 só\n",
    "        melhor_fitness_ja_visto = menor_fitness # conforme valores menores de fitness forem sendo encontrados, o melhor valor muda\n",
    "        print(\"\".join(melhor_individuo_ja_visto), \"- fitness:\", melhor_fitness_ja_visto)\n",
    "\n",
    "        \n",
    "print()\n",
    "print(\"Melhor palpite da senha encontrado:\")\n",
    "print(\"\".join(melhor_individuo_ja_visto))\n",
    "print()\n",
    "print()\n",
    "# os dois últimos print possuem somente o objetivo de dar um espaço maior entre o final dos resultados e a discussão"
   ]
  },
  {
   "cell_type": "markdown",
   "metadata": {},
   "source": [
    "<div style=' text-align: justify; text-justify: inter-word;'>\n",
    "<br> Assim como tinhamos diversas opções de números entre 0 e 100 no experimento 04, temos aqui várias opções de letras disponíveis também. Para conseguir qual delas mais se aproxima do nosso objetivo, entra um cálculo que considera a distância das letras sugeridas às letras da senha real. Essa distância, então, é calculada de letra a letra.\n",
    "<br> Já que o problema mudou, o código também sofreu alterações, mas nada muito gigante. O que se pode observar nas novas funções disponíveis no 'funcoes.py' é que aquelas relacionadas com: genes, indivíduos, população, função objetivo, mutação e seleção. Pode-se justificar grande parte das mudanças pelo fato de que agora estamos trabalhando com letras, senhas e distância. E também pelo fato de que buscamos resolver um problema de minimização e a roleta máxima utilizada na seleção, por exemplo, se torna inutilizável nese caso. Com isso em mente, o código adquiriu algumas particularidades. Recursos foram utilizados para possibilitar a manipulação das letras como números, já que, dessa forma, seria possível medir a distância entre as senhas sugeridas e a senha desejada. Tal recurso foi a função 'ord' utilizada dentro da função  'funcao_objetivo_senha' (presente no arquivo 'funcoes.py', também disponível na pasta 'AlgoritmosGeneticos' no repositório do GitHub). Além disso, como já mencionada anteriormente, esse problema se trata de uma questão de minimização, já que queremos encontrar a senha menos diferente da nossa constante previamente definida o possível. Para tanto, no momento de seleção dos indivíduos, o método de seleção mais adequado foi o por torneio, no qual três indivíduos eram comparados e se escolhia aquele com valor de fitness inferior aos seus combatentes. O interessante da seleção por torneio é que, nela, nenhum indivíduo (tendo ele sido selecionado ou não) morre ou é descartado, eles apenas retornam ao grupo de possíveis combatentes e um mesmo indivíduo pode ser selecionado mais de uma vez. Considerando as alterações, ao rodar o código, nota-se que depois de algumas tentativas, finalmente obtém-se o valor '0', o que demonstra que a senha sugerida é identica à senha real. \n",
    "</div>"
   ]
  },
  {
   "cell_type": "markdown",
   "metadata": {},
   "source": [
    "> <hr>"
   ]
  },
  {
   "cell_type": "markdown",
   "metadata": {},
   "source": [
    "## Conclusão\n",
    "\n"
   ]
  },
  {
   "cell_type": "markdown",
   "metadata": {},
   "source": [
    "> <div style=' text-align: justify; text-justify: inter-word;'>\n",
    "    A distância dos resultados encontrados em relação a senha buscada (dada pelo fitness) foi diminuindo progressivamente. Achei interessante que a distância da primeira senha sugerida é bem grande, maior do que eu imaginava que era possível. Contudo, é interessante também utilizar essa confusão de maneira a relembrar que o valor do fitness não representa quantas letras estão distantes da senha original ou algo do tipo. Na realidade, as letras assumem valores de números específicos para que o computador consiga entedê-las, então, o valor de fitness mostra que há diferenreça, sem implicar que 170 letras estão diferentes.</div>\n",
    "    \n",
    "> <div style=' text-align: justify; text-justify: inter-word;'> Considero importante ressaltar a natureza desse exercício: ele foi elaborado com o objetivo de que exercitásemos conceitos em contextos diferentes. É improvável que uma situação real desse tipo ocorra, não haveria um sistema que te informe a senha sugerida, por exemplo, então o que nos importa aqui é entender o funcionamento do código e do Algortimo Genético e não pensar em como ele seria traduzido para uma situação do cotidiano.</div>\n",
    "\n",
    "> <div style=' text-align: justify; text-justify: inter-word;'> Antes de finalizar, gostaria de expor uma das questões que fiquei pensando bastante durante a aula. Antes de vir para a sala para tentar resolver o problema, eu dedico um tempo para fazer anotações anteriores (que posteriormente foram aderidas à discussão. Isso tem sido bastante importante para mim, porque me permite compreender o problema estudado com mais profundidade do que simplesmente já partir para o código. Anotar o que é necessário e expor quais são mudanças são necessárias e por quais razões elas devem ser feitas me ajuda a acompanhar a aula mais adequadamente e me ajuda também a compreender as discussões estabelecidas. Em suma, considero ser sempre benéfico buscar compreender o seu problema com profundida antes de já partir para a resolução prática dele.</div>"
   ]
  },
  {
   "cell_type": "markdown",
   "metadata": {},
   "source": [
    "<hr>"
   ]
  },
  {
   "cell_type": "markdown",
   "metadata": {},
   "source": [
    "## Playground\n",
    "\n"
   ]
  },
  {
   "cell_type": "markdown",
   "metadata": {},
   "source": [
    "**Demais anotações durante a aula**\n",
    "- Mutação pode retardar o processo de encontrar todas as letras corretas, mas não impede de encontrá-las. Contudo, é importante ter o número de gerações solicitadas e ter os operadores necessários;\n",
    "- Tentar pensar durante as aulas em quais momentos podemos usar a característica da flexibilidade que algoritmos genéticos nos permitem;\n",
    "- Em problemas de várias variáveis, a superfície da resposta é instável. Ter certeza de que os 'ruins' não vão te ajudar pode ser problemático e pode atrapalhar o desempenho."
   ]
  }
 ],
 "metadata": {
  "kernelspec": {
   "display_name": "ilumpy",
   "language": "python",
   "name": "ilumpy"
  },
  "language_info": {
   "codemirror_mode": {
    "name": "ipython",
    "version": 3
   },
   "file_extension": ".py",
   "mimetype": "text/x-python",
   "name": "python",
   "nbconvert_exporter": "python",
   "pygments_lexer": "ipython3",
   "version": "3.9.7"
  },
  "org": null
 },
 "nbformat": 4,
 "nbformat_minor": 4
}
