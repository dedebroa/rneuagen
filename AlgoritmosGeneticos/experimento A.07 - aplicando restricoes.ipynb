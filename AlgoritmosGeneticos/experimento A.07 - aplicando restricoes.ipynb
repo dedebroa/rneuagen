{
 "cells": [
  {
   "cell_type": "markdown",
   "metadata": {},
   "source": [
    "Aplicando restrições na busca\n",
    "=============================\n",
    "\n"
   ]
  },
  {
   "cell_type": "markdown",
   "metadata": {},
   "source": [
    "## Introdução\n",
    "\n"
   ]
  },
  {
   "cell_type": "markdown",
   "metadata": {},
   "source": [
    "Muitos problemas de otimização com relevância científica têm uma ou mais `restrições` que devem ser levadas em consideração na hora de resolver o problema.\n",
    "\n",
    "Lembra do `problema da mochila` que vimos em Lógica Computacional? Era um problema de otimização onde queríamos maximizar o valor dos itens colocados na mochila enquanto observávamos a restrição do peso total dos itens (do contrário, a mochila rasgava).\n",
    "\n",
    "Uma forma de considerar essas restrições nos problemas é aplicando uma `penalidade` na função objetivo.\n",
    "\n",
    "Vamos pensar como seria essa penalidade no problema da mochila: a função objetivo é maximizar o valor dos itens na mochila, então é um problema de maximização. A função objetivo pode ser a soma dos itens da mochila. Se fosse só isso, teríamos\n",
    "\n",
    "$$\n",
    "f = \\sum_{i, i \\in \\mathrm{mochila}}\\mathrm{valor}(i)\n",
    "$$\n",
    "\n",
    "No entanto, apenas essa função não resolve o problema! Precisamos levar em consideração o limite de peso da mochila! Para isso, penalizamos a função objetivo levando em consideração essa restrição:\n",
    "\n",
    "$f=\\begin{cases}\n",
    "0.01 & \\textrm{se peso > limite da mochila}\\\\\n",
    "\\sum_{i,i\\in\\mathrm{mochila}}(\\mathrm{valor}(i)) & \\textrm{se peso} \\leq \\textrm{limite da mochila}\n",
    "\\end{cases}$\n",
    "\n",
    "Agora finalmente podemos seguir em frente e resolver o problema.\n",
    "\n"
   ]
  },
  {
   "cell_type": "markdown",
   "metadata": {},
   "source": [
    "## Reflexões\n",
    "\n"
   ]
  },
  {
   "cell_type": "markdown",
   "metadata": {},
   "source": [
    "Se usarmos a equação de $f$ acima, qual será o valor de $f$ caso não exista uma solução para um certo problema da mochila?\n",
    "\n",
    "Na equação de $f$ acima nós usamos o valor zero para indicar que uma restrição do problema não foi satisfeita. Você consegue pensar em outra estratégia para penalizar soluções inválidas?\n",
    "\n"
   ]
  },
  {
   "cell_type": "markdown",
   "metadata": {},
   "source": [
    "## Objetivo\n",
    "\n"
   ]
  },
  {
   "cell_type": "markdown",
   "metadata": {},
   "source": [
    "Encontrar uma solução para o problema da mochila usando algoritmos genéticos. Considere que existem 10 itens diferentes (com pesos e valores diferentes) disponíveis para serem escolhidos.\n",
    "\n"
   ]
  },
  {
   "cell_type": "markdown",
   "metadata": {},
   "source": [
    "## Descrição do problema\n",
    "\n"
   ]
  },
  {
   "cell_type": "markdown",
   "metadata": {},
   "source": [
    "No problema da mochila você tem um número $n$ de itens disponíveis, cada um com um peso e um valor associado. Sua mochila tem a capacidade de carregar um número $p$ de quilogramas, sendo que mais que isso faz com que sua mochila rasgue e todos os itens dentro dela caiam no chão e se quebrem de maneira catastrófica (indesejado). Sua tarefa é encontrar um conjunto de itens (considerando os $n$ disponíveis) que maximize o valor contido dentro da mochila, porém que tenham um peso dentro da capacidade da mesma.\n",
    "\n"
   ]
  },
  {
   "cell_type": "markdown",
   "metadata": {},
   "source": [
    "> <hr>"
   ]
  },
  {
   "cell_type": "markdown",
   "metadata": {},
   "source": [
    "## Importações\n",
    "\n"
   ]
  },
  {
   "cell_type": "code",
   "execution_count": 1,
   "metadata": {},
   "outputs": [],
   "source": [
    "import random\n",
    "\n",
    "from funcoes import computa_mochila\n",
    "from funcoes import funcao_objetivo_pop_mochila\n",
    "from funcoes import populacao_cb as cria_populacao_inicial\n",
    "from funcoes import selecao_roleta_maxima as funcao_selecao\n",
    "from funcoes import cruzamento_ponto_simples as funcao_cruzamento\n",
    "from funcoes import mutacao_cb as funcao_mutacao"
   ]
  },
  {
   "cell_type": "markdown",
   "metadata": {},
   "source": [
    "## Códigos e discussão\n",
    "\n"
   ]
  },
  {
   "cell_type": "code",
   "execution_count": 15,
   "metadata": {},
   "outputs": [],
   "source": [
    "### CONSTANTES\n",
    "\n",
    "# relacionadas à busca\n",
    "# podem ser alteradas\n",
    "TAMANHO_POP = 20\n",
    "NUM_GERACOES = 100\n",
    "CHANCE_CRUZAMENTO = 0.5\n",
    "CHANCE_MUTACAO = 0.05\n",
    "\n",
    "# relacionadas ao problema a ser resolvido\n",
    "# não podem ser alteradas sem prejudicar o experimento\n",
    "LIMITE_DE_PESO = 15 # limitação\n",
    "OBJETOS = {\n",
    "    # dicionário baseado no que vocês enviaram na aula de Lógica\n",
    "    # é um dicionário de dicionários\n",
    "\n",
    "    \"vinil falsificado da volta do One Direction\": {\n",
    "        \"peso\": 2,\n",
    "        \"valor\": 2500,\n",
    "    },\n",
    "    \"Harry Potter: ele voltou, confia!\": {\n",
    "        \"peso\": 3,\n",
    "        \"valor\": 1500,\n",
    "    },\n",
    "    \"Quadrinho super raro do Aranha-Homem da vida real\": {\n",
    "        \"peso\": 3,\n",
    "        \"valor\": 7000,\n",
    "    },\n",
    "    \"mesa dobrável para laptop\": {\n",
    "        \"peso\": 3,\n",
    "        \"valor\": 150,\n",
    "    },\n",
    "    \"tablet\": {\n",
    "        \"peso\": 0.6,\n",
    "        \"valor\": 2400,\n",
    "    },\n",
    "    \"teclado musical\": {\n",
    "        \"peso\": 3.5,\n",
    "        \"valor\": 3000,\n",
    "    },\n",
    "    \"bicicleta\": {\n",
    "        \"peso\": 16,\n",
    "        \"valor\": 1000,\n",
    "    },\n",
    "    \"lições em dia\": {\n",
    "        \"peso\": 8,\n",
    "        \"valor\": 5000,\n",
    "    },\n",
    "    \"energético\": {\n",
    "        \"peso\": 2,\n",
    "        \"valor\": 1500,\n",
    "    },\n",
    "    \"docinhos para o stress\": {\n",
    "        \"peso\": 5,\n",
    "        \"valor\": 3000,\n",
    "    },\n",
    "}\n",
    "NUM_OBJETOS = len(OBJETOS)\n",
    "ORDEM_DOS_NOMES = list(sorted(OBJETOS.keys())) # nomes dos objetos em ordem alfabética dentro da lista"
   ]
  },
  {
   "cell_type": "code",
   "execution_count": 16,
   "metadata": {},
   "outputs": [],
   "source": [
    "# Funções locais\n",
    "# serão utilizadas somente no contexto do presente notebook\n",
    "\n",
    "def funcao_objetivo_pop(populacao):\n",
    "    return funcao_objetivo_pop_mochila(\n",
    "        populacao, OBJETOS, LIMITE_DE_PESO, ORDEM_DOS_NOMES\n",
    "    )"
   ]
  },
  {
   "cell_type": "code",
   "execution_count": 17,
   "metadata": {},
   "outputs": [
    {
     "name": "stdout",
     "output_type": "stream",
     "text": [
      "Maior valor: 13900 | Peso: 9.1\n",
      "Maior valor: 15400 | Peso: 12.1\n",
      "Maior valor: 16900 | Peso: 14.1\n",
      "\n",
      "Você deve pegar os seguintes itens:\n",
      "+ Quadrinho super raro do Aranha-Homem da vida real\n",
      "+ docinhos para o stress\n",
      "+ energético\n",
      "+ tablet\n",
      "+ teclado musical\n",
      "\n",
      "Com isso, sua mochila terá o valor de 16900 dinheiros.e peso de 14.1 unidades de massa.\n"
     ]
    }
   ],
   "source": [
    "# Busca por algoritmo genético\n",
    "\n",
    "populacao = cria_populacao_inicial(TAMANHO_POP, NUM_OBJETOS)\n",
    "\n",
    "# variaveis para o hall da fama\n",
    "    # reúne os melhores indivíduos\n",
    "    # o hall da fama vai considerar então o valor do fitness (busca pelo maior) e a posição do indivíduo na população\n",
    "melhor_fitness_ja_visto = -float(\"inf\") # qualquer valor é maior do que menos infinito\n",
    "melhor_individuo_ja_visto = [0] * NUM_OBJETOS # o melhor individuo estará na posição zero com o número de onjetos/genes definido na constante\n",
    "\n",
    "for n in range(NUM_GERACOES): # para cada geração dentro do total de gerações\n",
    "\n",
    "    # Seleção\n",
    "    # selecionando os indivíduos com base nos fitness\n",
    "    fitness = funcao_objetivo_pop(populacao) # calculo do fitness para todos os indivíduos da população\n",
    "    populacao = funcao_selecao(populacao, fitness) # seleciona-se os indivíduos com os maiores fitness\n",
    "\n",
    "    # Cruzamento\n",
    "    # cruzando os indivíduos selecionados\n",
    "    # esquema intercalado para a escolha dos indivíduos que serão pai e daqueles que serão mãe\n",
    "    pais = populacao[0::2]\n",
    "    maes = populacao[1::2]\n",
    "\n",
    "    contador = 0 # indicando a posição do elemento a ser substituído\n",
    "\n",
    "    for pai, mae in zip(pais, maes):\n",
    "        if random.random() <= CHANCE_CRUZAMENTO: # checa se vai rolar cruzamento (dica: chance de 0.5)\n",
    "            filho1, filho2 = funcao_cruzamento(pai, mae) \n",
    "            populacao[contador] = filho1 # filho1 será substituido na posição 0, substituindo o pai\n",
    "            populacao[contador + 1] = filho2 # filho2 será substituido na posição 1, substituindo a mãe\n",
    "\n",
    "        contador = contador + 2 # o contador fora do if ajuda a garantir que a substituição vai acontecer, dentro do if haveria uma condição\n",
    "                                # para não ficar substituindo só no mesmo lugar, adciona-se 2 a cada novo valor de contador\n",
    "                                # concluindo a lista da nova geração\n",
    "\n",
    "    # Mutação\n",
    "    for n in range(len(populacao)): # para cada individuo na população\n",
    "        if random.random() <= CHANCE_MUTACAO: # lembrando que a chance de acontecer mutação é de 0.05, por isso o if, SE o valor for menos que a constante, rola a mutação\n",
    "            individuo = populacao[n] # indivíduos são os elementos que ocupam as posições da população (pensando nessa como uma lista, por ex)\n",
    "            populacao[n] = funcao_mutacao(individuo) # populção vai corresponder aos indivíduos após serem submetidos ao processo de mutação (nem todos eles sofrerão)\n",
    "\n",
    "    # melhor individuo já visto até agora (hall da fama)\n",
    "    fitness = funcao_objetivo_pop(populacao)\n",
    "    maior_fitness = max(fitness) # lembrando que é um processo de maximização\n",
    "    posicao = fitness.index(maior_fitness) \n",
    "    individuo = populacao[posicao].copy() # se você identifica a posição do maior fitness dentro da população, você consequentemente está identificando o indivíduo\n",
    "    valor, peso = computa_mochila(individuo, OBJETOS, ORDEM_DOS_NOMES)\n",
    "    if maior_fitness > melhor_fitness_ja_visto and peso <= LIMITE_DE_PESO: # o fitness agora precisa ser maior, pois é maximização\n",
    "        melhor_fitness_ja_visto = maior_fitness\n",
    "        melhor_individuo_ja_visto = individuo\n",
    "        print(f\"Maior valor: {valor} | Peso: {peso}\")\n",
    "\n",
    "# reportando o melhor individuo encontrado\n",
    "print()\n",
    "print(\"Você deve pegar os seguintes itens:\")\n",
    "for pega_ou_nao, item in zip(melhor_individuo_ja_visto, ORDEM_DOS_NOMES):\n",
    "    if pega_ou_nao == 1:\n",
    "        print(\"+\", item)\n",
    "print()\n",
    "\n",
    "valor_total, peso_total = computa_mochila(\n",
    "    melhor_individuo_ja_visto, OBJETOS, ORDEM_DOS_NOMES\n",
    ")\n",
    "\n",
    "print(\n",
    "    f\"Com isso, sua mochila terá o valor de {valor_total} dinheiros.\"\n",
    "    f\"e peso de {peso_total} unidades de massa.\"\n",
    ")"
   ]
  },
  {
   "cell_type": "markdown",
   "metadata": {},
   "source": [
    "<br>\n",
    "\n",
    "#### DISCUSSÃO\n",
    "\n",
    "<div style=' text-align: justify; text-justify: inter-word;'>\n",
    "    O objetivo do presente experimento consistia em encontrar uma resposta que permitisse que uma mochila, com capacidade máxima para aguentar 15 kilos, abrigasse o número de produtos que custasse o maior valor possível, percebe-se, então, desde o início, que se trata de um problema de maximização, mas que ele é limitado por um fator extremamente importante para a resolução do problema: peso. Portanto, nosso código não deve somente considerar a busca pelo maior preço, mas também uma busca pelo maior preço reunindo produtos que o conjunto deles não ultrapasse o peso máximo. Caso contrário, a mochila rasgará e os produtos serão perdidos. Tratamos esse problema como um problema de caixas binárias, apesar de termos um dicionário repleto de opções de produtos. Isso pode ser observado quando em 'if pega_ou_não', definimos 1 para pegar e 0 para não pegar.\n",
    "    <br>Em primeiro lugar, definimos as nossas constantes: a) TAMANHO_POP: diz respeito ao tamanho da população, definimos que ela será composta por 20 indivíduos no total; 20 indivíduos em todas as gerações. Dito isso, o número total de gerações (NUM_GERACOES) também que queremos criar é 100. Por último, gostaria de destacar as últimas duas constantes 'CHANCE_CRUZAMENTO' e 'CHANCE_MUTACAO', elas refletem uma realidade: nem todos os indivíduos em uma população cruzam gerando para gerar descendentes e nem todos os genes sofrem mutação. As outras constantes são os possíveis objetos que entrarão em uma mochila e uma muito importante: o peso MÁXIMO da mochila, que é a nossa restrição.\n",
    "    <br>Definidas as constantes e considerando que estamos fazendo uso de algoritmos genéticos, foi necessário aqui ter todo o passo a passo, desde a criação dos indivíduos, que formam a população, que caracteriza uma geração; a seleção de indivíduos que poderão sofrer cruzamento, dando origem aos novos indivíduos da nova geração. Importante lembrar também que ainda observamos a mutação, realizada após o cruzamento, responsável por alterar os genes componentes dos novos indivíduos. Nesse caso, cada indivíduo corresponde a uma composição de objetos da mochila. Algumas peculiaridades do nosso problema se encontra no fato, por exemplo, de que, logo no início, precisamos tranformar o nosso dicionário em uma lista que interesse ao algoritmo genético. Assim, registramos os nomes deles, o que não implica em desconsiderar valores ou peso, essas informações são solicitadas logo na função para definir o fitness.\n",
    "    <br> Ao rodar o código pela primeira vez, o valor mais alto para o preço da mochila foi de 17 mil e 900 dinheiros, alcançando um peso de 14.1 unidades de massa. Além disso, aparaceram outras duas opções (que não foram escolhidas como resposta):\n",
    "<br>1. Maior valor: 12900 | Peso: 14.1 = Essa, apesar de ter o mesmo peso que a resposta final, não oferecia o menor preço e o que importa para a escolha da resposta é a combinação dessas duas variáveis;\n",
    "<br>2. Maior valor: 16400 | Peso: 12.1 = Essa apresenta um valor elevado, mas não era a melhor das opções.\n",
    "    <br> Ao variar o tamanho da população, por exemplo, não observou-se muitas mudanças, no final continuaram aparecendo 3-4 opções, ainda que a população fosse formada pelo dobro (40) de indivíduos por exemplo, e sempre a melhor dela era a escolhida. Para alterações quanto ao número de gerações, a tendência foi a mesma. Nesse sentido, é útil dizer que o número de opções de resposta só iria variar se não houvesse tanta discrepância entre os valores dos produtos da mochila, as opções ficam meio limitadas nesse caso.\n",
    "</div>"
   ]
  },
  {
   "cell_type": "markdown",
   "metadata": {},
   "source": [
    "<br>"
   ]
  },
  {
   "cell_type": "markdown",
   "metadata": {},
   "source": [
    "> <hr>"
   ]
  },
  {
   "cell_type": "markdown",
   "metadata": {},
   "source": [
    "## Conclusão\n",
    "<div style=' text-align: justify; text-justify: inter-word;'>\n",
    "    O problema instruía que uma mochila fosse preenchida por itens de maneira a apresentar o maior valor possível, contudo, sem ultrapassar a limitação estabelecida logo no início: o peso máximo. Ao rodarmos o código, a resposta é composta por seis itens (6/10), esses que, somados, representam grande valor de dinheiros e que, como desejado, não ultrapassam o peso máximo (15), embora cheguem perto dele. Em suma, ao utilizar algoritmos genéticos para a resolução do experimento, obtivemos um bom resultado respeitando à limitação estabelecida logo no início.\n",
    "</div>\n"
   ]
  },
  {
   "cell_type": "markdown",
   "metadata": {},
   "source": [
    "<HR>"
   ]
  },
  {
   "cell_type": "markdown",
   "metadata": {},
   "source": [
    "## Playground\n",
    "\n"
   ]
  },
  {
   "cell_type": "code",
   "execution_count": null,
   "metadata": {},
   "outputs": [],
   "source": []
  }
 ],
 "metadata": {
  "kernelspec": {
   "display_name": "ilumpy",
   "language": "python",
   "name": "ilumpy"
  },
  "language_info": {
   "codemirror_mode": {
    "name": "ipython",
    "version": 3
   },
   "file_extension": ".py",
   "mimetype": "text/x-python",
   "name": "python",
   "nbconvert_exporter": "python",
   "pygments_lexer": "ipython3",
   "version": "3.9.7"
  },
  "org": null
 },
 "nbformat": 4,
 "nbformat_minor": 4
}
