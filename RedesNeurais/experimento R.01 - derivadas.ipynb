{
 "cells": [
  {
   "cell_type": "markdown",
   "id": "e604bd42-782a-4971-8307-7790d20e709e",
   "metadata": {},
   "source": [
    "# Recordando derivadas"
   ]
  },
  {
   "cell_type": "markdown",
   "id": "06ea821c-d842-48d1-a15b-e334c82ff0f3",
   "metadata": {},
   "source": [
    "> <hr>"
   ]
  },
  {
   "cell_type": "markdown",
   "id": "9838c195-8e56-4601-9513-6e256b51bba3",
   "metadata": {},
   "source": [
    "## COPIAR A INTRODUÇÃO DE ALGUÉM QUE BAIXAR O NOTEBOOK"
   ]
  },
  {
   "cell_type": "markdown",
   "id": "0904f0ae-713d-421e-8536-af0db394bfa6",
   "metadata": {},
   "source": [
    "## Objetivo"
   ]
  },
  {
   "cell_type": "markdown",
   "id": "a1db80b4-c6fb-4004-9130-216dd7932120",
   "metadata": {},
   "source": [
    "Calcular a derivada de uma função qualquer de forma numérica usando a definição."
   ]
  },
  {
   "cell_type": "markdown",
   "id": "21499d79-f1b1-4c4e-8201-dcfb9374a33e",
   "metadata": {},
   "source": [
    "> <hr>"
   ]
  },
  {
   "cell_type": "markdown",
   "id": "851b3dd7-f8cc-46da-b8c6-4fa031d0b3ea",
   "metadata": {},
   "source": [
    "## Importações"
   ]
  },
  {
   "cell_type": "code",
   "execution_count": null,
   "id": "3414180b-46ad-4ded-949e-d3d34822e5e0",
   "metadata": {},
   "outputs": [],
   "source": [
    "import numpy as np\n",
    "from matplotlib import pyplot as plt"
   ]
  },
  {
   "cell_type": "markdown",
   "id": "c1f040bc-44e1-44b8-8e2b-0ffd063a8c9c",
   "metadata": {},
   "source": [
    "## Código e Discussão\n",
    "\n",
    "<br> Vamos definir a função."
   ]
  },
  {
   "cell_type": "code",
   "execution_count": null,
   "id": "7701ee59-7ddf-4950-864f-55206374b622",
   "metadata": {},
   "outputs": [],
   "source": [
    "def funcao(x):\n",
    "    return 3 * x**2 - 4 * x + 5"
   ]
  },
  {
   "cell_type": "markdown",
   "id": "43e3bbb2-e729-4128-9089-9b093b5c67d4",
   "metadata": {},
   "source": [
    "Podemos checar como ela se comporta localmente."
   ]
  },
  {
   "cell_type": "code",
   "execution_count": 1,
   "id": "409b25c0-8787-4fba-aa01-1f54e7fda23f",
   "metadata": {},
   "outputs": [
    {
     "ename": "NameError",
     "evalue": "name 'funcao' is not defined",
     "output_type": "error",
     "traceback": [
      "\u001b[1;31m---------------------------------------------------------------------------\u001b[0m",
      "\u001b[1;31mNameError\u001b[0m                                 Traceback (most recent call last)",
      "\u001b[1;32mC:\\Users\\DEBORA~1\\AppData\\Local\\Temp/ipykernel_14796/2335879041.py\u001b[0m in \u001b[0;36m<module>\u001b[1;34m\u001b[0m\n\u001b[0;32m      1\u001b[0m \u001b[0mx_escolhido\u001b[0m \u001b[1;33m=\u001b[0m \u001b[1;36m3\u001b[0m\u001b[1;33m\u001b[0m\u001b[1;33m\u001b[0m\u001b[0m\n\u001b[1;32m----> 2\u001b[1;33m \u001b[0mprint\u001b[0m\u001b[1;33m(\u001b[0m\u001b[1;34mf\"Quando {x_escolhido=} obtemos {funcao(x_escolhido)=}.\"\u001b[0m\u001b[1;33m)\u001b[0m\u001b[1;33m\u001b[0m\u001b[1;33m\u001b[0m\u001b[0m\n\u001b[0m",
      "\u001b[1;31mNameError\u001b[0m: name 'funcao' is not defined"
     ]
    }
   ],
   "source": [
    "x_escolhido = 3\n",
    "print(f\"Quando {x_escolhido=} obtemos {funcao(x_escolhido)=}.\")"
   ]
  },
  {
   "cell_type": "markdown",
   "id": "af3e7c64-6f24-483f-a84d-f839266540d5",
   "metadata": {},
   "source": [
    "Podemos também checar o seu gráfico."
   ]
  },
  {
   "cell_type": "code",
   "execution_count": null,
   "id": "a507a935-4c7f-4223-bfa6-d62d72c2c7eb",
   "metadata": {},
   "outputs": [],
   "source": [
    "x_plot = np.arange(-5, 5, 0.25)\n",
    "y_plot = funcao(x_plot)\n",
    "\n",
    "fig, axe = plt.subplots()\n",
    "axe.plot(x_plot, y_plot)\n",
    "plt.show()"
   ]
  },
  {
   "cell_type": "markdown",
   "id": "db194d01-d8b5-49b9-9a8e-af06d0239166",
   "metadata": {},
   "source": [
    "Agora, queremos calcular a derivada de forma numérica."
   ]
  },
  {
   "cell_type": "code",
   "execution_count": null,
   "id": "90f829f0-0a22-4927-89e2-bb01f9dfb77d",
   "metadata": {},
   "outputs": [],
   "source": []
  },
  {
   "cell_type": "markdown",
   "id": "d7e0b419-726c-42cd-9bbf-b83c63c4595b",
   "metadata": {},
   "source": [
    "Com isso, podemos observar a derivada no plot."
   ]
  },
  {
   "cell_type": "code",
   "execution_count": null,
   "id": "5db9184f-50b0-4a2e-8a0a-6f010dcb17de",
   "metadata": {},
   "outputs": [],
   "source": [
    "intercepto = funcao(x_escolhido) - (derivada_em_x * x_escolhido)\n",
    "\n",
    "def reta_da_derivada(x):\n",
    "    return derivada_em_x * x + intercepto\n",
    "\n",
    "x_plot = np.arange(-5, 5, 0.25)\n",
    "y_plot = funcao(x_plot)\n",
    "y_reta = reta_da_derivada(x_plot)\n",
    "\n",
    "fig, axe = plt.subplots()\n",
    "\n",
    "axe.plot(x_plot, y_plot)\n",
    "axe.plot(x_plot, y_reta)\n",
    "plt.show()"
   ]
  },
  {
   "cell_type": "markdown",
   "id": "d9840e30-d8ef-4532-ba4c-42a9f2a55f2d",
   "metadata": {},
   "source": [
    "> <hr>"
   ]
  },
  {
   "cell_type": "markdown",
   "id": "6c191be2-7039-4700-af2c-709128363f8d",
   "metadata": {},
   "source": [
    "## Conclusão"
   ]
  },
  {
   "cell_type": "markdown",
   "id": "13ae0d71-f018-4441-99f4-40c332d76334",
   "metadata": {},
   "source": []
  },
  {
   "cell_type": "markdown",
   "id": "c187392f-ece0-4ec9-aca1-f1a72ac80a94",
   "metadata": {},
   "source": [
    "<hr>"
   ]
  },
  {
   "cell_type": "markdown",
   "id": "2be285d0-01e1-401c-a659-0ba2bd57dc16",
   "metadata": {},
   "source": [
    "## Playground"
   ]
  },
  {
   "cell_type": "code",
   "execution_count": null,
   "id": "08eab191-4ac5-4481-966f-e5c826bfd98c",
   "metadata": {},
   "outputs": [],
   "source": []
  }
 ],
 "metadata": {
  "kernelspec": {
   "display_name": "ilumpy",
   "language": "python",
   "name": "ilumpy"
  },
  "language_info": {
   "codemirror_mode": {
    "name": "ipython",
    "version": 3
   },
   "file_extension": ".py",
   "mimetype": "text/x-python",
   "name": "python",
   "nbconvert_exporter": "python",
   "pygments_lexer": "ipython3",
   "version": "3.9.7"
  }
 },
 "nbformat": 4,
 "nbformat_minor": 5
}
