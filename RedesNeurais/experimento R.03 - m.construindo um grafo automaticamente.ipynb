{
 "cells": [
  {
   "cell_type": "markdown",
   "id": "e604bd42-782a-4971-8307-7790d20e709e",
   "metadata": {},
   "source": [
    "# Construindo um grafo automaticamente"
   ]
  },
  {
   "cell_type": "markdown",
   "id": "06ea821c-d842-48d1-a15b-e334c82ff0f3",
   "metadata": {},
   "source": [
    "> <hr>"
   ]
  },
  {
   "cell_type": "markdown",
   "id": "9838c195-8e56-4601-9513-6e256b51bba3",
   "metadata": {},
   "source": [
    "## Introdução"
   ]
  },
  {
   "cell_type": "markdown",
   "id": "cae27736-de5c-486a-aa1d-414f99fdbd07",
   "metadata": {},
   "source": [
    "Neste notebook nós vamos dar o primeiro passo para construir nossa rede neural artificial. Neste primeiro passo, nós vamos criar uma classe que gera automaticamente o nosso `grafo computacional`. O grafo computacional é o grafo que representa todas as operações matemáticas que ocorreram ao se computar um certo valor $y$. O grafo computacional é um passo necessário pois será baseado nele que iremos computar os gradientes locais necessários para realizar o `backpropagation`.\n",
    "\n"
   ]
  },
  {
   "cell_type": "markdown",
   "id": "21499d79-f1b1-4c4e-8201-dcfb9374a33e",
   "metadata": {},
   "source": [
    "> <hr>"
   ]
  },
  {
   "cell_type": "markdown",
   "id": "8df6b700-1cd8-44fb-9482-5c9b343885f2",
   "metadata": {},
   "source": [
    "## Importações\n",
    "\n"
   ]
  },
  {
   "cell_type": "code",
   "execution_count": 1,
   "id": "2f02939e-edb0-49ed-b359-eccf24d5d981",
   "metadata": {},
   "outputs": [],
   "source": [
    "from funcoes import plota_grafo # função criada por Andrej Karpathy"
   ]
  },
  {
   "cell_type": "code",
   "execution_count": 2,
   "id": "0c8826b4-e652-4503-a6e2-f8e3b86abceb",
   "metadata": {},
   "outputs": [],
   "source": [
    "try:\n",
    "    import graphviz # necessária a instalação de um software para seu uso adequado\n",
    "except ModuleNotFoundError:\n",
    "    import sys\n",
    "    !{sys.executable} -m pip install graphviz"
   ]
  },
  {
   "cell_type": "markdown",
   "id": "c1f040bc-44e1-44b8-8e2b-0ffd063a8c9c",
   "metadata": {},
   "source": [
    "## Código e Discussão"
   ]
  },
  {
   "cell_type": "markdown",
   "id": "19d9f7be-eae0-4d02-ac14-587fadbd64f2",
   "metadata": {
    "tags": []
   },
   "source": [
    "<br>\n",
    "\n",
    "### PRIMEIROS PASSOS ----"
   ]
  },
  {
   "cell_type": "markdown",
   "id": "55afbe58-b352-43c9-a069-73ce039c8edf",
   "metadata": {},
   "source": [
    "A base de tudo será uma classe chamada `Valor`. Vamos começar pelo básico!\n",
    "\n"
   ]
  },
  {
   "cell_type": "code",
   "execution_count": 3,
   "id": "db7cbf09-165f-47ee-b965-57c4bb0a70f5",
   "metadata": {},
   "outputs": [],
   "source": [
    "class Valor:\n",
    "    def __init__(self, data):\n",
    "        self.data = data\n",
    "\n",
    "    def __repr__(self):\n",
    "        return f\"Valor(data={self.data})\""
   ]
  },
  {
   "cell_type": "markdown",
   "id": "c8b4351f-ceeb-4800-8ca8-3d2d5d1697eb",
   "metadata": {},
   "source": [
    "> <div style=' text-align: justify; text-justify: inter-word;'> Criando uma classe aqui, bem como visto no experimento 02, e já considerando os métodos de Dunder, feitos especificamente ao Python."
   ]
  },
  {
   "cell_type": "markdown",
   "id": "f16e26bb-7b02-41fe-9ea7-d982dacc5ec9",
   "metadata": {},
   "source": [
    "Vamos testar nossa classe!\n",
    "\n"
   ]
  },
  {
   "cell_type": "code",
   "execution_count": 34,
   "id": "144b66a2-c977-45d9-adcc-8095c3443e23",
   "metadata": {},
   "outputs": [
    {
     "name": "stdout",
     "output_type": "stream",
     "text": [
      "Valor(data=60)\n",
      "60\n"
     ]
    }
   ],
   "source": [
    "x1 = Valor(60)\n",
    "print(x1)\n",
    "print(x1.data) # lembrando da importância do ponto final\n",
    "                # permite acessar o dado 'guardado' pelo objeto"
   ]
  },
  {
   "cell_type": "markdown",
   "id": "ba89d115-3282-4606-a267-6d47fd741ad7",
   "metadata": {},
   "source": [
    "<br>\n",
    "\n",
    "### OS DUNDER `__add__` e `__mul__` ----"
   ]
  },
  {
   "cell_type": "markdown",
   "id": "7cbc277b-8fae-427a-a7ea-055980cbc63a",
   "metadata": {},
   "source": [
    "Observe que não conseguimos adicionar nem multiplicar objetos criados com a classe `Valor`.\n",
    "\n"
   ]
  },
  {
   "cell_type": "code",
   "execution_count": 4,
   "id": "07fa1d01-87a9-4f1f-ad01-8540d1c119b7",
   "metadata": {},
   "outputs": [],
   "source": [
    "a = Valor(10)\n",
    "b = Valor(5)"
   ]
  },
  {
   "cell_type": "code",
   "execution_count": 5,
   "id": "098f81ac-f759-46a2-8eb3-fc2cc892c768",
   "metadata": {},
   "outputs": [
    {
     "ename": "TypeError",
     "evalue": "unsupported operand type(s) for +: 'Valor' and 'Valor'",
     "output_type": "error",
     "traceback": [
      "\u001b[1;31m---------------------------------------------------------------------------\u001b[0m",
      "\u001b[1;31mTypeError\u001b[0m                                 Traceback (most recent call last)",
      "\u001b[1;32mC:\\Users\\DEBORA~1\\AppData\\Local\\Temp/ipykernel_3392/3864629426.py\u001b[0m in \u001b[0;36m<module>\u001b[1;34m\u001b[0m\n\u001b[1;32m----> 1\u001b[1;33m \u001b[0mprint\u001b[0m\u001b[1;33m(\u001b[0m\u001b[0ma\u001b[0m \u001b[1;33m+\u001b[0m \u001b[0mb\u001b[0m\u001b[1;33m)\u001b[0m\u001b[1;33m\u001b[0m\u001b[1;33m\u001b[0m\u001b[0m\n\u001b[0m",
      "\u001b[1;31mTypeError\u001b[0m: unsupported operand type(s) for +: 'Valor' and 'Valor'"
     ]
    }
   ],
   "source": [
    "print(a + b)"
   ]
  },
  {
   "cell_type": "markdown",
   "id": "1255f1ca-2fc8-4b99-af32-59f0601e2d41",
   "metadata": {},
   "source": [
    "> O que é óbvio para nós, não é óbvio para o computador: nós sabemos que se trata de um valor numérico, o Python não. Sendo assim, como ele vai somar dois objetos de classe Valor?"
   ]
  },
  {
   "cell_type": "code",
   "execution_count": 7,
   "id": "83757dc2-f43f-4fb9-bc7c-a3bbd724775e",
   "metadata": {},
   "outputs": [
    {
     "ename": "TypeError",
     "evalue": "unsupported operand type(s) for *: 'Valor' and 'Valor'",
     "output_type": "error",
     "traceback": [
      "\u001b[1;31m---------------------------------------------------------------------------\u001b[0m",
      "\u001b[1;31mTypeError\u001b[0m                                 Traceback (most recent call last)",
      "\u001b[1;32mC:\\Users\\DEBORA~1\\AppData\\Local\\Temp/ipykernel_3392/2640154986.py\u001b[0m in \u001b[0;36m<module>\u001b[1;34m\u001b[0m\n\u001b[1;32m----> 1\u001b[1;33m \u001b[0mprint\u001b[0m\u001b[1;33m(\u001b[0m\u001b[0ma\u001b[0m \u001b[1;33m*\u001b[0m \u001b[0mb\u001b[0m\u001b[1;33m)\u001b[0m\u001b[1;33m\u001b[0m\u001b[1;33m\u001b[0m\u001b[0m\n\u001b[0m",
      "\u001b[1;31mTypeError\u001b[0m: unsupported operand type(s) for *: 'Valor' and 'Valor'"
     ]
    }
   ],
   "source": [
    "print(a * b)"
   ]
  },
  {
   "cell_type": "markdown",
   "id": "8899ff8b-24b6-4bea-9e5a-091d4d9d241c",
   "metadata": {},
   "source": [
    "> Aqui, a mesma coisa, como o Python vai multiplicar dois objetos de classe Valor quando ele não entende que cada um desses objetos corresponde a um valor numérico específico? Essa informação precisa ser contada para o programa."
   ]
  },
  {
   "cell_type": "markdown",
   "id": "002f7f46-333c-439b-bd8d-d3cf9e56a3a2",
   "metadata": {},
   "source": [
    "Ué&#x2026; porque não conseguimos? Não conseguimos pois o Python (ainda) não é vidente. Ele lá vai saber como adicionar ou multiplicar algo que você criou? Pra você parece óbvio que valores podem ser adicionados ou multiplicados, mas para o Python ele nem sabe o que significa a palavra `Valor`&#x2026;\n",
    "\n",
    "Como sempre, temos que contar para o programa o que queremos que aconteça quando usarmos os operadores `+` e `*`. Quem faz isso são os dunders `__add__` e `__mul__`.\n",
    "\n"
   ]
  },
  {
   "cell_type": "markdown",
   "id": "f9a3a8ca-3a45-4d8a-941c-101902184bbd",
   "metadata": {},
   "source": [
    "> Lembrando, a classe 'Valor' é uma receita, ela conta como se cria um objeto. Fazendo o uso dos métodos, estaremos usando a classe nela mesma."
   ]
  },
  {
   "cell_type": "code",
   "execution_count": 9,
   "id": "f8c416a3-32de-4de2-95d6-6f5d31e887a9",
   "metadata": {},
   "outputs": [],
   "source": [
    "class Valor:\n",
    "    def __init__(self, data): # criando um objeto\n",
    "        self.data = data\n",
    "\n",
    "    def __repr__(self): # representando um objeto\n",
    "        return f\"Valor(data={self.data})\"\n",
    "\n",
    "    def __add__(self, outro_valor): # indicam a ação que deve ser feito, ou seja, ele vai somar\n",
    "        saida = Valor(self.data + outro_valor.data)\n",
    "        return saida\n",
    "    # vai usar a soma para criar um novo objeto\n",
    "    # vai criar um objeto com base na receita (classe valor)\n",
    "\n",
    "    def __mul__(self, outro_valor): # indicam a ação que deve ser feita, ou seja, estamos ensinando ele\n",
    "        saida = Valor(self.data * outro_valor.data)\n",
    "        return saida"
   ]
  },
  {
   "cell_type": "markdown",
   "id": "4458c3cf-f68d-41e8-aa26-3bc55a6822a1",
   "metadata": {},
   "source": [
    "Vamos testar!\n",
    "\n"
   ]
  },
  {
   "cell_type": "code",
   "execution_count": 11,
   "id": "71d307c9-300d-4c6b-b94d-80646047b391",
   "metadata": {},
   "outputs": [
    {
     "name": "stdout",
     "output_type": "stream",
     "text": [
      "Valor(data=15)\n",
      "\n",
      "Valor(data=50)\n",
      "\n"
     ]
    }
   ],
   "source": [
    "a = Valor(10)\n",
    "b = Valor(5)\n",
    "\n",
    "print(a+b)\n",
    "print()\n",
    "print(a * b)\n",
    "print()"
   ]
  },
  {
   "cell_type": "markdown",
   "id": "a97fd90b-ca24-4430-b6dc-61752af4416d",
   "metadata": {},
   "source": [
    "<br>\n",
    "\n",
    "### REGISTRANDO OS PROGENITORES ----"
   ]
  },
  {
   "cell_type": "markdown",
   "id": "474f0e0a-41dc-4f86-9186-7bf71817357d",
   "metadata": {},
   "source": [
    "Nosso objetivo é construir um grafo computacional. Em um grafo computacional, um certo vértice pode ter um ou mais vértices progenitores (são seus pais/mães). Nós não podemos perder essa informação quando formos construir um grafo, então precisamos incluir essa informação na nossa classe.\n",
    "\n"
   ]
  },
  {
   "cell_type": "code",
   "execution_count": 15,
   "id": "a96bbc6a-618c-4238-ba69-9109b5705a1c",
   "metadata": {},
   "outputs": [],
   "source": [
    "class Valor:\n",
    "    def __init__(self, data, progenitor=()):\n",
    "        self.data = data\n",
    "        self.progenitor = progenitor\n",
    "\n",
    "    def __repr__(self):\n",
    "        return f\"Valor(data={self.data})\"\n",
    "\n",
    "    def __add__(self, outro_valor):\n",
    "        data = self.data + outro_valor.data\n",
    "        progenitor = (self, outro_valor)\n",
    "        saida = Valor(data, progenitor)\n",
    "        return saida\n",
    "\n",
    "    def __mul__(self, outro_valor):\n",
    "        data = self.data * outro_valor.data\n",
    "        progenitor = (self, outro_valor)\n",
    "        saida = Valor(data, progenitor)\n",
    "        return saida"
   ]
  },
  {
   "cell_type": "markdown",
   "id": "9f8ac057-f5a6-4212-821f-45ed5b830b5c",
   "metadata": {},
   "source": [
    "> Aqui, estamos contando para a classe que o valor novo calculado vem de duas outras instâncias que já são conhecidas! Fica mais fácil se pensarmos nisso com a representação pelos grafos, que estará disposta no final do notebook."
   ]
  },
  {
   "cell_type": "markdown",
   "id": "d6a99f8b-7a53-4d17-92b8-6afb68810f72",
   "metadata": {},
   "source": [
    "Vamos testar!\n",
    "\n"
   ]
  },
  {
   "cell_type": "code",
   "execution_count": 18,
   "id": "6da900fd-ecb7-45d9-8b6c-d0e381ec6939",
   "metadata": {},
   "outputs": [
    {
     "name": "stdout",
     "output_type": "stream",
     "text": [
      "10\n",
      "()\n",
      "\n",
      "15\n",
      "(Valor(data=10), Valor(data=5))\n",
      "\n"
     ]
    }
   ],
   "source": [
    "# valores definifos previamente\n",
    "a = Valor(10)\n",
    "b = Valor(5)\n",
    "\n",
    "print(a.data)\n",
    "print(a.progenitor) # sabemos que não tem\n",
    "\n",
    "print()\n",
    "\n",
    "c = a + b\n",
    "print(c.data)\n",
    "print(c.progenitor)\n",
    "\n",
    "print()"
   ]
  },
  {
   "cell_type": "markdown",
   "id": "0a29132d-9f0c-40ec-9307-499b558bf0f3",
   "metadata": {},
   "source": [
    "> <div style=' text-align: justify; text-justify: inter-word;'> Aqueles valores que são definidos por quem escreve o código, logo no início do processo, não possuem progenitores. Por outro lado, eles são progenitores de outros valores, como 'a' e 'b' foram de 'c'."
   ]
  },
  {
   "cell_type": "markdown",
   "id": "ab5481f5-e1f1-4cc4-a612-b400bdddf8c9",
   "metadata": {},
   "source": [
    "<br>\n",
    "\n",
    "### REGISTRANDO O OPERADOR MÃE ----"
   ]
  },
  {
   "cell_type": "markdown",
   "id": "ff9a7cc8-66a4-4461-ab32-632f7693778d",
   "metadata": {},
   "source": [
    "Em um grafo computacional, um vértice pode ter um operador mãe. O operador mãe é o operador que foi usado para gerar o vértice.\n",
    "\n"
   ]
  },
  {
   "cell_type": "code",
   "execution_count": 20,
   "id": "638e184f-3e61-4a39-83e0-73d5e460014e",
   "metadata": {},
   "outputs": [],
   "source": [
    "class Valor:\n",
    "    def __init__(self, data, progenitor=(), operador_mae=\"\"):\n",
    "        self.data = data\n",
    "        self.progenitor = progenitor\n",
    "        self.operador_mae = operador_mae\n",
    "\n",
    "    def __repr__(self):\n",
    "        return f\"Valor(data={self.data})\"\n",
    "\n",
    "    def __add__(self, outro_valor):\n",
    "        data = self.data + outro_valor.data\n",
    "        progenitor = (self, outro_valor)\n",
    "        operador_mae = \"+\" # registra a informação de qual operação foi realizada\n",
    "        saida = Valor(data, progenitor, operador_mae)\n",
    "        return saida\n",
    "\n",
    "    def __mul__(self, outro_valor):\n",
    "        data = self.data * outro_valor.data\n",
    "        progenitor = (self, outro_valor)\n",
    "        operador_mae = \"*\" # aqui também registra a informação de qual operação foi realizada\n",
    "        saida = Valor(data, progenitor, operador_mae)\n",
    "        return saida"
   ]
  },
  {
   "cell_type": "markdown",
   "id": "259617c6-def4-43e3-ac69-7c6017c32e48",
   "metadata": {},
   "source": [
    "> Não se pode perder a informação de qual foi a operação realizada. Para não perder, se registra na classe e registramos isso por meio de alterações no estado.Informações que não podem ser perdidas precisam ser registradas."
   ]
  },
  {
   "cell_type": "markdown",
   "id": "8f8b23a4-43b0-4ffa-a358-6cec4d1967dd",
   "metadata": {},
   "source": [
    "Vamos testar!\n",
    "\n"
   ]
  },
  {
   "cell_type": "code",
   "execution_count": 25,
   "id": "63cc779b-ea48-44d2-bc92-2e22370d864b",
   "metadata": {},
   "outputs": [
    {
     "name": "stdout",
     "output_type": "stream",
     "text": [
      "10\n",
      "()\n",
      "\n",
      "15\n",
      "(Valor(data=10), Valor(data=5))\n",
      "\n",
      "O operador mãe de c é: +\n",
      "O operador mãe de a é: \n",
      "\n"
     ]
    }
   ],
   "source": [
    "a = Valor(10)\n",
    "b = Valor(5)\n",
    "\n",
    "print(a.data)\n",
    "print(a.progenitor) # sabemos que não tem\n",
    "\n",
    "print()\n",
    "\n",
    "c = a + b\n",
    "print(c.data)\n",
    "print(c.progenitor)\n",
    "\n",
    "print()\n",
    "\n",
    "print('O operador mãe de c é:', c.operador_mae)\n",
    "print('O operador mãe de a é:', a.operador_mae) # sabemos que não terá nada, pois o a não foi criado, o valor já estava definido\n",
    "\n",
    "print()"
   ]
  },
  {
   "cell_type": "markdown",
   "id": "97fcb0e7-3ed0-4139-b99e-7e359d03b1b6",
   "metadata": {},
   "source": [
    "> <div style=' text-align: justify; text-justify: inter-word;'> Os operadores mãe são bem literalmente operadores matemáticos, eles que definem e que nos contam qual tipo de operação está sendo realizada."
   ]
  },
  {
   "cell_type": "markdown",
   "id": "9088c639-195f-4e77-8762-78af31449b60",
   "metadata": {},
   "source": [
    "<br>\n",
    "\n",
    "### PLOTANDO O PRIMEIRO GRAFO ----"
   ]
  },
  {
   "cell_type": "markdown",
   "id": "a8def7f4-a4ae-437b-8d56-d37c5b023194",
   "metadata": {},
   "source": [
    "Vamos plotar nosso primeiro grafo!\n",
    "\n"
   ]
  },
  {
   "cell_type": "code",
   "execution_count": 26,
   "id": "7c10dd92-7e34-40e6-b0c2-5f9a76c58d64",
   "metadata": {},
   "outputs": [
    {
     "data": {
      "image/svg+xml": [
       "<?xml version=\"1.0\" encoding=\"UTF-8\" standalone=\"no\"?>\n",
       "<!DOCTYPE svg PUBLIC \"-//W3C//DTD SVG 1.1//EN\"\n",
       " \"http://www.w3.org/Graphics/SVG/1.1/DTD/svg11.dtd\">\n",
       "<!-- Generated by graphviz version 8.0.3 (20230416.2022)\n",
       " -->\n",
       "<!-- Pages: 1 -->\n",
       "<svg width=\"515pt\" height=\"127pt\"\n",
       " viewBox=\"0.00 0.00 515.00 127.00\" xmlns=\"http://www.w3.org/2000/svg\" xmlns:xlink=\"http://www.w3.org/1999/xlink\">\n",
       "<g id=\"graph0\" class=\"graph\" transform=\"scale(1 1) rotate(0) translate(4 123)\">\n",
       "<polygon fill=\"white\" stroke=\"none\" points=\"-4,4 -4,-123 511,-123 511,4 -4,4\"/>\n",
       "<!-- 2299277964336 -->\n",
       "<g id=\"node1\" class=\"node\">\n",
       "<title>2299277964336</title>\n",
       "<polygon fill=\"none\" stroke=\"black\" points=\"213,-27.5 213,-63.5 299,-63.5 299,-27.5 213,-27.5\"/>\n",
       "<text text-anchor=\"middle\" x=\"256\" y=\"-41.8\" font-family=\"Times New Roman,serif\" font-size=\"14.00\">data &#45;6.0000</text>\n",
       "</g>\n",
       "<!-- 2299277966256+ -->\n",
       "<g id=\"node4\" class=\"node\">\n",
       "<title>2299277966256+</title>\n",
       "<ellipse fill=\"none\" stroke=\"black\" cx=\"363\" cy=\"-72.5\" rx=\"27\" ry=\"18\"/>\n",
       "<text text-anchor=\"middle\" x=\"363\" y=\"-68.8\" font-family=\"Times New Roman,serif\" font-size=\"14.00\">+</text>\n",
       "</g>\n",
       "<!-- 2299277964336&#45;&gt;2299277966256+ -->\n",
       "<g id=\"edge3\" class=\"edge\">\n",
       "<title>2299277964336&#45;&gt;2299277966256+</title>\n",
       "<path fill=\"none\" stroke=\"black\" d=\"M298.8,-56.25C308.07,-58.63 317.81,-61.14 326.78,-63.44\"/>\n",
       "<polygon fill=\"black\" stroke=\"black\" points=\"325.72,-67.04 336.27,-66.14 327.46,-60.26 325.72,-67.04\"/>\n",
       "</g>\n",
       "<!-- 2299277964336* -->\n",
       "<g id=\"node2\" class=\"node\">\n",
       "<title>2299277964336*</title>\n",
       "<ellipse fill=\"none\" stroke=\"black\" cx=\"149\" cy=\"-45.5\" rx=\"27\" ry=\"18\"/>\n",
       "<text text-anchor=\"middle\" x=\"149\" y=\"-41.8\" font-family=\"Times New Roman,serif\" font-size=\"14.00\">*</text>\n",
       "</g>\n",
       "<!-- 2299277964336*&#45;&gt;2299277964336 -->\n",
       "<g id=\"edge1\" class=\"edge\">\n",
       "<title>2299277964336*&#45;&gt;2299277964336</title>\n",
       "<path fill=\"none\" stroke=\"black\" d=\"M176.5,-45.5C184.44,-45.5 193.45,-45.5 202.47,-45.5\"/>\n",
       "<polygon fill=\"black\" stroke=\"black\" points=\"202.39,-49 212.39,-45.5 202.39,-42 202.39,-49\"/>\n",
       "</g>\n",
       "<!-- 2299277966256 -->\n",
       "<g id=\"node3\" class=\"node\">\n",
       "<title>2299277966256</title>\n",
       "<polygon fill=\"none\" stroke=\"black\" points=\"426,-54.5 426,-90.5 507,-90.5 507,-54.5 426,-54.5\"/>\n",
       "<text text-anchor=\"middle\" x=\"466.5\" y=\"-68.8\" font-family=\"Times New Roman,serif\" font-size=\"14.00\">data 4.0000</text>\n",
       "</g>\n",
       "<!-- 2299277966256+&#45;&gt;2299277966256 -->\n",
       "<g id=\"edge2\" class=\"edge\">\n",
       "<title>2299277966256+&#45;&gt;2299277966256</title>\n",
       "<path fill=\"none\" stroke=\"black\" d=\"M390.4,-72.5C398.08,-72.5 406.74,-72.5 415.38,-72.5\"/>\n",
       "<polygon fill=\"black\" stroke=\"black\" points=\"415.22,-76 425.22,-72.5 415.22,-69 415.22,-76\"/>\n",
       "</g>\n",
       "<!-- 2299277964096 -->\n",
       "<g id=\"node5\" class=\"node\">\n",
       "<title>2299277964096</title>\n",
       "<polygon fill=\"none\" stroke=\"black\" points=\"2.5,-55.5 2.5,-91.5 83.5,-91.5 83.5,-55.5 2.5,-55.5\"/>\n",
       "<text text-anchor=\"middle\" x=\"43\" y=\"-69.8\" font-family=\"Times New Roman,serif\" font-size=\"14.00\">data 2.0000</text>\n",
       "</g>\n",
       "<!-- 2299277964096&#45;&gt;2299277964336* -->\n",
       "<g id=\"edge5\" class=\"edge\">\n",
       "<title>2299277964096&#45;&gt;2299277964336*</title>\n",
       "<path fill=\"none\" stroke=\"black\" d=\"M83.32,-62.91C93.1,-60.28 103.51,-57.48 113.07,-54.91\"/>\n",
       "<polygon fill=\"black\" stroke=\"black\" points=\"113.66,-58.1 122.4,-52.12 111.84,-51.34 113.66,-58.1\"/>\n",
       "</g>\n",
       "<!-- 2299277963616 -->\n",
       "<g id=\"node6\" class=\"node\">\n",
       "<title>2299277963616</title>\n",
       "<polygon fill=\"none\" stroke=\"black\" points=\"0,-0.5 0,-36.5 86,-36.5 86,-0.5 0,-0.5\"/>\n",
       "<text text-anchor=\"middle\" x=\"43\" y=\"-14.8\" font-family=\"Times New Roman,serif\" font-size=\"14.00\">data &#45;3.0000</text>\n",
       "</g>\n",
       "<!-- 2299277963616&#45;&gt;2299277964336* -->\n",
       "<g id=\"edge4\" class=\"edge\">\n",
       "<title>2299277963616&#45;&gt;2299277964336*</title>\n",
       "<path fill=\"none\" stroke=\"black\" d=\"M85.7,-29.33C94.68,-31.66 104.09,-34.1 112.79,-36.36\"/>\n",
       "<polygon fill=\"black\" stroke=\"black\" points=\"111.8,-39.98 122.36,-39.1 113.56,-33.2 111.8,-39.98\"/>\n",
       "</g>\n",
       "<!-- 2299277964720 -->\n",
       "<g id=\"node7\" class=\"node\">\n",
       "<title>2299277964720</title>\n",
       "<polygon fill=\"none\" stroke=\"black\" points=\"212,-82.5 212,-118.5 300,-118.5 300,-82.5 212,-82.5\"/>\n",
       "<text text-anchor=\"middle\" x=\"256\" y=\"-96.8\" font-family=\"Times New Roman,serif\" font-size=\"14.00\">data 10.0000</text>\n",
       "</g>\n",
       "<!-- 2299277964720&#45;&gt;2299277966256+ -->\n",
       "<g id=\"edge6\" class=\"edge\">\n",
       "<title>2299277964720&#45;&gt;2299277966256+</title>\n",
       "<path fill=\"none\" stroke=\"black\" d=\"M299.71,-89.11C308.73,-86.71 318.15,-84.19 326.86,-81.87\"/>\n",
       "<polygon fill=\"black\" stroke=\"black\" points=\"327.65,-85.01 336.42,-79.06 325.85,-78.25 327.65,-85.01\"/>\n",
       "</g>\n",
       "</g>\n",
       "</svg>\n"
      ],
      "text/plain": [
       "<graphviz.graphs.Digraph at 0x21757a57970>"
      ]
     },
     "execution_count": 26,
     "metadata": {},
     "output_type": "execute_result"
    }
   ],
   "source": [
    "a = Valor(2)\n",
    "b = Valor(-3)\n",
    "c = Valor(10)\n",
    "\n",
    "d = a * b\n",
    "e = d + c\n",
    "\n",
    "plota_grafo(e)"
   ]
  },
  {
   "cell_type": "markdown",
   "id": "cd3068af-912c-4809-82ed-e46ad47a0057",
   "metadata": {},
   "source": [
    "> <div style=' text-align: justify; text-justify: inter-word;'> De maneira prática, podemos descrever grafos como recursos não somente visuais (mas também), compostos por vértices e arestas interligados interconectados segundo o que deseja representar. Esse grafo está ilustrando quais são as expressões matemáticas e os valores gerados por elas. Isso é muito legal de se perceber e é uma ferramenta valiosa também."
   ]
  },
  {
   "cell_type": "markdown",
   "id": "fdf9164b-86a2-45b8-9352-5dbc3d521504",
   "metadata": {},
   "source": [
    "<br>\n",
    "\n",
    "### REGISTRANDO O RÓTULO ----"
   ]
  },
  {
   "cell_type": "markdown",
   "id": "7ae523ed-d3c7-4434-8285-7a08b3943e33",
   "metadata": {},
   "source": [
    "Nosso grafo seria mais legível se tivéssemos rótulos indicando o que é cada vértice. Vamos incluir essa informação na nossa classe.\n",
    "\n"
   ]
  },
  {
   "cell_type": "code",
   "execution_count": 27,
   "id": "9511b2d4-5d03-4009-a143-fd76c5e2e30d",
   "metadata": {},
   "outputs": [],
   "source": [
    "class Valor:\n",
    "    def __init__(self, data, progenitor=(), operador_mae=\"\", rotulo=\"\"):\n",
    "        self.data = data\n",
    "        self.progenitor = progenitor\n",
    "        self.operador_mae = operador_mae\n",
    "        self.rotulo = rotulo # apenas criou-se uma propriedade nova, não mudamos mais nada\n",
    "\n",
    "    def __repr__(self):\n",
    "        return f\"Valor(data={self.data})\"\n",
    "\n",
    "    def __add__(self, outro_valor):\n",
    "        data = self.data + outro_valor.data\n",
    "        progenitor = (self, outro_valor)\n",
    "        operador_mae = \"+\"\n",
    "        saida = Valor(data, progenitor, operador_mae)\n",
    "        return saida\n",
    "\n",
    "    def __mul__(self, outro_valor):\n",
    "        data = self.data * outro_valor.data\n",
    "        progenitor = (self, outro_valor)\n",
    "        operador_mae = \"*\"\n",
    "        saida = Valor(data, progenitor, operador_mae)\n",
    "        return saida"
   ]
  },
  {
   "cell_type": "markdown",
   "id": "e5a7f325-31c6-415b-bba4-cdbb96836e04",
   "metadata": {},
   "source": [
    "> <div style=' text-align: justify; text-justify: inter-word;'> Aqui, estamos nomeando os pontos dos grafos, isso é ainda mais relevante quando pensamos em representar equações."
   ]
  },
  {
   "cell_type": "markdown",
   "id": "f33c8ea5-0086-418f-a534-52715cafbe74",
   "metadata": {},
   "source": [
    "Vamos testar!\n",
    "\n"
   ]
  },
  {
   "cell_type": "code",
   "execution_count": 31,
   "id": "8b95f0c6-891b-4352-b93b-026acef3f5d6",
   "metadata": {},
   "outputs": [
    {
     "data": {
      "image/svg+xml": [
       "<?xml version=\"1.0\" encoding=\"UTF-8\" standalone=\"no\"?>\n",
       "<!DOCTYPE svg PUBLIC \"-//W3C//DTD SVG 1.1//EN\"\n",
       " \"http://www.w3.org/Graphics/SVG/1.1/DTD/svg11.dtd\">\n",
       "<!-- Generated by graphviz version 8.0.3 (20230416.2022)\n",
       " -->\n",
       "<!-- Pages: 1 -->\n",
       "<svg width=\"585pt\" height=\"127pt\"\n",
       " viewBox=\"0.00 0.00 585.00 127.00\" xmlns=\"http://www.w3.org/2000/svg\" xmlns:xlink=\"http://www.w3.org/1999/xlink\">\n",
       "<g id=\"graph0\" class=\"graph\" transform=\"scale(1 1) rotate(0) translate(4 123)\">\n",
       "<polygon fill=\"white\" stroke=\"none\" points=\"-4,4 -4,-123 581,-123 581,4 -4,4\"/>\n",
       "<!-- 2299277968960 -->\n",
       "<g id=\"node1\" class=\"node\">\n",
       "<title>2299277968960</title>\n",
       "<polygon fill=\"none\" stroke=\"black\" points=\"236.5,-27.5 236.5,-63.5 346.5,-63.5 346.5,-27.5 236.5,-27.5\"/>\n",
       "<text text-anchor=\"middle\" x=\"248.5\" y=\"-41.8\" font-family=\"Times New Roman,serif\" font-size=\"14.00\">d</text>\n",
       "<polyline fill=\"none\" stroke=\"black\" points=\"260.5,-27.5 260.5,-63.5\"/>\n",
       "<text text-anchor=\"middle\" x=\"303.5\" y=\"-41.8\" font-family=\"Times New Roman,serif\" font-size=\"14.00\">data &#45;6.0000</text>\n",
       "</g>\n",
       "<!-- 2299277969248+ -->\n",
       "<g id=\"node6\" class=\"node\">\n",
       "<title>2299277969248+</title>\n",
       "<ellipse fill=\"none\" stroke=\"black\" cx=\"410\" cy=\"-72.5\" rx=\"27\" ry=\"18\"/>\n",
       "<text text-anchor=\"middle\" x=\"410\" y=\"-68.8\" font-family=\"Times New Roman,serif\" font-size=\"14.00\">+</text>\n",
       "</g>\n",
       "<!-- 2299277968960&#45;&gt;2299277969248+ -->\n",
       "<g id=\"edge6\" class=\"edge\">\n",
       "<title>2299277968960&#45;&gt;2299277969248+</title>\n",
       "<path fill=\"none\" stroke=\"black\" d=\"M346.32,-57.97C355.62,-60.13 365.08,-62.32 373.73,-64.33\"/>\n",
       "<polygon fill=\"black\" stroke=\"black\" points=\"372.66,-67.9 383.19,-66.75 374.24,-61.08 372.66,-67.9\"/>\n",
       "</g>\n",
       "<!-- 2299277968960* -->\n",
       "<g id=\"node2\" class=\"node\">\n",
       "<title>2299277968960*</title>\n",
       "<ellipse fill=\"none\" stroke=\"black\" cx=\"173\" cy=\"-45.5\" rx=\"27\" ry=\"18\"/>\n",
       "<text text-anchor=\"middle\" x=\"173\" y=\"-41.8\" font-family=\"Times New Roman,serif\" font-size=\"14.00\">*</text>\n",
       "</g>\n",
       "<!-- 2299277968960*&#45;&gt;2299277968960 -->\n",
       "<g id=\"edge1\" class=\"edge\">\n",
       "<title>2299277968960*&#45;&gt;2299277968960</title>\n",
       "<path fill=\"none\" stroke=\"black\" d=\"M200.44,-45.5C208.07,-45.5 216.76,-45.5 225.66,-45.5\"/>\n",
       "<polygon fill=\"black\" stroke=\"black\" points=\"225.56,-49 235.56,-45.5 225.56,-42 225.56,-49\"/>\n",
       "</g>\n",
       "<!-- 2299277968480 -->\n",
       "<g id=\"node3\" class=\"node\">\n",
       "<title>2299277968480</title>\n",
       "<polygon fill=\"none\" stroke=\"black\" points=\"3,-55.5 3,-91.5 107,-91.5 107,-55.5 3,-55.5\"/>\n",
       "<text text-anchor=\"middle\" x=\"14.5\" y=\"-69.8\" font-family=\"Times New Roman,serif\" font-size=\"14.00\">a</text>\n",
       "<polyline fill=\"none\" stroke=\"black\" points=\"26,-55.5 26,-91.5\"/>\n",
       "<text text-anchor=\"middle\" x=\"66.5\" y=\"-69.8\" font-family=\"Times New Roman,serif\" font-size=\"14.00\">data 2.0000</text>\n",
       "</g>\n",
       "<!-- 2299277968480&#45;&gt;2299277968960* -->\n",
       "<g id=\"edge4\" class=\"edge\">\n",
       "<title>2299277968480&#45;&gt;2299277968960*</title>\n",
       "<path fill=\"none\" stroke=\"black\" d=\"M106.88,-61.22C116.94,-58.79 127.3,-56.29 136.7,-54.02\"/>\n",
       "<polygon fill=\"black\" stroke=\"black\" points=\"137.34,-57.23 146.24,-51.48 135.7,-50.42 137.34,-57.23\"/>\n",
       "</g>\n",
       "<!-- 2299277970256 -->\n",
       "<g id=\"node4\" class=\"node\">\n",
       "<title>2299277970256</title>\n",
       "<polygon fill=\"none\" stroke=\"black\" points=\"0,-0.5 0,-36.5 110,-36.5 110,-0.5 0,-0.5\"/>\n",
       "<text text-anchor=\"middle\" x=\"12\" y=\"-14.8\" font-family=\"Times New Roman,serif\" font-size=\"14.00\">b</text>\n",
       "<polyline fill=\"none\" stroke=\"black\" points=\"24,-0.5 24,-36.5\"/>\n",
       "<text text-anchor=\"middle\" x=\"67\" y=\"-14.8\" font-family=\"Times New Roman,serif\" font-size=\"14.00\">data &#45;3.0000</text>\n",
       "</g>\n",
       "<!-- 2299277970256&#45;&gt;2299277968960* -->\n",
       "<g id=\"edge5\" class=\"edge\">\n",
       "<title>2299277970256&#45;&gt;2299277968960*</title>\n",
       "<path fill=\"none\" stroke=\"black\" d=\"M109.92,-31.05C118.98,-33.16 128.16,-35.3 136.59,-37.26\"/>\n",
       "<polygon fill=\"black\" stroke=\"black\" points=\"135.63,-40.86 146.16,-39.72 137.21,-34.04 135.63,-40.86\"/>\n",
       "</g>\n",
       "<!-- 2299277969248 -->\n",
       "<g id=\"node5\" class=\"node\">\n",
       "<title>2299277969248</title>\n",
       "<polygon fill=\"none\" stroke=\"black\" points=\"473,-54.5 473,-90.5 577,-90.5 577,-54.5 473,-54.5\"/>\n",
       "<text text-anchor=\"middle\" x=\"484.5\" y=\"-68.8\" font-family=\"Times New Roman,serif\" font-size=\"14.00\">e</text>\n",
       "<polyline fill=\"none\" stroke=\"black\" points=\"496,-54.5 496,-90.5\"/>\n",
       "<text text-anchor=\"middle\" x=\"536.5\" y=\"-68.8\" font-family=\"Times New Roman,serif\" font-size=\"14.00\">data 4.0000</text>\n",
       "</g>\n",
       "<!-- 2299277969248+&#45;&gt;2299277969248 -->\n",
       "<g id=\"edge2\" class=\"edge\">\n",
       "<title>2299277969248+&#45;&gt;2299277969248</title>\n",
       "<path fill=\"none\" stroke=\"black\" d=\"M437.49,-72.5C445.1,-72.5 453.73,-72.5 462.52,-72.5\"/>\n",
       "<polygon fill=\"black\" stroke=\"black\" points=\"462.26,-76 472.26,-72.5 462.26,-69 462.26,-76\"/>\n",
       "</g>\n",
       "<!-- 2299277967760 -->\n",
       "<g id=\"node7\" class=\"node\">\n",
       "<title>2299277967760</title>\n",
       "<polygon fill=\"none\" stroke=\"black\" points=\"236,-82.5 236,-118.5 347,-118.5 347,-82.5 236,-82.5\"/>\n",
       "<text text-anchor=\"middle\" x=\"247.5\" y=\"-96.8\" font-family=\"Times New Roman,serif\" font-size=\"14.00\">c</text>\n",
       "<polyline fill=\"none\" stroke=\"black\" points=\"259,-82.5 259,-118.5\"/>\n",
       "<text text-anchor=\"middle\" x=\"303\" y=\"-96.8\" font-family=\"Times New Roman,serif\" font-size=\"14.00\">data 10.0000</text>\n",
       "</g>\n",
       "<!-- 2299277967760&#45;&gt;2299277969248+ -->\n",
       "<g id=\"edge3\" class=\"edge\">\n",
       "<title>2299277967760&#45;&gt;2299277969248+</title>\n",
       "<path fill=\"none\" stroke=\"black\" d=\"M347,-87.4C356.06,-85.22 365.24,-83.02 373.66,-80.99\"/>\n",
       "<polygon fill=\"black\" stroke=\"black\" points=\"374.31,-84.2 383.22,-78.46 372.67,-77.39 374.31,-84.2\"/>\n",
       "</g>\n",
       "</g>\n",
       "</svg>\n"
      ],
      "text/plain": [
       "<graphviz.graphs.Digraph at 0x21757a587f0>"
      ]
     },
     "execution_count": 31,
     "metadata": {},
     "output_type": "execute_result"
    }
   ],
   "source": [
    "a = Valor(2, rotulo=\"a\")\n",
    "b = Valor(-3, rotulo=\"b\")\n",
    "c = Valor(10, rotulo=\"c\")\n",
    "\n",
    "d = a * b\n",
    "e = d + c\n",
    "\n",
    "# mudamos na mão, porque o pyhton não saberá o rótulo sozinho\n",
    "d.rotulo = \"d\"\n",
    "e.rotulo = \"e\"\n",
    "\n",
    "plota_grafo(e)"
   ]
  },
  {
   "cell_type": "code",
   "execution_count": 32,
   "id": "4dad4dda-8f4b-4ef5-aa11-024e09c4e8a2",
   "metadata": {},
   "outputs": [
    {
     "name": "stdout",
     "output_type": "stream",
     "text": [
      "digraph {\n",
      "\tgraph [rankdir=LR]\n",
      "\t2299277968960 [label=\"{ d | data -6.0000 }\" shape=record]\n",
      "\t\"2299277968960*\" [label=\"*\"]\n",
      "\t\"2299277968960*\" -> 2299277968960\n",
      "\t2299277968480 [label=\"{ a | data 2.0000 }\" shape=record]\n",
      "\t2299277970256 [label=\"{ b | data -3.0000 }\" shape=record]\n",
      "\t2299277969248 [label=\"{ e | data 4.0000 }\" shape=record]\n",
      "\t\"2299277969248+\" [label=\"+\"]\n",
      "\t\"2299277969248+\" -> 2299277969248\n",
      "\t2299277967760 [label=\"{ c | data 10.0000 }\" shape=record]\n",
      "\t2299277967760 -> \"2299277969248+\"\n",
      "\t2299277968480 -> \"2299277968960*\"\n",
      "\t2299277970256 -> \"2299277968960*\"\n",
      "\t2299277968960 -> \"2299277969248+\"\n",
      "}\n",
      "\n"
     ]
    }
   ],
   "source": [
    "grafo = plota_grafo(e)\n",
    "print(grafo)\n",
    "\n",
    "# podemos pegar o resultado disso aqui e plotar o grafo no site disponibilizado pelo professor\n",
    "# link = https://dreampuf.github.io/GraphvizOnline/\n",
    "# útil caso não tenha o software instalado/disponível"
   ]
  },
  {
   "cell_type": "markdown",
   "id": "f9f4ed8a-2304-4ea0-a55e-cd8c3497f792",
   "metadata": {},
   "source": [
    "> <hr>"
   ]
  },
  {
   "cell_type": "markdown",
   "id": "b0610bd1-a3b8-45b6-9c4e-107d58800480",
   "metadata": {},
   "source": [
    "> ### REFAZENDO O GRAFO QUE FIZEMOS NA AULA ANTERIOR"
   ]
  },
  {
   "cell_type": "markdown",
   "id": "8327ec2a-36e5-4c29-851a-565a563e541e",
   "metadata": {},
   "source": [
    "Na aula anterior nós fizemos um grafo computacional para aprender como funciona o backpropagation. Vamos refazer ele aqui!\n",
    "\n"
   ]
  },
  {
   "cell_type": "code",
   "execution_count": 33,
   "id": "58419e68-921a-4630-aeb5-42fe2c5dadb2",
   "metadata": {},
   "outputs": [
    {
     "data": {
      "image/svg+xml": [
       "<?xml version=\"1.0\" encoding=\"UTF-8\" standalone=\"no\"?>\n",
       "<!DOCTYPE svg PUBLIC \"-//W3C//DTD SVG 1.1//EN\"\n",
       " \"http://www.w3.org/Graphics/SVG/1.1/DTD/svg11.dtd\">\n",
       "<!-- Generated by graphviz version 8.0.3 (20230416.2022)\n",
       " -->\n",
       "<!-- Pages: 1 -->\n",
       "<svg width=\"1117pt\" height=\"210pt\"\n",
       " viewBox=\"0.00 0.00 1117.00 210.00\" xmlns=\"http://www.w3.org/2000/svg\" xmlns:xlink=\"http://www.w3.org/1999/xlink\">\n",
       "<g id=\"graph0\" class=\"graph\" transform=\"scale(1 1) rotate(0) translate(4 206)\">\n",
       "<polygon fill=\"white\" stroke=\"none\" points=\"-4,4 -4,-206 1113,-206 1113,4 -4,4\"/>\n",
       "<!-- 2299278112320 -->\n",
       "<g id=\"node1\" class=\"node\">\n",
       "<title>2299278112320</title>\n",
       "<polygon fill=\"none\" stroke=\"black\" points=\"503.5,-137.5 503.5,-173.5 608.5,-173.5 608.5,-137.5 503.5,-137.5\"/>\n",
       "<text text-anchor=\"middle\" x=\"515.5\" y=\"-151.8\" font-family=\"Times New Roman,serif\" font-size=\"14.00\">b</text>\n",
       "<polyline fill=\"none\" stroke=\"black\" points=\"527.5,-137.5 527.5,-173.5\"/>\n",
       "<text text-anchor=\"middle\" x=\"568\" y=\"-151.8\" font-family=\"Times New Roman,serif\" font-size=\"14.00\">data 7.0000</text>\n",
       "</g>\n",
       "<!-- 2299277965584+ -->\n",
       "<g id=\"node10\" class=\"node\">\n",
       "<title>2299277965584+</title>\n",
       "<ellipse fill=\"none\" stroke=\"black\" cx=\"678\" cy=\"-127.5\" rx=\"27\" ry=\"18\"/>\n",
       "<text text-anchor=\"middle\" x=\"678\" y=\"-123.8\" font-family=\"Times New Roman,serif\" font-size=\"14.00\">+</text>\n",
       "</g>\n",
       "<!-- 2299278112320&#45;&gt;2299277965584+ -->\n",
       "<g id=\"edge14\" class=\"edge\">\n",
       "<title>2299278112320&#45;&gt;2299277965584+</title>\n",
       "<path fill=\"none\" stroke=\"black\" d=\"M608.24,-143.54C619.49,-140.92 631.16,-138.2 641.63,-135.75\"/>\n",
       "<polygon fill=\"black\" stroke=\"black\" points=\"642.08,-139.01 651.03,-133.33 640.49,-132.19 642.08,-139.01\"/>\n",
       "</g>\n",
       "<!-- 2299278110832 -->\n",
       "<g id=\"node2\" class=\"node\">\n",
       "<title>2299278110832</title>\n",
       "<polygon fill=\"none\" stroke=\"black\" points=\"1.5,-165.5 1.5,-201.5 119.5,-201.5 119.5,-165.5 1.5,-165.5\"/>\n",
       "<text text-anchor=\"middle\" x=\"16.5\" y=\"-179.8\" font-family=\"Times New Roman,serif\" font-size=\"14.00\">x1</text>\n",
       "<polyline fill=\"none\" stroke=\"black\" points=\"31.5,-165.5 31.5,-201.5\"/>\n",
       "<text text-anchor=\"middle\" x=\"75.5\" y=\"-179.8\" font-family=\"Times New Roman,serif\" font-size=\"14.00\">data 60.0000</text>\n",
       "</g>\n",
       "<!-- 2299278112416* -->\n",
       "<g id=\"node6\" class=\"node\">\n",
       "<title>2299278112416*</title>\n",
       "<ellipse fill=\"none\" stroke=\"black\" cx=\"184\" cy=\"-128.5\" rx=\"27\" ry=\"18\"/>\n",
       "<text text-anchor=\"middle\" x=\"184\" y=\"-124.8\" font-family=\"Times New Roman,serif\" font-size=\"14.00\">*</text>\n",
       "</g>\n",
       "<!-- 2299278110832&#45;&gt;2299278112416* -->\n",
       "<g id=\"edge15\" class=\"edge\">\n",
       "<title>2299278110832&#45;&gt;2299278112416*</title>\n",
       "<path fill=\"none\" stroke=\"black\" d=\"M100.95,-165.64C117.32,-158.23 136.05,-149.75 151.48,-142.77\"/>\n",
       "<polygon fill=\"black\" stroke=\"black\" points=\"152.42,-145.73 160.09,-138.42 149.53,-139.36 152.42,-145.73\"/>\n",
       "</g>\n",
       "<!-- 2299277963904 -->\n",
       "<g id=\"node3\" class=\"node\">\n",
       "<title>2299277963904</title>\n",
       "<polygon fill=\"none\" stroke=\"black\" points=\"985,-81.5 985,-117.5 1109,-117.5 1109,-81.5 985,-81.5\"/>\n",
       "<text text-anchor=\"middle\" x=\"996.5\" y=\"-95.8\" font-family=\"Times New Roman,serif\" font-size=\"14.00\">y</text>\n",
       "<polyline fill=\"none\" stroke=\"black\" points=\"1008,-81.5 1008,-117.5\"/>\n",
       "<text text-anchor=\"middle\" x=\"1058.5\" y=\"-95.8\" font-family=\"Times New Roman,serif\" font-size=\"14.00\">data 1454.0000</text>\n",
       "</g>\n",
       "<!-- 2299277963904* -->\n",
       "<g id=\"node4\" class=\"node\">\n",
       "<title>2299277963904*</title>\n",
       "<ellipse fill=\"none\" stroke=\"black\" cx=\"922\" cy=\"-99.5\" rx=\"27\" ry=\"18\"/>\n",
       "<text text-anchor=\"middle\" x=\"922\" y=\"-95.8\" font-family=\"Times New Roman,serif\" font-size=\"14.00\">*</text>\n",
       "</g>\n",
       "<!-- 2299277963904*&#45;&gt;2299277963904 -->\n",
       "<g id=\"edge1\" class=\"edge\">\n",
       "<title>2299277963904*&#45;&gt;2299277963904</title>\n",
       "<path fill=\"none\" stroke=\"black\" d=\"M949.39,-99.5C956.86,-99.5 965.38,-99.5 974.19,-99.5\"/>\n",
       "<polygon fill=\"black\" stroke=\"black\" points=\"974.03,-103 984.03,-99.5 974.03,-96 974.03,-103\"/>\n",
       "</g>\n",
       "<!-- 2299278112416 -->\n",
       "<g id=\"node5\" class=\"node\">\n",
       "<title>2299278112416</title>\n",
       "<polygon fill=\"none\" stroke=\"black\" points=\"247,-110.5 247,-146.5 371,-146.5 371,-110.5 247,-110.5\"/>\n",
       "<text text-anchor=\"middle\" x=\"261.5\" y=\"-124.8\" font-family=\"Times New Roman,serif\" font-size=\"14.00\">s1</text>\n",
       "<polyline fill=\"none\" stroke=\"black\" points=\"276,-110.5 276,-146.5\"/>\n",
       "<text text-anchor=\"middle\" x=\"323.5\" y=\"-124.8\" font-family=\"Times New Roman,serif\" font-size=\"14.00\">data 600.0000</text>\n",
       "</g>\n",
       "<!-- 2299278112560+ -->\n",
       "<g id=\"node12\" class=\"node\">\n",
       "<title>2299278112560+</title>\n",
       "<ellipse fill=\"none\" stroke=\"black\" cx=\"434\" cy=\"-100.5\" rx=\"27\" ry=\"18\"/>\n",
       "<text text-anchor=\"middle\" x=\"434\" y=\"-96.8\" font-family=\"Times New Roman,serif\" font-size=\"14.00\">+</text>\n",
       "</g>\n",
       "<!-- 2299278112416&#45;&gt;2299278112560+ -->\n",
       "<g id=\"edge10\" class=\"edge\">\n",
       "<title>2299278112416&#45;&gt;2299278112560+</title>\n",
       "<path fill=\"none\" stroke=\"black\" d=\"M370.78,-114.66C379.95,-112.58 389.15,-110.48 397.55,-108.57\"/>\n",
       "<polygon fill=\"black\" stroke=\"black\" points=\"398.09,-111.81 407.07,-106.18 396.54,-104.98 398.09,-111.81\"/>\n",
       "</g>\n",
       "<!-- 2299278112416*&#45;&gt;2299278112416 -->\n",
       "<g id=\"edge2\" class=\"edge\">\n",
       "<title>2299278112416*&#45;&gt;2299278112416</title>\n",
       "<path fill=\"none\" stroke=\"black\" d=\"M211.39,-128.5C218.86,-128.5 227.38,-128.5 236.19,-128.5\"/>\n",
       "<polygon fill=\"black\" stroke=\"black\" points=\"236.03,-132 246.03,-128.5 236.03,-125 236.03,-132\"/>\n",
       "</g>\n",
       "<!-- 2299278110880 -->\n",
       "<g id=\"node7\" class=\"node\">\n",
       "<title>2299278110880</title>\n",
       "<polygon fill=\"none\" stroke=\"black\" points=\"0,-110.5 0,-146.5 121,-146.5 121,-110.5 0,-110.5\"/>\n",
       "<text text-anchor=\"middle\" x=\"16.5\" y=\"-124.8\" font-family=\"Times New Roman,serif\" font-size=\"14.00\">w1</text>\n",
       "<polyline fill=\"none\" stroke=\"black\" points=\"33,-110.5 33,-146.5\"/>\n",
       "<text text-anchor=\"middle\" x=\"77\" y=\"-124.8\" font-family=\"Times New Roman,serif\" font-size=\"14.00\">data 10.0000</text>\n",
       "</g>\n",
       "<!-- 2299278110880&#45;&gt;2299278112416* -->\n",
       "<g id=\"edge8\" class=\"edge\">\n",
       "<title>2299278110880&#45;&gt;2299278112416*</title>\n",
       "<path fill=\"none\" stroke=\"black\" d=\"M120.83,-128.5C129.24,-128.5 137.7,-128.5 145.54,-128.5\"/>\n",
       "<polygon fill=\"black\" stroke=\"black\" points=\"145.52,-132 155.52,-128.5 145.52,-125 145.52,-132\"/>\n",
       "</g>\n",
       "<!-- 2299278110976 -->\n",
       "<g id=\"node8\" class=\"node\">\n",
       "<title>2299278110976</title>\n",
       "<polygon fill=\"none\" stroke=\"black\" points=\"3.5,-55.5 3.5,-91.5 117.5,-91.5 117.5,-55.5 3.5,-55.5\"/>\n",
       "<text text-anchor=\"middle\" x=\"20\" y=\"-69.8\" font-family=\"Times New Roman,serif\" font-size=\"14.00\">w2</text>\n",
       "<polyline fill=\"none\" stroke=\"black\" points=\"36.5,-55.5 36.5,-91.5\"/>\n",
       "<text text-anchor=\"middle\" x=\"77\" y=\"-69.8\" font-family=\"Times New Roman,serif\" font-size=\"14.00\">data 5.0000</text>\n",
       "</g>\n",
       "<!-- 2299278112608* -->\n",
       "<g id=\"node15\" class=\"node\">\n",
       "<title>2299278112608*</title>\n",
       "<ellipse fill=\"none\" stroke=\"black\" cx=\"184\" cy=\"-73.5\" rx=\"27\" ry=\"18\"/>\n",
       "<text text-anchor=\"middle\" x=\"184\" y=\"-69.8\" font-family=\"Times New Roman,serif\" font-size=\"14.00\">*</text>\n",
       "</g>\n",
       "<!-- 2299278110976&#45;&gt;2299278112608* -->\n",
       "<g id=\"edge7\" class=\"edge\">\n",
       "<title>2299278110976&#45;&gt;2299278112608*</title>\n",
       "<path fill=\"none\" stroke=\"black\" d=\"M117.27,-73.5C126.92,-73.5 136.74,-73.5 145.74,-73.5\"/>\n",
       "<polygon fill=\"black\" stroke=\"black\" points=\"145.64,-77 155.64,-73.5 145.64,-70 145.64,-77\"/>\n",
       "</g>\n",
       "<!-- 2299277965584 -->\n",
       "<g id=\"node9\" class=\"node\">\n",
       "<title>2299277965584</title>\n",
       "<polygon fill=\"none\" stroke=\"black\" points=\"741,-109.5 741,-145.5 859,-145.5 859,-109.5 741,-109.5\"/>\n",
       "<text text-anchor=\"middle\" x=\"752.5\" y=\"-123.8\" font-family=\"Times New Roman,serif\" font-size=\"14.00\">k</text>\n",
       "<polyline fill=\"none\" stroke=\"black\" points=\"764,-109.5 764,-145.5\"/>\n",
       "<text text-anchor=\"middle\" x=\"811.5\" y=\"-123.8\" font-family=\"Times New Roman,serif\" font-size=\"14.00\">data 727.0000</text>\n",
       "</g>\n",
       "<!-- 2299277965584&#45;&gt;2299277963904* -->\n",
       "<g id=\"edge9\" class=\"edge\">\n",
       "<title>2299277965584&#45;&gt;2299277963904*</title>\n",
       "<path fill=\"none\" stroke=\"black\" d=\"M858.89,-113.99C867.98,-111.87 877.12,-109.74 885.5,-107.78\"/>\n",
       "<polygon fill=\"black\" stroke=\"black\" points=\"886.06,-111.01 895.01,-105.33 884.47,-104.2 886.06,-111.01\"/>\n",
       "</g>\n",
       "<!-- 2299277965584+&#45;&gt;2299277965584 -->\n",
       "<g id=\"edge3\" class=\"edge\">\n",
       "<title>2299277965584+&#45;&gt;2299277965584</title>\n",
       "<path fill=\"none\" stroke=\"black\" d=\"M705.33,-127.5C712.89,-127.5 721.49,-127.5 730.36,-127.5\"/>\n",
       "<polygon fill=\"black\" stroke=\"black\" points=\"730.24,-131 740.24,-127.5 730.24,-124 730.24,-131\"/>\n",
       "</g>\n",
       "<!-- 2299278112560 -->\n",
       "<g id=\"node11\" class=\"node\">\n",
       "<title>2299278112560</title>\n",
       "<polygon fill=\"none\" stroke=\"black\" points=\"497,-82.5 497,-118.5 615,-118.5 615,-82.5 497,-82.5\"/>\n",
       "<text text-anchor=\"middle\" x=\"508.5\" y=\"-96.8\" font-family=\"Times New Roman,serif\" font-size=\"14.00\">n</text>\n",
       "<polyline fill=\"none\" stroke=\"black\" points=\"520,-82.5 520,-118.5\"/>\n",
       "<text text-anchor=\"middle\" x=\"567.5\" y=\"-96.8\" font-family=\"Times New Roman,serif\" font-size=\"14.00\">data 720.0000</text>\n",
       "</g>\n",
       "<!-- 2299278112560&#45;&gt;2299277965584+ -->\n",
       "<g id=\"edge13\" class=\"edge\">\n",
       "<title>2299278112560&#45;&gt;2299277965584+</title>\n",
       "<path fill=\"none\" stroke=\"black\" d=\"M614.89,-113.53C623.98,-115.57 633.12,-117.63 641.5,-119.51\"/>\n",
       "<polygon fill=\"black\" stroke=\"black\" points=\"640.48,-123.1 651.01,-121.88 642.02,-116.27 640.48,-123.1\"/>\n",
       "</g>\n",
       "<!-- 2299278112560+&#45;&gt;2299278112560 -->\n",
       "<g id=\"edge4\" class=\"edge\">\n",
       "<title>2299278112560+&#45;&gt;2299278112560</title>\n",
       "<path fill=\"none\" stroke=\"black\" d=\"M461.33,-100.5C468.89,-100.5 477.49,-100.5 486.36,-100.5\"/>\n",
       "<polygon fill=\"black\" stroke=\"black\" points=\"486.24,-104 496.24,-100.5 486.24,-97 486.24,-104\"/>\n",
       "</g>\n",
       "<!-- 2299278113616 -->\n",
       "<g id=\"node13\" class=\"node\">\n",
       "<title>2299278113616</title>\n",
       "<polygon fill=\"none\" stroke=\"black\" points=\"1.5,-0.5 1.5,-36.5 119.5,-36.5 119.5,-0.5 1.5,-0.5\"/>\n",
       "<text text-anchor=\"middle\" x=\"16.5\" y=\"-14.8\" font-family=\"Times New Roman,serif\" font-size=\"14.00\">x2</text>\n",
       "<polyline fill=\"none\" stroke=\"black\" points=\"31.5,-0.5 31.5,-36.5\"/>\n",
       "<text text-anchor=\"middle\" x=\"75.5\" y=\"-14.8\" font-family=\"Times New Roman,serif\" font-size=\"14.00\">data 24.0000</text>\n",
       "</g>\n",
       "<!-- 2299278113616&#45;&gt;2299278112608* -->\n",
       "<g id=\"edge6\" class=\"edge\">\n",
       "<title>2299278113616&#45;&gt;2299278112608*</title>\n",
       "<path fill=\"none\" stroke=\"black\" d=\"M100.95,-36.36C117.32,-43.77 136.05,-52.25 151.48,-59.23\"/>\n",
       "<polygon fill=\"black\" stroke=\"black\" points=\"149.53,-62.64 160.09,-63.58 152.42,-56.27 149.53,-62.64\"/>\n",
       "</g>\n",
       "<!-- 2299278112608 -->\n",
       "<g id=\"node14\" class=\"node\">\n",
       "<title>2299278112608</title>\n",
       "<polygon fill=\"none\" stroke=\"black\" points=\"247,-55.5 247,-91.5 371,-91.5 371,-55.5 247,-55.5\"/>\n",
       "<text text-anchor=\"middle\" x=\"261.5\" y=\"-69.8\" font-family=\"Times New Roman,serif\" font-size=\"14.00\">s2</text>\n",
       "<polyline fill=\"none\" stroke=\"black\" points=\"276,-55.5 276,-91.5\"/>\n",
       "<text text-anchor=\"middle\" x=\"323.5\" y=\"-69.8\" font-family=\"Times New Roman,serif\" font-size=\"14.00\">data 120.0000</text>\n",
       "</g>\n",
       "<!-- 2299278112608&#45;&gt;2299278112560+ -->\n",
       "<g id=\"edge11\" class=\"edge\">\n",
       "<title>2299278112608&#45;&gt;2299278112560+</title>\n",
       "<path fill=\"none\" stroke=\"black\" d=\"M370.78,-86.84C379.77,-88.81 388.78,-90.79 397.04,-92.61\"/>\n",
       "<polygon fill=\"black\" stroke=\"black\" points=\"396.25,-96.24 406.77,-94.96 397.75,-89.4 396.25,-96.24\"/>\n",
       "</g>\n",
       "<!-- 2299278112608*&#45;&gt;2299278112608 -->\n",
       "<g id=\"edge5\" class=\"edge\">\n",
       "<title>2299278112608*&#45;&gt;2299278112608</title>\n",
       "<path fill=\"none\" stroke=\"black\" d=\"M211.39,-73.5C218.86,-73.5 227.38,-73.5 236.19,-73.5\"/>\n",
       "<polygon fill=\"black\" stroke=\"black\" points=\"236.03,-77 246.03,-73.5 236.03,-70 236.03,-77\"/>\n",
       "</g>\n",
       "<!-- 2299278112224 -->\n",
       "<g id=\"node16\" class=\"node\">\n",
       "<title>2299278112224</title>\n",
       "<polygon fill=\"none\" stroke=\"black\" points=\"743,-54.5 743,-90.5 857,-90.5 857,-54.5 743,-54.5\"/>\n",
       "<text text-anchor=\"middle\" x=\"759.5\" y=\"-68.8\" font-family=\"Times New Roman,serif\" font-size=\"14.00\">w3</text>\n",
       "<polyline fill=\"none\" stroke=\"black\" points=\"776,-54.5 776,-90.5\"/>\n",
       "<text text-anchor=\"middle\" x=\"816.5\" y=\"-68.8\" font-family=\"Times New Roman,serif\" font-size=\"14.00\">data 2.0000</text>\n",
       "</g>\n",
       "<!-- 2299278112224&#45;&gt;2299277963904* -->\n",
       "<g id=\"edge12\" class=\"edge\">\n",
       "<title>2299278112224&#45;&gt;2299277963904*</title>\n",
       "<path fill=\"none\" stroke=\"black\" d=\"M856.78,-85.05C866.53,-87.24 876.43,-89.47 885.44,-91.5\"/>\n",
       "<polygon fill=\"black\" stroke=\"black\" points=\"884.39,-95.08 894.92,-93.86 885.93,-88.25 884.39,-95.08\"/>\n",
       "</g>\n",
       "</g>\n",
       "</svg>\n"
      ],
      "text/plain": [
       "<graphviz.graphs.Digraph at 0x21757a57fa0>"
      ]
     },
     "execution_count": 33,
     "metadata": {},
     "output_type": "execute_result"
    }
   ],
   "source": [
    "# valores que já havíamos definido na aula anterior\n",
    "x1 = Valor(60, rotulo = \"x1\")\n",
    "x2 = Valor(24, rotulo = \"x2\")\n",
    "\n",
    "w1 = Valor(10, rotulo = \"w1\")\n",
    "w2 = Valor(5, rotulo = \"w2\")\n",
    "w3 = Valor(2, rotulo = \"w3\")\n",
    "\n",
    "b = Valor(7, rotulo = \"b\")\n",
    "\n",
    "# expressões que havíamos já definido na aula anterior (primeira aula de redes neurais)\n",
    "s1 = x1 * w1\n",
    "s1.rotulo = \"s1\"\n",
    "\n",
    "s2 = x2 * w2\n",
    "s2.rotulo = \"s2\"\n",
    "\n",
    "n = s1 + s2\n",
    "n.rotulo = \"n\"\n",
    "\n",
    "k = n + b\n",
    "k.rotulo = \"k\"\n",
    "\n",
    "y = k * w3\n",
    "y.rotulo = \"y\"\n",
    "\n",
    "plota_grafo(y)"
   ]
  },
  {
   "cell_type": "markdown",
   "id": "fe44b545-4a0d-4d2f-8b9c-a95e5d6088b7",
   "metadata": {},
   "source": [
    "> <hr>"
   ]
  },
  {
   "cell_type": "markdown",
   "id": "6c191be2-7039-4700-af2c-709128363f8d",
   "metadata": {},
   "source": [
    "## Conclusão"
   ]
  },
  {
   "cell_type": "markdown",
   "id": "1bc1801e-831c-41ff-a5fe-ae073d4b9d5a",
   "metadata": {},
   "source": [
    "<div style=' text-align: justify; text-justify: inter-word;'>\n",
    "    A visualização por meio de grafos é uma ótima estratégia para entender informações que podem tomar formas complexas e isso não costuma ser feito somente na área da programação. No nosso contexto específico, é interessante estudar as ferramentas e opções que o próprio Python oferece para a elaboração dos mesmos.\n",
    "    \n",
    "</div>"
   ]
  },
  {
   "cell_type": "markdown",
   "id": "a5d81c81-73ac-4f83-ae24-1ced0f70e663",
   "metadata": {},
   "source": [
    "<hr>"
   ]
  },
  {
   "cell_type": "markdown",
   "id": "15bf16e5-11df-47ec-9ee8-b96aa83a066c",
   "metadata": {},
   "source": [
    "## Playground"
   ]
  },
  {
   "cell_type": "markdown",
   "id": "889c8d2a-5678-4fcf-bc06-f2cbe7450c2d",
   "metadata": {},
   "source": [
    "#### Como eu entendo que os grafos facilitam a visualização do backpropagation?\n",
    "<br> `RESPOSTA`: o backpropagation chega ao fim de um processo e retorna até o início, de trás para a frente. Os grafos permitem que se enxergue o passo a passo nas duas direções e, para mim, impede que você se perca em alguma parte do todo, já que há um suporte visual conutndente."
   ]
  }
 ],
 "metadata": {
  "kernelspec": {
   "display_name": "ilumpy",
   "language": "python",
   "name": "ilumpy"
  },
  "language_info": {
   "codemirror_mode": {
    "name": "ipython",
    "version": 3
   },
   "file_extension": ".py",
   "mimetype": "text/x-python",
   "name": "python",
   "nbconvert_exporter": "python",
   "pygments_lexer": "ipython3",
   "version": "3.9.7"
  }
 },
 "nbformat": 4,
 "nbformat_minor": 5
}
