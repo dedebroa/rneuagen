{
 "cells": [
  {
   "cell_type": "markdown",
   "metadata": {},
   "source": [
    "REDES NEURAIS ARTIFICIAIS\n",
    "=========================\n",
    "\n"
   ]
  },
  {
   "cell_type": "markdown",
   "metadata": {},
   "source": [
    "<hr>"
   ]
  },
  {
   "cell_type": "markdown",
   "metadata": {},
   "source": [
    "## INTRODUÇÃO\n",
    "\n"
   ]
  },
  {
   "cell_type": "markdown",
   "metadata": {},
   "source": [
    "Nossa classe `Valor` já faz tudo que precisamos para usarmos ela como suporte para construirmos uma rede neural. Neste notebook iremos construir uma rede neural por partes, primeiramente criando um neurônio artificial, depois uma camada de neurônios e, por fim, uma rede neural multicamadas.\n",
    "\n"
   ]
  },
  {
   "cell_type": "markdown",
   "metadata": {},
   "source": [
    "## OBJETIVO\n",
    "\n"
   ]
  },
  {
   "cell_type": "markdown",
   "metadata": {},
   "source": [
    "Criar uma rede neural artificial usando Python.\n",
    "\n"
   ]
  },
  {
   "cell_type": "markdown",
   "metadata": {},
   "source": [
    "> <hr>"
   ]
  },
  {
   "cell_type": "markdown",
   "metadata": {},
   "source": [
    "## IMPORTAÇÕES\n",
    "\n"
   ]
  },
  {
   "cell_type": "code",
   "execution_count": 4,
   "metadata": {},
   "outputs": [
    {
     "ename": "ImportError",
     "evalue": "cannot import name 'Valor' from 'classes' (C:\\JupyterLab\\3S\\4.3 Redes Neurais e Alg. Gen\\rneuagen\\RedesNeurais\\classes.py)",
     "output_type": "error",
     "traceback": [
      "\u001b[1;31m---------------------------------------------------------------------------\u001b[0m",
      "\u001b[1;31mImportError\u001b[0m                               Traceback (most recent call last)",
      "\u001b[1;32mC:\\Users\\DEBORA~1\\AppData\\Local\\Temp/ipykernel_15980/4126341891.py\u001b[0m in \u001b[0;36m<module>\u001b[1;34m\u001b[0m\n\u001b[0;32m      1\u001b[0m \u001b[1;32mimport\u001b[0m \u001b[0mrandom\u001b[0m\u001b[1;33m\u001b[0m\u001b[1;33m\u001b[0m\u001b[0m\n\u001b[1;32m----> 2\u001b[1;33m \u001b[1;32mfrom\u001b[0m \u001b[0mclasses\u001b[0m \u001b[1;32mimport\u001b[0m \u001b[0mValor\u001b[0m\u001b[1;33m\u001b[0m\u001b[1;33m\u001b[0m\u001b[0m\n\u001b[0m\u001b[0;32m      3\u001b[0m \u001b[1;32mfrom\u001b[0m \u001b[0mfuncoes\u001b[0m \u001b[1;32mimport\u001b[0m \u001b[0mplota_grafo\u001b[0m\u001b[1;33m\u001b[0m\u001b[1;33m\u001b[0m\u001b[0m\n",
      "\u001b[1;31mImportError\u001b[0m: cannot import name 'Valor' from 'classes' (C:\\JupyterLab\\3S\\4.3 Redes Neurais e Alg. Gen\\rneuagen\\RedesNeurais\\classes.py)"
     ]
    }
   ],
   "source": [
    "import random\n",
    "from classes import Valor\n",
    "from funcoes import plota_grafo"
   ]
  },
  {
   "cell_type": "markdown",
   "metadata": {},
   "source": [
    "> <hr>"
   ]
  },
  {
   "cell_type": "markdown",
   "metadata": {},
   "source": [
    "## CÓDIGO E DISCUSSÃO\n",
    "\n"
   ]
  },
  {
   "cell_type": "markdown",
   "metadata": {},
   "source": [
    "> #### O NEURÔNIO ARTIFICIAL"
   ]
  },
  {
   "cell_type": "markdown",
   "metadata": {},
   "source": [
    "Vamos construir um neurônio artificial. Como iremos ter vários neurônios em uma rede neural, podemos construir uma classe que servirá de receita para criar esses neurônios. Lembre-se que um neurônio artificial recebe informação de sinapses artificiais ponderadas, soma estas informações, adiciona um viés à esta soma, aplica uma função de ativação e, finalmente, passa a informação adiante.\n",
    "\n"
   ]
  },
  {
   "cell_type": "code",
   "execution_count": 5,
   "metadata": {},
   "outputs": [],
   "source": [
    "class Neuronio:\n",
    "    def __init__(self, num_dados_entrada):\n",
    "        pesos = [] # variável peso é uma instância de valor\n",
    "                    # colocaremos dentro de uma lista\n",
    "\n",
    "        for _ in range(num_dados_entrada):\n",
    "            peso = Valor(random.uniform(-1, 1))\n",
    "            pesos.append(peso)\n",
    "\n",
    "        self.pesos = pesos\n",
    "        self.vies = Valor(random.uniform(-1, 1)) # distribuição uniforme para uma escolha aleatória\n",
    "                                                    #a mesma chance para qualquer número entre -1 e 1 ser sorteado\n",
    "\n",
    "    def __call__(self, x):\n",
    "        \"\"\"Executa a computação interna do neurônio.\n",
    "\n",
    "        Args:\n",
    "          x: lista de valores de entrada (informação que chega ao neurônio).\n",
    "\n",
    "        Returns:\n",
    "          Informação que o neurônio propaga adiante. Trata-se da\n",
    "          aplicação da função de ativação à soma de `x` vezes os pesos do\n",
    "          neurônio adicionado ao viés.\n",
    "        \"\"\"\n",
    "        assert len(x) == (self.pesos), \"Seu X tem tamanho errado.\" # essa mensagem aparecerá\n",
    "        soma = 0\n",
    "        for x_, p in zip(x, self.pesos):\n",
    "            soma = soma + x_ * p\n",
    "            \n",
    "        dado_de_saida = soma.sig() # se tudo é valor, dado de saída é valor também\n",
    "        \n",
    "        return dado_de_saida"
   ]
  },
  {
   "cell_type": "markdown",
   "metadata": {},
   "source": [
    "Vamos fazer um teste simples do nosso neurônio artificial.\n",
    "\n"
   ]
  },
  {
   "cell_type": "code",
   "execution_count": 6,
   "metadata": {},
   "outputs": [
    {
     "ename": "NameError",
     "evalue": "name 'Valor' is not defined",
     "output_type": "error",
     "traceback": [
      "\u001b[1;31m---------------------------------------------------------------------------\u001b[0m",
      "\u001b[1;31mNameError\u001b[0m                                 Traceback (most recent call last)",
      "\u001b[1;32mC:\\Users\\DEBORA~1\\AppData\\Local\\Temp/ipykernel_15980/3614923860.py\u001b[0m in \u001b[0;36m<module>\u001b[1;34m\u001b[0m\n\u001b[0;32m      1\u001b[0m \u001b[0mdados_de_entrada\u001b[0m \u001b[1;33m=\u001b[0m \u001b[1;33m[\u001b[0m\u001b[1;36m2.5\u001b[0m\u001b[1;33m,\u001b[0m \u001b[1;36m4.25\u001b[0m\u001b[1;33m]\u001b[0m\u001b[1;33m\u001b[0m\u001b[1;33m\u001b[0m\u001b[0m\n\u001b[0;32m      2\u001b[0m \u001b[1;33m\u001b[0m\u001b[0m\n\u001b[1;32m----> 3\u001b[1;33m \u001b[0mmeu_neuronio\u001b[0m \u001b[1;33m=\u001b[0m \u001b[0mNeuronio\u001b[0m\u001b[1;33m(\u001b[0m\u001b[0mlen\u001b[0m\u001b[1;33m(\u001b[0m\u001b[0mdados_de_entrada\u001b[0m\u001b[1;33m)\u001b[0m\u001b[1;33m)\u001b[0m\u001b[1;33m\u001b[0m\u001b[1;33m\u001b[0m\u001b[0m\n\u001b[0m\u001b[0;32m      4\u001b[0m \u001b[1;33m\u001b[0m\u001b[0m\n\u001b[0;32m      5\u001b[0m \u001b[0mprint\u001b[0m\u001b[1;33m(\u001b[0m\u001b[0mmeu_neuronio\u001b[0m\u001b[1;33m(\u001b[0m\u001b[0mdados_de_entrada\u001b[0m\u001b[1;33m)\u001b[0m\u001b[1;33m)\u001b[0m\u001b[1;33m\u001b[0m\u001b[1;33m\u001b[0m\u001b[0m\n",
      "\u001b[1;32mC:\\Users\\DEBORA~1\\AppData\\Local\\Temp/ipykernel_15980/2077708343.py\u001b[0m in \u001b[0;36m__init__\u001b[1;34m(self, num_dados_entrada)\u001b[0m\n\u001b[0;32m      5\u001b[0m \u001b[1;33m\u001b[0m\u001b[0m\n\u001b[0;32m      6\u001b[0m         \u001b[1;32mfor\u001b[0m \u001b[0m_\u001b[0m \u001b[1;32min\u001b[0m \u001b[0mrange\u001b[0m\u001b[1;33m(\u001b[0m\u001b[0mnum_dados_entrada\u001b[0m\u001b[1;33m)\u001b[0m\u001b[1;33m:\u001b[0m\u001b[1;33m\u001b[0m\u001b[1;33m\u001b[0m\u001b[0m\n\u001b[1;32m----> 7\u001b[1;33m             \u001b[0mpeso\u001b[0m \u001b[1;33m=\u001b[0m \u001b[0mValor\u001b[0m\u001b[1;33m(\u001b[0m\u001b[0mrandom\u001b[0m\u001b[1;33m.\u001b[0m\u001b[0muniform\u001b[0m\u001b[1;33m(\u001b[0m\u001b[1;33m-\u001b[0m\u001b[1;36m1\u001b[0m\u001b[1;33m,\u001b[0m \u001b[1;36m1\u001b[0m\u001b[1;33m)\u001b[0m\u001b[1;33m)\u001b[0m\u001b[1;33m\u001b[0m\u001b[1;33m\u001b[0m\u001b[0m\n\u001b[0m\u001b[0;32m      8\u001b[0m             \u001b[0mpesos\u001b[0m\u001b[1;33m.\u001b[0m\u001b[0mappend\u001b[0m\u001b[1;33m(\u001b[0m\u001b[0mpeso\u001b[0m\u001b[1;33m)\u001b[0m\u001b[1;33m\u001b[0m\u001b[1;33m\u001b[0m\u001b[0m\n\u001b[0;32m      9\u001b[0m \u001b[1;33m\u001b[0m\u001b[0m\n",
      "\u001b[1;31mNameError\u001b[0m: name 'Valor' is not defined"
     ]
    }
   ],
   "source": [
    "dados_de_entrada = [2.5, 4.25]\n",
    "\n",
    "meu_neuronio = Neuronio(len(dados_de_entrada))\n",
    "\n",
    "print(meu_neuronio(dados_de_entrada))"
   ]
  },
  {
   "cell_type": "markdown",
   "metadata": {},
   "source": [
    "### A camada de neurônios\n",
    "\n"
   ]
  },
  {
   "cell_type": "markdown",
   "metadata": {},
   "source": [
    "Uma rede neural artificial com apenas um neurônio é um modelo relativamente simples. As redes neurais artificias costumam ser mais interessantes com mais neurônios. O motivo para isso é que com mais neurônios nós conseguimos identificar padrões mais complexos nos dados na tentativa de induzir um modelo preditivo melhor.\n",
    "\n",
    "Uma estrutura de organização de neurônios artificiais são as `camadas de neurônios`. Uma camada de neurônio é um conjunto de neurônios onde cada neurônio é independente (tem seu próprio conjunto de pesos e viés), porém recebe a mesma informação. A quantidade de informação recebida estará representada no argumento `num_dados_entrada` abaixo. Assim como o neurônio artificial, uma camada de neurônios será modelada usando uma classe.\n",
    "\n"
   ]
  },
  {
   "cell_type": "code",
   "execution_count": null,
   "metadata": {},
   "outputs": [],
   "source": [
    "class Camada:\n",
    "    def __init__(self, num_dados_entrada, num_neuronios):\n",
    "        neuronios = []\n",
    "\n",
    "        for _ in range(num_neuronios):\n",
    "            neuronio = Neuronio(num_dados_entrada)\n",
    "            neuronios.append(neuronio)\n",
    "\n",
    "        self.neuronios = neuronios\n",
    "\n",
    "    def __call__(self, x):\n",
    "        \"\"\"Executa a computação de cada neurônio da camada.\n",
    "\n",
    "        Args:\n",
    "          x: lista de valores de entrada (informação que chega aos neurônios).\n",
    "\n",
    "        Returns:\n",
    "          Informação que os neurônios da camada propagam adiante.\n",
    "        \"\"\"\n",
    "        saidas = []\n",
    "\n",
    "        for neuronio in self.neuronios:\n",
    "            informacao = neuronio(x)\n",
    "            saidas.append(informacao)\n",
    "\n",
    "        if len(saidas) == 1:\n",
    "            return saidas[0]\n",
    "        else:\n",
    "            return saidas"
   ]
  },
  {
   "cell_type": "markdown",
   "metadata": {},
   "source": [
    "Vamos fazer um teste simples da nossa camada de neurônios artificiais.\n",
    "\n"
   ]
  },
  {
   "cell_type": "code",
   "execution_count": null,
   "metadata": {},
   "outputs": [],
   "source": [
    "dados_de_entrada = [2.5, 4.25]\n",
    "num_neuronios = 3\n",
    "\n",
    "minha_camada = Camada(len(dados_de_entrada), num_neuronios)\n",
    "\n",
    "print(minha_camada(dados_de_entrada))"
   ]
  },
  {
   "cell_type": "markdown",
   "metadata": {},
   "source": [
    "### A rede neural Multilayer Perceptron (MLP)\n",
    "\n"
   ]
  },
  {
   "cell_type": "markdown",
   "metadata": {},
   "source": [
    "Uma rede neural artificial composta de uma ou mais camadas ocultas de neurônios (isto é, camadas que não sejam camadas de entrada ou camadas de saída) é chamada de Multilayer Perceptron ou simplesmente `MLP`.\n",
    "\n",
    "A informação em uma rede MLP flui da esquerda para a direita, iniciando na camada de entrada, passando por todas as camadas ocultas (uma a uma, na ordem) e saindo na camada de saída. A informação em uma MLP nunca retorna, apenas segue em frente. Por conta disso, MLPs também são chamadas de `feedforward networks`, ou seja, redes neurais que sempre propagam &ldquo;para frente&rdquo; a informação. Existem outros tipos de redes neurais que não são `feedforward`, porém estas não serão vistas neste curso.\n",
    "\n",
    "Como você provavelmente já estava esperando, usaremos uma classe para servir como receita para criar nossas redes MLP.\n",
    "\n"
   ]
  },
  {
   "cell_type": "code",
   "execution_count": null,
   "metadata": {},
   "outputs": [],
   "source": [
    "class MLP:\n",
    "    def __init__(self, num_dados_entrada, num_neuronios_por_camada):\n",
    "\n",
    "        percurso = [num_dados_entrada] + num_neuronios_por_camada\n",
    "        camadas = []\n",
    "\n",
    "        for i in range(len(num_neuronios_por_camada)):\n",
    "            camada = Camada(percurso[i], percurso[i+1])\n",
    "            camadas.append(camada)\n",
    "\n",
    "        self.camadas = camadas\n",
    "\n",
    "    def __call__(self, x):\n",
    "        \"\"\"Executa a computação de cada camada.\n",
    "\n",
    "        Como a rede MLP é uma rede feedforward, a informação que uma camada\n",
    "        recebe é a informação de saída da camada anterior. A única exceção é a\n",
    "        camada de entrada, onde a informação é fornecida pelo usuário\n",
    "\n",
    "        Args:\n",
    "          x: informação fornecida na camada de entrada.\n",
    "\n",
    "        Returns:\n",
    "          Informação recuperada na camada de saída.\n",
    "        \"\"\"\n",
    "        for camada in self.camadas:\n",
    "            x = camada(x)\n",
    "        return x"
   ]
  },
  {
   "cell_type": "markdown",
   "metadata": {},
   "source": [
    "Vamos fazer um teste simples da nossa rede MLP.\n",
    "\n"
   ]
  },
  {
   "cell_type": "code",
   "execution_count": null,
   "metadata": {},
   "outputs": [],
   "source": [
    "dados_de_entrada = [2.5, 4.25]\n",
    "num_neuronios_por_camada = [4, 3, 1]\n",
    "\n",
    "minha_mlp = MLP(len(dados_de_entrada), num_neuronios_por_camada)\n",
    "\n",
    "resultado = minha_mlp(dados_de_entrada)\n",
    "\n",
    "print(resultado)"
   ]
  },
  {
   "cell_type": "markdown",
   "metadata": {},
   "source": [
    "Observe que nosso `resultado` é uma instância da classe `Valor`! O que nós podemos fazer com instâncias desta classe? Sim, podemos computar o gradiente local usando nosso algoritmo de `autograd` e plotar o grafo computacional!!\n",
    "\n"
   ]
  },
  {
   "cell_type": "code",
   "execution_count": null,
   "metadata": {},
   "outputs": [],
   "source": [
    "resultado.propagar_tudo()\n",
    "grafo = plota_grafo(resultado)\n",
    "\n",
    "# para salvar o grafo\n",
    "grafo.render(\"rede_neural\", format=\"png\")\n",
    "\n",
    "grafo"
   ]
  },
  {
   "cell_type": "markdown",
   "metadata": {},
   "source": [
    "## Conclusão\n",
    "\n"
   ]
  },
  {
   "cell_type": "markdown",
   "metadata": {},
   "source": [
    "## Playground\n",
    "\n"
   ]
  },
  {
   "cell_type": "code",
   "execution_count": null,
   "metadata": {},
   "outputs": [],
   "source": [
    "# cada vez que criamos um neurônio, ele é diferente\n",
    "# rede de uma camada só de um neurônio só\n",
    "# perceptron"
   ]
  }
 ],
 "metadata": {
  "kernelspec": {
   "display_name": "ilumpy",
   "language": "python",
   "name": "ilumpy"
  },
  "language_info": {
   "codemirror_mode": {
    "name": "ipython",
    "version": 3
   },
   "file_extension": ".py",
   "mimetype": "text/x-python",
   "name": "python",
   "nbconvert_exporter": "python",
   "pygments_lexer": "ipython3",
   "version": "3.9.7"
  },
  "org": null
 },
 "nbformat": 4,
 "nbformat_minor": 4
}
