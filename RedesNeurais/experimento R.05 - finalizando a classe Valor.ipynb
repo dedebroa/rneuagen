{
 "cells": [
  {
   "cell_type": "markdown",
   "metadata": {},
   "source": [
    "FINALIZANDO A CLASSE VALOR\n",
    "==========================\n",
    "\n"
   ]
  },
  {
   "cell_type": "markdown",
   "metadata": {},
   "source": [
    "<hr>"
   ]
  },
  {
   "cell_type": "markdown",
   "metadata": {},
   "source": [
    "## INTRODUÇÃO\n",
    "\n"
   ]
  },
  {
   "cell_type": "markdown",
   "metadata": {},
   "source": [
    "Chegou a hora de finalizar a classe `Valor`!\n",
    "\n"
   ]
  },
  {
   "cell_type": "markdown",
   "metadata": {},
   "source": [
    "## OBJETIVO\n",
    "\n"
   ]
  },
  {
   "cell_type": "markdown",
   "metadata": {},
   "source": [
    "O objetivo é fazer com que a classe `Valor` seja capaz de realizar algumas **operações necessárias** para que seja usada na nossa rede neural artificial.\n",
    "\n"
   ]
  },
  {
   "cell_type": "markdown",
   "metadata": {},
   "source": [
    "> <hr>"
   ]
  },
  {
   "cell_type": "markdown",
   "metadata": {},
   "source": [
    "## IMPORTAÇÕES\n",
    "\n"
   ]
  },
  {
   "cell_type": "code",
   "execution_count": 1,
   "metadata": {},
   "outputs": [],
   "source": [
    "import math # tem que importar ele nas classes\n",
    "from funcoes import plota_grafo"
   ]
  },
  {
   "cell_type": "markdown",
   "metadata": {},
   "source": [
    "> <hr>"
   ]
  },
  {
   "cell_type": "markdown",
   "metadata": {},
   "source": [
    "## CÓDIGOS E DISCUSSÃO\n",
    "\n"
   ]
  },
  {
   "cell_type": "markdown",
   "metadata": {},
   "source": [
    "> #### FINALIZANDO A CLASSE `VALOR`"
   ]
  },
  {
   "cell_type": "markdown",
   "metadata": {},
   "source": [
    "Aqui está a classe `Valor` assim como feita na aula anterior. Vamos modificá-la para cumprir nossos objetivos (ver objetivos na próxima seção).\n",
    "\n"
   ]
  },
  {
   "cell_type": "code",
   "execution_count": 2,
   "metadata": {},
   "outputs": [],
   "source": [
    "class Valor:\n",
    "    def __init__(self, data, progenitor=(), operador_mae=\"\", rotulo=\"\"): # só roda quando criamos uma instância\n",
    "        self.data = data\n",
    "        self.progenitor = progenitor\n",
    "        self.operador_mae = operador_mae\n",
    "        self.rotulo = rotulo\n",
    "        self.grad = 0\n",
    "\n",
    "    def __repr__(self):\n",
    "        return f\"Valor(data={self.data})\"\n",
    "\n",
    "    def __add__(self, outro_valor):\n",
    "        if not isinstance(outro_valor, Valor): # o problema é se não for uma instância \n",
    "                                                # condicional chegando se o outro valor é uma instância da classe valor\n",
    "            outro_valor = Valor(outro_valor) # trannforma a não instância em uma instância então\n",
    "        data = self.data + outro_valor.data\n",
    "        progenitor = (self, outro_valor)\n",
    "        operador_mae = \"+\"\n",
    "        saida = Valor(data, progenitor, operador_mae)\n",
    "\n",
    "        def propagar_adicao():\n",
    "            self.grad += saida.grad * 1\n",
    "            outro_valor.grad += saida.grad * 1\n",
    "\n",
    "        saida.propagar = propagar_adicao\n",
    "\n",
    "        return saida\n",
    "    \n",
    "    def __radd__(self, outro_valor): # outro_valor + self\n",
    "                                        # correção de erro\n",
    "        return self + outro_valor # primeiro argumento é sempre self\n",
    "\n",
    "    def __mul__(self, outro_valor):\n",
    "        if not isinstance(outro_valor, Valor): \n",
    "            outro_valor = Valor(outro_valor) \n",
    "        data = self.data * outro_valor.data\n",
    "        progenitor = (self, outro_valor)\n",
    "        operador_mae = \"*\"\n",
    "        saida = Valor(data, progenitor, operador_mae)\n",
    "\n",
    "        def propagar_multiplicacao():\n",
    "            self.grad += saida.grad * outro_valor.data\n",
    "            outro_valor.grad += saida.grad * self.data\n",
    "\n",
    "        saida.propagar = propagar_multiplicacao\n",
    "\n",
    "        return saida\n",
    "    \n",
    "    def __rmul__(self, outro_valor): # outro_valor + self\n",
    "                                        # correção de erro\n",
    "        return self * outro_valor\n",
    "    \n",
    "    def __pow__(self, expoente):\n",
    "        \n",
    "        assert isinstance(expoente, (int, float)) # se assegura de que isso é verdadeiro\n",
    "        \n",
    "        data = self.data ** expoente\n",
    "        progenitor = (self, )\n",
    "        operador_mae = f\"**{expoente}\" # é so uma string\n",
    "        saida = Valor(data, progenitor, operador_mae)\n",
    "        \n",
    "        def propagar_exponenciacao():\n",
    "            # gradiente de onde estou é o gradiente vezes o filho\n",
    "            self.grad += saida.grad * expoente * (self.data ** (expoente - 1))\n",
    "\n",
    "        saida.propagar = propagar_exponenciacao\n",
    "\n",
    "        return saida\n",
    "        \n",
    "\n",
    "    def __truediv__(self, outro_valor): # self/outro_valor\n",
    "        return self * outro_valor ** (-1)\n",
    "    \n",
    "    def __neg__(self): # - self\n",
    "        return self * (-1)\n",
    "    \n",
    "    def __sub__(self, outro_valor):  # self - outro_valor\n",
    "        return self + (- outro_valor)\n",
    "    \n",
    "    def __rsub__(self, outro_valor): # outro_valor - self\n",
    "        return self * (-1) + outro_valor\n",
    "    \n",
    "    def exp(self): # calcular o exponencial de um número qualquer\n",
    "        # math é quem calcula exponencias, a biblioteca de matemática\n",
    "        data = math.exp(self.data)\n",
    "        progenitor = (self, ) # função unária, o próprio valor # só tem um genitor\n",
    "        operador_mae = \"exp\"\n",
    "        saida = Valor(data, progenitor, operador_mae)\n",
    "\n",
    "        def propagar_exp():\n",
    "            self.grad += saida.grad * data\n",
    "\n",
    "        saida.propagar = propagar_exp\n",
    "\n",
    "        return saida\n",
    "    \n",
    "    def sig(self):\n",
    "        return self.exp() / (self.exp() + 1)\n",
    "        \n",
    "    def propagar(self):\n",
    "        pass\n",
    "\n",
    "    def propagar_tudo(self):\n",
    "        ordem_topologica = []\n",
    "        visitados = set()\n",
    "\n",
    "        def constroi_ordem_topologica(v):\n",
    "            if v not in visitados:\n",
    "                visitados.add(v)\n",
    "                for progenitor in v.progenitor:\n",
    "                    constroi_ordem_topologica(progenitor)\n",
    "                ordem_topologica.append(v)\n",
    "\n",
    "        constroi_ordem_topologica(self)\n",
    "\n",
    "        self.grad = 1  # o gradiente do vértice folha deve ser 1\n",
    "\n",
    "        for v in reversed(ordem_topologica):\n",
    "            v.propagar()"
   ]
  },
  {
   "cell_type": "markdown",
   "metadata": {},
   "source": [
    "<br>\n",
    "\n",
    "> #### FINALIZANDO A CLASSE `VALOR`"
   ]
  },
  {
   "cell_type": "markdown",
   "metadata": {},
   "source": [
    "> Antes de qualquer alteração, se rodarmos os objetivos, todos eles darão erro."
   ]
  },
  {
   "cell_type": "markdown",
   "metadata": {},
   "source": [
    "Quero poder acidionar uma instância de `Valor` com uma constante qualquer.\n",
    "\n"
   ]
  },
  {
   "cell_type": "code",
   "execution_count": 3,
   "metadata": {},
   "outputs": [
    {
     "name": "stdout",
     "output_type": "stream",
     "text": [
      "Valor(data=11)\n"
     ]
    }
   ],
   "source": [
    "a = Valor(10, rotulo=\"a\")\n",
    "b = a + 1\n",
    "print(b)"
   ]
  },
  {
   "cell_type": "markdown",
   "metadata": {},
   "source": [
    "Quero poder multiplicar uma instância de `Valor` com uma constante qualquer.\n",
    "\n"
   ]
  },
  {
   "cell_type": "code",
   "execution_count": 4,
   "metadata": {},
   "outputs": [
    {
     "name": "stdout",
     "output_type": "stream",
     "text": [
      "Valor(data=100)\n"
     ]
    }
   ],
   "source": [
    "a = Valor(10, rotulo=\"a\")\n",
    "b = a * 10 # init roda para o a, não para o dez\n",
    "print(b)"
   ]
  },
  {
   "cell_type": "markdown",
   "metadata": {},
   "source": [
    "> Adicionando 'ifinstance' dentro dos métodos dunder 'add' e 'mul', conseguimos fazer com que as duas células acima funcionassem. Contudo, ainda não é o suficiente para que as próximas funcionem."
   ]
  },
  {
   "cell_type": "markdown",
   "metadata": {},
   "source": [
    "Quero poder acidionar uma instância de `Valor` com uma constante qualquer, mas na ordem oposta.\n",
    "\n"
   ]
  },
  {
   "cell_type": "code",
   "execution_count": 5,
   "metadata": {},
   "outputs": [
    {
     "name": "stdout",
     "output_type": "stream",
     "text": [
      "Valor(data=11)\n"
     ]
    }
   ],
   "source": [
    "a = Valor(10, rotulo=\"a\")\n",
    "b = 1 + a\n",
    "print(b)"
   ]
  },
  {
   "cell_type": "markdown",
   "metadata": {},
   "source": [
    "Quero poder multiplicar uma instância de `Valor` com uma constante qualquer, mas na ordem oposta.\n",
    "\n"
   ]
  },
  {
   "cell_type": "code",
   "execution_count": 6,
   "metadata": {},
   "outputs": [
    {
     "name": "stdout",
     "output_type": "stream",
     "text": [
      "Valor(data=100)\n"
     ]
    }
   ],
   "source": [
    "a = Valor(10, rotulo=\"a\")\n",
    "b = 10 * a\n",
    "print(b)"
   ]
  },
  {
   "cell_type": "markdown",
   "metadata": {},
   "source": [
    "> Adicionando os métodos dunder 'radd' e 'rmul', conseguimos fazer com que as duas células acima funcionassem. Contudo, também ainda não é o suficiente para que as próximas funcionem."
   ]
  },
  {
   "cell_type": "markdown",
   "metadata": {},
   "source": [
    "Quero poder aplicar a função exponencial ($e^x$) em uma instância de `Valor`, computando corretamente o gradiente local desta operação.\n",
    "\n"
   ]
  },
  {
   "cell_type": "code",
   "execution_count": 7,
   "metadata": {},
   "outputs": [
    {
     "name": "stdout",
     "output_type": "stream",
     "text": [
      "Valor(data=2.718281828459045)\n"
     ]
    }
   ],
   "source": [
    "a = Valor(1, rotulo=\"a\")\n",
    "b = a.exp()\n",
    "print(b)"
   ]
  },
  {
   "cell_type": "markdown",
   "metadata": {},
   "source": [
    "> Com essas alterações, agora se tornou possível propagar o gradiente."
   ]
  },
  {
   "cell_type": "markdown",
   "metadata": {},
   "source": [
    "Quero poder elevar uma instância de `Valor` a um número real qualquer. **Nota**: não vai funcionar se fizer um `Valor` elevado a outro `Valor` pois vamos propagar os gradientes apenas considerando que estamos elevando a uma constante qualquer.\n",
    "\n"
   ]
  },
  {
   "cell_type": "code",
   "execution_count": 8,
   "metadata": {},
   "outputs": [
    {
     "name": "stdout",
     "output_type": "stream",
     "text": [
      "Valor(data=100)\n"
     ]
    }
   ],
   "source": [
    "a = Valor(10, rotulo=\"a\")\n",
    "b = a**2 # valor elevado a uma constante\n",
    "print(b)"
   ]
  },
  {
   "cell_type": "markdown",
   "metadata": {},
   "source": [
    "> Para a execução dessa célula, foi necessário que escrevêssemos um método para a exponenciação (__pow__)."
   ]
  },
  {
   "cell_type": "markdown",
   "metadata": {},
   "source": [
    "Quero poder dividir uma instância de `Valor` por outra instância de `Valor`.\n",
    "\n"
   ]
  },
  {
   "cell_type": "code",
   "execution_count": 9,
   "metadata": {},
   "outputs": [
    {
     "name": "stdout",
     "output_type": "stream",
     "text": [
      "Valor(data=0.5)\n"
     ]
    },
    {
     "data": {
      "image/svg+xml": [
       "<?xml version=\"1.0\" encoding=\"UTF-8\" standalone=\"no\"?>\n",
       "<!DOCTYPE svg PUBLIC \"-//W3C//DTD SVG 1.1//EN\"\n",
       " \"http://www.w3.org/Graphics/SVG/1.1/DTD/svg11.dtd\">\n",
       "<!-- Generated by graphviz version 8.0.3 (20230416.2022)\n",
       " -->\n",
       "<!-- Pages: 1 -->\n",
       "<svg width=\"819pt\" height=\"100pt\"\n",
       " viewBox=\"0.00 0.00 819.00 100.00\" xmlns=\"http://www.w3.org/2000/svg\" xmlns:xlink=\"http://www.w3.org/1999/xlink\">\n",
       "<g id=\"graph0\" class=\"graph\" transform=\"scale(1 1) rotate(0) translate(4 96)\">\n",
       "<polygon fill=\"white\" stroke=\"none\" points=\"-4,4 -4,-96 815,-96 815,4 -4,4\"/>\n",
       "<!-- 1867757992736 -->\n",
       "<g id=\"node1\" class=\"node\">\n",
       "<title>1867757992736</title>\n",
       "<polygon fill=\"none\" stroke=\"black\" points=\"314,-55.5 314,-91.5 501,-91.5 501,-55.5 314,-55.5\"/>\n",
       "<text text-anchor=\"middle\" x=\"325.5\" y=\"-69.8\" font-family=\"Times New Roman,serif\" font-size=\"14.00\">a</text>\n",
       "<polyline fill=\"none\" stroke=\"black\" points=\"337,-55.5 337,-91.5\"/>\n",
       "<text text-anchor=\"middle\" x=\"377.5\" y=\"-69.8\" font-family=\"Times New Roman,serif\" font-size=\"14.00\">data 1.0000</text>\n",
       "<polyline fill=\"none\" stroke=\"black\" points=\"418,-55.5 418,-91.5\"/>\n",
       "<text text-anchor=\"middle\" x=\"459.5\" y=\"-69.8\" font-family=\"Times New Roman,serif\" font-size=\"14.00\">grad 0.0000</text>\n",
       "</g>\n",
       "<!-- 1867757990384* -->\n",
       "<g id=\"node6\" class=\"node\">\n",
       "<title>1867757990384*</title>\n",
       "<ellipse fill=\"none\" stroke=\"black\" cx=\"564\" cy=\"-45.5\" rx=\"27\" ry=\"18\"/>\n",
       "<text text-anchor=\"middle\" x=\"564\" y=\"-41.8\" font-family=\"Times New Roman,serif\" font-size=\"14.00\">*</text>\n",
       "</g>\n",
       "<!-- 1867757992736&#45;&gt;1867757990384* -->\n",
       "<g id=\"edge5\" class=\"edge\">\n",
       "<title>1867757992736&#45;&gt;1867757990384*</title>\n",
       "<path fill=\"none\" stroke=\"black\" d=\"M500.6,-56.81C509.83,-55.14 518.76,-53.52 526.84,-52.05\"/>\n",
       "<polygon fill=\"black\" stroke=\"black\" points=\"527.43,-55.32 536.65,-50.09 526.18,-48.43 527.43,-55.32\"/>\n",
       "</g>\n",
       "<!-- 1867757993168 -->\n",
       "<g id=\"node2\" class=\"node\">\n",
       "<title>1867757993168</title>\n",
       "<polygon fill=\"none\" stroke=\"black\" points=\"315.5,-0.5 315.5,-36.5 499.5,-36.5 499.5,-0.5 315.5,-0.5\"/>\n",
       "<text text-anchor=\"middle\" x=\"325.5\" y=\"-14.8\" font-family=\"Times New Roman,serif\" font-size=\"14.00\"> </text>\n",
       "<polyline fill=\"none\" stroke=\"black\" points=\"335.5,-0.5 335.5,-36.5\"/>\n",
       "<text text-anchor=\"middle\" x=\"376\" y=\"-14.8\" font-family=\"Times New Roman,serif\" font-size=\"14.00\">data 0.5000</text>\n",
       "<polyline fill=\"none\" stroke=\"black\" points=\"416.5,-0.5 416.5,-36.5\"/>\n",
       "<text text-anchor=\"middle\" x=\"458\" y=\"-14.8\" font-family=\"Times New Roman,serif\" font-size=\"14.00\">grad 0.0000</text>\n",
       "</g>\n",
       "<!-- 1867757993168&#45;&gt;1867757990384* -->\n",
       "<g id=\"edge4\" class=\"edge\">\n",
       "<title>1867757993168&#45;&gt;1867757990384*</title>\n",
       "<path fill=\"none\" stroke=\"black\" d=\"M499.27,-34.36C508.84,-36.04 518.13,-37.66 526.52,-39.12\"/>\n",
       "<polygon fill=\"black\" stroke=\"black\" points=\"525.89,-42.74 536.34,-41.02 527.09,-35.85 525.89,-42.74\"/>\n",
       "</g>\n",
       "<!-- 1867757993168**&#45;1 -->\n",
       "<g id=\"node3\" class=\"node\">\n",
       "<title>1867757993168**&#45;1</title>\n",
       "<ellipse fill=\"none\" stroke=\"black\" cx=\"251\" cy=\"-18.5\" rx=\"27\" ry=\"18\"/>\n",
       "<text text-anchor=\"middle\" x=\"251\" y=\"-14.8\" font-family=\"Times New Roman,serif\" font-size=\"14.00\">**&#45;1</text>\n",
       "</g>\n",
       "<!-- 1867757993168**&#45;1&#45;&gt;1867757993168 -->\n",
       "<g id=\"edge1\" class=\"edge\">\n",
       "<title>1867757993168**&#45;1&#45;&gt;1867757993168</title>\n",
       "<path fill=\"none\" stroke=\"black\" d=\"M278.21,-18.5C286.05,-18.5 295.16,-18.5 304.84,-18.5\"/>\n",
       "<polygon fill=\"black\" stroke=\"black\" points=\"304.53,-22 314.53,-18.5 304.53,-15 304.53,-22\"/>\n",
       "</g>\n",
       "<!-- 1867757954672 -->\n",
       "<g id=\"node4\" class=\"node\">\n",
       "<title>1867757954672</title>\n",
       "<polygon fill=\"none\" stroke=\"black\" points=\"0,-0.5 0,-36.5 188,-36.5 188,-0.5 0,-0.5\"/>\n",
       "<text text-anchor=\"middle\" x=\"12\" y=\"-14.8\" font-family=\"Times New Roman,serif\" font-size=\"14.00\">b</text>\n",
       "<polyline fill=\"none\" stroke=\"black\" points=\"24,-0.5 24,-36.5\"/>\n",
       "<text text-anchor=\"middle\" x=\"64.5\" y=\"-14.8\" font-family=\"Times New Roman,serif\" font-size=\"14.00\">data 2.0000</text>\n",
       "<polyline fill=\"none\" stroke=\"black\" points=\"105,-0.5 105,-36.5\"/>\n",
       "<text text-anchor=\"middle\" x=\"146.5\" y=\"-14.8\" font-family=\"Times New Roman,serif\" font-size=\"14.00\">grad 0.0000</text>\n",
       "</g>\n",
       "<!-- 1867757954672&#45;&gt;1867757993168**&#45;1 -->\n",
       "<g id=\"edge3\" class=\"edge\">\n",
       "<title>1867757954672&#45;&gt;1867757993168**&#45;1</title>\n",
       "<path fill=\"none\" stroke=\"black\" d=\"M187.85,-18.5C196.6,-18.5 205.08,-18.5 212.81,-18.5\"/>\n",
       "<polygon fill=\"black\" stroke=\"black\" points=\"212.56,-22 222.56,-18.5 212.56,-15 212.56,-22\"/>\n",
       "</g>\n",
       "<!-- 1867757990384 -->\n",
       "<g id=\"node5\" class=\"node\">\n",
       "<title>1867757990384</title>\n",
       "<polygon fill=\"none\" stroke=\"black\" points=\"627,-27.5 627,-63.5 811,-63.5 811,-27.5 627,-27.5\"/>\n",
       "<text text-anchor=\"middle\" x=\"637\" y=\"-41.8\" font-family=\"Times New Roman,serif\" font-size=\"14.00\"> </text>\n",
       "<polyline fill=\"none\" stroke=\"black\" points=\"647,-27.5 647,-63.5\"/>\n",
       "<text text-anchor=\"middle\" x=\"687.5\" y=\"-41.8\" font-family=\"Times New Roman,serif\" font-size=\"14.00\">data 0.5000</text>\n",
       "<polyline fill=\"none\" stroke=\"black\" points=\"728,-27.5 728,-63.5\"/>\n",
       "<text text-anchor=\"middle\" x=\"769.5\" y=\"-41.8\" font-family=\"Times New Roman,serif\" font-size=\"14.00\">grad 0.0000</text>\n",
       "</g>\n",
       "<!-- 1867757990384*&#45;&gt;1867757990384 -->\n",
       "<g id=\"edge2\" class=\"edge\">\n",
       "<title>1867757990384*&#45;&gt;1867757990384</title>\n",
       "<path fill=\"none\" stroke=\"black\" d=\"M591.3,-45.5C598.73,-45.5 607.29,-45.5 616.39,-45.5\"/>\n",
       "<polygon fill=\"black\" stroke=\"black\" points=\"616.27,-49 626.27,-45.5 616.27,-42 616.27,-49\"/>\n",
       "</g>\n",
       "</g>\n",
       "</svg>\n"
      ],
      "text/plain": [
       "<graphviz.graphs.Digraph at 0x1b2df0d3eb0>"
      ]
     },
     "execution_count": 9,
     "metadata": {},
     "output_type": "execute_result"
    }
   ],
   "source": [
    "a = Valor(1, rotulo=\"a\")\n",
    "b = Valor(2, rotulo=\"b\")\n",
    "c = a / b\n",
    "print(c)\n",
    "\n",
    "plota_grafo(c)"
   ]
  },
  {
   "cell_type": "markdown",
   "metadata": {},
   "source": [
    "> Para tornar o cálculo da célula anterior possível, construímos o método 'truediv'."
   ]
  },
  {
   "cell_type": "markdown",
   "metadata": {},
   "source": [
    "Quero poder computar o negativo de uma instância de `Valor`.\n",
    "\n"
   ]
  },
  {
   "cell_type": "code",
   "execution_count": 10,
   "metadata": {},
   "outputs": [
    {
     "name": "stdout",
     "output_type": "stream",
     "text": [
      "Valor(data=-1)\n"
     ]
    }
   ],
   "source": [
    "a = Valor(1, rotulo=\"a\")\n",
    "b = -a\n",
    "print(b)"
   ]
  },
  {
   "cell_type": "markdown",
   "metadata": {},
   "source": [
    "> Aqui, foi necessário a implantação do método 'neg'."
   ]
  },
  {
   "cell_type": "markdown",
   "metadata": {},
   "source": [
    "Quero poder subtrair uma instância de `Valor` por outra instância de `Valor`.\n",
    "\n"
   ]
  },
  {
   "cell_type": "code",
   "execution_count": 11,
   "metadata": {},
   "outputs": [
    {
     "name": "stdout",
     "output_type": "stream",
     "text": [
      "Valor(data=7)\n"
     ]
    }
   ],
   "source": [
    "a = Valor(10, rotulo=\"a\")\n",
    "b = Valor(3, rotulo=\"b\")\n",
    "c = a - b\n",
    "print(c)"
   ]
  },
  {
   "cell_type": "markdown",
   "metadata": {},
   "source": [
    "> Para este caso, fizemos uso do método 'sub'. E, concomitantemente, desenvolvemos o método 'rsub'."
   ]
  },
  {
   "cell_type": "markdown",
   "metadata": {},
   "source": [
    "E, finalmente, quero poder aplicar a função sigmoide (também conhecida como logística) a uma instância de `Valor`. A função sigmoide é a seguinte:\n",
    "\n",
    "$$\n",
    "S(x) = \\frac{e^x}{e^x + 1}\n",
    "$$\n",
    "\n"
   ]
  },
  {
   "cell_type": "code",
   "execution_count": 13,
   "metadata": {},
   "outputs": [
    {
     "name": "stdout",
     "output_type": "stream",
     "text": [
      "Valor(data=0.7310585786300048)\n",
      "\n"
     ]
    },
    {
     "data": {
      "image/svg+xml": [
       "<?xml version=\"1.0\" encoding=\"UTF-8\" standalone=\"no\"?>\n",
       "<!DOCTYPE svg PUBLIC \"-//W3C//DTD SVG 1.1//EN\"\n",
       " \"http://www.w3.org/Graphics/SVG/1.1/DTD/svg11.dtd\">\n",
       "<!-- Generated by graphviz version 8.0.3 (20230416.2022)\n",
       " -->\n",
       "<!-- Pages: 1 -->\n",
       "<svg width=\"1565pt\" height=\"147pt\"\n",
       " viewBox=\"0.00 0.00 1565.00 147.00\" xmlns=\"http://www.w3.org/2000/svg\" xmlns:xlink=\"http://www.w3.org/1999/xlink\">\n",
       "<g id=\"graph0\" class=\"graph\" transform=\"scale(1 1) rotate(0) translate(4 143)\">\n",
       "<polygon fill=\"white\" stroke=\"none\" points=\"-4,4 -4,-143 1561,-143 1561,4 -4,4\"/>\n",
       "<!-- 1867757557888 -->\n",
       "<g id=\"node1\" class=\"node\">\n",
       "<title>1867757557888</title>\n",
       "<polygon fill=\"none\" stroke=\"black\" points=\"1063,-53.5 1063,-89.5 1247,-89.5 1247,-53.5 1063,-53.5\"/>\n",
       "<text text-anchor=\"middle\" x=\"1073\" y=\"-67.8\" font-family=\"Times New Roman,serif\" font-size=\"14.00\"> </text>\n",
       "<polyline fill=\"none\" stroke=\"black\" points=\"1083,-53.5 1083,-89.5\"/>\n",
       "<text text-anchor=\"middle\" x=\"1123.5\" y=\"-67.8\" font-family=\"Times New Roman,serif\" font-size=\"14.00\">data 0.2689</text>\n",
       "<polyline fill=\"none\" stroke=\"black\" points=\"1164,-53.5 1164,-89.5\"/>\n",
       "<text text-anchor=\"middle\" x=\"1205.5\" y=\"-67.8\" font-family=\"Times New Roman,serif\" font-size=\"14.00\">grad 0.0000</text>\n",
       "</g>\n",
       "<!-- 1867757559568* -->\n",
       "<g id=\"node7\" class=\"node\">\n",
       "<title>1867757559568*</title>\n",
       "<ellipse fill=\"none\" stroke=\"black\" cx=\"1310\" cy=\"-45.5\" rx=\"27\" ry=\"18\"/>\n",
       "<text text-anchor=\"middle\" x=\"1310\" y=\"-41.8\" font-family=\"Times New Roman,serif\" font-size=\"14.00\">*</text>\n",
       "</g>\n",
       "<!-- 1867757557888&#45;&gt;1867757559568* -->\n",
       "<g id=\"edge8\" class=\"edge\">\n",
       "<title>1867757557888&#45;&gt;1867757559568*</title>\n",
       "<path fill=\"none\" stroke=\"black\" d=\"M1246.77,-56.08C1255.87,-54.53 1264.68,-53.03 1272.68,-51.67\"/>\n",
       "<polygon fill=\"black\" stroke=\"black\" points=\"1273.12,-54.98 1282.39,-49.85 1271.95,-48.08 1273.12,-54.98\"/>\n",
       "</g>\n",
       "<!-- 1867757557888**&#45;1 -->\n",
       "<g id=\"node2\" class=\"node\">\n",
       "<title>1867757557888**&#45;1</title>\n",
       "<ellipse fill=\"none\" stroke=\"black\" cx=\"1000\" cy=\"-71.5\" rx=\"27\" ry=\"18\"/>\n",
       "<text text-anchor=\"middle\" x=\"1000\" y=\"-67.8\" font-family=\"Times New Roman,serif\" font-size=\"14.00\">**&#45;1</text>\n",
       "</g>\n",
       "<!-- 1867757557888**&#45;1&#45;&gt;1867757557888 -->\n",
       "<g id=\"edge1\" class=\"edge\">\n",
       "<title>1867757557888**&#45;1&#45;&gt;1867757557888</title>\n",
       "<path fill=\"none\" stroke=\"black\" d=\"M1027.3,-71.5C1034.73,-71.5 1043.29,-71.5 1052.39,-71.5\"/>\n",
       "<polygon fill=\"black\" stroke=\"black\" points=\"1052.27,-75 1062.27,-71.5 1052.27,-68 1052.27,-75\"/>\n",
       "</g>\n",
       "<!-- 1867757558464 -->\n",
       "<g id=\"node3\" class=\"node\">\n",
       "<title>1867757558464</title>\n",
       "<polygon fill=\"none\" stroke=\"black\" points=\"753,-54.5 753,-90.5 937,-90.5 937,-54.5 753,-54.5\"/>\n",
       "<text text-anchor=\"middle\" x=\"763\" y=\"-68.8\" font-family=\"Times New Roman,serif\" font-size=\"14.00\"> </text>\n",
       "<polyline fill=\"none\" stroke=\"black\" points=\"773,-54.5 773,-90.5\"/>\n",
       "<text text-anchor=\"middle\" x=\"813.5\" y=\"-68.8\" font-family=\"Times New Roman,serif\" font-size=\"14.00\">data 3.7183</text>\n",
       "<polyline fill=\"none\" stroke=\"black\" points=\"854,-54.5 854,-90.5\"/>\n",
       "<text text-anchor=\"middle\" x=\"895.5\" y=\"-68.8\" font-family=\"Times New Roman,serif\" font-size=\"14.00\">grad 0.0000</text>\n",
       "</g>\n",
       "<!-- 1867757558464&#45;&gt;1867757557888**&#45;1 -->\n",
       "<g id=\"edge7\" class=\"edge\">\n",
       "<title>1867757558464&#45;&gt;1867757557888**&#45;1</title>\n",
       "<path fill=\"none\" stroke=\"black\" d=\"M936.77,-71.91C945.59,-71.85 954.15,-71.79 961.95,-71.74\"/>\n",
       "<polygon fill=\"black\" stroke=\"black\" points=\"961.81,-75.24 971.79,-71.67 961.76,-68.24 961.81,-75.24\"/>\n",
       "</g>\n",
       "<!-- 1867757558464+ -->\n",
       "<g id=\"node4\" class=\"node\">\n",
       "<title>1867757558464+</title>\n",
       "<ellipse fill=\"none\" stroke=\"black\" cx=\"625\" cy=\"-73.5\" rx=\"27\" ry=\"18\"/>\n",
       "<text text-anchor=\"middle\" x=\"625\" y=\"-69.8\" font-family=\"Times New Roman,serif\" font-size=\"14.00\">+</text>\n",
       "</g>\n",
       "<!-- 1867757558464+&#45;&gt;1867757558464 -->\n",
       "<g id=\"edge2\" class=\"edge\">\n",
       "<title>1867757558464+&#45;&gt;1867757558464</title>\n",
       "<path fill=\"none\" stroke=\"black\" d=\"M652.3,-73.38C674.98,-73.28 709.26,-73.12 742.59,-72.97\"/>\n",
       "<polygon fill=\"black\" stroke=\"black\" points=\"742.38,-76.46 752.36,-72.92 742.34,-69.46 742.38,-76.46\"/>\n",
       "</g>\n",
       "<!-- 1867757559520 -->\n",
       "<g id=\"node5\" class=\"node\">\n",
       "<title>1867757559520</title>\n",
       "<polygon fill=\"none\" stroke=\"black\" points=\"0,-51.5 0,-87.5 187,-87.5 187,-51.5 0,-51.5\"/>\n",
       "<text text-anchor=\"middle\" x=\"11.5\" y=\"-65.8\" font-family=\"Times New Roman,serif\" font-size=\"14.00\">a</text>\n",
       "<polyline fill=\"none\" stroke=\"black\" points=\"23,-51.5 23,-87.5\"/>\n",
       "<text text-anchor=\"middle\" x=\"63.5\" y=\"-65.8\" font-family=\"Times New Roman,serif\" font-size=\"14.00\">data 1.0000</text>\n",
       "<polyline fill=\"none\" stroke=\"black\" points=\"104,-51.5 104,-87.5\"/>\n",
       "<text text-anchor=\"middle\" x=\"145.5\" y=\"-65.8\" font-family=\"Times New Roman,serif\" font-size=\"14.00\">grad 0.0000</text>\n",
       "</g>\n",
       "<!-- 1867757558032exp -->\n",
       "<g id=\"node9\" class=\"node\">\n",
       "<title>1867757558032exp</title>\n",
       "<ellipse fill=\"none\" stroke=\"black\" cx=\"250\" cy=\"-108.5\" rx=\"27\" ry=\"18\"/>\n",
       "<text text-anchor=\"middle\" x=\"250\" y=\"-104.8\" font-family=\"Times New Roman,serif\" font-size=\"14.00\">exp</text>\n",
       "</g>\n",
       "<!-- 1867757559520&#45;&gt;1867757558032exp -->\n",
       "<g id=\"edge10\" class=\"edge\">\n",
       "<title>1867757559520&#45;&gt;1867757558032exp</title>\n",
       "<path fill=\"none\" stroke=\"black\" d=\"M165.42,-87.4C182.23,-91.65 199.45,-95.99 213.86,-99.63\"/>\n",
       "<polygon fill=\"black\" stroke=\"black\" points=\"212.72,-103.2 223.27,-102.26 214.43,-96.42 212.72,-103.2\"/>\n",
       "</g>\n",
       "<!-- 1867757557120exp -->\n",
       "<g id=\"node12\" class=\"node\">\n",
       "<title>1867757557120exp</title>\n",
       "<ellipse fill=\"none\" stroke=\"black\" cx=\"250\" cy=\"-42.5\" rx=\"27\" ry=\"18\"/>\n",
       "<text text-anchor=\"middle\" x=\"250\" y=\"-38.8\" font-family=\"Times New Roman,serif\" font-size=\"14.00\">exp</text>\n",
       "</g>\n",
       "<!-- 1867757559520&#45;&gt;1867757557120exp -->\n",
       "<g id=\"edge6\" class=\"edge\">\n",
       "<title>1867757559520&#45;&gt;1867757557120exp</title>\n",
       "<path fill=\"none\" stroke=\"black\" d=\"M186.6,-53.4C195.74,-51.81 204.59,-50.26 212.61,-48.86\"/>\n",
       "<polygon fill=\"black\" stroke=\"black\" points=\"213.1,-52.15 222.35,-46.98 211.89,-45.26 213.1,-52.15\"/>\n",
       "</g>\n",
       "<!-- 1867757559568 -->\n",
       "<g id=\"node6\" class=\"node\">\n",
       "<title>1867757559568</title>\n",
       "<polygon fill=\"none\" stroke=\"black\" points=\"1373,-27.5 1373,-63.5 1557,-63.5 1557,-27.5 1373,-27.5\"/>\n",
       "<text text-anchor=\"middle\" x=\"1383\" y=\"-41.8\" font-family=\"Times New Roman,serif\" font-size=\"14.00\"> </text>\n",
       "<polyline fill=\"none\" stroke=\"black\" points=\"1393,-27.5 1393,-63.5\"/>\n",
       "<text text-anchor=\"middle\" x=\"1433.5\" y=\"-41.8\" font-family=\"Times New Roman,serif\" font-size=\"14.00\">data 0.7311</text>\n",
       "<polyline fill=\"none\" stroke=\"black\" points=\"1474,-27.5 1474,-63.5\"/>\n",
       "<text text-anchor=\"middle\" x=\"1515.5\" y=\"-41.8\" font-family=\"Times New Roman,serif\" font-size=\"14.00\">grad 0.0000</text>\n",
       "</g>\n",
       "<!-- 1867757559568*&#45;&gt;1867757559568 -->\n",
       "<g id=\"edge3\" class=\"edge\">\n",
       "<title>1867757559568*&#45;&gt;1867757559568</title>\n",
       "<path fill=\"none\" stroke=\"black\" d=\"M1337.3,-45.5C1344.73,-45.5 1353.29,-45.5 1362.39,-45.5\"/>\n",
       "<polygon fill=\"black\" stroke=\"black\" points=\"1362.27,-49 1372.27,-45.5 1362.27,-42 1362.27,-49\"/>\n",
       "</g>\n",
       "<!-- 1867757558032 -->\n",
       "<g id=\"node8\" class=\"node\">\n",
       "<title>1867757558032</title>\n",
       "<polygon fill=\"none\" stroke=\"black\" points=\"313,-102.5 313,-138.5 497,-138.5 497,-102.5 313,-102.5\"/>\n",
       "<text text-anchor=\"middle\" x=\"323\" y=\"-116.8\" font-family=\"Times New Roman,serif\" font-size=\"14.00\"> </text>\n",
       "<polyline fill=\"none\" stroke=\"black\" points=\"333,-102.5 333,-138.5\"/>\n",
       "<text text-anchor=\"middle\" x=\"373.5\" y=\"-116.8\" font-family=\"Times New Roman,serif\" font-size=\"14.00\">data 2.7183</text>\n",
       "<polyline fill=\"none\" stroke=\"black\" points=\"414,-102.5 414,-138.5\"/>\n",
       "<text text-anchor=\"middle\" x=\"455.5\" y=\"-116.8\" font-family=\"Times New Roman,serif\" font-size=\"14.00\">grad 0.0000</text>\n",
       "</g>\n",
       "<!-- 1867757558032&#45;&gt;1867757558464+ -->\n",
       "<g id=\"edge12\" class=\"edge\">\n",
       "<title>1867757558032&#45;&gt;1867757558464+</title>\n",
       "<path fill=\"none\" stroke=\"black\" d=\"M489.35,-102.53C523.79,-95.1 561.85,-86.9 588.7,-81.11\"/>\n",
       "<polygon fill=\"black\" stroke=\"black\" points=\"589.08,-84.39 598.11,-78.87 587.6,-77.55 589.08,-84.39\"/>\n",
       "</g>\n",
       "<!-- 1867757558032exp&#45;&gt;1867757558032 -->\n",
       "<g id=\"edge4\" class=\"edge\">\n",
       "<title>1867757558032exp&#45;&gt;1867757558032</title>\n",
       "<path fill=\"none\" stroke=\"black\" d=\"M277.3,-110.56C284.73,-111.15 293.29,-111.82 302.39,-112.53\"/>\n",
       "<polygon fill=\"black\" stroke=\"black\" points=\"302.03,-116.09 312.27,-113.38 302.58,-109.11 302.03,-116.09\"/>\n",
       "</g>\n",
       "<!-- 1867757559616 -->\n",
       "<g id=\"node10\" class=\"node\">\n",
       "<title>1867757559616</title>\n",
       "<polygon fill=\"none\" stroke=\"black\" points=\"313,-47.5 313,-83.5 497,-83.5 497,-47.5 313,-47.5\"/>\n",
       "<text text-anchor=\"middle\" x=\"323\" y=\"-61.8\" font-family=\"Times New Roman,serif\" font-size=\"14.00\"> </text>\n",
       "<polyline fill=\"none\" stroke=\"black\" points=\"333,-47.5 333,-83.5\"/>\n",
       "<text text-anchor=\"middle\" x=\"373.5\" y=\"-61.8\" font-family=\"Times New Roman,serif\" font-size=\"14.00\">data 1.0000</text>\n",
       "<polyline fill=\"none\" stroke=\"black\" points=\"414,-47.5 414,-83.5\"/>\n",
       "<text text-anchor=\"middle\" x=\"455.5\" y=\"-61.8\" font-family=\"Times New Roman,serif\" font-size=\"14.00\">grad 0.0000</text>\n",
       "</g>\n",
       "<!-- 1867757559616&#45;&gt;1867757558464+ -->\n",
       "<g id=\"edge11\" class=\"edge\">\n",
       "<title>1867757559616&#45;&gt;1867757558464+</title>\n",
       "<path fill=\"none\" stroke=\"black\" d=\"M496.87,-68.83C528.48,-69.99 562.19,-71.23 586.94,-72.14\"/>\n",
       "<polygon fill=\"black\" stroke=\"black\" points=\"586.52,-75.66 596.65,-72.53 586.78,-68.67 586.52,-75.66\"/>\n",
       "</g>\n",
       "<!-- 1867757557120 -->\n",
       "<g id=\"node11\" class=\"node\">\n",
       "<title>1867757557120</title>\n",
       "<polygon fill=\"none\" stroke=\"black\" points=\"533,-0.5 533,-36.5 717,-36.5 717,-0.5 533,-0.5\"/>\n",
       "<text text-anchor=\"middle\" x=\"543\" y=\"-14.8\" font-family=\"Times New Roman,serif\" font-size=\"14.00\"> </text>\n",
       "<polyline fill=\"none\" stroke=\"black\" points=\"553,-0.5 553,-36.5\"/>\n",
       "<text text-anchor=\"middle\" x=\"593.5\" y=\"-14.8\" font-family=\"Times New Roman,serif\" font-size=\"14.00\">data 2.7183</text>\n",
       "<polyline fill=\"none\" stroke=\"black\" points=\"634,-0.5 634,-36.5\"/>\n",
       "<text text-anchor=\"middle\" x=\"675.5\" y=\"-14.8\" font-family=\"Times New Roman,serif\" font-size=\"14.00\">grad 0.0000</text>\n",
       "</g>\n",
       "<!-- 1867757557120&#45;&gt;1867757559568* -->\n",
       "<g id=\"edge9\" class=\"edge\">\n",
       "<title>1867757557120&#45;&gt;1867757559568*</title>\n",
       "<path fill=\"none\" stroke=\"black\" d=\"M716.7,-22.09C868.32,-28.08 1166.94,-39.88 1271.65,-44.02\"/>\n",
       "<polygon fill=\"black\" stroke=\"black\" points=\"1271.46,-47.56 1281.59,-44.46 1271.74,-40.56 1271.46,-47.56\"/>\n",
       "</g>\n",
       "<!-- 1867757557120exp&#45;&gt;1867757557120 -->\n",
       "<g id=\"edge5\" class=\"edge\">\n",
       "<title>1867757557120exp&#45;&gt;1867757557120</title>\n",
       "<path fill=\"none\" stroke=\"black\" d=\"M277.24,-40.27C288.28,-39.36 301.26,-38.33 313,-37.5 382.86,-32.55 461.61,-27.75 522.39,-24.21\"/>\n",
       "<polygon fill=\"black\" stroke=\"black\" points=\"522.35,-27.66 532.13,-23.58 521.95,-20.67 522.35,-27.66\"/>\n",
       "</g>\n",
       "</g>\n",
       "</svg>\n"
      ],
      "text/plain": [
       "<graphviz.graphs.Digraph at 0x1b2df03acd0>"
      ]
     },
     "execution_count": 13,
     "metadata": {},
     "output_type": "execute_result"
    }
   ],
   "source": [
    "a = Valor(1, rotulo=\"a\")\n",
    "b = a.sig()\n",
    "print(b)\n",
    "print()\n",
    "plota_grafo(b)"
   ]
  },
  {
   "cell_type": "markdown",
   "metadata": {},
   "source": [
    "> Por último, mas não menos importante, o método 'sig', que alude à curva sigmoide, nos auxilia na resolução do último objetivo."
   ]
  },
  {
   "cell_type": "markdown",
   "metadata": {},
   "source": [
    "> <hr>"
   ]
  },
  {
   "cell_type": "markdown",
   "metadata": {},
   "source": [
    "## Conclusão\n",
    "\n"
   ]
  },
  {
   "cell_type": "markdown",
   "metadata": {},
   "source": [
    "<div style=' text-align: justify; text-justify: inter-word;'>\n",
    "À primeira vista, esse notebook pode parecer um pouco desproposital, com algumas informações soltas. Contudo, não é bem assim. Aqui, conseguimos acompanhar a finalização da classe valor e de todos os componentes. Mais do que isso, conseguimos ver para que eles servem na prática, conseguimos entender melhor como cada componente atua. Isso é extremamente fundamental porque classe é uma ferramenta muito relevante para o desenvolvimento de redes neurais, elas são invariavelmente usadas, então, para entender com o que se está trabalhando e o que está sendo feito, é melhor que o passo a passo seja explorado calmamente e, preferencialmente, de maneira visual também."
   ]
  },
  {
   "cell_type": "markdown",
   "metadata": {},
   "source": [
    "<hr>"
   ]
  },
  {
   "cell_type": "markdown",
   "metadata": {},
   "source": [
    "## Playground\n",
    "\n"
   ]
  },
  {
   "cell_type": "code",
   "execution_count": null,
   "metadata": {},
   "outputs": [],
   "source": []
  }
 ],
 "metadata": {
  "kernelspec": {
   "display_name": "ilumpy",
   "language": "python",
   "name": "ilumpy"
  },
  "language_info": {
   "codemirror_mode": {
    "name": "ipython",
    "version": 3
   },
   "file_extension": ".py",
   "mimetype": "text/x-python",
   "name": "python",
   "nbconvert_exporter": "python",
   "pygments_lexer": "ipython3",
   "version": "3.9.7"
  },
  "org": null
 },
 "nbformat": 4,
 "nbformat_minor": 4
}
