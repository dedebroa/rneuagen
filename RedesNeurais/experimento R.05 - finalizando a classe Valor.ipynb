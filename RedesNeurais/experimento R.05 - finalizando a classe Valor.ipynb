{
 "cells": [
  {
   "cell_type": "markdown",
   "metadata": {},
   "source": [
    "FINALIZANDO A CLASSE VALOR\n",
    "==========================\n",
    "\n"
   ]
  },
  {
   "cell_type": "markdown",
   "metadata": {},
   "source": [
    "<hr>"
   ]
  },
  {
   "cell_type": "markdown",
   "metadata": {},
   "source": [
    "## INTRODUÇÃO\n",
    "\n"
   ]
  },
  {
   "cell_type": "markdown",
   "metadata": {},
   "source": [
    "Chegou a hora de finalizar a classe `Valor`!\n",
    "\n"
   ]
  },
  {
   "cell_type": "markdown",
   "metadata": {},
   "source": [
    "## OBJETIVO\n",
    "\n"
   ]
  },
  {
   "cell_type": "markdown",
   "metadata": {},
   "source": [
    "O objetivo é fazer com que a classe `Valor` seja capaz de realizar algumas **operações necessárias** para que seja usada na nossa rede neural artificial.\n",
    "\n"
   ]
  },
  {
   "cell_type": "markdown",
   "metadata": {},
   "source": [
    "> <hr>"
   ]
  },
  {
   "cell_type": "markdown",
   "metadata": {},
   "source": [
    "## IMPORTAÇÕES\n",
    "\n"
   ]
  },
  {
   "cell_type": "code",
   "execution_count": 67,
   "metadata": {},
   "outputs": [],
   "source": [
    "import math # tem que importar ele nas classes\n",
    "from funcoes import plota_grafo"
   ]
  },
  {
   "cell_type": "markdown",
   "metadata": {},
   "source": [
    "> <hr>"
   ]
  },
  {
   "cell_type": "markdown",
   "metadata": {},
   "source": [
    "## CÓDIGOS E DISCUSSÃO\n",
    "\n"
   ]
  },
  {
   "cell_type": "markdown",
   "metadata": {},
   "source": [
    "> #### FINALIZANDO A CLASSE `VALOR`"
   ]
  },
  {
   "cell_type": "markdown",
   "metadata": {},
   "source": [
    "Aqui está a classe `Valor` assim como feita na aula anterior. Vamos modificá-la para cumprir nossos objetivos (ver objetivos na próxima seção).\n",
    "\n"
   ]
  },
  {
   "cell_type": "code",
   "execution_count": 53,
   "metadata": {},
   "outputs": [],
   "source": [
    "class Valor:\n",
    "    def __init__(self, data, progenitor=(), operador_mae=\"\", rotulo=\"\"): # só roda quando criamos uma instância\n",
    "        self.data = data\n",
    "        self.progenitor = progenitor\n",
    "        self.operador_mae = operador_mae\n",
    "        self.rotulo = rotulo\n",
    "        self.grad = 0\n",
    "\n",
    "    def __repr__(self):\n",
    "        return f\"Valor(data={self.data})\"\n",
    "\n",
    "    def __add__(self, outro_valor):\n",
    "        if not isinstance(outro_valor, Valor): # o problema é se não for uma instância \n",
    "                                                # condicional chegando se o outro valor é uma instância da classe valor\n",
    "            outro_valor = Valor(outro_valor) # trannforma a não instância em uma instância então\n",
    "        data = self.data + outro_valor.data\n",
    "        progenitor = (self, outro_valor)\n",
    "        operador_mae = \"+\"\n",
    "        saida = Valor(data, progenitor, operador_mae)\n",
    "\n",
    "        def propagar_adicao():\n",
    "            self.grad += saida.grad * 1\n",
    "            outro_valor.grad += saida.grad * 1\n",
    "\n",
    "        saida.propagar = propagar_adicao\n",
    "\n",
    "        return saida\n",
    "    \n",
    "    def __radd__(self, outro_valor): # outro_valor + self\n",
    "                                        # correção de erro\n",
    "        return self + outro_valor # primeiro argumento é sempre self\n",
    "\n",
    "    def __mul__(self, outro_valor):\n",
    "        if not isinstance(outro_valor, Valor): \n",
    "            outro_valor = Valor(outro_valor) \n",
    "        data = self.data * outro_valor.data\n",
    "        progenitor = (self, outro_valor)\n",
    "        operador_mae = \"*\"\n",
    "        saida = Valor(data, progenitor, operador_mae)\n",
    "\n",
    "        def propagar_multiplicacao():\n",
    "            self.grad += saida.grad * outro_valor.data\n",
    "            outro_valor.grad += saida.grad * self.data\n",
    "\n",
    "        saida.propagar = propagar_multiplicacao\n",
    "\n",
    "        return saida\n",
    "    \n",
    "    def __rmul__(self, outro_valor): # outro_valor + self\n",
    "                                        # correção de erro\n",
    "        return self * outro_valor\n",
    "    \n",
    "    def __pow__(self, expoente):\n",
    "        \n",
    "        assert isinstance(expoente, (int, float)) # se assegura de que isso é verdadeiro\n",
    "        \n",
    "        data = self.data ** expoente\n",
    "        progenitor = (self, )\n",
    "        operador_mae = f\"**{expoente}\" # é so uma string\n",
    "        saida = Valor(data, progenitor, operador_mae)\n",
    "        \n",
    "        def propagar_exponenciacao():\n",
    "            # gradiente de onde estou é o gradiente vezes o filho\n",
    "            self.grad += saida.grad * expoente * (self.data ** (expoente - 1))\n",
    "\n",
    "        saida.propagar = propagar_exponenciacao\n",
    "\n",
    "        return saida\n",
    "        \n",
    "\n",
    "    def __truediv__(self, outro_valor): # self/outro_valor\n",
    "        return self * outro_valor ** (-1)\n",
    "    \n",
    "    def __neg__(self): # - self\n",
    "        return self * (-1)\n",
    "    \n",
    "    def __sub__(self, outro_valor):  # self - outro_valor\n",
    "        return self + (- outro_valor)\n",
    "    \n",
    "    def __rsub__(self, outro_valor): # outro_valor - self\n",
    "        return self * (-1) + outro_valor\n",
    "    \n",
    "    def exp(self): # calcular o exponencial de um número qualquer\n",
    "        # math é quem calcula exponencias, a biblioteca de matemática\n",
    "        data = math.exp(self.data)\n",
    "        progenitor = (self, ) # função unária, o próprio valor # só tem um genitor\n",
    "        operador_mae = \"exp\"\n",
    "        saida = Valor(data, progenitor, operador_mae)\n",
    "\n",
    "        def propagar_exp():\n",
    "            self.grad += saida.grad * data\n",
    "\n",
    "        saida.propagar = propagar_exp\n",
    "\n",
    "        return saida\n",
    "    \n",
    "    def sig(self):\n",
    "        return self.exp() / (self.exp() + 1)\n",
    "        \n",
    "    def propagar(self):\n",
    "        pass\n",
    "\n",
    "    def propagar_tudo(self):\n",
    "        ordem_topologica = []\n",
    "        visitados = set()\n",
    "\n",
    "        def constroi_ordem_topologica(v):\n",
    "            if v not in visitados:\n",
    "                visitados.add(v)\n",
    "                for progenitor in v.progenitor:\n",
    "                    constroi_ordem_topologica(progenitor)\n",
    "                ordem_topologica.append(v)\n",
    "\n",
    "        constroi_ordem_topologica(self)\n",
    "\n",
    "        self.grad = 1  # o gradiente do vértice folha deve ser 1\n",
    "\n",
    "        for v in reversed(ordem_topologica):\n",
    "            v.propagar()"
   ]
  },
  {
   "cell_type": "markdown",
   "metadata": {},
   "source": [
    "<br>\n",
    "\n",
    "> #### FINALIZANDO A CLASSE `VALOR`"
   ]
  },
  {
   "cell_type": "markdown",
   "metadata": {},
   "source": [
    "> Antes de qualquer alteração, se rodarmos os objetivos, todos eles darão erro."
   ]
  },
  {
   "cell_type": "markdown",
   "metadata": {},
   "source": [
    "Quero poder acidionar uma instância de `Valor` com uma constante qualquer.\n",
    "\n"
   ]
  },
  {
   "cell_type": "code",
   "execution_count": 54,
   "metadata": {},
   "outputs": [
    {
     "name": "stdout",
     "output_type": "stream",
     "text": [
      "Valor(data=11)\n"
     ]
    }
   ],
   "source": [
    "a = Valor(10, rotulo=\"a\")\n",
    "b = a + 1\n",
    "print(b)"
   ]
  },
  {
   "cell_type": "markdown",
   "metadata": {},
   "source": [
    "Quero poder multiplicar uma instância de `Valor` com uma constante qualquer.\n",
    "\n"
   ]
  },
  {
   "cell_type": "code",
   "execution_count": 55,
   "metadata": {},
   "outputs": [
    {
     "name": "stdout",
     "output_type": "stream",
     "text": [
      "Valor(data=100)\n"
     ]
    }
   ],
   "source": [
    "a = Valor(10, rotulo=\"a\")\n",
    "b = a * 10 # init roda para o a, não para o dez\n",
    "print(b)"
   ]
  },
  {
   "cell_type": "markdown",
   "metadata": {},
   "source": [
    "> Adicionando 'ifinstance' dentro dos métodos dunder 'add' e 'mul', conseguimos fazer com que as duas células acima funcionassem. Contudo, ainda não é o suficiente para que as próximas funcionem."
   ]
  },
  {
   "cell_type": "markdown",
   "metadata": {},
   "source": [
    "Quero poder acidionar uma instância de `Valor` com uma constante qualquer, mas na ordem oposta.\n",
    "\n"
   ]
  },
  {
   "cell_type": "code",
   "execution_count": 56,
   "metadata": {},
   "outputs": [
    {
     "name": "stdout",
     "output_type": "stream",
     "text": [
      "Valor(data=11)\n"
     ]
    }
   ],
   "source": [
    "a = Valor(10, rotulo=\"a\")\n",
    "b = 1 + a\n",
    "print(b)"
   ]
  },
  {
   "cell_type": "markdown",
   "metadata": {},
   "source": [
    "Quero poder multiplicar uma instância de `Valor` com uma constante qualquer, mas na ordem oposta.\n",
    "\n"
   ]
  },
  {
   "cell_type": "code",
   "execution_count": 57,
   "metadata": {},
   "outputs": [
    {
     "name": "stdout",
     "output_type": "stream",
     "text": [
      "Valor(data=100)\n"
     ]
    }
   ],
   "source": [
    "a = Valor(10, rotulo=\"a\")\n",
    "b = 10 * a\n",
    "print(b)"
   ]
  },
  {
   "cell_type": "markdown",
   "metadata": {},
   "source": [
    "> Adicionando os métodos dunder 'radd' e 'rmul', conseguimos fazer com que as duas células acima funcionassem. Contudo, também ainda não é o suficiente para que as próximas funcionem."
   ]
  },
  {
   "cell_type": "markdown",
   "metadata": {},
   "source": [
    "Quero poder aplicar a função exponencial ($e^x$) em uma instância de `Valor`, computando corretamente o gradiente local desta operação.\n",
    "\n"
   ]
  },
  {
   "cell_type": "code",
   "execution_count": 58,
   "metadata": {},
   "outputs": [
    {
     "name": "stdout",
     "output_type": "stream",
     "text": [
      "Valor(data=2.718281828459045)\n"
     ]
    }
   ],
   "source": [
    "a = Valor(1, rotulo=\"a\")\n",
    "b = a.exp()\n",
    "print(b)"
   ]
  },
  {
   "cell_type": "markdown",
   "metadata": {},
   "source": [
    "> Com essas alterações, agora se tornou possível propagar o gradiente."
   ]
  },
  {
   "cell_type": "markdown",
   "metadata": {},
   "source": [
    "Quero poder elevar uma instância de `Valor` a um número real qualquer. **Nota**: não vai funcionar se fizer um `Valor` elevado a outro `Valor` pois vamos propagar os gradientes apenas considerando que estamos elevando a uma constante qualquer.\n",
    "\n"
   ]
  },
  {
   "cell_type": "code",
   "execution_count": 59,
   "metadata": {},
   "outputs": [
    {
     "name": "stdout",
     "output_type": "stream",
     "text": [
      "Valor(data=100)\n"
     ]
    }
   ],
   "source": [
    "a = Valor(10, rotulo=\"a\")\n",
    "b = a**2 # valor elevado a uma constante\n",
    "print(b)"
   ]
  },
  {
   "cell_type": "markdown",
   "metadata": {},
   "source": [
    "> Para a execução dessa célula, foi necessário que escrevêssemos um método para a exponenciação (__pow__)."
   ]
  },
  {
   "cell_type": "markdown",
   "metadata": {},
   "source": [
    "Quero poder dividir uma instância de `Valor` por outra instância de `Valor`.\n",
    "\n"
   ]
  },
  {
   "cell_type": "code",
   "execution_count": 68,
   "metadata": {},
   "outputs": [
    {
     "name": "stdout",
     "output_type": "stream",
     "text": [
      "Valor(data=0.5)\n"
     ]
    },
    {
     "data": {
      "image/svg+xml": [
       "<?xml version=\"1.0\" encoding=\"UTF-8\" standalone=\"no\"?>\n",
       "<!DOCTYPE svg PUBLIC \"-//W3C//DTD SVG 1.1//EN\"\n",
       " \"http://www.w3.org/Graphics/SVG/1.1/DTD/svg11.dtd\">\n",
       "<!-- Generated by graphviz version 8.0.3 (20230416.2022)\n",
       " -->\n",
       "<!-- Pages: 1 -->\n",
       "<svg width=\"819pt\" height=\"100pt\"\n",
       " viewBox=\"0.00 0.00 819.00 100.00\" xmlns=\"http://www.w3.org/2000/svg\" xmlns:xlink=\"http://www.w3.org/1999/xlink\">\n",
       "<g id=\"graph0\" class=\"graph\" transform=\"scale(1 1) rotate(0) translate(4 96)\">\n",
       "<polygon fill=\"white\" stroke=\"none\" points=\"-4,4 -4,-96 815,-96 815,4 -4,4\"/>\n",
       "<!-- 2349332828944 -->\n",
       "<g id=\"node1\" class=\"node\">\n",
       "<title>2349332828944</title>\n",
       "<polygon fill=\"none\" stroke=\"black\" points=\"0,-55.5 0,-91.5 188,-91.5 188,-55.5 0,-55.5\"/>\n",
       "<text text-anchor=\"middle\" x=\"12\" y=\"-69.8\" font-family=\"Times New Roman,serif\" font-size=\"14.00\">b</text>\n",
       "<polyline fill=\"none\" stroke=\"black\" points=\"24,-55.5 24,-91.5\"/>\n",
       "<text text-anchor=\"middle\" x=\"64.5\" y=\"-69.8\" font-family=\"Times New Roman,serif\" font-size=\"14.00\">data 2.0000</text>\n",
       "<polyline fill=\"none\" stroke=\"black\" points=\"105,-55.5 105,-91.5\"/>\n",
       "<text text-anchor=\"middle\" x=\"146.5\" y=\"-69.8\" font-family=\"Times New Roman,serif\" font-size=\"14.00\">grad 0.0000</text>\n",
       "</g>\n",
       "<!-- 2349332828704**&#45;1 -->\n",
       "<g id=\"node6\" class=\"node\">\n",
       "<title>2349332828704**&#45;1</title>\n",
       "<ellipse fill=\"none\" stroke=\"black\" cx=\"251\" cy=\"-73.5\" rx=\"27\" ry=\"18\"/>\n",
       "<text text-anchor=\"middle\" x=\"251\" y=\"-69.8\" font-family=\"Times New Roman,serif\" font-size=\"14.00\">**&#45;1</text>\n",
       "</g>\n",
       "<!-- 2349332828944&#45;&gt;2349332828704**&#45;1 -->\n",
       "<g id=\"edge3\" class=\"edge\">\n",
       "<title>2349332828944&#45;&gt;2349332828704**&#45;1</title>\n",
       "<path fill=\"none\" stroke=\"black\" d=\"M187.85,-73.5C196.6,-73.5 205.08,-73.5 212.81,-73.5\"/>\n",
       "<polygon fill=\"black\" stroke=\"black\" points=\"212.56,-77 222.56,-73.5 212.56,-70 212.56,-77\"/>\n",
       "</g>\n",
       "<!-- 2349332831776 -->\n",
       "<g id=\"node2\" class=\"node\">\n",
       "<title>2349332831776</title>\n",
       "<polygon fill=\"none\" stroke=\"black\" points=\"314,-0.5 314,-36.5 501,-36.5 501,-0.5 314,-0.5\"/>\n",
       "<text text-anchor=\"middle\" x=\"325.5\" y=\"-14.8\" font-family=\"Times New Roman,serif\" font-size=\"14.00\">a</text>\n",
       "<polyline fill=\"none\" stroke=\"black\" points=\"337,-0.5 337,-36.5\"/>\n",
       "<text text-anchor=\"middle\" x=\"377.5\" y=\"-14.8\" font-family=\"Times New Roman,serif\" font-size=\"14.00\">data 1.0000</text>\n",
       "<polyline fill=\"none\" stroke=\"black\" points=\"418,-0.5 418,-36.5\"/>\n",
       "<text text-anchor=\"middle\" x=\"459.5\" y=\"-14.8\" font-family=\"Times New Roman,serif\" font-size=\"14.00\">grad 0.0000</text>\n",
       "</g>\n",
       "<!-- 2349332753472* -->\n",
       "<g id=\"node4\" class=\"node\">\n",
       "<title>2349332753472*</title>\n",
       "<ellipse fill=\"none\" stroke=\"black\" cx=\"564\" cy=\"-45.5\" rx=\"27\" ry=\"18\"/>\n",
       "<text text-anchor=\"middle\" x=\"564\" y=\"-41.8\" font-family=\"Times New Roman,serif\" font-size=\"14.00\">*</text>\n",
       "</g>\n",
       "<!-- 2349332831776&#45;&gt;2349332753472* -->\n",
       "<g id=\"edge4\" class=\"edge\">\n",
       "<title>2349332831776&#45;&gt;2349332753472*</title>\n",
       "<path fill=\"none\" stroke=\"black\" d=\"M500.6,-34.6C509.74,-36.19 518.59,-37.74 526.61,-39.14\"/>\n",
       "<polygon fill=\"black\" stroke=\"black\" points=\"525.89,-42.74 536.35,-41.02 527.1,-35.85 525.89,-42.74\"/>\n",
       "</g>\n",
       "<!-- 2349332753472 -->\n",
       "<g id=\"node3\" class=\"node\">\n",
       "<title>2349332753472</title>\n",
       "<polygon fill=\"none\" stroke=\"black\" points=\"627,-27.5 627,-63.5 811,-63.5 811,-27.5 627,-27.5\"/>\n",
       "<text text-anchor=\"middle\" x=\"637\" y=\"-41.8\" font-family=\"Times New Roman,serif\" font-size=\"14.00\"> </text>\n",
       "<polyline fill=\"none\" stroke=\"black\" points=\"647,-27.5 647,-63.5\"/>\n",
       "<text text-anchor=\"middle\" x=\"687.5\" y=\"-41.8\" font-family=\"Times New Roman,serif\" font-size=\"14.00\">data 0.5000</text>\n",
       "<polyline fill=\"none\" stroke=\"black\" points=\"728,-27.5 728,-63.5\"/>\n",
       "<text text-anchor=\"middle\" x=\"769.5\" y=\"-41.8\" font-family=\"Times New Roman,serif\" font-size=\"14.00\">grad 0.0000</text>\n",
       "</g>\n",
       "<!-- 2349332753472*&#45;&gt;2349332753472 -->\n",
       "<g id=\"edge1\" class=\"edge\">\n",
       "<title>2349332753472*&#45;&gt;2349332753472</title>\n",
       "<path fill=\"none\" stroke=\"black\" d=\"M591.3,-45.5C598.73,-45.5 607.29,-45.5 616.39,-45.5\"/>\n",
       "<polygon fill=\"black\" stroke=\"black\" points=\"616.27,-49 626.27,-45.5 616.27,-42 616.27,-49\"/>\n",
       "</g>\n",
       "<!-- 2349332828704 -->\n",
       "<g id=\"node5\" class=\"node\">\n",
       "<title>2349332828704</title>\n",
       "<polygon fill=\"none\" stroke=\"black\" points=\"315.5,-55.5 315.5,-91.5 499.5,-91.5 499.5,-55.5 315.5,-55.5\"/>\n",
       "<text text-anchor=\"middle\" x=\"325.5\" y=\"-69.8\" font-family=\"Times New Roman,serif\" font-size=\"14.00\"> </text>\n",
       "<polyline fill=\"none\" stroke=\"black\" points=\"335.5,-55.5 335.5,-91.5\"/>\n",
       "<text text-anchor=\"middle\" x=\"376\" y=\"-69.8\" font-family=\"Times New Roman,serif\" font-size=\"14.00\">data 0.5000</text>\n",
       "<polyline fill=\"none\" stroke=\"black\" points=\"416.5,-55.5 416.5,-91.5\"/>\n",
       "<text text-anchor=\"middle\" x=\"458\" y=\"-69.8\" font-family=\"Times New Roman,serif\" font-size=\"14.00\">grad 0.0000</text>\n",
       "</g>\n",
       "<!-- 2349332828704&#45;&gt;2349332753472* -->\n",
       "<g id=\"edge5\" class=\"edge\">\n",
       "<title>2349332828704&#45;&gt;2349332753472*</title>\n",
       "<path fill=\"none\" stroke=\"black\" d=\"M499.27,-57.05C509.04,-55.28 518.52,-53.56 527.04,-52.02\"/>\n",
       "<polygon fill=\"black\" stroke=\"black\" points=\"527.43,-55.32 536.65,-50.09 526.18,-48.43 527.43,-55.32\"/>\n",
       "</g>\n",
       "<!-- 2349332828704**&#45;1&#45;&gt;2349332828704 -->\n",
       "<g id=\"edge2\" class=\"edge\">\n",
       "<title>2349332828704**&#45;1&#45;&gt;2349332828704</title>\n",
       "<path fill=\"none\" stroke=\"black\" d=\"M278.21,-73.5C286.05,-73.5 295.16,-73.5 304.84,-73.5\"/>\n",
       "<polygon fill=\"black\" stroke=\"black\" points=\"304.53,-77 314.53,-73.5 304.53,-70 304.53,-77\"/>\n",
       "</g>\n",
       "</g>\n",
       "</svg>\n"
      ],
      "text/plain": [
       "<graphviz.graphs.Digraph at 0x222ff13aaf0>"
      ]
     },
     "execution_count": 68,
     "metadata": {},
     "output_type": "execute_result"
    }
   ],
   "source": [
    "a = Valor(1, rotulo=\"a\")\n",
    "b = Valor(2, rotulo=\"b\")\n",
    "c = a / b\n",
    "print(c)\n",
    "\n",
    "plota_grafo(c)"
   ]
  },
  {
   "cell_type": "markdown",
   "metadata": {},
   "source": [
    "> Para tornar o cálculo da célula anterior possível, construímos o método 'truediv'."
   ]
  },
  {
   "cell_type": "markdown",
   "metadata": {},
   "source": [
    "Quero poder computar o negativo de uma instância de `Valor`.\n",
    "\n"
   ]
  },
  {
   "cell_type": "code",
   "execution_count": 61,
   "metadata": {},
   "outputs": [
    {
     "name": "stdout",
     "output_type": "stream",
     "text": [
      "Valor(data=-1)\n"
     ]
    }
   ],
   "source": [
    "a = Valor(1, rotulo=\"a\")\n",
    "b = -a\n",
    "print(b)"
   ]
  },
  {
   "cell_type": "markdown",
   "metadata": {},
   "source": [
    "Quero poder subtrair uma instância de `Valor` por outra instância de `Valor`.\n",
    "\n"
   ]
  },
  {
   "cell_type": "code",
   "execution_count": 62,
   "metadata": {},
   "outputs": [
    {
     "name": "stdout",
     "output_type": "stream",
     "text": [
      "Valor(data=7)\n"
     ]
    }
   ],
   "source": [
    "a = Valor(10, rotulo=\"a\")\n",
    "b = Valor(3, rotulo=\"b\")\n",
    "c = a - b\n",
    "print(c)"
   ]
  },
  {
   "cell_type": "markdown",
   "metadata": {},
   "source": [
    "E, finalmente, quero poder aplicar a função sigmoide (também conhecida como logística) a uma instância de `Valor`. A função sigmoide é a seguinte:\n",
    "\n",
    "$$\n",
    "S(x) = \\frac{e^x}{e^x + 1}\n",
    "$$\n",
    "\n"
   ]
  },
  {
   "cell_type": "code",
   "execution_count": 70,
   "metadata": {},
   "outputs": [
    {
     "name": "stdout",
     "output_type": "stream",
     "text": [
      "Valor(data=0.7310585786300048)\n"
     ]
    },
    {
     "data": {
      "image/svg+xml": [
       "<?xml version=\"1.0\" encoding=\"UTF-8\" standalone=\"no\"?>\n",
       "<!DOCTYPE svg PUBLIC \"-//W3C//DTD SVG 1.1//EN\"\n",
       " \"http://www.w3.org/Graphics/SVG/1.1/DTD/svg11.dtd\">\n",
       "<!-- Generated by graphviz version 8.0.3 (20230416.2022)\n",
       " -->\n",
       "<!-- Pages: 1 -->\n",
       "<svg width=\"1565pt\" height=\"154pt\"\n",
       " viewBox=\"0.00 0.00 1565.00 154.00\" xmlns=\"http://www.w3.org/2000/svg\" xmlns:xlink=\"http://www.w3.org/1999/xlink\">\n",
       "<g id=\"graph0\" class=\"graph\" transform=\"scale(1 1) rotate(0) translate(4 150)\">\n",
       "<polygon fill=\"white\" stroke=\"none\" points=\"-4,4 -4,-150 1561,-150 1561,4 -4,4\"/>\n",
       "<!-- 2349331692608 -->\n",
       "<g id=\"node1\" class=\"node\">\n",
       "<title>2349331692608</title>\n",
       "<polygon fill=\"none\" stroke=\"black\" points=\"533,-109.5 533,-145.5 717,-145.5 717,-109.5 533,-109.5\"/>\n",
       "<text text-anchor=\"middle\" x=\"543\" y=\"-123.8\" font-family=\"Times New Roman,serif\" font-size=\"14.00\"> </text>\n",
       "<polyline fill=\"none\" stroke=\"black\" points=\"553,-109.5 553,-145.5\"/>\n",
       "<text text-anchor=\"middle\" x=\"593.5\" y=\"-123.8\" font-family=\"Times New Roman,serif\" font-size=\"14.00\">data 2.7183</text>\n",
       "<polyline fill=\"none\" stroke=\"black\" points=\"634,-109.5 634,-145.5\"/>\n",
       "<text text-anchor=\"middle\" x=\"675.5\" y=\"-123.8\" font-family=\"Times New Roman,serif\" font-size=\"14.00\">grad 0.0000</text>\n",
       "</g>\n",
       "<!-- 2349331006272* -->\n",
       "<g id=\"node7\" class=\"node\">\n",
       "<title>2349331006272*</title>\n",
       "<ellipse fill=\"none\" stroke=\"black\" cx=\"1310\" cy=\"-102.5\" rx=\"27\" ry=\"18\"/>\n",
       "<text text-anchor=\"middle\" x=\"1310\" y=\"-98.8\" font-family=\"Times New Roman,serif\" font-size=\"14.00\">*</text>\n",
       "</g>\n",
       "<!-- 2349331692608&#45;&gt;2349331006272* -->\n",
       "<g id=\"edge11\" class=\"edge\">\n",
       "<title>2349331692608&#45;&gt;2349331006272*</title>\n",
       "<path fill=\"none\" stroke=\"black\" d=\"M716.82,-125.95C837.86,-123.56 1058.66,-118.12 1247,-107.5 1255.08,-107.04 1263.74,-106.43 1271.95,-105.78\"/>\n",
       "<polygon fill=\"black\" stroke=\"black\" points=\"1272.09,-109.2 1281.77,-104.9 1271.52,-102.22 1272.09,-109.2\"/>\n",
       "</g>\n",
       "<!-- 2349331692608exp -->\n",
       "<g id=\"node2\" class=\"node\">\n",
       "<title>2349331692608exp</title>\n",
       "<ellipse fill=\"none\" stroke=\"black\" cx=\"250\" cy=\"-127.5\" rx=\"27\" ry=\"18\"/>\n",
       "<text text-anchor=\"middle\" x=\"250\" y=\"-123.8\" font-family=\"Times New Roman,serif\" font-size=\"14.00\">exp</text>\n",
       "</g>\n",
       "<!-- 2349331692608exp&#45;&gt;2349331692608 -->\n",
       "<g id=\"edge1\" class=\"edge\">\n",
       "<title>2349331692608exp&#45;&gt;2349331692608</title>\n",
       "<path fill=\"none\" stroke=\"black\" d=\"M277.23,-127.5C327.35,-127.5 439.14,-127.5 522.33,-127.5\"/>\n",
       "<polygon fill=\"black\" stroke=\"black\" points=\"522.09,-131 532.09,-127.5 522.09,-124 522.09,-131\"/>\n",
       "</g>\n",
       "<!-- 2349332829952 -->\n",
       "<g id=\"node3\" class=\"node\">\n",
       "<title>2349332829952</title>\n",
       "<polygon fill=\"none\" stroke=\"black\" points=\"0,-82.5 0,-118.5 187,-118.5 187,-82.5 0,-82.5\"/>\n",
       "<text text-anchor=\"middle\" x=\"11.5\" y=\"-96.8\" font-family=\"Times New Roman,serif\" font-size=\"14.00\">a</text>\n",
       "<polyline fill=\"none\" stroke=\"black\" points=\"23,-82.5 23,-118.5\"/>\n",
       "<text text-anchor=\"middle\" x=\"63.5\" y=\"-96.8\" font-family=\"Times New Roman,serif\" font-size=\"14.00\">data 1.0000</text>\n",
       "<polyline fill=\"none\" stroke=\"black\" points=\"104,-82.5 104,-118.5\"/>\n",
       "<text text-anchor=\"middle\" x=\"145.5\" y=\"-96.8\" font-family=\"Times New Roman,serif\" font-size=\"14.00\">grad 0.0000</text>\n",
       "</g>\n",
       "<!-- 2349332829952&#45;&gt;2349331692608exp -->\n",
       "<g id=\"edge10\" class=\"edge\">\n",
       "<title>2349332829952&#45;&gt;2349331692608exp</title>\n",
       "<path fill=\"none\" stroke=\"black\" d=\"M186.6,-116.6C195.74,-118.19 204.59,-119.74 212.61,-121.14\"/>\n",
       "<polygon fill=\"black\" stroke=\"black\" points=\"211.89,-124.74 222.35,-123.02 213.1,-117.85 211.89,-124.74\"/>\n",
       "</g>\n",
       "<!-- 2349331691840exp -->\n",
       "<g id=\"node9\" class=\"node\">\n",
       "<title>2349331691840exp</title>\n",
       "<ellipse fill=\"none\" stroke=\"black\" cx=\"250\" cy=\"-73.5\" rx=\"27\" ry=\"18\"/>\n",
       "<text text-anchor=\"middle\" x=\"250\" y=\"-69.8\" font-family=\"Times New Roman,serif\" font-size=\"14.00\">exp</text>\n",
       "</g>\n",
       "<!-- 2349332829952&#45;&gt;2349331691840exp -->\n",
       "<g id=\"edge9\" class=\"edge\">\n",
       "<title>2349332829952&#45;&gt;2349331691840exp</title>\n",
       "<path fill=\"none\" stroke=\"black\" d=\"M186.6,-84.4C195.74,-82.81 204.59,-81.26 212.61,-79.86\"/>\n",
       "<polygon fill=\"black\" stroke=\"black\" points=\"213.1,-83.15 222.35,-77.98 211.89,-76.26 213.1,-83.15\"/>\n",
       "</g>\n",
       "<!-- 2349331691792 -->\n",
       "<g id=\"node4\" class=\"node\">\n",
       "<title>2349331691792</title>\n",
       "<polygon fill=\"none\" stroke=\"black\" points=\"1063,-61.5 1063,-97.5 1247,-97.5 1247,-61.5 1063,-61.5\"/>\n",
       "<text text-anchor=\"middle\" x=\"1073\" y=\"-75.8\" font-family=\"Times New Roman,serif\" font-size=\"14.00\"> </text>\n",
       "<polyline fill=\"none\" stroke=\"black\" points=\"1083,-61.5 1083,-97.5\"/>\n",
       "<text text-anchor=\"middle\" x=\"1123.5\" y=\"-75.8\" font-family=\"Times New Roman,serif\" font-size=\"14.00\">data 0.2689</text>\n",
       "<polyline fill=\"none\" stroke=\"black\" points=\"1164,-61.5 1164,-97.5\"/>\n",
       "<text text-anchor=\"middle\" x=\"1205.5\" y=\"-75.8\" font-family=\"Times New Roman,serif\" font-size=\"14.00\">grad 0.0000</text>\n",
       "</g>\n",
       "<!-- 2349331691792&#45;&gt;2349331006272* -->\n",
       "<g id=\"edge6\" class=\"edge\">\n",
       "<title>2349331691792&#45;&gt;2349331006272*</title>\n",
       "<path fill=\"none\" stroke=\"black\" d=\"M1246.77,-93.15C1255.87,-94.51 1264.68,-95.84 1272.68,-97.04\"/>\n",
       "<polygon fill=\"black\" stroke=\"black\" points=\"1271.98,-100.62 1282.39,-98.65 1273.02,-93.7 1271.98,-100.62\"/>\n",
       "</g>\n",
       "<!-- 2349331691792**&#45;1 -->\n",
       "<g id=\"node5\" class=\"node\">\n",
       "<title>2349331691792**&#45;1</title>\n",
       "<ellipse fill=\"none\" stroke=\"black\" cx=\"1000\" cy=\"-78.5\" rx=\"27\" ry=\"18\"/>\n",
       "<text text-anchor=\"middle\" x=\"1000\" y=\"-74.8\" font-family=\"Times New Roman,serif\" font-size=\"14.00\">**&#45;1</text>\n",
       "</g>\n",
       "<!-- 2349331691792**&#45;1&#45;&gt;2349331691792 -->\n",
       "<g id=\"edge2\" class=\"edge\">\n",
       "<title>2349331691792**&#45;1&#45;&gt;2349331691792</title>\n",
       "<path fill=\"none\" stroke=\"black\" d=\"M1027.3,-78.67C1034.73,-78.72 1043.29,-78.78 1052.39,-78.84\"/>\n",
       "<polygon fill=\"black\" stroke=\"black\" points=\"1052.25,-82.34 1062.27,-78.91 1052.3,-75.34 1052.25,-82.34\"/>\n",
       "</g>\n",
       "<!-- 2349331006272 -->\n",
       "<g id=\"node6\" class=\"node\">\n",
       "<title>2349331006272</title>\n",
       "<polygon fill=\"none\" stroke=\"black\" points=\"1373,-84.5 1373,-120.5 1557,-120.5 1557,-84.5 1373,-84.5\"/>\n",
       "<text text-anchor=\"middle\" x=\"1383\" y=\"-98.8\" font-family=\"Times New Roman,serif\" font-size=\"14.00\"> </text>\n",
       "<polyline fill=\"none\" stroke=\"black\" points=\"1393,-84.5 1393,-120.5\"/>\n",
       "<text text-anchor=\"middle\" x=\"1433.5\" y=\"-98.8\" font-family=\"Times New Roman,serif\" font-size=\"14.00\">data 0.7311</text>\n",
       "<polyline fill=\"none\" stroke=\"black\" points=\"1474,-84.5 1474,-120.5\"/>\n",
       "<text text-anchor=\"middle\" x=\"1515.5\" y=\"-98.8\" font-family=\"Times New Roman,serif\" font-size=\"14.00\">grad 0.0000</text>\n",
       "</g>\n",
       "<!-- 2349331006272*&#45;&gt;2349331006272 -->\n",
       "<g id=\"edge3\" class=\"edge\">\n",
       "<title>2349331006272*&#45;&gt;2349331006272</title>\n",
       "<path fill=\"none\" stroke=\"black\" d=\"M1337.3,-102.5C1344.73,-102.5 1353.29,-102.5 1362.39,-102.5\"/>\n",
       "<polygon fill=\"black\" stroke=\"black\" points=\"1362.27,-106 1372.27,-102.5 1362.27,-99 1362.27,-106\"/>\n",
       "</g>\n",
       "<!-- 2349331691840 -->\n",
       "<g id=\"node8\" class=\"node\">\n",
       "<title>2349331691840</title>\n",
       "<polygon fill=\"none\" stroke=\"black\" points=\"313,-55.5 313,-91.5 497,-91.5 497,-55.5 313,-55.5\"/>\n",
       "<text text-anchor=\"middle\" x=\"323\" y=\"-69.8\" font-family=\"Times New Roman,serif\" font-size=\"14.00\"> </text>\n",
       "<polyline fill=\"none\" stroke=\"black\" points=\"333,-55.5 333,-91.5\"/>\n",
       "<text text-anchor=\"middle\" x=\"373.5\" y=\"-69.8\" font-family=\"Times New Roman,serif\" font-size=\"14.00\">data 2.7183</text>\n",
       "<polyline fill=\"none\" stroke=\"black\" points=\"414,-55.5 414,-91.5\"/>\n",
       "<text text-anchor=\"middle\" x=\"455.5\" y=\"-69.8\" font-family=\"Times New Roman,serif\" font-size=\"14.00\">grad 0.0000</text>\n",
       "</g>\n",
       "<!-- 2349331692944+ -->\n",
       "<g id=\"node11\" class=\"node\">\n",
       "<title>2349331692944+</title>\n",
       "<ellipse fill=\"none\" stroke=\"black\" cx=\"625\" cy=\"-72.5\" rx=\"27\" ry=\"18\"/>\n",
       "<text text-anchor=\"middle\" x=\"625\" y=\"-68.8\" font-family=\"Times New Roman,serif\" font-size=\"14.00\">+</text>\n",
       "</g>\n",
       "<!-- 2349331691840&#45;&gt;2349331692944+ -->\n",
       "<g id=\"edge8\" class=\"edge\">\n",
       "<title>2349331691840&#45;&gt;2349331692944+</title>\n",
       "<path fill=\"none\" stroke=\"black\" d=\"M496.87,-73.08C528.48,-72.94 562.19,-72.78 586.94,-72.67\"/>\n",
       "<polygon fill=\"black\" stroke=\"black\" points=\"586.66,-76.17 596.65,-72.62 586.63,-69.17 586.66,-76.17\"/>\n",
       "</g>\n",
       "<!-- 2349331691840exp&#45;&gt;2349331691840 -->\n",
       "<g id=\"edge4\" class=\"edge\">\n",
       "<title>2349331691840exp&#45;&gt;2349331691840</title>\n",
       "<path fill=\"none\" stroke=\"black\" d=\"M277.3,-73.5C284.73,-73.5 293.29,-73.5 302.39,-73.5\"/>\n",
       "<polygon fill=\"black\" stroke=\"black\" points=\"302.27,-77 312.27,-73.5 302.27,-70 302.27,-77\"/>\n",
       "</g>\n",
       "<!-- 2349331692944 -->\n",
       "<g id=\"node10\" class=\"node\">\n",
       "<title>2349331692944</title>\n",
       "<polygon fill=\"none\" stroke=\"black\" points=\"753,-58.5 753,-94.5 937,-94.5 937,-58.5 753,-58.5\"/>\n",
       "<text text-anchor=\"middle\" x=\"763\" y=\"-72.8\" font-family=\"Times New Roman,serif\" font-size=\"14.00\"> </text>\n",
       "<polyline fill=\"none\" stroke=\"black\" points=\"773,-58.5 773,-94.5\"/>\n",
       "<text text-anchor=\"middle\" x=\"813.5\" y=\"-72.8\" font-family=\"Times New Roman,serif\" font-size=\"14.00\">data 3.7183</text>\n",
       "<polyline fill=\"none\" stroke=\"black\" points=\"854,-58.5 854,-94.5\"/>\n",
       "<text text-anchor=\"middle\" x=\"895.5\" y=\"-72.8\" font-family=\"Times New Roman,serif\" font-size=\"14.00\">grad 0.0000</text>\n",
       "</g>\n",
       "<!-- 2349331692944&#45;&gt;2349331691792**&#45;1 -->\n",
       "<g id=\"edge12\" class=\"edge\">\n",
       "<title>2349331692944&#45;&gt;2349331691792**&#45;1</title>\n",
       "<path fill=\"none\" stroke=\"black\" d=\"M936.77,-77.69C945.59,-77.8 954.15,-77.91 961.95,-78.02\"/>\n",
       "<polygon fill=\"black\" stroke=\"black\" points=\"961.74,-81.53 971.79,-78.16 961.83,-74.53 961.74,-81.53\"/>\n",
       "</g>\n",
       "<!-- 2349331692944+&#45;&gt;2349331692944 -->\n",
       "<g id=\"edge5\" class=\"edge\">\n",
       "<title>2349331692944+&#45;&gt;2349331692944</title>\n",
       "<path fill=\"none\" stroke=\"black\" d=\"M652.3,-72.98C674.98,-73.4 709.26,-74.03 742.59,-74.64\"/>\n",
       "<polygon fill=\"black\" stroke=\"black\" points=\"742.3,-78.15 752.36,-74.84 742.43,-71.15 742.3,-78.15\"/>\n",
       "</g>\n",
       "<!-- 2349331693472 -->\n",
       "<g id=\"node12\" class=\"node\">\n",
       "<title>2349331693472</title>\n",
       "<polygon fill=\"none\" stroke=\"black\" points=\"313,-0.5 313,-36.5 497,-36.5 497,-0.5 313,-0.5\"/>\n",
       "<text text-anchor=\"middle\" x=\"323\" y=\"-14.8\" font-family=\"Times New Roman,serif\" font-size=\"14.00\"> </text>\n",
       "<polyline fill=\"none\" stroke=\"black\" points=\"333,-0.5 333,-36.5\"/>\n",
       "<text text-anchor=\"middle\" x=\"373.5\" y=\"-14.8\" font-family=\"Times New Roman,serif\" font-size=\"14.00\">data 1.0000</text>\n",
       "<polyline fill=\"none\" stroke=\"black\" points=\"414,-0.5 414,-36.5\"/>\n",
       "<text text-anchor=\"middle\" x=\"455.5\" y=\"-14.8\" font-family=\"Times New Roman,serif\" font-size=\"14.00\">grad 0.0000</text>\n",
       "</g>\n",
       "<!-- 2349331693472&#45;&gt;2349331692944+ -->\n",
       "<g id=\"edge7\" class=\"edge\">\n",
       "<title>2349331693472&#45;&gt;2349331692944+</title>\n",
       "<path fill=\"none\" stroke=\"black\" d=\"M478.59,-36.48C515.6,-45.65 558.94,-56.39 588.62,-63.74\"/>\n",
       "<polygon fill=\"black\" stroke=\"black\" points=\"587.73,-67.37 598.28,-66.38 589.41,-60.57 587.73,-67.37\"/>\n",
       "</g>\n",
       "</g>\n",
       "</svg>\n"
      ],
      "text/plain": [
       "<graphviz.graphs.Digraph at 0x222ff0a4130>"
      ]
     },
     "execution_count": 70,
     "metadata": {},
     "output_type": "execute_result"
    }
   ],
   "source": [
    "a = Valor(1, rotulo=\"a\")\n",
    "b = a.sig()\n",
    "print(b)\n",
    "\n",
    "plota_grafo(b)"
   ]
  },
  {
   "cell_type": "markdown",
   "metadata": {},
   "source": [
    "> Por último, mas não menos importante"
   ]
  },
  {
   "cell_type": "markdown",
   "metadata": {},
   "source": [
    "## Conclusão\n",
    "\n"
   ]
  },
  {
   "cell_type": "markdown",
   "metadata": {},
   "source": [
    "## Playground\n",
    "\n"
   ]
  },
  {
   "cell_type": "code",
   "execution_count": null,
   "metadata": {},
   "outputs": [],
   "source": []
  }
 ],
 "metadata": {
  "kernelspec": {
   "display_name": "ilumpy",
   "language": "python",
   "name": "ilumpy"
  },
  "language_info": {
   "codemirror_mode": {
    "name": "ipython",
    "version": 3
   },
   "file_extension": ".py",
   "mimetype": "text/x-python",
   "name": "python",
   "nbconvert_exporter": "python",
   "pygments_lexer": "ipython3",
   "version": "3.9.7"
  },
  "org": null
 },
 "nbformat": 4,
 "nbformat_minor": 4
}
