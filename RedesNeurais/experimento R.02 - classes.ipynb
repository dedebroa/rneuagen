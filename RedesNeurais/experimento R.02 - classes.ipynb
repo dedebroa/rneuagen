{
 "cells": [
  {
   "cell_type": "markdown",
   "id": "e604bd42-782a-4971-8307-7790d20e709e",
   "metadata": {},
   "source": [
    "# Introdução às Classes"
   ]
  },
  {
   "cell_type": "markdown",
   "id": "06ea821c-d842-48d1-a15b-e334c82ff0f3",
   "metadata": {},
   "source": [
    "> <hr>"
   ]
  },
  {
   "cell_type": "markdown",
   "id": "9838c195-8e56-4601-9513-6e256b51bba3",
   "metadata": {},
   "source": [
    "## Introdução"
   ]
  },
  {
   "cell_type": "markdown",
   "id": "2d0880a4-af2f-49e2-8477-fb5649e9cdd1",
   "metadata": {},
   "source": [
    "Quando queremos organizar objetos em uma certa ordem bem definida, usamos <mark>listas</mark>.\n",
    "\n",
    "Quando queremos relacionar dois objetos entre si, usamos <mark>dicionários</mark>.\n",
    "\n",
    "Quando queremos agrupar objetos únicos sem repetição e sem ordem bem definida, usamos <mark>conjuntos</mark>.\n",
    "\n",
    "Quando queremos executar uma sequência bem definida de ações, usamos <mark>funções</mark>.\n",
    "\n",
    "O que nós usamos quando queremos criar uma estrutura complexa de informações e ações onde apenas listas, dicionários, conjuntos e funções não são suficientes? Neste caso, usamos <mark>classes</mark>!"
   ]
  },
  {
   "cell_type": "markdown",
   "id": "21499d79-f1b1-4c4e-8201-dcfb9374a33e",
   "metadata": {},
   "source": [
    "> <hr>"
   ]
  },
  {
   "cell_type": "markdown",
   "id": "c1f040bc-44e1-44b8-8e2b-0ffd063a8c9c",
   "metadata": {
    "tags": []
   },
   "source": [
    "## Código e Discussão"
   ]
  },
  {
   "cell_type": "markdown",
   "id": "df2328a1-a9b6-4023-bb1e-050229c86dc6",
   "metadata": {},
   "source": [
    "###  A CLASSE MAIS SIMPLES DO MUNDO ----"
   ]
  },
  {
   "cell_type": "markdown",
   "id": "f65c9e96-8448-48ae-89c1-dab3f9561eec",
   "metadata": {},
   "source": [
    "A classe mais simples do mundo é simplesmente um amontoado de informação. Classes devem ser nomeadas sempre com a **primeira letra em maiúsculo**."
   ]
  },
  {
   "cell_type": "code",
   "execution_count": 1,
   "id": "7701ee59-7ddf-4950-864f-55206374b622",
   "metadata": {},
   "outputs": [],
   "source": [
    "class Dados: # identação para indicar que estamos dentro da classe\n",
    "    dado1 = 10 \n",
    "    dado2 = [1, 2, 3]\n",
    "    dado3 = 0.908\n",
    "    dado4 = {\"a\": 1, \"b\": 2}"
   ]
  },
  {
   "cell_type": "markdown",
   "id": "52b6441a-e748-473f-9285-5a2fc384eb25",
   "metadata": {},
   "source": [
    "> <div style=' text-align: justify; text-justify: inter-word;'> Uma classe é formada por várias informações dispostas em formatos diferentes, exemplo: listas e dicionários (como visto anteriormente). Além disso, é possível dizer também que ela funciona como uma receita: a classe vai reunir todos os comandos necessários para que o programa crie um novo objeto, objeto esse que comporá uma nova instância da classe. </div\n",
    "\n",
    "> <div style=' text-align: justify; text-justify: inter-word;'> Importante! Apesar de, aqui, vermos que todos os objetos de 'Dados' também recebem os nomes de 'dadoX', nada prejudicial aconteceria se cada recebesse nomes super distintos um dos outro. </div>"
   ]
  },
  {
   "cell_type": "markdown",
   "id": "43e3bbb2-e729-4128-9089-9b093b5c67d4",
   "metadata": {},
   "source": [
    "Para criar um objeto baseado na sua classe, basta chamá-la com o parênteses, da mesma forma que fazemos com funções."
   ]
  },
  {
   "cell_type": "code",
   "execution_count": 2,
   "id": "409b25c0-8787-4fba-aa01-1f54e7fda23f",
   "metadata": {},
   "outputs": [],
   "source": [
    "caio = Dados()"
   ]
  },
  {
   "cell_type": "markdown",
   "id": "91a95dbb-daef-44cd-b7b1-f091dd2fdd36",
   "metadata": {},
   "source": [
    "> <div style=' text-align: justify; text-justify: inter-word;'> Não seria suficiente somente chamar 'Dados' de Caio, porque, nesse contexto, estariamos somente dando outro nome para nossa classe. O que queremos, é criar um objeto que nos permita acessar as informações da classe, por isso, é fundamental sempre lembrar dos **parênteses**. Ou seja, ao criar um objeto conseguimos acessar o que há dentro dele, conseguimos acessar as informações que ele carrega. </div>"
   ]
  },
  {
   "cell_type": "markdown",
   "id": "af3e7c64-6f24-483f-a84d-f839266540d5",
   "metadata": {},
   "source": [
    "Agora podemos acessar os objetos da classe. Para isso usamos o **ponto final**."
   ]
  },
  {
   "cell_type": "code",
   "execution_count": 23,
   "id": "a507a935-4c7f-4223-bfa6-d62d72c2c7eb",
   "metadata": {},
   "outputs": [
    {
     "name": "stdout",
     "output_type": "stream",
     "text": [
      "10\n",
      "\n",
      "0.908\n"
     ]
    }
   ],
   "source": [
    "print(caio.dado1)\n",
    "print() # apenas para dar espaço entre os resultados\n",
    "print(caio.dado3)"
   ]
  },
  {
   "cell_type": "markdown",
   "id": "db194d01-d8b5-49b9-9a8e-af06d0239166",
   "metadata": {},
   "source": [
    "<br>\n",
    "Se você se perguntou “uai, mas por que usar uma classe sendo que um dicionário faria efetivamente a mesma coisa?”, então você está no caminho certo. Apenas armazenar dados em uma classe desta forma não representa uma vantagem objetiva em relação à usar um dicionário. Vamos seguir em frente!"
   ]
  },
  {
   "cell_type": "markdown",
   "id": "56a04ee1-0056-45e2-a8dc-b86c916271fe",
   "metadata": {},
   "source": [
    "<br>\n",
    "\n",
    "### CLASSES PODEM FAZER ALGO AO SEREM CRIADAS ----"
   ]
  },
  {
   "cell_type": "markdown",
   "id": "f8dbeb28-0047-451b-a7dd-cc04c21d957e",
   "metadata": {},
   "source": [
    "Quando nós criamos uma classe, nós dizemos que criamos uma instância desta classe. **Uma instância de uma classe representa um objeto que tem as propriedades da classe**."
   ]
  },
  {
   "cell_type": "markdown",
   "id": "d60c1eb0-c62d-4a3b-9abc-96c52b537c0b",
   "metadata": {},
   "source": [
    "Ao instanciar uma classe, você pode executar uma tarefa. Para isso, defina o método __init__ usando necessariamente o self como primeiro argumento."
   ]
  },
  {
   "cell_type": "code",
   "execution_count": 4,
   "id": "08f722df-4f8b-41b7-bbfa-d6fddd35804d",
   "metadata": {},
   "outputs": [],
   "source": [
    "# lembrando: todos os nomes são escolhidos por quem escreve o código\n",
    "\n",
    "class Material:\n",
    "    def __init__(self, modulo_elastico): # self é um indicador que representa uma classe \n",
    "                                            # python PRECISA dele \n",
    "                                            # é uma variável que referencia a si mesma\n",
    "                \n",
    "        self.modulo_elastico = modulo_elastico"
   ]
  },
  {
   "cell_type": "markdown",
   "id": "c47c5c44-0891-484b-afa9-c47d04b9b84c",
   "metadata": {},
   "source": [
    "> <div style=' text-align: justify; text-justify: inter-word;'> O 'self' é um recurso importantíssimo e que não pode, em hipótese alguma, ser esquecido. Ele é quem informa à classe quem ela é e, mebora a frase fique repetitiva, é relevante mencionar que é a partir disso que ela sabe quem ela é, quais instruções ela dá. O recurso 'self' permite alterar o **estado** (palavra-chave para a compreensão de classe!!!), alterar uma propriedade da receita sem alterar ela como um todo, o caminho continua sendo o mesmo de forma geral.</div>"
   ]
  },
  {
   "cell_type": "markdown",
   "id": "f2508080-b542-40cf-a3e0-d8136b3d880f",
   "metadata": {},
   "source": [
    "Agora podemos criar um objeto da classe Material com um certo valor de módulo elástico."
   ]
  },
  {
   "cell_type": "code",
   "execution_count": 5,
   "id": "f05b5220-bbbd-4f54-bc84-4b99913419c0",
   "metadata": {},
   "outputs": [
    {
     "name": "stdout",
     "output_type": "stream",
     "text": [
      "<__main__.Material object at 0x0000020908840F10>\n",
      "100\n"
     ]
    }
   ],
   "source": [
    "modulo_elastico_do_meu_material = 100\n",
    "meu_material = Material(modulo_elastico_do_meu_material)\n",
    "\n",
    "# a classe já sabe quem ela é, não precisamos passar essa informação\n",
    "print(meu_material)\n",
    "print(meu_material.modulo_elastico) # chamando a propriedade"
   ]
  },
  {
   "cell_type": "markdown",
   "id": "8a4150aa-5bcf-4c06-bf90-d1eeb5278a4c",
   "metadata": {},
   "source": [
    "### OS MÉTODOS `DUNDER` ----\n",
    "\n",
    "Observe que acima usamos um método chamado `__init__` com prefixo de dois sublinhados e sufixo de dois sublinhados. Esses métodos com essa notação são especiais e são chamados de dunder (vem de double underscore, ou duplo sublinhado em português). Existem diversos métodos dunder!\n",
    "\n",
    "Os métodos dunder controlam certos comportamentos da nossa classe. Por exemplo, observe que quando damos print em um objeto instanciado de uma classe ele mostra um texto padrão do tipo <__main__.Material object at 0x7f0d2b57f9a0>. Quem controla o texto que é exibido é o método dunder `__repr__`. Vamos ver um exemplo."
   ]
  },
  {
   "cell_type": "code",
   "execution_count": 6,
   "id": "5d09e21f-0321-4184-9526-7886348cb9db",
   "metadata": {},
   "outputs": [
    {
     "name": "stdout",
     "output_type": "stream",
     "text": [
      "Material com módulo elástico de 100 GPa.\n"
     ]
    }
   ],
   "source": [
    "class Material:\n",
    "    def __init__(self, modulo_elastico): # definição da classe e do limite\n",
    "        self.modulo_elastico = modulo_elastico\n",
    "\n",
    "    def __repr__(self): # função nunca pode esquecer quem é ela mesma ('self')\n",
    "        return f\"Material com módulo elástico de {self.modulo_elastico} GPa.\"\n",
    "        # a função de representação altera a maneira pela qual a classe altera um resultado\n",
    "        # serve meio que para 'printar de um jeito bonito', vai te contar o nome do objeto\n",
    "\n",
    "# todas as funções dentro de classes passam a ser MÉTODOS\n",
    "\n",
    "modulo_elastico_do_meu_material = 100\n",
    "meu_material = Material(modulo_elastico_do_meu_material)\n",
    "\n",
    "print(meu_material)"
   ]
  },
  {
   "cell_type": "markdown",
   "id": "8732d8ae-9988-457c-9928-55192b04745c",
   "metadata": {},
   "source": [
    "> Precisamos entender **quais** métodos dunder (double underscore) são ativados **em quais** situações. Eles são ferramentas específicas do Python e não precisam ser 'chamados' quando implantados."
   ]
  },
  {
   "cell_type": "markdown",
   "id": "605ff9cf-7e06-405b-935a-105123084019",
   "metadata": {},
   "source": [
    "<br>\n",
    "\n",
    "### OS MÉTODOS QUE NÃO SÃO `DUNDER` ----"
   ]
  },
  {
   "cell_type": "markdown",
   "id": "c0ad7616-8c1b-40fa-82ee-7e482ab3a598",
   "metadata": {},
   "source": [
    "Classes podem ter métodos que não são especiais. Vamos tentar implementar um método que usa a lei de Hook para calcular a tensão aplicada no material ($\\sigma$) dada uma deformação ($\\varepsilon$).\n",
    "\n",
    "$$\n",
    "\\sigma = E \\varepsilon\n",
    "$$"
   ]
  },
  {
   "cell_type": "code",
   "execution_count": 7,
   "id": "9b1fb3be-e26b-4dff-a7f1-8a995acb23b1",
   "metadata": {},
   "outputs": [
    {
     "name": "stdout",
     "output_type": "stream",
     "text": [
      "Material com módulo elástico de 100 GPa.\n",
      "\n",
      "200\n",
      "\n",
      "Eduarda\n"
     ]
    }
   ],
   "source": [
    "class Material:\n",
    "    \n",
    "    def __init__(self, modulo_elastico):\n",
    "        self.modulo_elastico = modulo_elastico\n",
    "        self.nome = \"Eduarda\"\n",
    "        \n",
    "    def __repr__(self):\n",
    "        return f\"Material com módulo elástico de {self.modulo_elastico} GPa.\"\n",
    "    \n",
    "    def tensao(self, deformacao):\n",
    "        valor_tensao = self.modulo_elastico * deformacao\n",
    "        return valor_tensao\n",
    "\n",
    "    \n",
    "modulo_elastico_do_meu_material = 100\n",
    "meu_material = Material(modulo_elastico_do_meu_material)\n",
    "print(meu_material)\n",
    "\n",
    "print() \n",
    "\n",
    "deformacao = 2\n",
    "tensao = meu_material.tensao(deformacao)\n",
    "print(tensao)\n",
    "\n",
    "print()\n",
    "\n",
    "print(meu_material.nome)"
   ]
  },
  {
   "cell_type": "markdown",
   "id": "06d8bccb-2521-46f2-ba1e-63160fa38ccb",
   "metadata": {},
   "source": [
    "> <div style=' text-align: justify; text-justify: inter-word;'> Métodos que não são `dunder` se diferenciam daquele que são por uma razão simples: eles não são elementos específicos do Python cuja aplicação não precisa ser indicada no código."
   ]
  },
  {
   "cell_type": "markdown",
   "id": "e97e1cc6-fe49-46a6-9523-79ad95c5a8f5",
   "metadata": {},
   "source": [
    "<br>\n",
    "\n",
    "### ALTERANDO O ESTADO DA NOSSA CLASSE ----\n",
    "\n",
    "\n",
    "Classes são estruturas de dados onde nos preocupamos com o seu estado. No exemplo acima, nosso material tem uma propriedade chamada de `modulo_elastico`. Digamos que nós podemos aumentar o módulo elástico do nosso material realizando um tratamento térmico. Cada vez que realizamos o tratamento térmico o módulo elástico aumenta em 10%, porém o material só aguenta no máximo 5 tratamentos térmicos. **Alterar uma propriedade da nossa classe é alterar seu estado**. Podemos adicionar esse processo de tratamento térmico na nossa classe."
   ]
  },
  {
   "cell_type": "code",
   "execution_count": 8,
   "id": "962ee6f3-551f-4ae1-bae4-f13d8af73626",
   "metadata": {},
   "outputs": [
    {
     "name": "stdout",
     "output_type": "stream",
     "text": [
      "Material com módulo elástico de 100 GPa.\n",
      "Material com módulo elástico de 110.00000000000001 GPa.\n",
      "Material com módulo elástico de 121.00000000000003 GPa.\n",
      "Material com módulo elástico de 133.10000000000005 GPa.\n",
      "Material com módulo elástico de 146.41000000000008 GPa.\n",
      "Material com módulo elástico de 161.0510000000001 GPa.\n",
      "Material com módulo elástico de 161.0510000000001 GPa.\n",
      "Material com módulo elástico de 161.0510000000001 GPa.\n"
     ]
    }
   ],
   "source": [
    "class Material:\n",
    "    def __init__(self, modulo_elastico):\n",
    "        self.modulo_elastico = modulo_elastico # propriedade dela\n",
    "        self.num_tratamentos = 0 # usaremos isso para alterar o estado, mas também é uma propriedade\n",
    "\n",
    "    def __repr__(self):\n",
    "        return f\"Material com módulo elástico de {self.modulo_elastico} GPa.\"\n",
    "\n",
    "    def tratamento_termico(self): # aqui podemos observar que há comandos que ocasionaram alterações\n",
    "        if self.num_tratamentos < 5: # se o número de tratamentos que o material receber for menor que 5,\n",
    "            self.modulo_elastico = self.modulo_elastico * 1.1 # o valor do modulo_elastico é multiplicado por 1.1\n",
    "            self.num_tratamentos = self.num_tratamentos + 1 # e o valor do número de tratamentos é somado em 1\n",
    "\n",
    "modulo_elastico_do_meu_material = 100\n",
    "meu_material = Material(modulo_elastico_do_meu_material)\n",
    "\n",
    "print(meu_material)\n",
    "\n",
    "meu_material.tratamento_termico()\n",
    "print(meu_material)\n",
    "\n",
    "meu_material.tratamento_termico()\n",
    "print(meu_material)\n",
    "\n",
    "meu_material.tratamento_termico()\n",
    "print(meu_material)\n",
    "\n",
    "meu_material.tratamento_termico()\n",
    "print(meu_material)\n",
    "\n",
    "meu_material.tratamento_termico()\n",
    "print(meu_material)\n",
    "\n",
    "meu_material.tratamento_termico()\n",
    "print(meu_material)\n",
    "\n",
    "meu_material.tratamento_termico()\n",
    "print(meu_material)"
   ]
  },
  {
   "cell_type": "markdown",
   "id": "26054cb1-d4a1-451c-b99c-ca5fa3b1b7f3",
   "metadata": {},
   "source": [
    "> <div style=' text-align: justify; text-justify: inter-word;'> Observamos, aqui, que os valores sofrem alterações até que ultrapasse o número limite de tratamentos."
   ]
  },
  {
   "cell_type": "markdown",
   "id": "836715de-d70a-4e24-b865-501da2bc016b",
   "metadata": {},
   "source": [
    "<br>\n",
    "\n",
    "### ALTERANDO O ESTADO DA NOSSA CLASSE FORA DELA ----\n",
    "\n",
    "Em certos casos nós precisamos alterar alguma propriedade da nossa classe fora dela (isto é, fora das linhas de código que foram usadas para definir a classe). Podemos, por exemplo, alterar o módulo elástico do nosso material “na mão”."
   ]
  },
  {
   "cell_type": "code",
   "execution_count": 9,
   "id": "2e101c33-399f-4d59-b942-27dbbb2eae34",
   "metadata": {},
   "outputs": [
    {
     "name": "stdout",
     "output_type": "stream",
     "text": [
      "Material com módulo elástico de 100 GPa.\n",
      "Material com módulo elástico de 200 GPa.\n"
     ]
    }
   ],
   "source": [
    "class Material:\n",
    "    def __init__(self, modulo_elastico):\n",
    "        self.modulo_elastico = modulo_elastico\n",
    "        self.num_tratamentos = 0\n",
    "\n",
    "    def __repr__(self):\n",
    "        return f\"Material com módulo elástico de {self.modulo_elastico} GPa.\"\n",
    "\n",
    "modulo_elastico_do_meu_material = 100\n",
    "meu_material = Material(modulo_elastico_do_meu_material)\n",
    "print(meu_material)\n",
    "\n",
    "# alterando a propriedade \"na mão\"\n",
    "meu_material.modulo_elastico = 200\n",
    "print(meu_material)"
   ]
  },
  {
   "cell_type": "markdown",
   "id": "886a0ef8-1555-4d0b-bc75-a0334b56902e",
   "metadata": {},
   "source": [
    "Pense muito bem antes de sair alterando propriedades de classes “na mão”. Não é uma ação proibida, mas também não é algo que fazemos a todo momento sem justificativa."
   ]
  },
  {
   "cell_type": "markdown",
   "id": "38d420fb-f0fc-4304-85b4-b5d949d04b1f",
   "metadata": {},
   "source": [
    "> Podemos mudar o estado memsmo sem criar uma nova classe, porque estamos alterando o ESTADO dela, resultante de alterações em propriedades. Quando falamos de mudar o 'self', isso implica em mudar a classe em seu todo (estaríamos alterando a receita responsável por guiar a produção de objetos). "
   ]
  },
  {
   "cell_type": "markdown",
   "id": "d6eeb79d-19ae-4fff-b9db-fa8dd598ab24",
   "metadata": {},
   "source": [
    "### TESTANDO SUAS HABILIDADES ----\n",
    "\n",
    "Para testar suas habilidades, modifique a classe Material adicionando um novo argumento no método __init__, usando ele para criar uma nova propriedade e criando um novo método que altera o estado desta classe."
   ]
  },
  {
   "cell_type": "markdown",
   "id": "1731ff51-a2b8-437e-9938-5b6efcd6ee92",
   "metadata": {},
   "source": [
    "<div style=' text-align: justify; text-justify: inter-word;'>\n",
    "    Assim como o professor, para o pensar em uma alteração de estado, eu também quis contar uma história fantasiosa, logo, não fiel à realidade. Estou desenvolvendo um porjeto que estuda diferentes materiais para brasagem e descobrimos que uma das propriedades fundamentais, definidoras para o estudo dessa manipulação é o ângulo de contato. De maneira mais aprofundada, o ângulo consiste no ângulo da ligação entre os dois materiais que formam uma liga. Aqui, contudo, não levarei essa informação ao pé da letra e apenas considerarei que materiais (individualmente falando, o que seria um erro no contexto ao qual me refiro) possuem ângulos de contato.\n",
    "    <br>Para a minha história nada agradável aos olhos de engenheiros e especialistas em brasagem, gostaria de definir que:\n",
    "- se o angulo de contato for menor do que o que eu estou estabelecendo = nao vai ter brasagem;\n",
    "- se o angulo de contato for maior em comparação ao que eu estou estabelecendo = vai rolar brasagem;\n",
    "- se houver brasagem, vou subtrair 2 do módulo elástico;\n",
    "- hipoteticamente, vou considerar também que, com a realização de brasagem, o ângulo de contato tb muda (sempre diminuindo em 5%)\n",
    "- se não houver brasagem, o material permanecerá igual.</div>"
   ]
  },
  {
   "cell_type": "code",
   "execution_count": 24,
   "id": "e363b243-f9d9-46f2-a3c1-c254a015f81e",
   "metadata": {},
   "outputs": [
    {
     "name": "stdout",
     "output_type": "stream",
     "text": [
      "Material com módulo elástico de 100 GPa.\n",
      "Material com módulo elástico de 92 GPa.\n",
      "Material com módulo elástico de 84 GPa.\n",
      "Material com módulo elástico de 76 GPa.\n",
      "Material com módulo elástico de 68 GPa.\n",
      "Material com módulo elástico de 60 GPa.\n",
      "Material com módulo elástico de 52 GPa.\n"
     ]
    }
   ],
   "source": [
    "# realizando alteração NA CLASSE\n",
    "\n",
    "class Material:\n",
    "    def __init__(self, modulo_elastico, angulo_de_contato):\n",
    "        self.modulo_elastico = modulo_elastico # estado dela\n",
    "        self.num_tratamentos = 0 # alterando o estado (alterando o módulo elástico)\n",
    "        self.angulo_de_contato = angulo_de_contato # sempre precisa começar com 0?\n",
    "        \n",
    "        \n",
    "    def __repr__(self):\n",
    "        return f\"Material com módulo elástico de {self.modulo_elastico} GPa.\"\n",
    "\n",
    "    def tratamento_termico(self):\n",
    "        if self.num_tratamentos < 2: # numero de vezes que vai rodar\n",
    "            self.modulo_elastico = self.modulo_elastico * 1.1\n",
    "            self.num_tratamentos = self.num_tratamentos + 1\n",
    "            \n",
    "    def brasagem(self):\n",
    "        for n in range(len(self.angulo_de_contato)): # para cada elemento na minha lista de valores de ângulos de contato\n",
    "            if self.angulo_de_contato[n] > 37: # se o angulo de contato é menor que 37\n",
    "                self.modulo_elastico = self.modulo_elastico - 2 \n",
    "                self.angulo_de_contato[n] = self.angulo_de_contato[n] * 0.95 \n",
    "                \n",
    "\n",
    "modulo_elastico_do_meu_material = 100\n",
    "angulo = [0, 7, 29, 34, 58, 67, 89, 180]\n",
    "meu_material = Material(modulo_elastico_do_meu_material, angulo)\n",
    "\n",
    "print(meu_material)\n",
    "\n",
    "meu_material.brasagem()\n",
    "print(meu_material)\n",
    "\n",
    "meu_material.brasagem()\n",
    "print(meu_material)\n",
    "\n",
    "meu_material.brasagem()\n",
    "print(meu_material)\n",
    "\n",
    "meu_material.brasagem()\n",
    "print(meu_material)\n",
    "\n",
    "meu_material.brasagem()\n",
    "print(meu_material)\n",
    "\n",
    "meu_material.brasagem()\n",
    "print(meu_material)"
   ]
  },
  {
   "cell_type": "markdown",
   "id": "7ae2c636-5242-494d-b9dc-6488469e89c0",
   "metadata": {},
   "source": [
    "> <div style=' text-align: justify; text-justify: inter-word;'> É cabível mencionar que, apesar da minha restrição de ângulos menores que 37 não rodarem e, inicialmente, só termos 4 valores superiores, deve-se observar que eu também impus uma variação sobre o valor do próprio ângulo, o que acabou influenciando todos os resultados."
   ]
  },
  {
   "cell_type": "markdown",
   "id": "44c8c550-87cd-4fc8-a0ec-8a6ea7cdd6f6",
   "metadata": {},
   "source": [
    "> <hr>"
   ]
  },
  {
   "cell_type": "markdown",
   "id": "6c191be2-7039-4700-af2c-709128363f8d",
   "metadata": {},
   "source": [
    "### Conclusão"
   ]
  },
  {
   "cell_type": "markdown",
   "id": "5a4f3800-bb8e-4346-be8e-38c829e22809",
   "metadata": {},
   "source": [
    "<div style=' text-align: justify; text-justify: inter-word;'>\n",
    "    Redes neurais são instrumentos complexos e, para entendê-los de maneira satisfatória, é preciso caminhar lentamente. Aqui, tivemos contato com as `classes`, ferramentas que nos serão preciosas ao longo desse semestre, mas que também possuem outras diversas aplicação no contexto de programação. Classes oferecem instruções para a gerações de novas instâncias. Para tanto, ela se baseia em seus próprios métodos e propriedades, sendo que tais propriedades podem ser alteradas, o que muda também o estado dessas classes e não elas em si."
   ]
  },
  {
   "cell_type": "markdown",
   "id": "9d5b6b21-60cd-40c9-94ab-9e4d03526c06",
   "metadata": {},
   "source": [
    "<hr>"
   ]
  },
  {
   "cell_type": "markdown",
   "id": "1d56336e-46c0-42a3-ac20-ac3f024a6441",
   "metadata": {},
   "source": [
    "## Playground"
   ]
  },
  {
   "cell_type": "markdown",
   "id": "453a9877-552a-48ba-84a9-19e8dc56f1ee",
   "metadata": {},
   "source": [
    "##### ANOTAÇÕES\n",
    "\n",
    "Todas as funções definidas dentro de classes são chamadas de métodos;\n",
    "<br>Não forçar para ver padrões onde não tem;\n",
    "<br>Funções sem retorno só vão rodar e a vida segue;\n",
    "<br>Informação que já existe na sua classe, você não usa ela como argumento (tirando no init)."
   ]
  }
 ],
 "metadata": {
  "kernelspec": {
   "display_name": "ilumpy",
   "language": "python",
   "name": "ilumpy"
  },
  "language_info": {
   "codemirror_mode": {
    "name": "ipython",
    "version": 3
   },
   "file_extension": ".py",
   "mimetype": "text/x-python",
   "name": "python",
   "nbconvert_exporter": "python",
   "pygments_lexer": "ipython3",
   "version": "3.9.7"
  }
 },
 "nbformat": 4,
 "nbformat_minor": 5
}
