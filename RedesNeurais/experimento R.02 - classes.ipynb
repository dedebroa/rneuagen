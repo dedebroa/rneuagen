{
 "cells": [
  {
   "cell_type": "markdown",
   "id": "e604bd42-782a-4971-8307-7790d20e709e",
   "metadata": {},
   "source": [
    "# Introdução às Classes"
   ]
  },
  {
   "cell_type": "markdown",
   "id": "06ea821c-d842-48d1-a15b-e334c82ff0f3",
   "metadata": {},
   "source": [
    "> <hr>"
   ]
  },
  {
   "cell_type": "markdown",
   "id": "9838c195-8e56-4601-9513-6e256b51bba3",
   "metadata": {},
   "source": [
    "## Introdução"
   ]
  },
  {
   "cell_type": "markdown",
   "id": "2d0880a4-af2f-49e2-8477-fb5649e9cdd1",
   "metadata": {},
   "source": [
    "Quando queremos organizar objetos em uma certa ordem bem definida, usamos <mark>listas</mark>.\n",
    "\n",
    "Quando queremos relacionar dois objetos entre si, usamos <mark>dicionários</mark>.\n",
    "\n",
    "Quando queremos agrupar objetos únicos sem repetição e sem ordem bem definida, usamos <mark>conjuntos</mark>.\n",
    "\n",
    "Quando queremos executar uma sequência bem definida de ações, usamos <mark>funções</mark>.\n",
    "\n",
    "O que nós usamos quando queremos criar uma estrutura complexa de informações e ações onde apenas listas, dicionários, conjuntos e funções não são suficientes? Neste caso, usamos <mark>classes</mark>!"
   ]
  },
  {
   "cell_type": "markdown",
   "id": "21499d79-f1b1-4c4e-8201-dcfb9374a33e",
   "metadata": {},
   "source": [
    "> <hr>"
   ]
  },
  {
   "cell_type": "markdown",
   "id": "c1f040bc-44e1-44b8-8e2b-0ffd063a8c9c",
   "metadata": {
    "tags": []
   },
   "source": [
    "## Código e Discussão"
   ]
  },
  {
   "cell_type": "markdown",
   "id": "df2328a1-a9b6-4023-bb1e-050229c86dc6",
   "metadata": {},
   "source": [
    "> #### A classe mais simples do mundo"
   ]
  },
  {
   "cell_type": "markdown",
   "id": "f65c9e96-8448-48ae-89c1-dab3f9561eec",
   "metadata": {},
   "source": [
    "A classe mais simples do mundo é simplesmente um amontoado de informação. Classes devem ser nomeadas sempre com a primeira letra em maiúsculo."
   ]
  },
  {
   "cell_type": "code",
   "execution_count": null,
   "id": "7701ee59-7ddf-4950-864f-55206374b622",
   "metadata": {},
   "outputs": [],
   "source": [
    "class Dados:\n",
    "    dado1 = 10\n",
    "    dado2 = [1, 2, 3]\n",
    "    dado3 = 0.908\n",
    "    dado4 = {\"a\": 1, \"b\": 2}"
   ]
  },
  {
   "cell_type": "markdown",
   "id": "43e3bbb2-e729-4128-9089-9b093b5c67d4",
   "metadata": {},
   "source": [
    "Para criar um objeto baseado na sua classe, basta chamá-la com o parênteses, da mesma forma que fazemos com funções."
   ]
  },
  {
   "cell_type": "code",
   "execution_count": null,
   "id": "409b25c0-8787-4fba-aa01-1f54e7fda23f",
   "metadata": {},
   "outputs": [],
   "source": []
  },
  {
   "cell_type": "markdown",
   "id": "af3e7c64-6f24-483f-a84d-f839266540d5",
   "metadata": {},
   "source": [
    "Agora podemos acessar os objetos da classe. Para isso usamos o ponto final."
   ]
  },
  {
   "cell_type": "code",
   "execution_count": null,
   "id": "a507a935-4c7f-4223-bfa6-d62d72c2c7eb",
   "metadata": {},
   "outputs": [],
   "source": []
  },
  {
   "cell_type": "markdown",
   "id": "db194d01-d8b5-49b9-9a8e-af06d0239166",
   "metadata": {},
   "source": [
    "Se você se perguntou “uai, mas por que usar uma classe sendo que um dicionário faria efetivamente a mesma coisa?”, então você está no caminho certo. Apenas armazenar dados em uma classe desta forma não representa uma vantagem objetiva em relação à usar um dicionário. Vamos seguir em frente!"
   ]
  },
  {
   "cell_type": "markdown",
   "id": "56a04ee1-0056-45e2-a8dc-b86c916271fe",
   "metadata": {},
   "source": [
    "> #### Classes podem fazer algo ao serem criadas"
   ]
  },
  {
   "cell_type": "markdown",
   "id": "f8dbeb28-0047-451b-a7dd-cc04c21d957e",
   "metadata": {},
   "source": [
    "Quando nós criamos uma classe, nós dizemos que criamos uma instância desta classe. Uma instância de uma classe representa um objeto que tem as propriedades da classe."
   ]
  },
  {
   "cell_type": "markdown",
   "id": "d60c1eb0-c62d-4a3b-9abc-96c52b537c0b",
   "metadata": {},
   "source": [
    "Ao instanciar uma classe, você pode executar uma tarefa. Para isso, defina o método __init__ usando necessariamente o self como primeiro argumento."
   ]
  },
  {
   "cell_type": "code",
   "execution_count": null,
   "id": "08f722df-4f8b-41b7-bbfa-d6fddd35804d",
   "metadata": {},
   "outputs": [],
   "source": [
    "class Material:\n",
    "    def __init__(self, modulo_elastico):\n",
    "        self.modulo_elastico = modulo_elastico"
   ]
  },
  {
   "cell_type": "markdown",
   "id": "f2508080-b542-40cf-a3e0-d8136b3d880f",
   "metadata": {},
   "source": [
    "Agora podemos criar um objeto da classe Material com um certo valor de módulo elástico."
   ]
  },
  {
   "cell_type": "code",
   "execution_count": null,
   "id": "f05b5220-bbbd-4f54-bc84-4b99913419c0",
   "metadata": {},
   "outputs": [],
   "source": [
    "modulo_elastico_do_meu_material = 100\n",
    "meu_material = Material(modulo_elastico_do_meu_material)\n",
    "\n",
    "print(meu_material)\n",
    "print(meu_material.modulo_elastico)"
   ]
  },
  {
   "cell_type": "markdown",
   "id": "8a4150aa-5bcf-4c06-bf90-d1eeb5278a4c",
   "metadata": {},
   "source": [
    "> #### Os métodos dunder\n",
    "\n",
    "Observe que acima usamos um método chamado __init__ com prefixo de dois sublinhados e sufixo de dois sublinhados. Esses métodos com essa notação são especiais e são chamados de dunder (vem de double underscore, ou duplo sublinhado em português). Existem diversos métodos dunder!\n",
    "\n",
    "Os métodos dunder controlam certos comportamentos da nossa classe. Por exemplo, observe que quando damos print em um objeto instanciado de uma classe ele mostra um texto padrão do tipo <__main__.Material object at 0x7f0d2b57f9a0>. Quem controla o texto que é exibido é o método dunder __repr__. Vamos ver um exemplo."
   ]
  },
  {
   "cell_type": "code",
   "execution_count": null,
   "id": "5d09e21f-0321-4184-9526-7886348cb9db",
   "metadata": {},
   "outputs": [],
   "source": [
    "class Material:\n",
    "    def __init__(self, modulo_elastico):\n",
    "        self.modulo_elastico = modulo_elastico\n",
    "\n",
    "    def __repr__(self):\n",
    "        return f\"Material com módulo elástico de {self.modulo_elastico} GPa.\"\n",
    "\n",
    "modulo_elastico_do_meu_material = 100\n",
    "meu_material = Material(modulo_elastico_do_meu_material)\n",
    "\n",
    "print(meu_material)"
   ]
  },
  {
   "cell_type": "markdown",
   "id": "605ff9cf-7e06-405b-935a-105123084019",
   "metadata": {},
   "source": [
    "> #### Os métodos que não são dunder"
   ]
  },
  {
   "cell_type": "markdown",
   "id": "c0ad7616-8c1b-40fa-82ee-7e482ab3a598",
   "metadata": {},
   "source": [
    "Classes podem ter métodos que não são especiais. Vamos tentar implementar um método que usa a lei de Hook para calcular a tensão aplicada no material (SÍMBOLO) dada uma deformação (SÍMBOLO).\n",
    "\n",
    "FALTA A FÓRMULA"
   ]
  },
  {
   "cell_type": "code",
   "execution_count": null,
   "id": "9b1fb3be-e26b-4dff-a7f1-8a995acb23b1",
   "metadata": {},
   "outputs": [],
   "source": [
    "class Material:\n",
    "    def __init__(self, modulo_elastico):\n",
    "        self.modulo_elastico = modulo_elastico\n",
    "\n",
    "    def __repr__(self):\n",
    "        return f\"Material com módulo elástico de {self.modulo_elastico} GPa.\"\n",
    "\n",
    "modulo_elastico_do_meu_material = 100\n",
    "meu_material = Material(modulo_elastico_do_meu_material)"
   ]
  },
  {
   "cell_type": "markdown",
   "id": "e97e1cc6-fe49-46a6-9523-79ad95c5a8f5",
   "metadata": {},
   "source": [
    "> #### Alterando o estado da nossa classe\n",
    "\n",
    "Classes são estruturas de dados onde nos preocupamos com o seu estado. No exemplo acima, nosso material tem uma propriedade chamada de modulo_elastico. Digamos que nós podemos aumentar o módulo elástico do nosso material realizando um tratamento térmico. Cada vez que realizamos o tratamento térmico o módulo elástico aumenta em 10%, porém o material só aguenta no máximo 5 tratamentos térmicos. Alterar uma propriedade da nossa classe é alterar seu estado. Podemos adicionar esse processo de tratamento térmico na nossa classe."
   ]
  },
  {
   "cell_type": "code",
   "execution_count": null,
   "id": "962ee6f3-551f-4ae1-bae4-f13d8af73626",
   "metadata": {},
   "outputs": [],
   "source": [
    "class Material:\n",
    "    def __init__(self, modulo_elastico):\n",
    "        self.modulo_elastico = modulo_elastico\n",
    "        self.num_tratamentos = 0\n",
    "\n",
    "    def __repr__(self):\n",
    "        return f\"Material com módulo elástico de {self.modulo_elastico} GPa.\"\n",
    "\n",
    "    def tratamento_termico(self):\n",
    "        if self.num_tratamentos < 5:\n",
    "            self.modulo_elastico = self.modulo_elastico * 1.1\n",
    "            self.num_tratamentos = self.num_tratamentos + 1\n",
    "\n",
    "modulo_elastico_do_meu_material = 100\n",
    "meu_material = Material(modulo_elastico_do_meu_material)\n",
    "\n",
    "print(meu_material)\n",
    "\n",
    "meu_material.tratamento_termico()\n",
    "print(meu_material)\n",
    "\n",
    "meu_material.tratamento_termico()\n",
    "print(meu_material)\n",
    "\n",
    "meu_material.tratamento_termico()\n",
    "print(meu_material)\n",
    "\n",
    "meu_material.tratamento_termico()\n",
    "print(meu_material)\n",
    "\n",
    "meu_material.tratamento_termico()\n",
    "print(meu_material)\n",
    "\n",
    "meu_material.tratamento_termico()\n",
    "print(meu_material)\n",
    "\n",
    "meu_material.tratamento_termico()\n",
    "print(meu_material)"
   ]
  },
  {
   "cell_type": "markdown",
   "id": "836715de-d70a-4e24-b865-501da2bc016b",
   "metadata": {},
   "source": [
    "> #### Alterando o estado da nossa classe fora dela\n",
    "\n",
    "Em certos casos nós precisamos alterar alguma propriedade da nossa classe fora dela (isto é, fora das linhas de código que foram usadas para definir a classe). Podemos, por exemplo, alterar o módulo elástico do nosso material “na mão”."
   ]
  },
  {
   "cell_type": "code",
   "execution_count": null,
   "id": "2e101c33-399f-4d59-b942-27dbbb2eae34",
   "metadata": {},
   "outputs": [],
   "source": [
    "class Material:\n",
    "    def __init__(self, modulo_elastico):\n",
    "        self.modulo_elastico = modulo_elastico\n",
    "        self.num_tratamentos = 0\n",
    "\n",
    "    def __repr__(self):\n",
    "        return f\"Material com módulo elástico de {self.modulo_elastico} GPa.\"\n",
    "\n",
    "modulo_elastico_do_meu_material = 100\n",
    "meu_material = Material(modulo_elastico_do_meu_material)\n",
    "print(meu_material)\n",
    "\n",
    "# alterando a propriedade \"na mão\"\n",
    "meu_material.modulo_el"
   ]
  },
  {
   "cell_type": "markdown",
   "id": "886a0ef8-1555-4d0b-bc75-a0334b56902e",
   "metadata": {},
   "source": [
    "Pense muito bem antes de sair alterando propriedades de classes “na mão”. Não é uma ação proibida, mas também não é algo que fazemos a todo momento sem justificativa."
   ]
  },
  {
   "cell_type": "markdown",
   "id": "d6eeb79d-19ae-4fff-b9db-fa8dd598ab24",
   "metadata": {},
   "source": [
    "> #### Testando suas habilidades\n",
    "\n",
    "Para testar suas habilidades, modifique a classe Material adicionando um novo argumento no método __init__, usando ele para criar uma nova propriedade e criando um novo método que altera o estado desta classe."
   ]
  },
  {
   "cell_type": "markdown",
   "id": "44c8c550-87cd-4fc8-a0ec-8a6ea7cdd6f6",
   "metadata": {},
   "source": [
    "> <hr>"
   ]
  },
  {
   "cell_type": "markdown",
   "id": "6c191be2-7039-4700-af2c-709128363f8d",
   "metadata": {},
   "source": [
    "### Conclusão"
   ]
  },
  {
   "cell_type": "markdown",
   "id": "5a4f3800-bb8e-4346-be8e-38c829e22809",
   "metadata": {},
   "source": []
  },
  {
   "cell_type": "markdown",
   "id": "9d5b6b21-60cd-40c9-94ab-9e4d03526c06",
   "metadata": {},
   "source": [
    "<hr>"
   ]
  },
  {
   "cell_type": "markdown",
   "id": "1d56336e-46c0-42a3-ac20-ac3f024a6441",
   "metadata": {},
   "source": [
    "## Playground"
   ]
  },
  {
   "cell_type": "code",
   "execution_count": null,
   "id": "a18f5a73-8863-4160-83ca-1ea7fc0eca9d",
   "metadata": {},
   "outputs": [],
   "source": []
  }
 ],
 "metadata": {
  "kernelspec": {
   "display_name": "ilumpy",
   "language": "python",
   "name": "ilumpy"
  },
  "language_info": {
   "codemirror_mode": {
    "name": "ipython",
    "version": 3
   },
   "file_extension": ".py",
   "mimetype": "text/x-python",
   "name": "python",
   "nbconvert_exporter": "python",
   "pygments_lexer": "ipython3",
   "version": "3.9.7"
  }
 },
 "nbformat": 4,
 "nbformat_minor": 5
}
